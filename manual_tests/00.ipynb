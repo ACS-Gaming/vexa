{
 "cells": [
  {
   "cell_type": "code",
   "execution_count": 1,
   "id": "421c095d",
   "metadata": {},
   "outputs": [
    {
     "name": "stdout",
     "output_type": "stream",
     "text": [
      "Imported VexaClient from: vexa_client\n",
      "VexaClient file location: Unknown\n",
      "request_bot method signature:\n",
      "(self, platform: str, native_meeting_id: str, bot_name: Optional[str] = None, language: Optional[str] = None, task: Optional[str] = None, passcode: Optional[str] = None) -> Dict[str, Any]\n",
      "✅ passcode parameter is available!\n"
     ]
    }
   ],
   "source": [
    "\n",
    "import sys\n",
    "import os\n",
    "\n",
    "# Add the parent directory to Python path to import local vexa_client\n",
    "sys.path.insert(0, os.path.abspath('..'))\n",
    "\n",
    "# Now import the local development version\n",
    "from vexa_client import VexaClient\n",
    "\n",
    "print(f\"Imported VexaClient from: {VexaClient.__module__}\")\n",
    "print(f\"VexaClient file location: {VexaClient.__module__.__file__ if hasattr(VexaClient.__module__, '__file__') else 'Unknown'}\")\n",
    "# Verify the request_bot method signature includes passcode parameter\n",
    "import inspect\n",
    "\n",
    "sig = inspect.signature(VexaClient.request_bot)\n",
    "print(\"request_bot method signature:\")\n",
    "print(sig)\n",
    "\n",
    "# Check if passcode parameter exists\n",
    "if 'passcode' in sig.parameters:\n",
    "    print(\"✅ passcode parameter is available!\")\n",
    "else:\n",
    "    print(\"❌ passcode parameter is missing!\")\n",
    "\n",
    "import pandas as pd\n",
    "pd.options.display.max_colwidth = 1000\n",
    "pd.set_option('display.max_colwidth', 1000)\n",
    "pd.set_option('display.max_rows', 1000)\n",
    "pd.set_option('display.max_columns', 1000)\n",
    "pd.set_option('display.width', 1000)\n",
    "pd.set_option('display.float_format', '{:20.2f}'.format)\n",
    "pd.set_option('display.max_colwidth', 1000)\n",
    "pd.set_option('display.max_rows', 1000)\n",
    "pd.set_option('display.max_columns', 1000)\n",
    "from IPython.display import clear_output,display\n",
    "import importlib\n",
    "import sys\n",
    "\n",
    "# Remove the module from cache if it exists\n",
    "if 'vexa_client' in sys.modules:\n",
    "    del sys.modules['vexa_client']\n",
    "\n",
    "# Re-import\n",
    "from vexa_client import VexaClient\n",
    "from dotenv import load_dotenv\n",
    "# Load .env file\n",
    "load_dotenv()\n",
    "import random\n",
    "\n",
    "import os\n",
    "from vexa_client import VexaClient\n",
    "\n",
    "import os\n",
    "TOKEN = os.getenv('ADMIN_API_TOKEN')\n",
    "url = \"http://localhost:18056\"\n",
    "admin_client = VexaClient(\n",
    "    base_url=url,\n",
    "    admin_key=TOKEN  # From docker-compose.yml\n",
    ")\n",
    "\n",
    "import time\n",
    "def create_user_client(user_api_key=None):\n",
    "    if user_api_key is None:\n",
    "        new_user = admin_client.create_user(email=f\"{random.randint(1, 1000000)}@example.com\", \n",
    "                                            name=\"test\",\n",
    "                                            max_concurrent_bots=1)\n",
    "\n",
    "        user_id = new_user['id']\n",
    "        user_id\n",
    "        token_info = admin_client.create_token(user_id=user_id)\n",
    "        user_api_key = token_info['token']\n",
    "        \n",
    "    client = VexaClient(\n",
    "        base_url=url,\n",
    "        api_key=user_api_key\n",
    ")\n",
    "    return client\n",
    "\n",
    "def request_bot(client,platform, native_meeting_id, passcode=None, bot_name=\"Dmitry's bot\", language='en', task = 'transcribe'):\n",
    "    meeting_info = client.request_bot(\n",
    "        platform=platform,\n",
    "        native_meeting_id=native_meeting_id,\n",
    "        bot_name=bot_name,\n",
    "        language=language,\n",
    "        task = task,\n",
    "        passcode=passcode\n",
    "    )\n",
    "    return meeting_info\n",
    "\n",
    "def get_transcript(client,platform, native_meeting_id,tail=10):\n",
    "    native_meeting_id = native_meeting_id.split(\"/\")[-1]\n",
    "    try:\n",
    "        for _ in range(10):\n",
    "            \n",
    "                transcript = client.get_transcript(native_meeting_id=native_meeting_id,platform=platform)\n",
    "                df = pd.DataFrame(transcript['segments'])#.sort_values(['created_at','start'])#.drop_duplicates('start',keep='last')\n",
    "                clear_output()\n",
    "                display(df.sort_values('absolute_start_time').tail(tail))\n",
    "                time.sleep(1)\n",
    "\n",
    "    except Exception as e:\n",
    "        print(e)\n",
    "        \n",
    "import re\n",
    "split_teams_url = lambda url: (re.search(r'/meet/(\\d+)', url).group(1), re.search(r'\\?p=([^&]+)', url).group(1) if '?p=' in url else '')"
   ]
  },
  {
   "cell_type": "markdown",
   "id": "e32ad4a1",
   "metadata": {},
   "source": [
    "protocols:\n",
    "\n",
    "#### stubborn reconnection test\n",
    "for both google meet, teams:\n",
    "1. stop the trasncription server\n",
    "2. start the bot \n",
    "3. see bot trying to reconnect\n",
    "4. start the transcription server\n",
    "5. confirm bot reconnected\n",
    "6. stop the trasncription server again, repeat\n",
    "\n",
    "####  reconfiguration test\n",
    "1. start the bot\n",
    "2. check trnascription\n",
    "3. send reconfiguration request\n",
    "4. bot broke WS connection, reconnected - trnascription restored with new configuration\n",
    "\n",
    "#### detetion\n",
    "\n",
    "1. start the bot\n",
    "2. try to delete during test. Must fail \n",
    "`409 Conflict with message “Meeting not finalized; cannot delete transcripts”.`\n",
    "3. stop the bot\n",
    "4. try to delete. SHould proceed\n",
    "5. get_meeting check if only telemetry data is stored\n",
    "6. try to delete: should 200 - already deleted"
   ]
  },
  {
   "cell_type": "code",
   "execution_count": 70,
   "id": "98ba786e",
   "metadata": {},
   "outputs": [
    {
     "name": "stdout",
     "output_type": "stream",
     "text": [
      "\n",
      "DEBUG: Making POST request to http://localhost:18056/admin/users\n",
      "DEBUG: Headers: {'Content-Type': 'application/json', 'X-Admin-API-Key': 'token'}\n",
      "DEBUG: Params: None\n",
      "DEBUG: JSON data: {'email': '655087@example.com', 'name': 'test', 'max_concurrent_bots': 1}\n",
      "DEBUG: Response status: 201\n",
      "DEBUG: Response headers: {'date': 'Sun, 21 Sep 2025 18:29:30 GMT, Sun, 21 Sep 2025 18:29:30 GMT', 'server': 'uvicorn, uvicorn', 'content-length': '146', 'content-type': 'application/json'}\n",
      "DEBUG: Response content: {\"email\":\"655087@example.com\",\"name\":\"test\",\"image_url\":null,\"max_concurrent_bots\":1,\"data\":{},\"id\":348,\"created_at\":\"2025-09-21T18:29:31.339265\"}...\n",
      "\n",
      "DEBUG: Making POST request to http://localhost:18056/admin/users/348/tokens\n",
      "DEBUG: Headers: {'Content-Type': 'application/json', 'X-Admin-API-Key': 'token'}\n",
      "DEBUG: Params: None\n",
      "DEBUG: JSON data: None\n",
      "DEBUG: Response status: 201\n",
      "DEBUG: Response headers: {'date': 'Sun, 21 Sep 2025 18:29:30 GMT, Sun, 21 Sep 2025 18:29:30 GMT', 'server': 'uvicorn, uvicorn', 'content-length': '117', 'content-type': 'application/json'}\n",
      "DEBUG: Response content: {\"user_id\":348,\"id\":391,\"token\":\"QlRieRSnNCd8gzMdmhmKsUV4XPbQDUkjKd0TX4Li\",\"created_at\":\"2025-09-21T18:29:31.355236\"}...\n"
     ]
    }
   ],
   "source": [
    "client = create_user_client()"
   ]
  },
  {
   "cell_type": "code",
   "execution_count": 71,
   "id": "cb84a8c0",
   "metadata": {},
   "outputs": [
    {
     "name": "stdout",
     "output_type": "stream",
     "text": [
      "\n",
      "DEBUG: Making PUT request to http://localhost:18056/user/webhook\n",
      "DEBUG: Headers: {'Content-Type': 'application/json', 'X-API-Key': 'QlRieRSnNCd8gzMdmhmKsUV4XPbQDUkjKd0TX4Li'}\n",
      "DEBUG: Params: None\n",
      "DEBUG: JSON data: {'webhook_url': 'https://webhook-test.com/f27123d2b2f27d14d6d1c531bd99d55d'}\n",
      "DEBUG: Response status: 200\n",
      "DEBUG: Response headers: {'date': 'Sun, 21 Sep 2025 18:29:32 GMT, Sun, 21 Sep 2025 18:29:31 GMT', 'server': 'uvicorn, uvicorn', 'content-length': '219', 'content-type': 'application/json'}\n",
      "DEBUG: Response content: {\"email\":\"655087@example.com\",\"name\":\"test\",\"image_url\":null,\"max_concurrent_bots\":1,\"data\":{\"webhook_url\":\"https://webhook-test.com/f27123d2b2f27d14d6d1c531bd99d55d\"},\"id\":348,\"created_at\":\"2025-09-21T18:29:31.339265\"}...\n"
     ]
    },
    {
     "data": {
      "text/plain": [
       "{'email': '655087@example.com',\n",
       " 'name': 'test',\n",
       " 'image_url': None,\n",
       " 'max_concurrent_bots': 1,\n",
       " 'data': {'webhook_url': 'https://webhook-test.com/f27123d2b2f27d14d6d1c531bd99d55d'},\n",
       " 'id': 348,\n",
       " 'created_at': '2025-09-21T18:29:31.339265'}"
      ]
     },
     "execution_count": 71,
     "metadata": {},
     "output_type": "execute_result"
    }
   ],
   "source": [
    "client.set_webhook_url(\"https://webhook-test.com/f27123d2b2f27d14d6d1c531bd99d55d\")"
   ]
  },
  {
   "cell_type": "markdown",
   "id": "9e2240d2",
   "metadata": {},
   "source": [
    "check here: \n",
    "https://webhook-test.com/payload/8c6a1362-f808-4c56-8250-81480c8f64e2"
   ]
  },
  {
   "cell_type": "code",
   "execution_count": 72,
   "id": "84245aba",
   "metadata": {},
   "outputs": [],
   "source": [
    "meeting_url=\"https://meet.google.com/kba-qqag-vpq\"\n",
    "platform = 'google_meet'\n",
    "native_meeting_id = meeting_url.split(\"/\")[-1]\n",
    "passcode = None"
   ]
  },
  {
   "cell_type": "code",
   "execution_count": 73,
   "id": "1c84c822",
   "metadata": {},
   "outputs": [],
   "source": [
    "# meeting_url=\"https://teams.live.com/meet/9387167464734?p=qxJanYOcdjN4d6UlGa\"\n",
    "# platform = 'teams'\n",
    "# native_meeting_id, passcode = split_teams_url(meeting_url)\n"
   ]
  },
  {
   "cell_type": "code",
   "execution_count": 74,
   "id": "df88140b",
   "metadata": {},
   "outputs": [
    {
     "name": "stdout",
     "output_type": "stream",
     "text": [
      "\n",
      "DEBUG: Making POST request to http://localhost:18056/bots\n",
      "DEBUG: Headers: {'Content-Type': 'application/json', 'X-API-Key': 'QlRieRSnNCd8gzMdmhmKsUV4XPbQDUkjKd0TX4Li'}\n",
      "DEBUG: Params: None\n",
      "DEBUG: JSON data: {'platform': 'google_meet', 'native_meeting_id': 'kba-qqag-vpq', 'bot_name': \"Dmitry's bot\", 'language': 'en', 'task': 'transcribe'}\n"
     ]
    },
    {
     "name": "stdout",
     "output_type": "stream",
     "text": [
      "DEBUG: Response status: 201\n",
      "DEBUG: Response headers: {'date': 'Sun, 21 Sep 2025 18:29:35 GMT, Sun, 21 Sep 2025 18:29:35 GMT', 'server': 'uvicorn, uvicorn', 'content-length': '384', 'content-type': 'application/json'}\n",
      "DEBUG: Response content: {\"id\":687,\"user_id\":348,\"platform\":\"google_meet\",\"native_meeting_id\":\"kba-qqag-vpq\",\"constructed_meeting_url\":\"https://meet.google.com/kba-qqag-vpq\",\"status\":\"requested\",\"bot_container_id\":\"7ad77aae0327d21dae73841be025a887c58c6fd864518163e1a8250a1db0baaf\",\"start_time\":null,\"end_time\":null,\"data\":{},\"created_at\":\"2025-09-21T18:29:36.022907\",\"updated_at\":\"2025-09-21T18:29:36.031396\"}...\n"
     ]
    },
    {
     "data": {
      "text/plain": [
       "{'id': 687,\n",
       " 'user_id': 348,\n",
       " 'platform': 'google_meet',\n",
       " 'native_meeting_id': 'kba-qqag-vpq',\n",
       " 'constructed_meeting_url': 'https://meet.google.com/kba-qqag-vpq',\n",
       " 'status': 'requested',\n",
       " 'bot_container_id': '7ad77aae0327d21dae73841be025a887c58c6fd864518163e1a8250a1db0baaf',\n",
       " 'start_time': None,\n",
       " 'end_time': None,\n",
       " 'data': {},\n",
       " 'created_at': '2025-09-21T18:29:36.022907',\n",
       " 'updated_at': '2025-09-21T18:29:36.031396'}"
      ]
     },
     "execution_count": 74,
     "metadata": {},
     "output_type": "execute_result"
    }
   ],
   "source": [
    "request_bot(client,platform, native_meeting_id, passcode=passcode, bot_name=\"Dmitry's bot\", language='en')"
   ]
  },
  {
   "cell_type": "code",
   "execution_count": 82,
   "id": "f7321ffe",
   "metadata": {},
   "outputs": [
    {
     "name": "stdout",
     "output_type": "stream",
     "text": [
      "\n",
      "DEBUG: Making GET request to http://localhost:18056/meetings\n",
      "DEBUG: Headers: {'Content-Type': 'application/json', 'X-API-Key': 'QlRieRSnNCd8gzMdmhmKsUV4XPbQDUkjKd0TX4Li'}\n",
      "DEBUG: Params: None\n",
      "DEBUG: JSON data: None\n",
      "DEBUG: Response status: 200\n",
      "DEBUG: Response headers: {'date': 'Sun, 21 Sep 2025 18:30:27 GMT, Sun, 21 Sep 2025 18:30:26 GMT', 'server': 'uvicorn, uvicorn', 'content-length': '869', 'content-type': 'application/json'}\n",
      "DEBUG: Response content: {\"meetings\":[{\"id\":687,\"user_id\":348,\"platform\":\"google_meet\",\"native_meeting_id\":null,\"constructed_meeting_url\":null,\"status\":\"completed\",\"bot_container_id\":\"vexa-bot-687-efd16b4c\",\"start_time\":\"2025-09-21T18:29:54.903362\",\"end_time\":\"2025-09-21T18:30:19.535446\",\"data\":{\"redacted\":true,\"completion_reason\":\"stopped\",\"status_transition\":[{\"to\":\"joining\",\"from\":\"requested\",\"source\":\"bot_callback\",\"timestamp\":\"2025-09-21T18:29:39.355801\"},{\"to\":\"awaiting_admission\",\"from\":\"joining\",\"source\":\"bot_ca...\n"
     ]
    },
    {
     "data": {
      "text/plain": [
       "[{'id': 687,\n",
       "  'user_id': 348,\n",
       "  'platform': 'google_meet',\n",
       "  'native_meeting_id': None,\n",
       "  'constructed_meeting_url': None,\n",
       "  'status': 'completed',\n",
       "  'bot_container_id': 'vexa-bot-687-efd16b4c',\n",
       "  'start_time': '2025-09-21T18:29:54.903362',\n",
       "  'end_time': '2025-09-21T18:30:19.535446',\n",
       "  'data': {'redacted': True,\n",
       "   'completion_reason': 'stopped',\n",
       "   'status_transition': [{'to': 'joining',\n",
       "     'from': 'requested',\n",
       "     'source': 'bot_callback',\n",
       "     'timestamp': '2025-09-21T18:29:39.355801'},\n",
       "    {'to': 'awaiting_admission',\n",
       "     'from': 'joining',\n",
       "     'source': 'bot_callback',\n",
       "     'timestamp': '2025-09-21T18:29:50.582636'},\n",
       "    {'to': 'active',\n",
       "     'from': 'awaiting_admission',\n",
       "     'source': 'bot_callback',\n",
       "     'timestamp': '2025-09-21T18:29:54.892611'},\n",
       "    {'to': 'completed',\n",
       "     'from': 'active',\n",
       "     'source': 'user',\n",
       "     'timestamp': '2025-09-21T18:30:19.524688',\n",
       "     'completion_reason': 'stopped'}]},\n",
       "  'created_at': '2025-09-21T18:29:36.022907',\n",
       "  'updated_at': '2025-09-21T18:30:20.831250'}]"
      ]
     },
     "execution_count": 82,
     "metadata": {},
     "output_type": "execute_result"
    }
   ],
   "source": [
    "meetings = client.get_meetings()\n",
    "meetings"
   ]
  },
  {
   "cell_type": "code",
   "execution_count": 83,
   "id": "ffc3f236",
   "metadata": {},
   "outputs": [
    {
     "name": "stdout",
     "output_type": "stream",
     "text": [
      "\n",
      "DEBUG: Making GET request to http://localhost:18056/transcripts/google_meet/kba-qqag-vpq\n",
      "DEBUG: Headers: {'Content-Type': 'application/json', 'X-API-Key': 'QlRieRSnNCd8gzMdmhmKsUV4XPbQDUkjKd0TX4Li'}\n",
      "DEBUG: Params: None\n",
      "DEBUG: JSON data: None\n",
      "DEBUG: Response status: 404\n",
      "DEBUG: Response headers: {'date': 'Sun, 21 Sep 2025 18:30:51 GMT, Sun, 21 Sep 2025 18:30:51 GMT', 'server': 'uvicorn, uvicorn', 'content-length': '75', 'content-type': 'application/json'}\n",
      "DEBUG: Response content: {\"detail\":\"Meeting not found for platform google_meet and ID kba-qqag-vpq\"}...\n",
      "HTTP Error 404 for GET http://localhost:18056/transcripts/google_meet/kba-qqag-vpq: Meeting not found for platform google_meet and ID kba-qqag-vpq\n"
     ]
    }
   ],
   "source": [
    "get_transcript(client,platform, native_meeting_id,tail=50)"
   ]
  },
  {
   "cell_type": "code",
   "execution_count": 22,
   "id": "febe37f1",
   "metadata": {},
   "outputs": [
    {
     "name": "stdout",
     "output_type": "stream",
     "text": [
      "\n",
      "DEBUG: Making PUT request to http://localhost:18056/bots/google_meet/kba-qqag-vpq/config\n",
      "DEBUG: Headers: {'Content-Type': 'application/json', 'X-API-Key': '5Cf8M2Y0Zu5rDuTAy5T2woXTdxS6N5HRsgT6lwbp'}\n",
      "DEBUG: Params: None\n",
      "DEBUG: JSON data: {'language': 'ru', 'task': 'transcribe'}\n",
      "DEBUG: Response status: 202\n",
      "DEBUG: Response headers: {'date': 'Sun, 21 Sep 2025 17:57:29 GMT, Sun, 21 Sep 2025 17:57:29 GMT', 'server': 'uvicorn, uvicorn', 'content-length': '67', 'content-type': 'application/json'}\n",
      "DEBUG: Response content: {\"message\":\"Reconfiguration request accepted and sent to the bot.\"}...\n"
     ]
    },
    {
     "data": {
      "text/plain": [
       "{'message': 'Reconfiguration request accepted and sent to the bot.'}"
      ]
     },
     "execution_count": 22,
     "metadata": {},
     "output_type": "execute_result"
    }
   ],
   "source": [
    "client.update_bot_config(\n",
    "    platform=platform,\n",
    "    native_meeting_id=native_meeting_id,\n",
    "    language='ru',\n",
    "    task = 'transcribe'\n",
    ")"
   ]
  },
  {
   "cell_type": "code",
   "execution_count": 80,
   "id": "cbff4f52",
   "metadata": {},
   "outputs": [
    {
     "name": "stdout",
     "output_type": "stream",
     "text": [
      "\n",
      "DEBUG: Making DELETE request to http://localhost:18056/bots/google_meet/kba-qqag-vpq\n",
      "DEBUG: Headers: {'Content-Type': 'application/json', 'X-API-Key': 'QlRieRSnNCd8gzMdmhmKsUV4XPbQDUkjKd0TX4Li'}\n",
      "DEBUG: Params: None\n",
      "DEBUG: JSON data: None\n",
      "DEBUG: Response status: 202\n",
      "DEBUG: Response headers: {'date': 'Sun, 21 Sep 2025 18:30:17 GMT, Sun, 21 Sep 2025 18:30:17 GMT', 'server': 'uvicorn, uvicorn', 'content-length': '59', 'content-type': 'application/json'}\n",
      "DEBUG: Response content: {\"message\":\"Stop request accepted and is being processed.\"}...\n"
     ]
    },
    {
     "data": {
      "text/plain": [
       "{'message': 'Stop request accepted and is being processed.'}"
      ]
     },
     "execution_count": 80,
     "metadata": {},
     "output_type": "execute_result"
    }
   ],
   "source": [
    "client.stop_bot(platform=platform,native_meeting_id=native_meeting_id)"
   ]
  },
  {
   "cell_type": "code",
   "execution_count": 81,
   "id": "81488b86",
   "metadata": {},
   "outputs": [
    {
     "name": "stdout",
     "output_type": "stream",
     "text": [
      "\n",
      "DEBUG: Making DELETE request to http://localhost:18056/meetings/google_meet/kba-qqag-vpq\n",
      "DEBUG: Headers: {'Content-Type': 'application/json', 'X-API-Key': 'QlRieRSnNCd8gzMdmhmKsUV4XPbQDUkjKd0TX4Li'}\n",
      "DEBUG: Params: None\n",
      "DEBUG: JSON data: None\n",
      "DEBUG: Response status: 200\n",
      "DEBUG: Response headers: {'date': 'Sun, 21 Sep 2025 18:30:20 GMT, Sun, 21 Sep 2025 18:30:20 GMT', 'server': 'uvicorn, uvicorn', 'content-length': '86', 'content-type': 'application/json'}\n",
      "DEBUG: Response content: {\"message\":\"Meeting google_meet/kba-qqag-vpq transcripts deleted and data anonymized\"}...\n"
     ]
    },
    {
     "data": {
      "text/plain": [
       "{'message': 'Meeting google_meet/kba-qqag-vpq transcripts deleted and data anonymized'}"
      ]
     },
     "execution_count": 81,
     "metadata": {},
     "output_type": "execute_result"
    }
   ],
   "source": [
    "client.delete_meeting(platform=platform,native_meeting_id=native_meeting_id)"
   ]
  },
  {
   "cell_type": "markdown",
   "id": "e4d4c3a7",
   "metadata": {},
   "source": []
  }
 ],
 "metadata": {
  "kernelspec": {
   "display_name": "vexa",
   "language": "python",
   "name": "python3"
  },
  "language_info": {
   "codemirror_mode": {
    "name": "ipython",
    "version": 3
   },
   "file_extension": ".py",
   "mimetype": "text/x-python",
   "name": "python",
   "nbconvert_exporter": "python",
   "pygments_lexer": "ipython3",
   "version": "3.11.10"
  }
 },
 "nbformat": 4,
 "nbformat_minor": 5
}
