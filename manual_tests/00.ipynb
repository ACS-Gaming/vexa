{
 "cells": [
  {
   "cell_type": "code",
   "execution_count": null,
   "id": "421c095d",
   "metadata": {},
   "outputs": [],
   "source": [
    "import sys\n",
    "import os\n",
    "\n",
    "# Add the parent directory to Python path to import local vexa_client\n",
    "sys.path.insert(0, os.path.abspath('..'))\n",
    "\n",
    "# Now import the local development version\n",
    "from vexa_client import VexaClient\n",
    "\n",
    "print(f\"Imported VexaClient from: {VexaClient.__module__}\")\n",
    "print(f\"VexaClient file location: {VexaClient.__module__.__file__ if hasattr(VexaClient.__module__, '__file__') else 'Unknown'}\")\n",
    "# Verify the request_bot method signature includes passcode parameter\n",
    "import inspect\n",
    "\n",
    "sig = inspect.signature(VexaClient.request_bot)\n",
    "print(\"request_bot method signature:\")\n",
    "print(sig)\n",
    "\n",
    "# Check if passcode parameter exists\n",
    "if 'passcode' in sig.parameters:\n",
    "    print(\"✅ passcode parameter is available!\")\n",
    "else:\n",
    "    print(\"❌ passcode parameter is missing!\")\n",
    "\n",
    "import pandas as pd\n",
    "pd.options.display.max_colwidth = 1000\n",
    "pd.set_option('display.max_colwidth', 1000)\n",
    "pd.set_option('display.max_rows', 1000)\n",
    "pd.set_option('display.max_columns', 1000)\n",
    "pd.set_option('display.width', 1000)\n",
    "pd.set_option('display.float_format', '{:20.2f}'.format)\n",
    "pd.set_option('display.max_colwidth', 1000)\n",
    "pd.set_option('display.max_rows', 1000)\n",
    "pd.set_option('display.max_columns', 1000)\n",
    "from IPython.display import clear_output,display\n",
    "import importlib\n",
    "import sys\n",
    "\n",
    "# Remove the module from cache if it exists\n",
    "if 'vexa_client' in sys.modules:\n",
    "    del sys.modules['vexa_client']\n",
    "\n",
    "# Re-import\n",
    "from vexa_client import VexaClient\n",
    "from dotenv import load_dotenv\n",
    "# Load .env file\n",
    "load_dotenv()\n",
    "import random\n",
    "\n",
    "import os\n",
    "from vexa_client import VexaClient\n",
    "\n",
    "import os\n",
    "TOKEN = os.getenv('ADMIN_API_TOKEN')\n",
    "url = \"http://localhost:18056\"\n",
    "admin_client = VexaClient(\n",
    "    base_url=url,\n",
    "    admin_key=TOKEN  # From docker-compose.yml\n",
    ")\n",
    "\n",
    "import time\n",
    "def create_user_client(user_api_key=None):\n",
    "    if user_api_key is None:\n",
    "        new_user = admin_client.create_user(email=f\"{random.randint(1, 1000000)}@example.com\", \n",
    "                                            name=\"test\",\n",
    "                                            max_concurrent_bots=1)\n",
    "\n",
    "        user_id = new_user['id']\n",
    "        user_id\n",
    "        token_info = admin_client.create_token(user_id=user_id)\n",
    "        user_api_key = token_info['token']\n",
    "        \n",
    "    client = VexaClient(\n",
    "        base_url=url,\n",
    "        api_key=user_api_key\n",
    ")\n",
    "    return client\n",
    "\n",
    "def request_bot(client,platform, native_meeting_id, passcode=None, bot_name=\"Dmitry's bot\", language='en', task = 'transcribe'):\n",
    "    meeting_info = client.request_bot(\n",
    "        platform=platform,\n",
    "        native_meeting_id=native_meeting_id,\n",
    "        bot_name=bot_name,\n",
    "        language=language,\n",
    "        task = task,\n",
    "        passcode=passcode\n",
    "    )\n",
    "    return meeting_info\n",
    "\n",
    "def get_transcript(client,platform, native_meeting_id):\n",
    "    native_meeting_id = native_meeting_id.split(\"/\")[-1]\n",
    "    try:\n",
    "        for _ in range(10):\n",
    "            \n",
    "                transcript = client.get_transcript(native_meeting_id=native_meeting_id,platform=platform)\n",
    "                df = pd.DataFrame(transcript['segments'])#.sort_values(['created_at','start'])#.drop_duplicates('start',keep='last')\n",
    "                clear_output()\n",
    "                display(df.sort_values('absolute_start_time').tail(10))\n",
    "                time.sleep(1)\n",
    "\n",
    "    except Exception as e:\n",
    "        print(e)"
   ]
  },
  {
   "cell_type": "code",
   "execution_count": null,
   "id": "98ba786e",
   "metadata": {},
   "outputs": [],
   "source": [
    "client = create_user_client()"
   ]
  },
  {
   "cell_type": "code",
   "execution_count": null,
   "id": "84245aba",
   "metadata": {},
   "outputs": [],
   "source": [
    "meeting_url=\"https://meet.google.com/kba-qqag-vpq\"\n",
    "platform = 'google_meet'\n",
    "native_meeting_id = meeting_url.split(\"/\")[-1]\n",
    "passcode = None"
   ]
  },
  {
   "cell_type": "code",
   "execution_count": null,
   "id": "df88140b",
   "metadata": {},
   "outputs": [],
   "source": [
    "request_bot(client,platform, native_meeting_id, passcode=passcode, bot_name=\"Dmitry's bot\", language='en')"
   ]
  },
  {
   "cell_type": "code",
   "execution_count": null,
   "id": "f7321ffe",
   "metadata": {},
   "outputs": [],
   "source": [
    "meetings = client.get_meetings()\n",
    "meetings"
   ]
  },
  {
   "cell_type": "code",
   "execution_count": null,
   "id": "ffc3f236",
   "metadata": {},
   "outputs": [],
   "source": [
    "get_transcript(client,platform, native_meeting_id)"
   ]
  },
  {
   "cell_type": "code",
   "execution_count": null,
   "id": "febe37f1",
   "metadata": {},
   "outputs": [],
   "source": [
    "client.update_bot_config(\n",
    "    platform=platform,\n",
    "    native_meeting_id=native_meeting_id,\n",
    "    language='ru',\n",
    "    task = 'transcribe'\n",
    ")"
   ]
  },
  {
   "cell_type": "code",
   "execution_count": null,
   "id": "cbff4f52",
   "metadata": {},
   "outputs": [],
   "source": [
    "client.stop_bot(platform=platform,native_meeting_id=native_meeting_id)"
   ]
  }
 ],
 "metadata": {
  "kernelspec": {
   "display_name": "vexa",
   "language": "python",
   "name": "python3"
  },
  "language_info": {
   "codemirror_mode": {
    "name": "ipython",
    "version": 3
   },
   "file_extension": ".py",
   "mimetype": "text/x-python",
   "name": "python",
   "nbconvert_exporter": "python",
   "pygments_lexer": "ipython3",
   "version": "3.11.10"
  }
 },
 "nbformat": 4,
 "nbformat_minor": 5
}
