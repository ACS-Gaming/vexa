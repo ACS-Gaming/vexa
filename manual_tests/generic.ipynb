{
 "cells": [
  {
   "cell_type": "code",
   "execution_count": 1,
   "metadata": {},
   "outputs": [
    {
     "name": "stdout",
     "output_type": "stream",
     "text": [
      "Imported VexaClient from: vexa_client\n",
      "VexaClient file location: Unknown\n"
     ]
    }
   ],
   "source": [
    "import sys\n",
    "import os\n",
    "\n",
    "# Add the parent directory to Python path to import local vexa_client\n",
    "sys.path.insert(0, os.path.abspath('..'))\n",
    "\n",
    "# Now import the local development version\n",
    "from vexa_client import VexaClient\n",
    "\n",
    "print(f\"Imported VexaClient from: {VexaClient.__module__}\")\n",
    "print(f\"VexaClient file location: {VexaClient.__module__.__file__ if hasattr(VexaClient.__module__, '__file__') else 'Unknown'}\")\n"
   ]
  },
  {
   "cell_type": "code",
   "execution_count": 2,
   "metadata": {},
   "outputs": [
    {
     "name": "stdout",
     "output_type": "stream",
     "text": [
      "request_bot method signature:\n",
      "(self, platform: str, native_meeting_id: str, bot_name: Optional[str] = None, language: Optional[str] = None, task: Optional[str] = None, passcode: Optional[str] = None) -> Dict[str, Any]\n",
      "✅ passcode parameter is available!\n"
     ]
    }
   ],
   "source": [
    "# Verify the request_bot method signature includes passcode parameter\n",
    "import inspect\n",
    "\n",
    "sig = inspect.signature(VexaClient.request_bot)\n",
    "print(\"request_bot method signature:\")\n",
    "print(sig)\n",
    "\n",
    "# Check if passcode parameter exists\n",
    "if 'passcode' in sig.parameters:\n",
    "    print(\"✅ passcode parameter is available!\")\n",
    "else:\n",
    "    print(\"❌ passcode parameter is missing!\")\n"
   ]
  },
  {
   "cell_type": "code",
   "execution_count": 3,
   "metadata": {},
   "outputs": [
    {
     "data": {
      "text/plain": [
       "1"
      ]
     },
     "execution_count": 3,
     "metadata": {},
     "output_type": "execute_result"
    }
   ],
   "source": [
    "1"
   ]
  },
  {
   "cell_type": "code",
   "execution_count": 4,
   "metadata": {},
   "outputs": [],
   "source": [
    "import pandas as pd\n",
    "pd.options.display.max_colwidth = 1000\n",
    "pd.set_option('display.max_colwidth', 1000)\n",
    "pd.set_option('display.max_rows', 1000)\n",
    "pd.set_option('display.max_columns', 1000)\n",
    "pd.set_option('display.width', 1000)\n",
    "pd.set_option('display.float_format', '{:20.2f}'.format)\n",
    "pd.set_option('display.max_colwidth', 1000)\n",
    "pd.set_option('display.max_rows', 1000)\n",
    "pd.set_option('display.max_columns', 1000)\n",
    "from IPython.display import clear_output,display"
   ]
  },
  {
   "cell_type": "code",
   "execution_count": 5,
   "metadata": {},
   "outputs": [],
   "source": [
    "from vexa_client import VexaClient"
   ]
  },
  {
   "cell_type": "code",
   "execution_count": 6,
   "metadata": {},
   "outputs": [],
   "source": [
    "import importlib\n",
    "import sys\n",
    "\n",
    "# Remove the module from cache if it exists\n",
    "if 'vexa_client' in sys.modules:\n",
    "    del sys.modules['vexa_client']\n",
    "\n",
    "# Re-import\n",
    "from vexa_client import VexaClient"
   ]
  },
  {
   "cell_type": "code",
   "execution_count": 7,
   "metadata": {},
   "outputs": [],
   "source": [
    "# Load environment variables from .env file\n",
    "from dotenv import load_dotenv\n",
    "\n",
    "# Load .env file\n",
    "load_dotenv()\n",
    "import random\n",
    "\n",
    "import os\n",
    "from vexa_client import VexaClient\n",
    "\n",
    "import os\n",
    "TOKEN = os.getenv('ADMIN_API_TOKEN')\n",
    "url = \"http://localhost:18056\"\n",
    "admin_client = VexaClient(\n",
    "    base_url=url,\n",
    "    admin_key=TOKEN  # From docker-compose.yml\n",
    ")\n",
    "\n",
    "import time"
   ]
  },
  {
   "cell_type": "code",
   "execution_count": 8,
   "metadata": {},
   "outputs": [
    {
     "name": "stdout",
     "output_type": "stream",
     "text": [
      "\n",
      "DEBUG: Making POST request to http://localhost:18056/admin/users\n",
      "DEBUG: Headers: {'Content-Type': 'application/json', 'X-Admin-API-Key': 'token'}\n",
      "DEBUG: Params: None\n",
      "DEBUG: JSON data: {'email': '591053@example.com', 'name': 'test', 'max_concurrent_bots': 1}\n",
      "DEBUG: Response status: 201\n",
      "DEBUG: Response headers: {'date': 'Fri, 19 Sep 2025 11:50:52 GMT, Fri, 19 Sep 2025 11:50:52 GMT', 'server': 'uvicorn, uvicorn', 'content-length': '146', 'content-type': 'application/json'}\n",
      "DEBUG: Response content: {\"email\":\"591053@example.com\",\"name\":\"test\",\"image_url\":null,\"max_concurrent_bots\":1,\"data\":{},\"id\":225,\"created_at\":\"2025-09-19T11:50:52.280561\"}...\n"
     ]
    }
   ],
   "source": [
    "new_user = admin_client.create_user(email=f\"{random.randint(1, 1000000)}@example.com\", \n",
    "                                    name=\"test\",\n",
    "                                    max_concurrent_bots=1)\n"
   ]
  },
  {
   "cell_type": "code",
   "execution_count": 10,
   "metadata": {},
   "outputs": [
    {
     "name": "stdout",
     "output_type": "stream",
     "text": [
      "\n",
      "DEBUG: Making POST request to http://localhost:18056/admin/users/225/tokens\n",
      "DEBUG: Headers: {'Content-Type': 'application/json', 'X-Admin-API-Key': 'token'}\n",
      "DEBUG: Params: None\n",
      "DEBUG: JSON data: None\n",
      "DEBUG: Response status: 201\n",
      "DEBUG: Response headers: {'date': 'Fri, 19 Sep 2025 11:50:55 GMT, Fri, 19 Sep 2025 11:50:55 GMT', 'server': 'uvicorn, uvicorn', 'content-length': '117', 'content-type': 'application/json'}\n",
      "DEBUG: Response content: {\"user_id\":225,\"id\":267,\"token\":\"S7E5XNdwTt4PuvAfMbLQ3IQ9rvKCPdSWe1Z1epsD\",\"created_at\":\"2025-09-19T11:50:55.660046\"}...\n"
     ]
    }
   ],
   "source": [
    "\n",
    "user_id = new_user['id']\n",
    "user_id\n",
    "token_info = admin_client.create_token(user_id=user_id)\n",
    "user_api_key = token_info['token']\n",
    "client = VexaClient(\n",
    "    base_url=url,\n",
    "    api_key=user_api_key\n",
    ")"
   ]
  },
  {
   "cell_type": "code",
   "execution_count": 11,
   "metadata": {},
   "outputs": [
    {
     "name": "stdout",
     "output_type": "stream",
     "text": [
      "\n",
      "DEBUG: Making PUT request to http://localhost:18056/user/webhook\n",
      "DEBUG: Headers: {'Content-Type': 'application/json', 'X-API-Key': 'S7E5XNdwTt4PuvAfMbLQ3IQ9rvKCPdSWe1Z1epsD'}\n",
      "DEBUG: Params: None\n",
      "DEBUG: JSON data: {'webhook_url': 'https://webhook-test.com/e79be735cf3e9bc0c98ca068beaac1f3'}\n",
      "DEBUG: Response status: 200\n",
      "DEBUG: Response headers: {'date': 'Fri, 19 Sep 2025 11:50:56 GMT, Fri, 19 Sep 2025 11:50:56 GMT', 'server': 'uvicorn, uvicorn', 'content-length': '219', 'content-type': 'application/json'}\n",
      "DEBUG: Response content: {\"email\":\"591053@example.com\",\"name\":\"test\",\"image_url\":null,\"max_concurrent_bots\":1,\"data\":{\"webhook_url\":\"https://webhook-test.com/e79be735cf3e9bc0c98ca068beaac1f3\"},\"id\":225,\"created_at\":\"2025-09-19T11:50:52.280561\"}...\n"
     ]
    },
    {
     "data": {
      "text/plain": [
       "{'email': '591053@example.com',\n",
       " 'name': 'test',\n",
       " 'image_url': None,\n",
       " 'max_concurrent_bots': 1,\n",
       " 'data': {'webhook_url': 'https://webhook-test.com/e79be735cf3e9bc0c98ca068beaac1f3'},\n",
       " 'id': 225,\n",
       " 'created_at': '2025-09-19T11:50:52.280561'}"
      ]
     },
     "execution_count": 11,
     "metadata": {},
     "output_type": "execute_result"
    }
   ],
   "source": [
    "client.set_webhook_url(\"https://webhook-test.com/e79be735cf3e9bc0c98ca068beaac1f3\")"
   ]
  },
  {
   "cell_type": "code",
   "execution_count": 12,
   "metadata": {},
   "outputs": [],
   "source": [
    "# client = VexaClient(\n",
    "#     base_url=url,\n",
    "#     api_key='rzwFUoj4hoZq0p9SD7MnfDrEGjDe4Hfr7rBp34CS'\n",
    "# )"
   ]
  },
  {
   "cell_type": "code",
   "execution_count": 13,
   "metadata": {},
   "outputs": [],
   "source": [
    "\n",
    "#meeting_url=\"https://meet.google.com/guu-axxy-tze\"\n"
   ]
  },
  {
   "cell_type": "code",
   "execution_count": 14,
   "metadata": {},
   "outputs": [],
   "source": [
    "import re\n",
    "split_teams_url = lambda url: (re.search(r'/meet/(\\d+)', url).group(1), re.search(r'\\?p=([^&]+)', url).group(1) if '?p=' in url else '')"
   ]
  },
  {
   "cell_type": "code",
   "execution_count": 15,
   "metadata": {},
   "outputs": [],
   "source": [
    "meeting_url=\"https://meet.google.com/uvi-tgzn-hde\"\n",
    "platform = 'google_meet'\n",
    "native_meeting_id = meeting_url.split(\"/\")[-1]\n",
    "passcode = None\n"
   ]
  },
  {
   "cell_type": "code",
   "execution_count": 48,
   "metadata": {},
   "outputs": [],
   "source": [
    "meeting_url=\"https://teams.live.com/meet/9342205715849?p=1Tw4SOPN4ZfYgCKRcQ\"\n",
    "platform = 'teams'\n",
    "native_meeting_id, passcode = split_teams_url(meeting_url)\n"
   ]
  },
  {
   "cell_type": "code",
   "execution_count": 49,
   "metadata": {},
   "outputs": [
    {
     "name": "stdout",
     "output_type": "stream",
     "text": [
      "Constructed URL: https://teams.live.com/meet/9342205715849?p=1Tw4SOPN4ZfYgCKRcQ\n"
     ]
    }
   ],
   "source": [
    "\n",
    "# Test the URL construction locally\n",
    "sys.path.insert(0, os.path.abspath('../libs/shared-models'))\n",
    "from shared_models.schemas import Platform\n",
    "try:\n",
    "    constructed_url = Platform.construct_meeting_url(platform, native_meeting_id, passcode)\n",
    "    print(f\"Constructed URL: {constructed_url}\")\n",
    "except Exception as e:\n",
    "    print(f\"URL construction failed: {e}\")\n"
   ]
  },
  {
   "cell_type": "code",
   "execution_count": 50,
   "metadata": {},
   "outputs": [
    {
     "data": {
      "text/plain": [
       "'9342205715849'"
      ]
     },
     "execution_count": 50,
     "metadata": {},
     "output_type": "execute_result"
    }
   ],
   "source": [
    "native_meeting_id"
   ]
  },
  {
   "cell_type": "code",
   "execution_count": 74,
   "metadata": {},
   "outputs": [
    {
     "name": "stdout",
     "output_type": "stream",
     "text": [
      "\n",
      "DEBUG: Making POST request to http://localhost:18056/bots\n",
      "DEBUG: Headers: {'Content-Type': 'application/json', 'X-API-Key': 'S7E5XNdwTt4PuvAfMbLQ3IQ9rvKCPdSWe1Z1epsD'}\n",
      "DEBUG: Params: None\n",
      "DEBUG: JSON data: {'platform': 'teams', 'native_meeting_id': '9342205715849', 'bot_name': \"Dmitry's bot\", 'language': 'ru', 'task': 'transcribe', 'passcode': '1Tw4SOPN4ZfYgCKRcQ'}\n",
      "DEBUG: Response status: 201\n",
      "DEBUG: Response headers: {'date': 'Fri, 19 Sep 2025 12:01:50 GMT, Fri, 19 Sep 2025 12:01:50 GMT', 'server': 'uvicorn, uvicorn', 'content-length': '415', 'content-type': 'application/json'}\n",
      "DEBUG: Response content: {\"id\":522,\"user_id\":225,\"platform\":\"teams\",\"native_meeting_id\":\"9342205715849\",\"constructed_meeting_url\":\"https://teams.live.com/meet/9342205715849\",\"status\":\"requested\",\"bot_container_id\":\"03615bf7bd099e8446ce19a97bf392e9d6dda19d2cb515976f9c3a0b74164b5f\",\"start_time\":null,\"end_time\":null,\"data\":{\"passcode\":\"1Tw4SOPN4ZfYgCKRcQ\"},\"created_at\":\"2025-09-19T12:01:51.047346\",\"updated_at\":\"2025-09-19T12:01:51.065613\"}...\n"
     ]
    }
   ],
   "source": [
    "\n",
    "meeting_info = client.request_bot(\n",
    "    platform=platform,\n",
    "    native_meeting_id=native_meeting_id,\n",
    "    bot_name=\"Dmitry's bot\",\n",
    "    language='ru',\n",
    "    task = 'transcribe',\n",
    "    passcode=passcode\n",
    ")\n",
    "meeting_id = meeting_info['id']"
   ]
  },
  {
   "cell_type": "code",
   "execution_count": 98,
   "metadata": {},
   "outputs": [
    {
     "name": "stdout",
     "output_type": "stream",
     "text": [
      "\n",
      "DEBUG: Making GET request to http://localhost:18056/meetings\n",
      "DEBUG: Headers: {'Content-Type': 'application/json', 'X-API-Key': 'S7E5XNdwTt4PuvAfMbLQ3IQ9rvKCPdSWe1Z1epsD'}\n",
      "DEBUG: Params: None\n",
      "DEBUG: JSON data: None\n",
      "DEBUG: Response status: 200\n",
      "DEBUG: Response headers: {'date': 'Fri, 19 Sep 2025 12:06:38 GMT, Fri, 19 Sep 2025 12:06:38 GMT', 'server': 'uvicorn, uvicorn', 'content-length': '1806', 'content-type': 'application/json'}\n",
      "DEBUG: Response content: {\"meetings\":[{\"id\":522,\"user_id\":225,\"platform\":\"teams\",\"native_meeting_id\":\"9342205715849\",\"constructed_meeting_url\":\"https://teams.live.com/meet/9342205715849\",\"status\":\"completed\",\"bot_container_id\":\"vexa-bot-522-e3309dea\",\"start_time\":\"2025-09-19T12:02:12.910666\",\"end_time\":\"2025-09-19T12:06:31.120703\",\"data\":{\"passcode\":\"1Tw4SOPN4ZfYgCKRcQ\"},\"created_at\":\"2025-09-19T12:01:51.047346\",\"updated_at\":\"2025-09-19T12:06:31.119999\"},{\"id\":521,\"user_id\":225,\"platform\":\"teams\",\"native_meeting_id\":\"93...\n"
     ]
    },
    {
     "data": {
      "text/plain": [
       "'completed'"
      ]
     },
     "execution_count": 98,
     "metadata": {},
     "output_type": "execute_result"
    }
   ],
   "source": [
    "meetings = client.get_meetings()\n",
    "meetings[0]['status']"
   ]
  },
  {
   "cell_type": "code",
   "execution_count": 85,
   "metadata": {},
   "outputs": [
    {
     "data": {
      "text/plain": [
       "{'id': 522,\n",
       " 'user_id': 225,\n",
       " 'platform': 'teams',\n",
       " 'native_meeting_id': '9342205715849',\n",
       " 'constructed_meeting_url': 'https://teams.live.com/meet/9342205715849',\n",
       " 'status': 'joining',\n",
       " 'bot_container_id': '03615bf7bd099e8446ce19a97bf392e9d6dda19d2cb515976f9c3a0b74164b5f',\n",
       " 'start_time': None,\n",
       " 'end_time': None,\n",
       " 'data': {'passcode': '1Tw4SOPN4ZfYgCKRcQ'},\n",
       " 'created_at': '2025-09-19T12:01:51.047346',\n",
       " 'updated_at': '2025-09-19T12:01:56.578260'}"
      ]
     },
     "execution_count": 85,
     "metadata": {},
     "output_type": "execute_result"
    }
   ],
   "source": [
    "meetings[0]"
   ]
  },
  {
   "cell_type": "code",
   "execution_count": 97,
   "metadata": {},
   "outputs": [
    {
     "name": "stdout",
     "output_type": "stream",
     "text": [
      "\n",
      "DEBUG: Making DELETE request to http://localhost:18056/bots/teams/9342205715849\n",
      "DEBUG: Headers: {'Content-Type': 'application/json', 'X-API-Key': 'S7E5XNdwTt4PuvAfMbLQ3IQ9rvKCPdSWe1Z1epsD'}\n",
      "DEBUG: Params: None\n",
      "DEBUG: JSON data: None\n",
      "DEBUG: Response status: 202\n",
      "DEBUG: Response headers: {'date': 'Fri, 19 Sep 2025 12:06:29 GMT, Fri, 19 Sep 2025 12:06:28 GMT', 'server': 'uvicorn, uvicorn', 'content-length': '59', 'content-type': 'application/json'}\n",
      "DEBUG: Response content: {\"message\":\"Stop request accepted and is being processed.\"}...\n"
     ]
    },
    {
     "data": {
      "text/plain": [
       "{'message': 'Stop request accepted and is being processed.'}"
      ]
     },
     "execution_count": 97,
     "metadata": {},
     "output_type": "execute_result"
    }
   ],
   "source": [
    "client.stop_bot(platform=platform,native_meeting_id=native_meeting_id)"
   ]
  },
  {
   "cell_type": "code",
   "execution_count": 72,
   "metadata": {},
   "outputs": [
    {
     "data": {
      "text/plain": [
       "225"
      ]
     },
     "execution_count": 72,
     "metadata": {},
     "output_type": "execute_result"
    }
   ],
   "source": [
    "user_id"
   ]
  },
  {
   "cell_type": "code",
   "execution_count": null,
   "metadata": {},
   "outputs": [],
   "source": [
    "#cd /home/dima/dev/vexa && python tests/ws_test.py --url ws://localhost:18056/ws --api-key eWcr422cwJhMV0XbYYEoGzXkRta339yYJgzUtzSK --platform teams --native-id 9327884808517"
   ]
  },
  {
   "cell_type": "code",
   "execution_count": 96,
   "metadata": {},
   "outputs": [
    {
     "data": {
      "text/html": [
       "<div>\n",
       "<style scoped>\n",
       "    .dataframe tbody tr th:only-of-type {\n",
       "        vertical-align: middle;\n",
       "    }\n",
       "\n",
       "    .dataframe tbody tr th {\n",
       "        vertical-align: top;\n",
       "    }\n",
       "\n",
       "    .dataframe thead th {\n",
       "        text-align: right;\n",
       "    }\n",
       "</style>\n",
       "<table border=\"1\" class=\"dataframe\">\n",
       "  <thead>\n",
       "    <tr style=\"text-align: right;\">\n",
       "      <th></th>\n",
       "      <th>speaker</th>\n",
       "      <th>start</th>\n",
       "      <th>end</th>\n",
       "      <th>text</th>\n",
       "      <th>language</th>\n",
       "      <th>absolute_start_time</th>\n",
       "    </tr>\n",
       "  </thead>\n",
       "  <tbody>\n",
       "    <tr>\n",
       "      <th>0</th>\n",
       "      <td>None</td>\n",
       "      <td>1.10</td>\n",
       "      <td>9.26</td>\n",
       "      <td>так вот конечно пришел это прикрано нам что у нас транскрипции где у нас</td>\n",
       "      <td>ru</td>\n",
       "      <td>2025-09-19T12:02:14.049385+00:00</td>\n",
       "    </tr>\n",
       "    <tr>\n",
       "      <th>1</th>\n",
       "      <td>None</td>\n",
       "      <td>9.26</td>\n",
       "      <td>16.06</td>\n",
       "      <td>транскрипция где она потерялась в каком месте она потерялась в каком месте</td>\n",
       "      <td>ru</td>\n",
       "      <td>2025-09-19T12:02:22.209385+00:00</td>\n",
       "    </tr>\n",
       "    <tr>\n",
       "      <th>2</th>\n",
       "      <td>None</td>\n",
       "      <td>16.06</td>\n",
       "      <td>31.11</td>\n",
       "      <td>месте потерялась транскрипция. What's the place? What's the place? What's the place?</td>\n",
       "      <td>ru</td>\n",
       "      <td>2025-09-19T12:02:29.009385+00:00</td>\n",
       "    </tr>\n",
       "    <tr>\n",
       "      <th>3</th>\n",
       "      <td>None</td>\n",
       "      <td>31.11</td>\n",
       "      <td>38.70</td>\n",
       "      <td>This inscription is lost.</td>\n",
       "      <td>ru</td>\n",
       "      <td>2025-09-19T12:02:44.059385+00:00</td>\n",
       "    </tr>\n",
       "    <tr>\n",
       "      <th>4</th>\n",
       "      <td>None</td>\n",
       "      <td>38.70</td>\n",
       "      <td>43.64</td>\n",
       "      <td>Большой консервный баночник.</td>\n",
       "      <td>ru</td>\n",
       "      <td>2025-09-19T12:02:51.649385+00:00</td>\n",
       "    </tr>\n",
       "    <tr>\n",
       "      <th>5</th>\n",
       "      <td>None</td>\n",
       "      <td>43.64</td>\n",
       "      <td>49.25</td>\n",
       "      <td>Консервированный мой додыр.</td>\n",
       "      <td>ru</td>\n",
       "      <td>2025-09-19T12:02:56.589385+00:00</td>\n",
       "    </tr>\n",
       "    <tr>\n",
       "      <th>6</th>\n",
       "      <td>None</td>\n",
       "      <td>49.25</td>\n",
       "      <td>70.86</td>\n",
       "      <td>Большой консервированный баночник, большой консервированный</td>\n",
       "      <td>ru</td>\n",
       "      <td>2025-09-19T12:03:02.199385+00:00</td>\n",
       "    </tr>\n",
       "    <tr>\n",
       "      <th>7</th>\n",
       "      <td>None</td>\n",
       "      <td>72.55</td>\n",
       "      <td>83.18</td>\n",
       "      <td>большой консервированный мой додырчик</td>\n",
       "      <td>ru</td>\n",
       "      <td>2025-09-19T12:03:25.498385+00:00</td>\n",
       "    </tr>\n",
       "    <tr>\n",
       "      <th>8</th>\n",
       "      <td>None</td>\n",
       "      <td>83.18</td>\n",
       "      <td>87.18</td>\n",
       "      <td>он хотел найти себе пристанище</td>\n",
       "      <td>ru</td>\n",
       "      <td>2025-09-19T12:03:36.128385+00:00</td>\n",
       "    </tr>\n",
       "    <tr>\n",
       "      <th>9</th>\n",
       "      <td>None</td>\n",
       "      <td>87.18</td>\n",
       "      <td>95.52</td>\n",
       "      <td>И он его нашел. Я только одного не могу понять, где у меня транскрипция?</td>\n",
       "      <td>ru</td>\n",
       "      <td>2025-09-19T12:03:40.128385+00:00</td>\n",
       "    </tr>\n",
       "    <tr>\n",
       "      <th>10</th>\n",
       "      <td>None</td>\n",
       "      <td>95.52</td>\n",
       "      <td>118.58</td>\n",
       "      <td>где у меня транскрипция? все работает интересно кино а как оно может вообще работать</td>\n",
       "      <td>ru</td>\n",
       "      <td>2025-09-19T12:03:48.468385+00:00</td>\n",
       "    </tr>\n",
       "    <tr>\n",
       "      <th>11</th>\n",
       "      <td>None</td>\n",
       "      <td>123.47</td>\n",
       "      <td>125.47</td>\n",
       "      <td>Я вообще лидер.</td>\n",
       "      <td>ru</td>\n",
       "      <td>2025-09-19T12:04:16.418385+00:00</td>\n",
       "    </tr>\n",
       "    <tr>\n",
       "      <th>12</th>\n",
       "      <td>None</td>\n",
       "      <td>125.47</td>\n",
       "      <td>135.66</td>\n",
       "      <td>Я ничего не понимаю.</td>\n",
       "      <td>ru</td>\n",
       "      <td>2025-09-19T12:04:18.418385+00:00</td>\n",
       "    </tr>\n",
       "    <tr>\n",
       "      <th>13</th>\n",
       "      <td>None</td>\n",
       "      <td>133.81</td>\n",
       "      <td>141.60</td>\n",
       "      <td>Я ничего не понимаю. По логам я не понимаю ничего.</td>\n",
       "      <td>ru</td>\n",
       "      <td>2025-09-19T12:04:26.758385+00:00</td>\n",
       "    </tr>\n",
       "    <tr>\n",
       "      <th>14</th>\n",
       "      <td>None</td>\n",
       "      <td>148.20</td>\n",
       "      <td>151.84</td>\n",
       "      <td>По логам я не понимаю ничего.</td>\n",
       "      <td>ru</td>\n",
       "      <td>2025-09-19T12:04:41.148385+00:00</td>\n",
       "    </tr>\n",
       "    <tr>\n",
       "      <th>15</th>\n",
       "      <td>None</td>\n",
       "      <td>178.79</td>\n",
       "      <td>179.79</td>\n",
       "      <td>ПРОДОЛЖЕНИЕ ВОЗГЛАСА</td>\n",
       "      <td>ru</td>\n",
       "      <td>2025-09-19T12:05:11.734385+00:00</td>\n",
       "    </tr>\n",
       "  </tbody>\n",
       "</table>\n",
       "</div>"
      ],
      "text/plain": [
       "   speaker                start                  end                                                                                   text language               absolute_start_time\n",
       "0     None                 1.10                 9.26               так вот конечно пришел это прикрано нам что у нас транскрипции где у нас       ru  2025-09-19T12:02:14.049385+00:00\n",
       "1     None                 9.26                16.06             транскрипция где она потерялась в каком месте она потерялась в каком месте       ru  2025-09-19T12:02:22.209385+00:00\n",
       "2     None                16.06                31.11   месте потерялась транскрипция. What's the place? What's the place? What's the place?       ru  2025-09-19T12:02:29.009385+00:00\n",
       "3     None                31.11                38.70                                                              This inscription is lost.       ru  2025-09-19T12:02:44.059385+00:00\n",
       "4     None                38.70                43.64                                                           Большой консервный баночник.       ru  2025-09-19T12:02:51.649385+00:00\n",
       "5     None                43.64                49.25                                                            Консервированный мой додыр.       ru  2025-09-19T12:02:56.589385+00:00\n",
       "6     None                49.25                70.86                            Большой консервированный баночник, большой консервированный       ru  2025-09-19T12:03:02.199385+00:00\n",
       "7     None                72.55                83.18                                                  большой консервированный мой додырчик       ru  2025-09-19T12:03:25.498385+00:00\n",
       "8     None                83.18                87.18                                                         он хотел найти себе пристанище       ru  2025-09-19T12:03:36.128385+00:00\n",
       "9     None                87.18                95.52               И он его нашел. Я только одного не могу понять, где у меня транскрипция?       ru  2025-09-19T12:03:40.128385+00:00\n",
       "10    None                95.52               118.58   где у меня транскрипция? все работает интересно кино а как оно может вообще работать       ru  2025-09-19T12:03:48.468385+00:00\n",
       "11    None               123.47               125.47                                                                        Я вообще лидер.       ru  2025-09-19T12:04:16.418385+00:00\n",
       "12    None               125.47               135.66                                                                   Я ничего не понимаю.       ru  2025-09-19T12:04:18.418385+00:00\n",
       "13    None               133.81               141.60                                     Я ничего не понимаю. По логам я не понимаю ничего.       ru  2025-09-19T12:04:26.758385+00:00\n",
       "14    None               148.20               151.84                                                          По логам я не понимаю ничего.       ru  2025-09-19T12:04:41.148385+00:00\n",
       "15    None               178.79               179.79                                                                   ПРОДОЛЖЕНИЕ ВОЗГЛАСА       ru  2025-09-19T12:05:11.734385+00:00"
      ]
     },
     "metadata": {},
     "output_type": "display_data"
    },
    {
     "ename": "KeyboardInterrupt",
     "evalue": "",
     "output_type": "error",
     "traceback": [
      "\u001b[0;31m---------------------------------------------------------------------------\u001b[0m",
      "\u001b[0;31mKeyboardInterrupt\u001b[0m                         Traceback (most recent call last)",
      "Cell \u001b[0;32mIn[96], line 6\u001b[0m\n\u001b[1;32m      4\u001b[0m clear_output()\n\u001b[1;32m      5\u001b[0m display(df[[\u001b[38;5;124m'\u001b[39m\u001b[38;5;124mspeaker\u001b[39m\u001b[38;5;124m'\u001b[39m,\u001b[38;5;124m'\u001b[39m\u001b[38;5;124mstart\u001b[39m\u001b[38;5;124m'\u001b[39m,\u001b[38;5;124m'\u001b[39m\u001b[38;5;124mend\u001b[39m\u001b[38;5;124m'\u001b[39m,\u001b[38;5;124m'\u001b[39m\u001b[38;5;124mtext\u001b[39m\u001b[38;5;124m'\u001b[39m,\u001b[38;5;124m'\u001b[39m\u001b[38;5;124mlanguage\u001b[39m\u001b[38;5;124m'\u001b[39m,\u001b[38;5;124m'\u001b[39m\u001b[38;5;124mabsolute_start_time\u001b[39m\u001b[38;5;124m'\u001b[39m]]\u001b[38;5;241m.\u001b[39msort_values(\u001b[38;5;124m'\u001b[39m\u001b[38;5;124mabsolute_start_time\u001b[39m\u001b[38;5;124m'\u001b[39m))\n\u001b[0;32m----> 6\u001b[0m time\u001b[38;5;241m.\u001b[39msleep(\u001b[38;5;241m1\u001b[39m)\n",
      "\u001b[0;31mKeyboardInterrupt\u001b[0m: "
     ]
    }
   ],
   "source": [
    "while True:\n",
    "    transcript = client.get_transcript(native_meeting_id=native_meeting_id,platform=platform)\n",
    "    df = pd.DataFrame(transcript['segments'])#.sort_values(['created_at','start'])#.drop_duplicates('start',keep='last')\n",
    "    clear_output()\n",
    "    display(df[['speaker','start','end','text','language','absolute_start_time']].sort_values('absolute_start_time'))\n",
    "    time.sleep(1)"
   ]
  },
  {
   "cell_type": "code",
   "execution_count": 36,
   "metadata": {},
   "outputs": [
    {
     "name": "stdout",
     "output_type": "stream",
     "text": [
      "\n",
      "DEBUG: Making GET request to http://localhost:18056/bots/status\n",
      "DEBUG: Headers: {'Content-Type': 'application/json', 'X-API-Key': 'S7E5XNdwTt4PuvAfMbLQ3IQ9rvKCPdSWe1Z1epsD'}\n",
      "DEBUG: Params: None\n",
      "DEBUG: JSON data: None\n",
      "DEBUG: Response status: 200\n",
      "DEBUG: Response headers: {'date': 'Fri, 19 Sep 2025 11:53:56 GMT, Fri, 19 Sep 2025 11:53:56 GMT', 'server': 'uvicorn, uvicorn', 'content-length': '442', 'content-type': 'application/json'}\n",
      "DEBUG: Response content: {\"running_bots\":[{\"container_id\":\"e300db6e76d9d0166eb399710033e2e3ed61abcade6956671d9f93763001455d\",\"container_name\":\"vexa-bot-519-c694eff3\",\"platform\":\"google_meet\",\"native_meeting_id\":\"uvi-tgzn-hde\",\"status\":\"Up 2 minutes\",\"normalized_status\":\"Up\",\"created_at\":\"2025-09-19T11:51:08+00:00\",\"labels\":{\"org.opencontainers.image.ref.name\":\"ubuntu\",\"org.opencontainers.image.version\":\"22.04\",\"vexa.user_id\":\"225\"},\"meeting_id_from_name\":\"519\"}]}...\n"
     ]
    },
    {
     "data": {
      "text/plain": [
       "[{'container_id': 'e300db6e76d9d0166eb399710033e2e3ed61abcade6956671d9f93763001455d',\n",
       "  'container_name': 'vexa-bot-519-c694eff3',\n",
       "  'platform': 'google_meet',\n",
       "  'native_meeting_id': 'uvi-tgzn-hde',\n",
       "  'status': 'Up 2 minutes',\n",
       "  'normalized_status': 'Up',\n",
       "  'created_at': '2025-09-19T11:51:08+00:00',\n",
       "  'labels': {'org.opencontainers.image.ref.name': 'ubuntu',\n",
       "   'org.opencontainers.image.version': '22.04',\n",
       "   'vexa.user_id': '225'},\n",
       "  'meeting_id_from_name': '519'}]"
      ]
     },
     "execution_count": 36,
     "metadata": {},
     "output_type": "execute_result"
    }
   ],
   "source": [
    "running_bots = client.get_running_bots_status()\n",
    "running_bots"
   ]
  },
  {
   "cell_type": "markdown",
   "metadata": {},
   "source": []
  },
  {
   "cell_type": "code",
   "execution_count": null,
   "metadata": {},
   "outputs": [],
   "source": []
  },
  {
   "cell_type": "code",
   "execution_count": 33,
   "metadata": {},
   "outputs": [
    {
     "name": "stdout",
     "output_type": "stream",
     "text": [
      "\n",
      "DEBUG: Making PUT request to http://localhost:18056/bots/teams/uvi-tgzn-hde/config\n",
      "DEBUG: Headers: {'Content-Type': 'application/json', 'X-API-Key': 'S7E5XNdwTt4PuvAfMbLQ3IQ9rvKCPdSWe1Z1epsD'}\n",
      "DEBUG: Params: None\n",
      "DEBUG: JSON data: {'language': 'en', 'task': 'transcribe'}\n",
      "DEBUG: Response status: 404\n",
      "DEBUG: Response headers: {'date': 'Fri, 19 Sep 2025 11:52:46 GMT, Fri, 19 Sep 2025 11:52:47 GMT', 'server': 'uvicorn, uvicorn', 'content-length': '84', 'content-type': 'application/json'}\n",
      "DEBUG: Response content: {\"detail\":\"No active meeting found for platform teams and meeting ID uvi-tgzn-hde.\"}...\n"
     ]
    },
    {
     "ename": "VexaClientError",
     "evalue": "HTTP Error 404 for PUT http://localhost:18056/bots/teams/uvi-tgzn-hde/config: No active meeting found for platform teams and meeting ID uvi-tgzn-hde.",
     "output_type": "error",
     "traceback": [
      "\u001b[0;31m---------------------------------------------------------------------------\u001b[0m",
      "\u001b[0;31mHTTPError\u001b[0m                                 Traceback (most recent call last)",
      "File \u001b[0;32m~/dev/vexa/vexa_client.py:107\u001b[0m, in \u001b[0;36mVexaClient._request\u001b[0;34m(self, method, path, api_type, params, json_data)\u001b[0m\n\u001b[1;32m    105\u001b[0m     \u001b[38;5;28mprint\u001b[39m(\u001b[38;5;124mf\u001b[39m\u001b[38;5;124m\"\u001b[39m\u001b[38;5;124mDEBUG: Could not display response content\u001b[39m\u001b[38;5;124m\"\u001b[39m)\n\u001b[0;32m--> 107\u001b[0m \u001b[43mresponse\u001b[49m\u001b[38;5;241;43m.\u001b[39;49m\u001b[43mraise_for_status\u001b[49m\u001b[43m(\u001b[49m\u001b[43m)\u001b[49m \u001b[38;5;66;03m# Raise HTTPError for bad responses (4xx or 5xx)\u001b[39;00m\n\u001b[1;32m    109\u001b[0m \u001b[38;5;66;03m# Handle cases where response might be empty (e.g., 204 No Content)\u001b[39;00m\n",
      "File \u001b[0;32m~/anaconda3/envs/vexa/lib/python3.11/site-packages/requests/models.py:1024\u001b[0m, in \u001b[0;36mResponse.raise_for_status\u001b[0;34m(self)\u001b[0m\n\u001b[1;32m   1023\u001b[0m \u001b[38;5;28;01mif\u001b[39;00m http_error_msg:\n\u001b[0;32m-> 1024\u001b[0m     \u001b[38;5;28;01mraise\u001b[39;00m HTTPError(http_error_msg, response\u001b[38;5;241m=\u001b[39m\u001b[38;5;28mself\u001b[39m)\n",
      "\u001b[0;31mHTTPError\u001b[0m: 404 Client Error: Not Found for url: http://localhost:18056/bots/teams/uvi-tgzn-hde/config",
      "\nThe above exception was the direct cause of the following exception:\n",
      "\u001b[0;31mVexaClientError\u001b[0m                           Traceback (most recent call last)",
      "Cell \u001b[0;32mIn[33], line 1\u001b[0m\n\u001b[0;32m----> 1\u001b[0m \u001b[43mclient\u001b[49m\u001b[38;5;241;43m.\u001b[39;49m\u001b[43mupdate_bot_config\u001b[49m\u001b[43m(\u001b[49m\n\u001b[1;32m      2\u001b[0m \u001b[43m    \u001b[49m\u001b[43mplatform\u001b[49m\u001b[38;5;241;43m=\u001b[39;49m\u001b[38;5;124;43m\"\u001b[39;49m\u001b[38;5;124;43mteams\u001b[39;49m\u001b[38;5;124;43m\"\u001b[39;49m\u001b[43m,\u001b[49m\n\u001b[1;32m      3\u001b[0m \u001b[43m    \u001b[49m\u001b[43mnative_meeting_id\u001b[49m\u001b[38;5;241;43m=\u001b[39;49m\u001b[43mnative_meeting_id\u001b[49m\u001b[43m,\u001b[49m\n\u001b[1;32m      4\u001b[0m \u001b[43m    \u001b[49m\u001b[43mlanguage\u001b[49m\u001b[38;5;241;43m=\u001b[39;49m\u001b[38;5;124;43m'\u001b[39;49m\u001b[38;5;124;43men\u001b[39;49m\u001b[38;5;124;43m'\u001b[39;49m\u001b[43m,\u001b[49m\n\u001b[1;32m      5\u001b[0m \u001b[43m    \u001b[49m\u001b[43mtask\u001b[49m\u001b[43m \u001b[49m\u001b[38;5;241;43m=\u001b[39;49m\u001b[43m \u001b[49m\u001b[38;5;124;43m'\u001b[39;49m\u001b[38;5;124;43mtranscribe\u001b[39;49m\u001b[38;5;124;43m'\u001b[39;49m\n\u001b[1;32m      6\u001b[0m \u001b[43m)\u001b[49m\n",
      "File \u001b[0;32m~/dev/vexa/vexa_client.py:236\u001b[0m, in \u001b[0;36mVexaClient.update_bot_config\u001b[0;34m(self, platform, native_meeting_id, language, task)\u001b[0m\n\u001b[1;32m    233\u001b[0m     \u001b[38;5;28;01mraise\u001b[39;00m VexaClientError(\u001b[38;5;124m\"\u001b[39m\u001b[38;5;124mNo configuration updates provided (language or task must be specified).\u001b[39m\u001b[38;5;124m\"\u001b[39m)\n\u001b[1;32m    235\u001b[0m \u001b[38;5;66;03m# _request handles 202 status and returns the JSON body\u001b[39;00m\n\u001b[0;32m--> 236\u001b[0m \u001b[38;5;28;01mreturn\u001b[39;00m \u001b[38;5;28;43mself\u001b[39;49m\u001b[38;5;241;43m.\u001b[39;49m\u001b[43m_request\u001b[49m\u001b[43m(\u001b[49m\u001b[38;5;124;43m\"\u001b[39;49m\u001b[38;5;124;43mPUT\u001b[39;49m\u001b[38;5;124;43m\"\u001b[39;49m\u001b[43m,\u001b[49m\u001b[43m \u001b[49m\u001b[43mpath\u001b[49m\u001b[43m,\u001b[49m\u001b[43m \u001b[49m\u001b[43mapi_type\u001b[49m\u001b[38;5;241;43m=\u001b[39;49m\u001b[38;5;124;43m'\u001b[39;49m\u001b[38;5;124;43muser\u001b[39;49m\u001b[38;5;124;43m'\u001b[39;49m\u001b[43m,\u001b[49m\u001b[43m \u001b[49m\u001b[43mjson_data\u001b[49m\u001b[38;5;241;43m=\u001b[39;49m\u001b[43mpayload\u001b[49m\u001b[43m)\u001b[49m\n",
      "File \u001b[0;32m~/dev/vexa/vexa_client.py:123\u001b[0m, in \u001b[0;36mVexaClient._request\u001b[0;34m(self, method, path, api_type, params, json_data)\u001b[0m\n\u001b[1;32m    121\u001b[0m     \u001b[38;5;28;01mexcept\u001b[39;00m requests\u001b[38;5;241m.\u001b[39mexceptions\u001b[38;5;241m.\u001b[39mJSONDecodeError:\n\u001b[1;32m    122\u001b[0m         detail_msg \u001b[38;5;241m=\u001b[39m e\u001b[38;5;241m.\u001b[39mresponse\u001b[38;5;241m.\u001b[39mtext\n\u001b[0;32m--> 123\u001b[0m     \u001b[38;5;28;01mraise\u001b[39;00m VexaClientError(\u001b[38;5;124mf\u001b[39m\u001b[38;5;124m\"\u001b[39m\u001b[38;5;124mHTTP Error \u001b[39m\u001b[38;5;132;01m{\u001b[39;00me\u001b[38;5;241m.\u001b[39mresponse\u001b[38;5;241m.\u001b[39mstatus_code\u001b[38;5;132;01m}\u001b[39;00m\u001b[38;5;124m for \u001b[39m\u001b[38;5;132;01m{\u001b[39;00mmethod\u001b[38;5;132;01m}\u001b[39;00m\u001b[38;5;124m \u001b[39m\u001b[38;5;132;01m{\u001b[39;00murl\u001b[38;5;132;01m}\u001b[39;00m\u001b[38;5;124m: \u001b[39m\u001b[38;5;132;01m{\u001b[39;00mdetail_msg\u001b[38;5;132;01m}\u001b[39;00m\u001b[38;5;124m\"\u001b[39m) \u001b[38;5;28;01mfrom\u001b[39;00m \u001b[38;5;21;01me\u001b[39;00m\n\u001b[1;32m    124\u001b[0m \u001b[38;5;28;01mexcept\u001b[39;00m requests\u001b[38;5;241m.\u001b[39mexceptions\u001b[38;5;241m.\u001b[39mRequestException \u001b[38;5;28;01mas\u001b[39;00m e:\n\u001b[1;32m    125\u001b[0m     \u001b[38;5;28;01mraise\u001b[39;00m VexaClientError(\u001b[38;5;124mf\u001b[39m\u001b[38;5;124m\"\u001b[39m\u001b[38;5;124mRequest failed for \u001b[39m\u001b[38;5;132;01m{\u001b[39;00mmethod\u001b[38;5;132;01m}\u001b[39;00m\u001b[38;5;124m \u001b[39m\u001b[38;5;132;01m{\u001b[39;00murl\u001b[38;5;132;01m}\u001b[39;00m\u001b[38;5;124m: \u001b[39m\u001b[38;5;132;01m{\u001b[39;00me\u001b[38;5;132;01m}\u001b[39;00m\u001b[38;5;124m\"\u001b[39m) \u001b[38;5;28;01mfrom\u001b[39;00m \u001b[38;5;21;01me\u001b[39;00m\n",
      "\u001b[0;31mVexaClientError\u001b[0m: HTTP Error 404 for PUT http://localhost:18056/bots/teams/uvi-tgzn-hde/config: No active meeting found for platform teams and meeting ID uvi-tgzn-hde."
     ]
    }
   ],
   "source": [
    "client.update_bot_config(\n",
    "    platform=\"teams\",\n",
    "    native_meeting_id=native_meeting_id,\n",
    "    language='en',\n",
    "    task = 'transcribe'\n",
    ")"
   ]
  },
  {
   "cell_type": "markdown",
   "metadata": {},
   "source": []
  },
  {
   "cell_type": "code",
   "execution_count": 33,
   "metadata": {},
   "outputs": [
    {
     "name": "stdout",
     "output_type": "stream",
     "text": [
      "\n",
      "DEBUG: Making PATCH request to http://localhost:18056/meetings/google_meet/xdy-txjo-fyh\n",
      "DEBUG: Headers: {'Content-Type': 'application/json', 'X-API-Key': 'aQGEy4cX1XN9l60QOEsWKcWWKNNc0prjYUu7pkhw'}\n",
      "DEBUG: Params: None\n",
      "DEBUG: JSON data: {'data': {'name': 'Test Meeting'}}\n",
      "DEBUG: Response status: 200\n",
      "DEBUG: Response headers: {'date': 'Sun, 08 Jun 2025 15:06:06 GMT, Sun, 08 Jun 2025 15:06:06 GMT', 'server': 'uvicorn, uvicorn', 'content-length': '449', 'content-type': 'application/json'}\n",
      "DEBUG: Response content: {\"id\":5,\"user_id\":6,\"platform\":\"google_meet\",\"native_meeting_id\":\"xdy-txjo-fyh\",\"constructed_meeting_url\":\"https://meet.google.com/xdy-txjo-fyh\",\"status\":\"completed\",\"bot_container_id\":\"7edd0e3d1b1aa9f8f668a0c84447889c36a8c4cb974ca15b80654d00c9a083bf\",\"start_time\":\"2025-06-08T15:01:10.681410\",\"end_time\":\"2025-06-08T15:02:05.246022\",\"data\":{\"name\":\"Test Meeting\"},\"created_at\":\"2025-06-08T15:01:10.280791\",\"updated_at\":\"2025-06-08T15:06:07.017651\"}...\n"
     ]
    },
    {
     "data": {
      "text/plain": [
       "{'id': 5,\n",
       " 'user_id': 6,\n",
       " 'platform': 'google_meet',\n",
       " 'native_meeting_id': 'xdy-txjo-fyh',\n",
       " 'constructed_meeting_url': 'https://meet.google.com/xdy-txjo-fyh',\n",
       " 'status': 'completed',\n",
       " 'bot_container_id': '7edd0e3d1b1aa9f8f668a0c84447889c36a8c4cb974ca15b80654d00c9a083bf',\n",
       " 'start_time': '2025-06-08T15:01:10.681410',\n",
       " 'end_time': '2025-06-08T15:02:05.246022',\n",
       " 'data': {'name': 'Test Meeting'},\n",
       " 'created_at': '2025-06-08T15:01:10.280791',\n",
       " 'updated_at': '2025-06-08T15:06:07.017651'}"
      ]
     },
     "execution_count": 33,
     "metadata": {},
     "output_type": "execute_result"
    }
   ],
   "source": [
    "client.update_meeting_data(\n",
    "    platform=\"google_meet\",\n",
    "    native_meeting_id=native_meeting_id,\n",
    "    name=\"Test Meeting\",\n",
    ")"
   ]
  },
  {
   "cell_type": "code",
   "execution_count": 32,
   "metadata": {},
   "outputs": [
    {
     "name": "stdout",
     "output_type": "stream",
     "text": [
      "\n",
      "DEBUG: Making DELETE request to http://localhost:18056/meetings/google_meet/xdy-txjo-fyh\n",
      "DEBUG: Headers: {'Content-Type': 'application/json', 'X-API-Key': 'aQGEy4cX1XN9l60QOEsWKcWWKNNc0prjYUu7pkhw'}\n",
      "DEBUG: Params: None\n",
      "DEBUG: JSON data: None\n",
      "DEBUG: Response status: 200\n",
      "DEBUG: Response headers: {'date': 'Sun, 08 Jun 2025 15:06:02 GMT, Sun, 08 Jun 2025 15:06:02 GMT', 'server': 'uvicorn, uvicorn', 'content-length': '88', 'content-type': 'application/json'}\n",
      "DEBUG: Response content: {\"message\":\"Meeting google_meet/xdy-txjo-fyh and all its transcripts have been deleted\"}...\n"
     ]
    },
    {
     "data": {
      "text/plain": [
       "{'message': 'Meeting google_meet/xdy-txjo-fyh and all its transcripts have been deleted'}"
      ]
     },
     "execution_count": 32,
     "metadata": {},
     "output_type": "execute_result"
    }
   ],
   "source": [
    "client.delete_meeting(\n",
    "    platform=\"google_meet\",\n",
    "    native_meeting_id=native_meeting_id,\n",
    ")"
   ]
  },
  {
   "cell_type": "code",
   "execution_count": null,
   "metadata": {},
   "outputs": [],
   "source": []
  }
 ],
 "metadata": {
  "kernelspec": {
   "display_name": "vexa",
   "language": "python",
   "name": "python3"
  },
  "language_info": {
   "codemirror_mode": {
    "name": "ipython",
    "version": 3
   },
   "file_extension": ".py",
   "mimetype": "text/x-python",
   "name": "python",
   "nbconvert_exporter": "python",
   "pygments_lexer": "ipython3",
   "version": "3.11.10"
  }
 },
 "nbformat": 4,
 "nbformat_minor": 2
}
