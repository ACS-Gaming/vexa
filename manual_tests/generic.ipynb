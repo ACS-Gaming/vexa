{
 "cells": [
  {
   "cell_type": "code",
   "execution_count": 1,
   "metadata": {},
   "outputs": [
    {
     "name": "stdout",
     "output_type": "stream",
     "text": [
      "Imported VexaClient from: vexa_client\n",
      "VexaClient file location: Unknown\n"
     ]
    }
   ],
   "source": [
    "import sys\n",
    "import os\n",
    "\n",
    "# Add the parent directory to Python path to import local vexa_client\n",
    "sys.path.insert(0, os.path.abspath('..'))\n",
    "\n",
    "# Now import the local development version\n",
    "from vexa_client import VexaClient\n",
    "\n",
    "print(f\"Imported VexaClient from: {VexaClient.__module__}\")\n",
    "print(f\"VexaClient file location: {VexaClient.__module__.__file__ if hasattr(VexaClient.__module__, '__file__') else 'Unknown'}\")\n"
   ]
  },
  {
   "cell_type": "code",
   "execution_count": 2,
   "metadata": {},
   "outputs": [
    {
     "name": "stdout",
     "output_type": "stream",
     "text": [
      "request_bot method signature:\n",
      "(self, platform: str, native_meeting_id: str, bot_name: Optional[str] = None, language: Optional[str] = None, task: Optional[str] = None, passcode: Optional[str] = None) -> Dict[str, Any]\n",
      "✅ passcode parameter is available!\n"
     ]
    }
   ],
   "source": [
    "# Verify the request_bot method signature includes passcode parameter\n",
    "import inspect\n",
    "\n",
    "sig = inspect.signature(VexaClient.request_bot)\n",
    "print(\"request_bot method signature:\")\n",
    "print(sig)\n",
    "\n",
    "# Check if passcode parameter exists\n",
    "if 'passcode' in sig.parameters:\n",
    "    print(\"✅ passcode parameter is available!\")\n",
    "else:\n",
    "    print(\"❌ passcode parameter is missing!\")\n"
   ]
  },
  {
   "cell_type": "code",
   "execution_count": 16,
   "metadata": {},
   "outputs": [
    {
     "data": {
      "text/plain": [
       "1"
      ]
     },
     "execution_count": 16,
     "metadata": {},
     "output_type": "execute_result"
    }
   ],
   "source": [
    "1"
   ]
  },
  {
   "cell_type": "code",
   "execution_count": 3,
   "metadata": {},
   "outputs": [],
   "source": [
    "import pandas as pd\n",
    "pd.options.display.max_colwidth = 1000\n",
    "pd.set_option('display.max_colwidth', 1000)\n",
    "pd.set_option('display.max_rows', 1000)\n",
    "pd.set_option('display.max_columns', 1000)\n",
    "pd.set_option('display.width', 1000)\n",
    "pd.set_option('display.float_format', '{:20.2f}'.format)\n",
    "pd.set_option('display.max_colwidth', 1000)\n",
    "pd.set_option('display.max_rows', 1000)\n",
    "pd.set_option('display.max_columns', 1000)\n",
    "from IPython.display import clear_output,display"
   ]
  },
  {
   "cell_type": "code",
   "execution_count": 4,
   "metadata": {},
   "outputs": [],
   "source": [
    "from vexa_client import VexaClient"
   ]
  },
  {
   "cell_type": "code",
   "execution_count": 5,
   "metadata": {},
   "outputs": [],
   "source": [
    "import importlib\n",
    "import sys\n",
    "\n",
    "# Remove the module from cache if it exists\n",
    "if 'vexa_client' in sys.modules:\n",
    "    del sys.modules['vexa_client']\n",
    "\n",
    "# Re-import\n",
    "from vexa_client import VexaClient"
   ]
  },
  {
   "cell_type": "code",
   "execution_count": 6,
   "metadata": {},
   "outputs": [],
   "source": [
    "# Load environment variables from .env file\n",
    "from dotenv import load_dotenv\n",
    "\n",
    "# Load .env file\n",
    "load_dotenv()\n",
    "import random\n",
    "\n",
    "import os\n",
    "from vexa_client import VexaClient\n",
    "\n",
    "import os\n",
    "TOKEN = os.getenv('ADMIN_API_TOKEN')\n",
    "url = \"http://localhost:18056\"\n",
    "admin_client = VexaClient(\n",
    "    base_url=url,\n",
    "    admin_key=TOKEN  # From docker-compose.yml\n",
    ")\n",
    "\n",
    "import time"
   ]
  },
  {
   "cell_type": "code",
   "execution_count": 7,
   "metadata": {},
   "outputs": [
    {
     "name": "stdout",
     "output_type": "stream",
     "text": [
      "\n",
      "DEBUG: Making POST request to http://localhost:18056/admin/users\n",
      "DEBUG: Headers: {'Content-Type': 'application/json', 'X-Admin-API-Key': 'token'}\n",
      "DEBUG: Params: None\n",
      "DEBUG: JSON data: {'email': '743444@example.com', 'name': 'test', 'max_concurrent_bots': 1}\n",
      "DEBUG: Response status: 201\n",
      "DEBUG: Response headers: {'date': 'Thu, 18 Sep 2025 20:30:57 GMT, Thu, 18 Sep 2025 20:30:56 GMT', 'server': 'uvicorn, uvicorn', 'content-length': '146', 'content-type': 'application/json'}\n",
      "DEBUG: Response content: {\"email\":\"743444@example.com\",\"name\":\"test\",\"image_url\":null,\"max_concurrent_bots\":1,\"data\":{},\"id\":223,\"created_at\":\"2025-09-18T20:30:57.639510\"}...\n"
     ]
    }
   ],
   "source": [
    "new_user = admin_client.create_user(email=f\"{random.randint(1, 1000000)}@example.com\", \n",
    "                                    name=\"test\",\n",
    "                                    max_concurrent_bots=1)\n"
   ]
  },
  {
   "cell_type": "code",
   "execution_count": 15,
   "metadata": {},
   "outputs": [
    {
     "data": {
      "text/plain": [
       "'FLuMMaMPtLgPDMMLqAeJHnuFZZhfg5PB6i2KC4Vg'"
      ]
     },
     "execution_count": 15,
     "metadata": {},
     "output_type": "execute_result"
    }
   ],
   "source": [
    "user_api_key"
   ]
  },
  {
   "cell_type": "code",
   "execution_count": 8,
   "metadata": {},
   "outputs": [
    {
     "name": "stdout",
     "output_type": "stream",
     "text": [
      "\n",
      "DEBUG: Making POST request to http://localhost:18056/admin/users/223/tokens\n",
      "DEBUG: Headers: {'Content-Type': 'application/json', 'X-Admin-API-Key': 'token'}\n",
      "DEBUG: Params: None\n",
      "DEBUG: JSON data: None\n",
      "DEBUG: Response status: 201\n",
      "DEBUG: Response headers: {'date': 'Thu, 18 Sep 2025 20:31:03 GMT, Thu, 18 Sep 2025 20:31:02 GMT', 'server': 'uvicorn, uvicorn', 'content-length': '117', 'content-type': 'application/json'}\n",
      "DEBUG: Response content: {\"user_id\":223,\"id\":265,\"token\":\"FLuMMaMPtLgPDMMLqAeJHnuFZZhfg5PB6i2KC4Vg\",\"created_at\":\"2025-09-18T20:31:03.355111\"}...\n"
     ]
    }
   ],
   "source": [
    "\n",
    "user_id = new_user['id']\n",
    "user_id\n",
    "token_info = admin_client.create_token(user_id=user_id)\n",
    "user_api_key = token_info['token']\n",
    "client = VexaClient(\n",
    "    base_url=url,\n",
    "    api_key=user_api_key\n",
    ")"
   ]
  },
  {
   "cell_type": "code",
   "execution_count": 9,
   "metadata": {},
   "outputs": [
    {
     "name": "stdout",
     "output_type": "stream",
     "text": [
      "\n",
      "DEBUG: Making PUT request to http://localhost:18056/user/webhook\n",
      "DEBUG: Headers: {'Content-Type': 'application/json', 'X-API-Key': 'FLuMMaMPtLgPDMMLqAeJHnuFZZhfg5PB6i2KC4Vg'}\n",
      "DEBUG: Params: None\n",
      "DEBUG: JSON data: {'webhook_url': 'https://webhook-test.com/e79be735cf3e9bc0c98ca068beaac1f3'}\n",
      "DEBUG: Response status: 200\n",
      "DEBUG: Response headers: {'date': 'Thu, 18 Sep 2025 20:31:05 GMT, Thu, 18 Sep 2025 20:31:04 GMT', 'server': 'uvicorn, uvicorn', 'content-length': '219', 'content-type': 'application/json'}\n",
      "DEBUG: Response content: {\"email\":\"743444@example.com\",\"name\":\"test\",\"image_url\":null,\"max_concurrent_bots\":1,\"data\":{\"webhook_url\":\"https://webhook-test.com/e79be735cf3e9bc0c98ca068beaac1f3\"},\"id\":223,\"created_at\":\"2025-09-18T20:30:57.639510\"}...\n"
     ]
    },
    {
     "data": {
      "text/plain": [
       "{'email': '743444@example.com',\n",
       " 'name': 'test',\n",
       " 'image_url': None,\n",
       " 'max_concurrent_bots': 1,\n",
       " 'data': {'webhook_url': 'https://webhook-test.com/e79be735cf3e9bc0c98ca068beaac1f3'},\n",
       " 'id': 223,\n",
       " 'created_at': '2025-09-18T20:30:57.639510'}"
      ]
     },
     "execution_count": 9,
     "metadata": {},
     "output_type": "execute_result"
    }
   ],
   "source": [
    "client.set_webhook_url(\"https://webhook-test.com/e79be735cf3e9bc0c98ca068beaac1f3\")"
   ]
  },
  {
   "cell_type": "code",
   "execution_count": 10,
   "metadata": {},
   "outputs": [],
   "source": [
    "# client = VexaClient(\n",
    "#     base_url=url,\n",
    "#     api_key='rzwFUoj4hoZq0p9SD7MnfDrEGjDe4Hfr7rBp34CS'\n",
    "# )"
   ]
  },
  {
   "cell_type": "code",
   "execution_count": 11,
   "metadata": {},
   "outputs": [],
   "source": [
    "\n",
    "#meeting_url=\"https://meet.google.com/guu-axxy-tze\"\n"
   ]
  },
  {
   "cell_type": "code",
   "execution_count": 12,
   "metadata": {},
   "outputs": [],
   "source": [
    "import re\n",
    "split_teams_url = lambda url: (re.search(r'/meet/(\\d+)', url).group(1), re.search(r'\\?p=([^&]+)', url).group(1) if '?p=' in url else '')"
   ]
  },
  {
   "cell_type": "code",
   "execution_count": 17,
   "metadata": {},
   "outputs": [],
   "source": [
    "meeting_url=\"https://meet.google.com/uvi-tgzn-hde\"\n",
    "platform = 'google_meet'\n",
    "native_meeting_id = meeting_url.split(\"/\")[-1]\n",
    "passcode = None\n"
   ]
  },
  {
   "cell_type": "code",
   "execution_count": 14,
   "metadata": {},
   "outputs": [],
   "source": [
    "meeting_url=\"https://teams.live.com/meet/9327884808517?p=zCmPHnrCLiXtY5atOp\"\n",
    "platform = 'teams'\n",
    "native_meeting_id, passcode = split_teams_url(meeting_url)\n"
   ]
  },
  {
   "cell_type": "code",
   "execution_count": 12,
   "metadata": {},
   "outputs": [
    {
     "name": "stdout",
     "output_type": "stream",
     "text": [
      "Constructed URL: https://meet.google.com/pwf-cnat-aiz\n"
     ]
    },
    {
     "name": "stderr",
     "output_type": "stream",
     "text": [
      "/home/dima/anaconda3/envs/vexa/lib/python3.11/site-packages/pydantic/_internal/_config.py:373: UserWarning: Valid config keys have changed in V2:\n",
      "* 'orm_mode' has been renamed to 'from_attributes'\n",
      "  warnings.warn(message, UserWarning)\n",
      "/home/dima/anaconda3/envs/vexa/lib/python3.11/site-packages/pydantic/_internal/_config.py:373: UserWarning: Valid config keys have changed in V2:\n",
      "* 'allow_population_by_field_name' has been renamed to 'validate_by_name'\n",
      "* 'orm_mode' has been renamed to 'from_attributes'\n",
      "  warnings.warn(message, UserWarning)\n"
     ]
    }
   ],
   "source": [
    "\n",
    "# Test the URL construction locally\n",
    "sys.path.insert(0, os.path.abspath('../libs/shared-models'))\n",
    "from shared_models.schemas import Platform\n",
    "try:\n",
    "    constructed_url = Platform.construct_meeting_url(platform, native_meeting_id, passcode)\n",
    "    print(f\"Constructed URL: {constructed_url}\")\n",
    "except Exception as e:\n",
    "    print(f\"URL construction failed: {e}\")\n"
   ]
  },
  {
   "cell_type": "code",
   "execution_count": 19,
   "metadata": {},
   "outputs": [
    {
     "data": {
      "text/plain": [
       "'uvi-tgzn-hde'"
      ]
     },
     "execution_count": 19,
     "metadata": {},
     "output_type": "execute_result"
    }
   ],
   "source": [
    "native_meeting_id"
   ]
  },
  {
   "cell_type": "code",
   "execution_count": 18,
   "metadata": {},
   "outputs": [
    {
     "name": "stdout",
     "output_type": "stream",
     "text": [
      "\n",
      "DEBUG: Making POST request to http://localhost:18056/bots\n",
      "DEBUG: Headers: {'Content-Type': 'application/json', 'X-API-Key': 'eWcr422cwJhMV0XbYYEoGzXkRta339yYJgzUtzSK'}\n",
      "DEBUG: Params: None\n",
      "DEBUG: JSON data: {'platform': 'teams', 'native_meeting_id': '9327884808517', 'bot_name': \"Dmitry's bot\", 'language': 'ru', 'task': 'transcribe', 'passcode': 'zCmPHnrCLiXtY5atOp'}\n",
      "DEBUG: Response status: 201\n",
      "DEBUG: Response headers: {'date': 'Thu, 18 Sep 2025 16:48:42 GMT, Thu, 18 Sep 2025 16:48:42 GMT', 'server': 'uvicorn, uvicorn', 'content-length': '415', 'content-type': 'application/json'}\n",
      "DEBUG: Response content: {\"id\":499,\"user_id\":221,\"platform\":\"teams\",\"native_meeting_id\":\"9327884808517\",\"constructed_meeting_url\":\"https://teams.live.com/meet/9327884808517\",\"status\":\"requested\",\"bot_container_id\":\"cbac6e84d3fd44f238b4dc14c67f9e24fe438956d85b9880c2a559bd8d2691df\",\"start_time\":null,\"end_time\":null,\"data\":{\"passcode\":\"zCmPHnrCLiXtY5atOp\"},\"created_at\":\"2025-09-18T16:48:42.986781\",\"updated_at\":\"2025-09-18T16:48:42.994709\"}...\n"
     ]
    }
   ],
   "source": [
    "\n",
    "meeting_info = client.request_bot(\n",
    "    platform=platform,\n",
    "    native_meeting_id=native_meeting_id,\n",
    "    bot_name=\"Dmitry's bot\",\n",
    "    language='ru',\n",
    "    task = 'transcribe',\n",
    "    passcode=passcode\n",
    ")\n",
    "meeting_id = meeting_info['id']"
   ]
  },
  {
   "cell_type": "code",
   "execution_count": 14,
   "metadata": {},
   "outputs": [
    {
     "name": "stdout",
     "output_type": "stream",
     "text": [
      "\n",
      "DEBUG: Making GET request to http://localhost:18056/meetings\n",
      "DEBUG: Headers: {'Content-Type': 'application/json', 'X-API-Key': 'B0iOWOYx8mxxdYV9nUsvbye83NtdEPPUrqe7ybA9'}\n",
      "DEBUG: Params: None\n",
      "DEBUG: JSON data: None\n",
      "DEBUG: Response status: 200\n",
      "DEBUG: Response headers: {'date': 'Thu, 18 Sep 2025 19:25:13 GMT, Thu, 18 Sep 2025 19:25:14 GMT', 'server': 'uvicorn, uvicorn', 'content-length': '497', 'content-type': 'application/json'}\n",
      "DEBUG: Response content: {\"meetings\":[{\"id\":500,\"user_id\":222,\"platform\":\"google_meet\",\"native_meeting_id\":\"pwf-cnat-aiz\",\"constructed_meeting_url\":\"https://meet.google.com/pwf-cnat-aiz\",\"status\":\"active\",\"bot_container_id\":\"vexa-bot-500-b658c4d3\",\"start_time\":\"2025-09-18T19:24:26.091115\",\"end_time\":null,\"data\":{\"status_transition\":{\"to\":\"joining\",\"from\":\"requested\",\"source\":\"bot_callback\",\"timestamp\":\"2025-09-18T19:24:10.399021\"}},\"created_at\":\"2025-09-18T19:24:07.306785\",\"updated_at\":\"2025-09-18T19:24:26.090542\"}]}...\n"
     ]
    },
    {
     "data": {
      "text/plain": [
       "'active'"
      ]
     },
     "execution_count": 14,
     "metadata": {},
     "output_type": "execute_result"
    }
   ],
   "source": [
    "meetings = client.get_meetings()\n",
    "meetings[0]['status']"
   ]
  },
  {
   "cell_type": "code",
   "execution_count": 25,
   "metadata": {},
   "outputs": [
    {
     "name": "stdout",
     "output_type": "stream",
     "text": [
      "\n",
      "DEBUG: Making DELETE request to http://localhost:18056/bots/teams/9327884808517\n",
      "DEBUG: Headers: {'Content-Type': 'application/json', 'X-API-Key': 'eWcr422cwJhMV0XbYYEoGzXkRta339yYJgzUtzSK'}\n",
      "DEBUG: Params: None\n",
      "DEBUG: JSON data: None\n",
      "DEBUG: Response status: 202\n",
      "DEBUG: Response headers: {'date': 'Thu, 18 Sep 2025 17:00:22 GMT, Thu, 18 Sep 2025 17:00:22 GMT', 'server': 'uvicorn, uvicorn', 'content-length': '59', 'content-type': 'application/json'}\n",
      "DEBUG: Response content: {\"message\":\"Stop request accepted and is being processed.\"}...\n"
     ]
    },
    {
     "data": {
      "text/plain": [
       "{'message': 'Stop request accepted and is being processed.'}"
      ]
     },
     "execution_count": 25,
     "metadata": {},
     "output_type": "execute_result"
    }
   ],
   "source": [
    "client.stop_bot(platform=platform,native_meeting_id=native_meeting_id)"
   ]
  },
  {
   "cell_type": "code",
   "execution_count": 104,
   "metadata": {},
   "outputs": [
    {
     "data": {
      "text/plain": [
       "219"
      ]
     },
     "execution_count": 104,
     "metadata": {},
     "output_type": "execute_result"
    }
   ],
   "source": [
    "user_id"
   ]
  },
  {
   "cell_type": "code",
   "execution_count": null,
   "metadata": {},
   "outputs": [],
   "source": [
    "#cd /home/dima/dev/vexa && python tests/ws_test.py --url ws://localhost:18056/ws --api-key eWcr422cwJhMV0XbYYEoGzXkRta339yYJgzUtzSK --platform teams --native-id 9327884808517"
   ]
  },
  {
   "cell_type": "code",
   "execution_count": 15,
   "metadata": {},
   "outputs": [
    {
     "data": {
      "text/html": [
       "<div>\n",
       "<style scoped>\n",
       "    .dataframe tbody tr th:only-of-type {\n",
       "        vertical-align: middle;\n",
       "    }\n",
       "\n",
       "    .dataframe tbody tr th {\n",
       "        vertical-align: top;\n",
       "    }\n",
       "\n",
       "    .dataframe thead th {\n",
       "        text-align: right;\n",
       "    }\n",
       "</style>\n",
       "<table border=\"1\" class=\"dataframe\">\n",
       "  <thead>\n",
       "    <tr style=\"text-align: right;\">\n",
       "      <th></th>\n",
       "      <th>speaker</th>\n",
       "      <th>start</th>\n",
       "      <th>end</th>\n",
       "      <th>text</th>\n",
       "      <th>language</th>\n",
       "      <th>absolute_start_time</th>\n",
       "    </tr>\n",
       "  </thead>\n",
       "  <tbody>\n",
       "    <tr>\n",
       "      <th>0</th>\n",
       "      <td>Dmitriy Grankin</td>\n",
       "      <td>0.00</td>\n",
       "      <td>5.64</td>\n",
       "      <td>5 6 7 8 9 10 11 12 13 14 15 16</td>\n",
       "      <td>ru</td>\n",
       "      <td>2025-09-18T19:24:26.169844+00:00</td>\n",
       "    </tr>\n",
       "    <tr>\n",
       "      <th>1</th>\n",
       "      <td>Dmitriy Grankin</td>\n",
       "      <td>5.64</td>\n",
       "      <td>11.57</td>\n",
       "      <td>17, 18, 19, 20, 21, 22.</td>\n",
       "      <td>ru</td>\n",
       "      <td>2025-09-18T19:24:31.809844+00:00</td>\n",
       "    </tr>\n",
       "    <tr>\n",
       "      <th>2</th>\n",
       "      <td>Dmitriy Grankin</td>\n",
       "      <td>16.19</td>\n",
       "      <td>17.19</td>\n",
       "      <td>23.</td>\n",
       "      <td>ru</td>\n",
       "      <td>2025-09-18T19:24:42.359844+00:00</td>\n",
       "    </tr>\n",
       "    <tr>\n",
       "      <th>3</th>\n",
       "      <td>Dmitriy Grankin</td>\n",
       "      <td>17.19</td>\n",
       "      <td>18.19</td>\n",
       "      <td>24</td>\n",
       "      <td>ru</td>\n",
       "      <td>2025-09-18T19:24:43.359844+00:00</td>\n",
       "    </tr>\n",
       "    <tr>\n",
       "      <th>4</th>\n",
       "      <td>None</td>\n",
       "      <td>18.19</td>\n",
       "      <td>18.30</td>\n",
       "      <td>25</td>\n",
       "      <td>ru</td>\n",
       "      <td>2025-09-18T19:24:44.359844+00:00</td>\n",
       "    </tr>\n",
       "    <tr>\n",
       "      <th>5</th>\n",
       "      <td>Dmitriy Grankin</td>\n",
       "      <td>18.30</td>\n",
       "      <td>26.94</td>\n",
       "      <td>1, 2, 3, 4, 5, 6, 7, 8, 9, 10, 11, 12, 13, 14, 17, 18, 19, 20.</td>\n",
       "      <td>ru</td>\n",
       "      <td>2025-09-18T19:24:44.465844+00:00</td>\n",
       "    </tr>\n",
       "    <tr>\n",
       "      <th>6</th>\n",
       "      <td>Dmitriy Grankin</td>\n",
       "      <td>57.18</td>\n",
       "      <td>60.18</td>\n",
       "      <td>какие-то дела, какие-то дела.</td>\n",
       "      <td>ru</td>\n",
       "      <td>2025-09-18T19:25:23.353844+00:00</td>\n",
       "    </tr>\n",
       "  </tbody>\n",
       "</table>\n",
       "</div>"
      ],
      "text/plain": [
       "           speaker                start                  end                                                             text language               absolute_start_time\n",
       "0  Dmitriy Grankin                 0.00                 5.64                                   5 6 7 8 9 10 11 12 13 14 15 16       ru  2025-09-18T19:24:26.169844+00:00\n",
       "1  Dmitriy Grankin                 5.64                11.57                                          17, 18, 19, 20, 21, 22.       ru  2025-09-18T19:24:31.809844+00:00\n",
       "2  Dmitriy Grankin                16.19                17.19                                                              23.       ru  2025-09-18T19:24:42.359844+00:00\n",
       "3  Dmitriy Grankin                17.19                18.19                                                               24       ru  2025-09-18T19:24:43.359844+00:00\n",
       "4             None                18.19                18.30                                                               25       ru  2025-09-18T19:24:44.359844+00:00\n",
       "5  Dmitriy Grankin                18.30                26.94   1, 2, 3, 4, 5, 6, 7, 8, 9, 10, 11, 12, 13, 14, 17, 18, 19, 20.       ru  2025-09-18T19:24:44.465844+00:00\n",
       "6  Dmitriy Grankin                57.18                60.18                                    какие-то дела, какие-то дела.       ru  2025-09-18T19:25:23.353844+00:00"
      ]
     },
     "metadata": {},
     "output_type": "display_data"
    },
    {
     "ename": "KeyboardInterrupt",
     "evalue": "",
     "output_type": "error",
     "traceback": [
      "\u001b[0;31m---------------------------------------------------------------------------\u001b[0m",
      "\u001b[0;31mKeyboardInterrupt\u001b[0m                         Traceback (most recent call last)",
      "Cell \u001b[0;32mIn[15], line 6\u001b[0m\n\u001b[1;32m      4\u001b[0m clear_output()\n\u001b[1;32m      5\u001b[0m display(df[[\u001b[38;5;124m'\u001b[39m\u001b[38;5;124mspeaker\u001b[39m\u001b[38;5;124m'\u001b[39m,\u001b[38;5;124m'\u001b[39m\u001b[38;5;124mstart\u001b[39m\u001b[38;5;124m'\u001b[39m,\u001b[38;5;124m'\u001b[39m\u001b[38;5;124mend\u001b[39m\u001b[38;5;124m'\u001b[39m,\u001b[38;5;124m'\u001b[39m\u001b[38;5;124mtext\u001b[39m\u001b[38;5;124m'\u001b[39m,\u001b[38;5;124m'\u001b[39m\u001b[38;5;124mlanguage\u001b[39m\u001b[38;5;124m'\u001b[39m,\u001b[38;5;124m'\u001b[39m\u001b[38;5;124mabsolute_start_time\u001b[39m\u001b[38;5;124m'\u001b[39m]]\u001b[38;5;241m.\u001b[39msort_values(\u001b[38;5;124m'\u001b[39m\u001b[38;5;124mabsolute_start_time\u001b[39m\u001b[38;5;124m'\u001b[39m))\n\u001b[0;32m----> 6\u001b[0m time\u001b[38;5;241m.\u001b[39msleep(\u001b[38;5;241m1\u001b[39m)\n",
      "\u001b[0;31mKeyboardInterrupt\u001b[0m: "
     ]
    }
   ],
   "source": [
    "while True:\n",
    "    transcript = client.get_transcript(native_meeting_id=native_meeting_id,platform=platform)\n",
    "    df = pd.DataFrame(transcript['segments'])#.sort_values(['created_at','start'])#.drop_duplicates('start',keep='last')\n",
    "    clear_output()\n",
    "    display(df[['speaker','start','end','text','language','absolute_start_time']].sort_values('absolute_start_time'))\n",
    "    time.sleep(1)"
   ]
  },
  {
   "cell_type": "code",
   "execution_count": 27,
   "metadata": {},
   "outputs": [
    {
     "name": "stdout",
     "output_type": "stream",
     "text": [
      "\n",
      "DEBUG: Making GET request to http://localhost:18056/bots/status\n",
      "DEBUG: Headers: {'Content-Type': 'application/json', 'X-API-Key': 'rzwFUoj4hoZq0p9SD7MnfDrEGjDe4Hfr7rBp34CS'}\n",
      "DEBUG: Params: None\n",
      "DEBUG: JSON data: None\n",
      "DEBUG: Response status: 200\n",
      "DEBUG: Response headers: {'date': 'Thu, 18 Sep 2025 16:35:20 GMT, Thu, 18 Sep 2025 16:35:20 GMT', 'server': 'uvicorn, uvicorn', 'content-length': '437', 'content-type': 'application/json'}\n",
      "DEBUG: Response content: {\"running_bots\":[{\"container_id\":\"685caad529665345f98dbe520f762fa1b2e1f7fec8d89fd4166badf3dddada7a\",\"container_name\":\"vexa-bot-498-8fad4f6c\",\"platform\":\"teams\",\"native_meeting_id\":\"9327884808517\",\"status\":\"Up 8 minutes\",\"normalized_status\":\"Up\",\"created_at\":\"2025-09-18T16:26:21+00:00\",\"labels\":{\"org.opencontainers.image.ref.name\":\"ubuntu\",\"org.opencontainers.image.version\":\"22.04\",\"vexa.user_id\":\"220\"},\"meeting_id_from_name\":\"498\"}]}...\n"
     ]
    }
   ],
   "source": [
    "running_bots = client.get_running_bots_status()"
   ]
  },
  {
   "cell_type": "code",
   "execution_count": 18,
   "metadata": {},
   "outputs": [
    {
     "name": "stdout",
     "output_type": "stream",
     "text": [
      "\n",
      "DEBUG: Making PUT request to http://localhost:18056/bots/teams/uvi-tgzn-hde/config\n",
      "DEBUG: Headers: {'Content-Type': 'application/json', 'X-API-Key': 'FLuMMaMPtLgPDMMLqAeJHnuFZZhfg5PB6i2KC4Vg'}\n",
      "DEBUG: Params: None\n",
      "DEBUG: JSON data: {'language': 'ru', 'task': 'transcribe'}\n",
      "DEBUG: Response status: 404\n",
      "DEBUG: Response headers: {'date': 'Thu, 18 Sep 2025 21:47:58 GMT, Thu, 18 Sep 2025 21:47:59 GMT', 'server': 'uvicorn, uvicorn', 'content-length': '84', 'content-type': 'application/json'}\n",
      "DEBUG: Response content: {\"detail\":\"No active meeting found for platform teams and meeting ID uvi-tgzn-hde.\"}...\n"
     ]
    },
    {
     "ename": "VexaClientError",
     "evalue": "HTTP Error 404 for PUT http://localhost:18056/bots/teams/uvi-tgzn-hde/config: No active meeting found for platform teams and meeting ID uvi-tgzn-hde.",
     "output_type": "error",
     "traceback": [
      "\u001b[0;31m---------------------------------------------------------------------------\u001b[0m",
      "\u001b[0;31mHTTPError\u001b[0m                                 Traceback (most recent call last)",
      "File \u001b[0;32m~/dev/vexa/vexa_client.py:107\u001b[0m, in \u001b[0;36mVexaClient._request\u001b[0;34m(self, method, path, api_type, params, json_data)\u001b[0m\n\u001b[1;32m    105\u001b[0m     \u001b[38;5;28mprint\u001b[39m(\u001b[38;5;124mf\u001b[39m\u001b[38;5;124m\"\u001b[39m\u001b[38;5;124mDEBUG: Could not display response content\u001b[39m\u001b[38;5;124m\"\u001b[39m)\n\u001b[0;32m--> 107\u001b[0m \u001b[43mresponse\u001b[49m\u001b[38;5;241;43m.\u001b[39;49m\u001b[43mraise_for_status\u001b[49m\u001b[43m(\u001b[49m\u001b[43m)\u001b[49m \u001b[38;5;66;03m# Raise HTTPError for bad responses (4xx or 5xx)\u001b[39;00m\n\u001b[1;32m    109\u001b[0m \u001b[38;5;66;03m# Handle cases where response might be empty (e.g., 204 No Content)\u001b[39;00m\n",
      "File \u001b[0;32m~/anaconda3/envs/vexa/lib/python3.11/site-packages/requests/models.py:1024\u001b[0m, in \u001b[0;36mResponse.raise_for_status\u001b[0;34m(self)\u001b[0m\n\u001b[1;32m   1023\u001b[0m \u001b[38;5;28;01mif\u001b[39;00m http_error_msg:\n\u001b[0;32m-> 1024\u001b[0m     \u001b[38;5;28;01mraise\u001b[39;00m HTTPError(http_error_msg, response\u001b[38;5;241m=\u001b[39m\u001b[38;5;28mself\u001b[39m)\n",
      "\u001b[0;31mHTTPError\u001b[0m: 404 Client Error: Not Found for url: http://localhost:18056/bots/teams/uvi-tgzn-hde/config",
      "\nThe above exception was the direct cause of the following exception:\n",
      "\u001b[0;31mVexaClientError\u001b[0m                           Traceback (most recent call last)",
      "Cell \u001b[0;32mIn[18], line 1\u001b[0m\n\u001b[0;32m----> 1\u001b[0m \u001b[43mclient\u001b[49m\u001b[38;5;241;43m.\u001b[39;49m\u001b[43mupdate_bot_config\u001b[49m\u001b[43m(\u001b[49m\n\u001b[1;32m      2\u001b[0m \u001b[43m    \u001b[49m\u001b[43mplatform\u001b[49m\u001b[38;5;241;43m=\u001b[39;49m\u001b[38;5;124;43m\"\u001b[39;49m\u001b[38;5;124;43mteams\u001b[39;49m\u001b[38;5;124;43m\"\u001b[39;49m\u001b[43m,\u001b[49m\n\u001b[1;32m      3\u001b[0m \u001b[43m    \u001b[49m\u001b[43mnative_meeting_id\u001b[49m\u001b[38;5;241;43m=\u001b[39;49m\u001b[43mnative_meeting_id\u001b[49m\u001b[43m,\u001b[49m\n\u001b[1;32m      4\u001b[0m \u001b[43m    \u001b[49m\u001b[43mlanguage\u001b[49m\u001b[38;5;241;43m=\u001b[39;49m\u001b[38;5;124;43m'\u001b[39;49m\u001b[38;5;124;43mru\u001b[39;49m\u001b[38;5;124;43m'\u001b[39;49m\u001b[43m,\u001b[49m\n\u001b[1;32m      5\u001b[0m \u001b[43m    \u001b[49m\u001b[43mtask\u001b[49m\u001b[43m \u001b[49m\u001b[38;5;241;43m=\u001b[39;49m\u001b[43m \u001b[49m\u001b[38;5;124;43m'\u001b[39;49m\u001b[38;5;124;43mtranscribe\u001b[39;49m\u001b[38;5;124;43m'\u001b[39;49m\n\u001b[1;32m      6\u001b[0m \u001b[43m)\u001b[49m\n",
      "File \u001b[0;32m~/dev/vexa/vexa_client.py:236\u001b[0m, in \u001b[0;36mVexaClient.update_bot_config\u001b[0;34m(self, platform, native_meeting_id, language, task)\u001b[0m\n\u001b[1;32m    233\u001b[0m     \u001b[38;5;28;01mraise\u001b[39;00m VexaClientError(\u001b[38;5;124m\"\u001b[39m\u001b[38;5;124mNo configuration updates provided (language or task must be specified).\u001b[39m\u001b[38;5;124m\"\u001b[39m)\n\u001b[1;32m    235\u001b[0m \u001b[38;5;66;03m# _request handles 202 status and returns the JSON body\u001b[39;00m\n\u001b[0;32m--> 236\u001b[0m \u001b[38;5;28;01mreturn\u001b[39;00m \u001b[38;5;28;43mself\u001b[39;49m\u001b[38;5;241;43m.\u001b[39;49m\u001b[43m_request\u001b[49m\u001b[43m(\u001b[49m\u001b[38;5;124;43m\"\u001b[39;49m\u001b[38;5;124;43mPUT\u001b[39;49m\u001b[38;5;124;43m\"\u001b[39;49m\u001b[43m,\u001b[49m\u001b[43m \u001b[49m\u001b[43mpath\u001b[49m\u001b[43m,\u001b[49m\u001b[43m \u001b[49m\u001b[43mapi_type\u001b[49m\u001b[38;5;241;43m=\u001b[39;49m\u001b[38;5;124;43m'\u001b[39;49m\u001b[38;5;124;43muser\u001b[39;49m\u001b[38;5;124;43m'\u001b[39;49m\u001b[43m,\u001b[49m\u001b[43m \u001b[49m\u001b[43mjson_data\u001b[49m\u001b[38;5;241;43m=\u001b[39;49m\u001b[43mpayload\u001b[49m\u001b[43m)\u001b[49m\n",
      "File \u001b[0;32m~/dev/vexa/vexa_client.py:123\u001b[0m, in \u001b[0;36mVexaClient._request\u001b[0;34m(self, method, path, api_type, params, json_data)\u001b[0m\n\u001b[1;32m    121\u001b[0m     \u001b[38;5;28;01mexcept\u001b[39;00m requests\u001b[38;5;241m.\u001b[39mexceptions\u001b[38;5;241m.\u001b[39mJSONDecodeError:\n\u001b[1;32m    122\u001b[0m         detail_msg \u001b[38;5;241m=\u001b[39m e\u001b[38;5;241m.\u001b[39mresponse\u001b[38;5;241m.\u001b[39mtext\n\u001b[0;32m--> 123\u001b[0m     \u001b[38;5;28;01mraise\u001b[39;00m VexaClientError(\u001b[38;5;124mf\u001b[39m\u001b[38;5;124m\"\u001b[39m\u001b[38;5;124mHTTP Error \u001b[39m\u001b[38;5;132;01m{\u001b[39;00me\u001b[38;5;241m.\u001b[39mresponse\u001b[38;5;241m.\u001b[39mstatus_code\u001b[38;5;132;01m}\u001b[39;00m\u001b[38;5;124m for \u001b[39m\u001b[38;5;132;01m{\u001b[39;00mmethod\u001b[38;5;132;01m}\u001b[39;00m\u001b[38;5;124m \u001b[39m\u001b[38;5;132;01m{\u001b[39;00murl\u001b[38;5;132;01m}\u001b[39;00m\u001b[38;5;124m: \u001b[39m\u001b[38;5;132;01m{\u001b[39;00mdetail_msg\u001b[38;5;132;01m}\u001b[39;00m\u001b[38;5;124m\"\u001b[39m) \u001b[38;5;28;01mfrom\u001b[39;00m \u001b[38;5;21;01me\u001b[39;00m\n\u001b[1;32m    124\u001b[0m \u001b[38;5;28;01mexcept\u001b[39;00m requests\u001b[38;5;241m.\u001b[39mexceptions\u001b[38;5;241m.\u001b[39mRequestException \u001b[38;5;28;01mas\u001b[39;00m e:\n\u001b[1;32m    125\u001b[0m     \u001b[38;5;28;01mraise\u001b[39;00m VexaClientError(\u001b[38;5;124mf\u001b[39m\u001b[38;5;124m\"\u001b[39m\u001b[38;5;124mRequest failed for \u001b[39m\u001b[38;5;132;01m{\u001b[39;00mmethod\u001b[38;5;132;01m}\u001b[39;00m\u001b[38;5;124m \u001b[39m\u001b[38;5;132;01m{\u001b[39;00murl\u001b[38;5;132;01m}\u001b[39;00m\u001b[38;5;124m: \u001b[39m\u001b[38;5;132;01m{\u001b[39;00me\u001b[38;5;132;01m}\u001b[39;00m\u001b[38;5;124m\"\u001b[39m) \u001b[38;5;28;01mfrom\u001b[39;00m \u001b[38;5;21;01me\u001b[39;00m\n",
      "\u001b[0;31mVexaClientError\u001b[0m: HTTP Error 404 for PUT http://localhost:18056/bots/teams/uvi-tgzn-hde/config: No active meeting found for platform teams and meeting ID uvi-tgzn-hde."
     ]
    }
   ],
   "source": [
    "client.update_bot_config(\n",
    "    platform=\"teams\",\n",
    "    native_meeting_id=native_meeting_id,\n",
    "    language='ru',\n",
    "    task = 'transcribe'\n",
    ")"
   ]
  },
  {
   "cell_type": "code",
   "execution_count": 34,
   "metadata": {},
   "outputs": [
    {
     "name": "stdout",
     "output_type": "stream",
     "text": [
      "\n",
      "DEBUG: Making GET request to http://localhost:18056/bots/status\n",
      "DEBUG: Headers: {'Content-Type': 'application/json', 'X-API-Key': 'KSsvlBfT7OJUBemx7oGBajwsHh1UVwwuM0TKG3Tz'}\n",
      "DEBUG: Params: None\n",
      "DEBUG: JSON data: None\n",
      "DEBUG: Response status: 200\n",
      "DEBUG: Response headers: {'date': 'Mon, 15 Sep 2025 10:01:15 GMT, Mon, 15 Sep 2025 10:01:15 GMT', 'server': 'uvicorn, uvicorn', 'content-length': '463', 'content-type': 'application/json'}\n",
      "DEBUG: Response content: {\"running_bots\":[{\"container_id\":\"5aa316685122c6f84ac75eced6d70093b8c923e9e5656a65f9f53db0d9aa8e5d\",\"container_name\":\"vexa-bot-452-07cb390f\",\"platform\":\"teams\",\"native_meeting_id\":\"9398850880426?p=RBZCWdxyp85TpcKna8\",\"status\":\"Up About a minute\",\"normalized_status\":\"Up\",\"created_at\":\"2025-09-15T10:00:02+00:00\",\"labels\":{\"org.opencontainers.image.ref.name\":\"ubuntu\",\"org.opencontainers.image.version\":\"22.04\",\"vexa.user_id\":\"172\"},\"meeting_id_from_name\":\"452\"}]}...\n"
     ]
    }
   ],
   "source": [
    "running_bots = client.get_running_bots_status()"
   ]
  },
  {
   "cell_type": "code",
   "execution_count": null,
   "metadata": {},
   "outputs": [
    {
     "name": "stdout",
     "output_type": "stream",
     "text": [
      "\n",
      "DEBUG: Making GET request to http://localhost:18056/meetings\n",
      "DEBUG: Headers: {'Content-Type': 'application/json', 'X-API-Key': '90Z5tC9dnLrBWfkPglvwlxvjLCrAduKnieWiSvFK'}\n",
      "DEBUG: Params: None\n",
      "DEBUG: JSON data: None\n",
      "DEBUG: Response status: 200\n",
      "DEBUG: Response headers: {'date': 'Mon, 15 Sep 2025 10:39:31 GMT, Mon, 15 Sep 2025 10:39:31 GMT', 'server': 'uvicorn, uvicorn', 'content-length': '430', 'content-type': 'application/json'}\n",
      "DEBUG: Response content: {\"meetings\":[{\"id\":454,\"user_id\":181,\"platform\":\"teams\",\"native_meeting_id\":\"9336723999706\",\"constructed_meeting_url\":\"https://teams.live.com/meet/9336723999706\",\"status\":\"requested\",\"bot_container_id\":\"962d5c5d469d67ed71662d1b6ce6fe0f480b13f98a9241816b59875732f45a45\",\"start_time\":null,\"end_time\":null,\"data\":{\"passcode\":\"2K3b9tHqu7kFV563tk\"},\"created_at\":\"2025-09-15T10:33:30.455480\",\"updated_at\":\"2025-09-15T10:33:30.473455\"}]}...\n"
     ]
    }
   ],
   "source": []
  },
  {
   "cell_type": "markdown",
   "metadata": {},
   "source": []
  },
  {
   "cell_type": "code",
   "execution_count": 33,
   "metadata": {},
   "outputs": [
    {
     "name": "stdout",
     "output_type": "stream",
     "text": [
      "\n",
      "DEBUG: Making PATCH request to http://localhost:18056/meetings/google_meet/xdy-txjo-fyh\n",
      "DEBUG: Headers: {'Content-Type': 'application/json', 'X-API-Key': 'aQGEy4cX1XN9l60QOEsWKcWWKNNc0prjYUu7pkhw'}\n",
      "DEBUG: Params: None\n",
      "DEBUG: JSON data: {'data': {'name': 'Test Meeting'}}\n",
      "DEBUG: Response status: 200\n",
      "DEBUG: Response headers: {'date': 'Sun, 08 Jun 2025 15:06:06 GMT, Sun, 08 Jun 2025 15:06:06 GMT', 'server': 'uvicorn, uvicorn', 'content-length': '449', 'content-type': 'application/json'}\n",
      "DEBUG: Response content: {\"id\":5,\"user_id\":6,\"platform\":\"google_meet\",\"native_meeting_id\":\"xdy-txjo-fyh\",\"constructed_meeting_url\":\"https://meet.google.com/xdy-txjo-fyh\",\"status\":\"completed\",\"bot_container_id\":\"7edd0e3d1b1aa9f8f668a0c84447889c36a8c4cb974ca15b80654d00c9a083bf\",\"start_time\":\"2025-06-08T15:01:10.681410\",\"end_time\":\"2025-06-08T15:02:05.246022\",\"data\":{\"name\":\"Test Meeting\"},\"created_at\":\"2025-06-08T15:01:10.280791\",\"updated_at\":\"2025-06-08T15:06:07.017651\"}...\n"
     ]
    },
    {
     "data": {
      "text/plain": [
       "{'id': 5,\n",
       " 'user_id': 6,\n",
       " 'platform': 'google_meet',\n",
       " 'native_meeting_id': 'xdy-txjo-fyh',\n",
       " 'constructed_meeting_url': 'https://meet.google.com/xdy-txjo-fyh',\n",
       " 'status': 'completed',\n",
       " 'bot_container_id': '7edd0e3d1b1aa9f8f668a0c84447889c36a8c4cb974ca15b80654d00c9a083bf',\n",
       " 'start_time': '2025-06-08T15:01:10.681410',\n",
       " 'end_time': '2025-06-08T15:02:05.246022',\n",
       " 'data': {'name': 'Test Meeting'},\n",
       " 'created_at': '2025-06-08T15:01:10.280791',\n",
       " 'updated_at': '2025-06-08T15:06:07.017651'}"
      ]
     },
     "execution_count": 33,
     "metadata": {},
     "output_type": "execute_result"
    }
   ],
   "source": [
    "client.update_meeting_data(\n",
    "    platform=\"google_meet\",\n",
    "    native_meeting_id=native_meeting_id,\n",
    "    name=\"Test Meeting\",\n",
    ")"
   ]
  },
  {
   "cell_type": "code",
   "execution_count": 32,
   "metadata": {},
   "outputs": [
    {
     "name": "stdout",
     "output_type": "stream",
     "text": [
      "\n",
      "DEBUG: Making DELETE request to http://localhost:18056/meetings/google_meet/xdy-txjo-fyh\n",
      "DEBUG: Headers: {'Content-Type': 'application/json', 'X-API-Key': 'aQGEy4cX1XN9l60QOEsWKcWWKNNc0prjYUu7pkhw'}\n",
      "DEBUG: Params: None\n",
      "DEBUG: JSON data: None\n",
      "DEBUG: Response status: 200\n",
      "DEBUG: Response headers: {'date': 'Sun, 08 Jun 2025 15:06:02 GMT, Sun, 08 Jun 2025 15:06:02 GMT', 'server': 'uvicorn, uvicorn', 'content-length': '88', 'content-type': 'application/json'}\n",
      "DEBUG: Response content: {\"message\":\"Meeting google_meet/xdy-txjo-fyh and all its transcripts have been deleted\"}...\n"
     ]
    },
    {
     "data": {
      "text/plain": [
       "{'message': 'Meeting google_meet/xdy-txjo-fyh and all its transcripts have been deleted'}"
      ]
     },
     "execution_count": 32,
     "metadata": {},
     "output_type": "execute_result"
    }
   ],
   "source": [
    "client.delete_meeting(\n",
    "    platform=\"google_meet\",\n",
    "    native_meeting_id=native_meeting_id,\n",
    ")"
   ]
  },
  {
   "cell_type": "code",
   "execution_count": null,
   "metadata": {},
   "outputs": [],
   "source": []
  }
 ],
 "metadata": {
  "kernelspec": {
   "display_name": "vexa",
   "language": "python",
   "name": "python3"
  },
  "language_info": {
   "codemirror_mode": {
    "name": "ipython",
    "version": 3
   },
   "file_extension": ".py",
   "mimetype": "text/x-python",
   "name": "python",
   "nbconvert_exporter": "python",
   "pygments_lexer": "ipython3",
   "version": "3.11.10"
  }
 },
 "nbformat": 4,
 "nbformat_minor": 2
}
