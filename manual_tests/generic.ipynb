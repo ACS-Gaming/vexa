{
 "cells": [
  {
   "cell_type": "code",
   "execution_count": 1,
   "metadata": {},
   "outputs": [],
   "source": [
    "import pandas as pd\n",
    "pd.options.display.max_colwidth = 1000\n",
    "pd.set_option('display.max_colwidth', 1000)\n",
    "pd.set_option('display.max_rows', 1000)\n",
    "pd.set_option('display.max_columns', 1000)\n",
    "pd.set_option('display.width', 1000)\n",
    "pd.set_option('display.float_format', '{:20.2f}'.format)\n",
    "pd.set_option('display.max_colwidth', 1000)\n",
    "pd.set_option('display.max_rows', 1000)\n",
    "pd.set_option('display.max_columns', 1000)\n",
    "from IPython.display import clear_output,display"
   ]
  },
  {
   "cell_type": "code",
   "execution_count": 2,
   "metadata": {},
   "outputs": [],
   "source": [
    "# Load environment variables from .env file\n",
    "from dotenv import load_dotenv\n",
    "\n",
    "# Load .env file\n",
    "load_dotenv()\n",
    "import random\n",
    "\n",
    "import os\n",
    "from vexa_client import VexaClient\n",
    "\n",
    "import os\n",
    "TOKEN = os.getenv('ADMIN_API_TOKEN')\n",
    "url = \"http://localhost:18056\"\n",
    "admin_client = VexaClient(\n",
    "    base_url=url,\n",
    "    admin_key=TOKEN  # From docker-compose.yml\n",
    ")\n",
    "\n",
    "import time"
   ]
  },
  {
   "cell_type": "code",
   "execution_count": 3,
   "metadata": {},
   "outputs": [
    {
     "name": "stdout",
     "output_type": "stream",
     "text": [
      "\n",
      "DEBUG: Making POST request to http://localhost:18056/admin/users\n",
      "DEBUG: Headers: {'Content-Type': 'application/json', 'X-Admin-API-Key': 'token'}\n",
      "DEBUG: Params: None\n",
      "DEBUG: JSON data: {'email': '445200@example.com', 'name': 'test', 'max_concurrent_bots': 1}\n",
      "DEBUG: Response status: 201\n",
      "DEBUG: Response headers: {'date': 'Wed, 10 Sep 2025 13:23:43 GMT, Wed, 10 Sep 2025 13:23:43 GMT', 'server': 'uvicorn, uvicorn', 'content-length': '146', 'content-type': 'application/json'}\n",
      "DEBUG: Response content: {\"email\":\"445200@example.com\",\"name\":\"test\",\"image_url\":null,\"max_concurrent_bots\":1,\"data\":{},\"id\":148,\"created_at\":\"2025-09-10T13:23:44.101532\"}...\n"
     ]
    }
   ],
   "source": [
    "new_user = admin_client.create_user(email=f\"{random.randint(1, 1000000)}@example.com\", \n",
    "                                    name=\"test\",\n",
    "                                    max_concurrent_bots=1)\n"
   ]
  },
  {
   "cell_type": "code",
   "execution_count": 4,
   "metadata": {},
   "outputs": [
    {
     "name": "stdout",
     "output_type": "stream",
     "text": [
      "\n",
      "DEBUG: Making POST request to http://localhost:18056/admin/users/148/tokens\n",
      "DEBUG: Headers: {'Content-Type': 'application/json', 'X-Admin-API-Key': 'token'}\n",
      "DEBUG: Params: None\n",
      "DEBUG: JSON data: None\n",
      "DEBUG: Response status: 201\n",
      "DEBUG: Response headers: {'date': 'Wed, 10 Sep 2025 13:23:44 GMT, Wed, 10 Sep 2025 13:23:44 GMT', 'server': 'uvicorn, uvicorn', 'content-length': '117', 'content-type': 'application/json'}\n",
      "DEBUG: Response content: {\"user_id\":148,\"id\":189,\"token\":\"GqWrgmoTMkiM8lDLza2OMC9RNOfTqEEbGv3mVciU\",\"created_at\":\"2025-09-10T13:23:44.616761\"}...\n"
     ]
    }
   ],
   "source": [
    "\n",
    "user_id = new_user['id']\n",
    "user_id\n",
    "token_info = admin_client.create_token(user_id=user_id)\n",
    "user_api_key = token_info['token']\n",
    "client = VexaClient(\n",
    "    base_url=url,\n",
    "    api_key=user_api_key\n",
    ")"
   ]
  },
  {
   "cell_type": "code",
   "execution_count": 5,
   "metadata": {},
   "outputs": [
    {
     "name": "stdout",
     "output_type": "stream",
     "text": [
      "\n",
      "DEBUG: Making PUT request to http://localhost:18056/user/webhook\n",
      "DEBUG: Headers: {'Content-Type': 'application/json', 'X-API-Key': 'GqWrgmoTMkiM8lDLza2OMC9RNOfTqEEbGv3mVciU'}\n",
      "DEBUG: Params: None\n",
      "DEBUG: JSON data: {'webhook_url': 'https://webhook-test.com/e79be735cf3e9bc0c98ca068beaac1f3'}\n",
      "DEBUG: Response status: 200\n",
      "DEBUG: Response headers: {'date': 'Wed, 10 Sep 2025 13:23:44 GMT, Wed, 10 Sep 2025 13:23:44 GMT', 'server': 'uvicorn, uvicorn', 'content-length': '219', 'content-type': 'application/json'}\n",
      "DEBUG: Response content: {\"email\":\"445200@example.com\",\"name\":\"test\",\"image_url\":null,\"max_concurrent_bots\":1,\"data\":{\"webhook_url\":\"https://webhook-test.com/e79be735cf3e9bc0c98ca068beaac1f3\"},\"id\":148,\"created_at\":\"2025-09-10T13:23:44.101532\"}...\n"
     ]
    },
    {
     "data": {
      "text/plain": [
       "{'email': '445200@example.com',\n",
       " 'name': 'test',\n",
       " 'image_url': None,\n",
       " 'max_concurrent_bots': 1,\n",
       " 'data': {'webhook_url': 'https://webhook-test.com/e79be735cf3e9bc0c98ca068beaac1f3'},\n",
       " 'id': 148,\n",
       " 'created_at': '2025-09-10T13:23:44.101532'}"
      ]
     },
     "execution_count": 5,
     "metadata": {},
     "output_type": "execute_result"
    }
   ],
   "source": [
    "client.set_webhook_url(\"https://webhook-test.com/e79be735cf3e9bc0c98ca068beaac1f3\")"
   ]
  },
  {
   "cell_type": "code",
   "execution_count": 6,
   "metadata": {},
   "outputs": [
    {
     "data": {
      "text/plain": [
       "'GqWrgmoTMkiM8lDLza2OMC9RNOfTqEEbGv3mVciU'"
      ]
     },
     "execution_count": 6,
     "metadata": {},
     "output_type": "execute_result"
    }
   ],
   "source": [
    "user_api_key"
   ]
  },
  {
   "cell_type": "code",
   "execution_count": 7,
   "metadata": {},
   "outputs": [
    {
     "name": "stdout",
     "output_type": "stream",
     "text": [
      "\n",
      "DEBUG: Making POST request to http://localhost:18056/bots\n",
      "DEBUG: Headers: {'Content-Type': 'application/json', 'X-API-Key': 'GqWrgmoTMkiM8lDLza2OMC9RNOfTqEEbGv3mVciU'}\n",
      "DEBUG: Params: None\n",
      "DEBUG: JSON data: {'platform': 'google_meet', 'native_meeting_id': 'fjp-cbnn-hug', 'bot_name': \"Dmitry's bot\", 'language': 'es', 'task': 'transcribe'}\n",
      "DEBUG: Response status: 201\n",
      "DEBUG: Response headers: {'date': 'Wed, 10 Sep 2025 13:23:46 GMT, Wed, 10 Sep 2025 13:23:46 GMT', 'server': 'uvicorn, uvicorn', 'content-length': '384', 'content-type': 'application/json'}\n",
      "DEBUG: Response content: {\"id\":329,\"user_id\":148,\"platform\":\"google_meet\",\"native_meeting_id\":\"fjp-cbnn-hug\",\"constructed_meeting_url\":\"https://meet.google.com/fjp-cbnn-hug\",\"status\":\"requested\",\"bot_container_id\":\"6834a1b5b26e5e28a2aef436a843e9ccbfd943e20ef0e0fa89e68b5763ca1969\",\"start_time\":null,\"end_time\":null,\"data\":{},\"created_at\":\"2025-09-10T13:23:47.420291\",\"updated_at\":\"2025-09-10T13:23:47.428664\"}...\n"
     ]
    }
   ],
   "source": [
    "\n",
    "#meeting_url=\"https://meet.google.com/guu-axxy-tze\"\n",
    "meeting_url=\"https://meet.google.com/fjp-cbnn-hug\"\n",
    "native_meeting_id = meeting_url.split(\"/\")[-1]  # \"xyz-abcd-123\"\n",
    "meeting_info = client.request_bot(\n",
    "    platform=\"google_meet\",\n",
    "    native_meeting_id=native_meeting_id,\n",
    "    bot_name=\"Dmitry's bot\",\n",
    "    language='es',\n",
    "    task = 'transcribe'\n",
    ")\n",
    "meeting_id = meeting_info['id']"
   ]
  },
  {
   "cell_type": "code",
   "execution_count": 9,
   "metadata": {},
   "outputs": [
    {
     "data": {
      "text/plain": [
       "143"
      ]
     },
     "execution_count": 9,
     "metadata": {},
     "output_type": "execute_result"
    }
   ],
   "source": [
    "user_id"
   ]
  },
  {
   "cell_type": "code",
   "execution_count": 9,
   "metadata": {},
   "outputs": [
    {
     "data": {
      "text/html": [
       "<div>\n",
       "<style scoped>\n",
       "    .dataframe tbody tr th:only-of-type {\n",
       "        vertical-align: middle;\n",
       "    }\n",
       "\n",
       "    .dataframe tbody tr th {\n",
       "        vertical-align: top;\n",
       "    }\n",
       "\n",
       "    .dataframe thead th {\n",
       "        text-align: right;\n",
       "    }\n",
       "</style>\n",
       "<table border=\"1\" class=\"dataframe\">\n",
       "  <thead>\n",
       "    <tr style=\"text-align: right;\">\n",
       "      <th></th>\n",
       "      <th>start</th>\n",
       "      <th>end</th>\n",
       "      <th>text</th>\n",
       "      <th>language</th>\n",
       "      <th>absolute_start_time</th>\n",
       "    </tr>\n",
       "  </thead>\n",
       "  <tbody>\n",
       "    <tr>\n",
       "      <th>0</th>\n",
       "      <td>0.00</td>\n",
       "      <td>13.21</td>\n",
       "      <td>three four five six seven one two three four five six seven one two three four</td>\n",
       "      <td>en</td>\n",
       "      <td>2025-09-10T12:18:40.373450+00:00</td>\n",
       "    </tr>\n",
       "    <tr>\n",
       "      <th>1</th>\n",
       "      <td>13.21</td>\n",
       "      <td>14.87</td>\n",
       "      <td>Five, six, seven.</td>\n",
       "      <td>en</td>\n",
       "      <td>2025-09-10T12:18:53.583450+00:00</td>\n",
       "    </tr>\n",
       "  </tbody>\n",
       "</table>\n",
       "</div>"
      ],
      "text/plain": [
       "                 start                  end                                                                             text language               absolute_start_time\n",
       "0                 0.00                13.21   three four five six seven one two three four five six seven one two three four       en  2025-09-10T12:18:40.373450+00:00\n",
       "1                13.21                14.87                                                                Five, six, seven.       en  2025-09-10T12:18:53.583450+00:00"
      ]
     },
     "metadata": {},
     "output_type": "display_data"
    },
    {
     "ename": "KeyboardInterrupt",
     "evalue": "",
     "output_type": "error",
     "traceback": [
      "\u001b[0;31m---------------------------------------------------------------------------\u001b[0m",
      "\u001b[0;31mKeyboardInterrupt\u001b[0m                         Traceback (most recent call last)",
      "Cell \u001b[0;32mIn[9], line 6\u001b[0m\n\u001b[1;32m      4\u001b[0m clear_output()\n\u001b[1;32m      5\u001b[0m display(df[[\u001b[38;5;124m'\u001b[39m\u001b[38;5;124mstart\u001b[39m\u001b[38;5;124m'\u001b[39m,\u001b[38;5;124m'\u001b[39m\u001b[38;5;124mend\u001b[39m\u001b[38;5;124m'\u001b[39m,\u001b[38;5;124m'\u001b[39m\u001b[38;5;124mtext\u001b[39m\u001b[38;5;124m'\u001b[39m,\u001b[38;5;124m'\u001b[39m\u001b[38;5;124mlanguage\u001b[39m\u001b[38;5;124m'\u001b[39m,\u001b[38;5;124m'\u001b[39m\u001b[38;5;124mabsolute_start_time\u001b[39m\u001b[38;5;124m'\u001b[39m]]\u001b[38;5;241m.\u001b[39msort_values(\u001b[38;5;124m'\u001b[39m\u001b[38;5;124mabsolute_start_time\u001b[39m\u001b[38;5;124m'\u001b[39m))\n\u001b[0;32m----> 6\u001b[0m \u001b[43mtime\u001b[49m\u001b[38;5;241;43m.\u001b[39;49m\u001b[43msleep\u001b[49m\u001b[43m(\u001b[49m\u001b[38;5;241;43m1\u001b[39;49m\u001b[43m)\u001b[49m\n",
      "\u001b[0;31mKeyboardInterrupt\u001b[0m: "
     ]
    }
   ],
   "source": [
    "while True:\n",
    "    transcript = client.get_transcript(native_meeting_id=native_meeting_id,platform='google_meet')\n",
    "    df = pd.DataFrame(transcript['segments'])#.sort_values(['created_at','start'])#.drop_duplicates('start',keep='last')\n",
    "    clear_output()\n",
    "    display(df[['start','end','text','language','absolute_start_time']].sort_values('absolute_start_time'))\n",
    "    time.sleep(1)"
   ]
  },
  {
   "cell_type": "code",
   "execution_count": 1,
   "metadata": {},
   "outputs": [
    {
     "ename": "NameError",
     "evalue": "name 'client' is not defined",
     "output_type": "error",
     "traceback": [
      "\u001b[0;31m---------------------------------------------------------------------------\u001b[0m",
      "\u001b[0;31mNameError\u001b[0m                                 Traceback (most recent call last)",
      "Cell \u001b[0;32mIn[1], line 1\u001b[0m\n\u001b[0;32m----> 1\u001b[0m \u001b[43mclient\u001b[49m\u001b[38;5;241m.\u001b[39mstop_bot(platform\u001b[38;5;241m=\u001b[39m\u001b[38;5;124m\"\u001b[39m\u001b[38;5;124mgoogle_meet\u001b[39m\u001b[38;5;124m\"\u001b[39m,native_meeting_id\u001b[38;5;241m=\u001b[39mnative_meeting_id)\n",
      "\u001b[0;31mNameError\u001b[0m: name 'client' is not defined"
     ]
    }
   ],
   "source": [
    "client.stop_bot(platform=\"google_meet\",native_meeting_id=native_meeting_id)"
   ]
  },
  {
   "cell_type": "code",
   "execution_count": 21,
   "metadata": {},
   "outputs": [
    {
     "data": {
      "text/plain": [
       "1"
      ]
     },
     "execution_count": 21,
     "metadata": {},
     "output_type": "execute_result"
    }
   ],
   "source": [
    "user_id"
   ]
  },
  {
   "cell_type": "code",
   "execution_count": 22,
   "metadata": {},
   "outputs": [
    {
     "name": "stdout",
     "output_type": "stream",
     "text": [
      "\n",
      "DEBUG: Making GET request to http://localhost:18056/bots/status\n",
      "DEBUG: Headers: {'Content-Type': 'application/json', 'X-API-Key': 'ByWb1qpsR1Kq3hTg3Rhg6cXcxaAFpA2e5FeFvCVJ'}\n",
      "DEBUG: Params: None\n",
      "DEBUG: JSON data: None\n",
      "DEBUG: Response status: 200\n",
      "DEBUG: Response headers: {'date': 'Sun, 08 Jun 2025 17:12:08 GMT, Sun, 08 Jun 2025 17:12:08 GMT', 'server': 'uvicorn, uvicorn', 'content-length': '412', 'content-type': 'application/json'}\n",
      "DEBUG: Response content: {\"running_bots\":[{\"container_id\":\"aed61e62a52154f979a7e1fe47b7e83dd6b0a0e114105b3335f36b14fe77fda8\",\"container_name\":\"vexa-bot-2-3ccb0141\",\"platform\":\"google_meet\",\"native_meeting_id\":\"xdy-txjo-fyh\",\"status\":\"Up 37 seconds\",\"created_at\":\"2025-06-08T17:11:31+00:00\",\"labels\":{\"org.opencontainers.image.ref.name\":\"ubuntu\",\"org.opencontainers.image.version\":\"22.04\",\"vexa.user_id\":\"1\"},\"meeting_id_from_name\":\"2\"}]}...\n"
     ]
    }
   ],
   "source": [
    "running_bots = client.get_running_bots_status()"
   ]
  },
  {
   "cell_type": "code",
   "execution_count": 10,
   "metadata": {},
   "outputs": [
    {
     "name": "stdout",
     "output_type": "stream",
     "text": [
      "\n",
      "DEBUG: Making PUT request to http://localhost:18056/bots/google_meet/fjp-cbnn-hug/config\n",
      "DEBUG: Headers: {'Content-Type': 'application/json', 'X-API-Key': '2WD18f6i5dP83buTGo9iCIjADTeWjtXoP4is6eyG'}\n",
      "DEBUG: Params: None\n",
      "DEBUG: JSON data: {'language': 'ru', 'task': 'transcribe'}\n",
      "DEBUG: Response status: 202\n",
      "DEBUG: Response headers: {'date': 'Sat, 06 Sep 2025 11:55:57 GMT, Sat, 06 Sep 2025 11:55:57 GMT', 'server': 'uvicorn, uvicorn', 'content-length': '67', 'content-type': 'application/json'}\n",
      "DEBUG: Response content: {\"message\":\"Reconfiguration request accepted and sent to the bot.\"}...\n"
     ]
    },
    {
     "data": {
      "text/plain": [
       "{'message': 'Reconfiguration request accepted and sent to the bot.'}"
      ]
     },
     "execution_count": 10,
     "metadata": {},
     "output_type": "execute_result"
    }
   ],
   "source": [
    "client.update_bot_config(\n",
    "    platform=\"google_meet\",\n",
    "    native_meeting_id=native_meeting_id,\n",
    "    language='ru',\n",
    "    task = 'transcribe'\n",
    ")"
   ]
  },
  {
   "cell_type": "code",
   "execution_count": 24,
   "metadata": {},
   "outputs": [
    {
     "name": "stdout",
     "output_type": "stream",
     "text": [
      "\n",
      "DEBUG: Making GET request to http://localhost:18056/bots/status\n",
      "DEBUG: Headers: {'Content-Type': 'application/json', 'X-API-Key': 'ByWb1qpsR1Kq3hTg3Rhg6cXcxaAFpA2e5FeFvCVJ'}\n",
      "DEBUG: Params: None\n",
      "DEBUG: JSON data: None\n",
      "DEBUG: Response status: 200\n",
      "DEBUG: Response headers: {'date': 'Sun, 08 Jun 2025 17:12:10 GMT, Sun, 08 Jun 2025 17:12:10 GMT', 'server': 'uvicorn, uvicorn', 'content-length': '19', 'content-type': 'application/json'}\n",
      "DEBUG: Response content: {\"running_bots\":[]}...\n"
     ]
    }
   ],
   "source": [
    "running_bots = client.get_running_bots_status()"
   ]
  },
  {
   "cell_type": "code",
   "execution_count": 13,
   "metadata": {},
   "outputs": [
    {
     "name": "stdout",
     "output_type": "stream",
     "text": [
      "\n",
      "DEBUG: Making GET request to http://localhost:18056/meetings\n",
      "DEBUG: Headers: {'Content-Type': 'application/json', 'X-API-Key': '2WD18f6i5dP83buTGo9iCIjADTeWjtXoP4is6eyG'}\n",
      "DEBUG: Params: None\n",
      "DEBUG: JSON data: None\n",
      "DEBUG: Response status: 200\n",
      "DEBUG: Response headers: {'date': 'Sat, 06 Sep 2025 16:19:39 GMT, Sat, 06 Sep 2025 16:19:40 GMT', 'server': 'uvicorn, uvicorn', 'content-length': '8493', 'content-type': 'application/json'}\n",
      "DEBUG: Response content: {\"meetings\":[{\"id\":277,\"user_id\":134,\"platform\":\"google_meet\",\"native_meeting_id\":\"yft-pduf-yob\",\"constructed_meeting_url\":\"https://meet.google.com/yft-pduf-yob\",\"status\":\"completed\",\"bot_container_id\":\"vexa-bot-277-738c0b00\",\"start_time\":\"2025-09-06T16:16:47.668730\",\"end_time\":\"2025-09-06T16:17:05.827534\",\"data\":{\"languages\":[\"en\"],\"participants\":[\"Dmitriy Grankin\"]},\"created_at\":\"2025-09-06T16:16:29.440831\",\"updated_at\":\"2025-09-06T16:17:05.833303\"},{\"id\":276,\"user_id\":134,\"platform\":\"google_m...\n"
     ]
    }
   ],
   "source": [
    "meetings = client.get_meetings()"
   ]
  },
  {
   "cell_type": "code",
   "execution_count": 14,
   "metadata": {},
   "outputs": [
    {
     "data": {
      "text/plain": [
       "[{'id': 277,\n",
       "  'user_id': 134,\n",
       "  'platform': 'google_meet',\n",
       "  'native_meeting_id': 'yft-pduf-yob',\n",
       "  'constructed_meeting_url': 'https://meet.google.com/yft-pduf-yob',\n",
       "  'status': 'completed',\n",
       "  'bot_container_id': 'vexa-bot-277-738c0b00',\n",
       "  'start_time': '2025-09-06T16:16:47.668730',\n",
       "  'end_time': '2025-09-06T16:17:05.827534',\n",
       "  'data': {'languages': ['en'], 'participants': ['Dmitriy Grankin']},\n",
       "  'created_at': '2025-09-06T16:16:29.440831',\n",
       "  'updated_at': '2025-09-06T16:17:05.833303'},\n",
       " {'id': 276,\n",
       "  'user_id': 134,\n",
       "  'platform': 'google_meet',\n",
       "  'native_meeting_id': 'yft-pduf-yob',\n",
       "  'constructed_meeting_url': 'https://meet.google.com/yft-pduf-yob',\n",
       "  'status': 'completed',\n",
       "  'bot_container_id': 'vexa-bot-276-88edd402',\n",
       "  'start_time': '2025-09-06T16:12:01.222339',\n",
       "  'end_time': '2025-09-06T16:12:38.604464',\n",
       "  'data': {'languages': ['en'], 'participants': ['Dmitriy Grankin']},\n",
       "  'created_at': '2025-09-06T16:11:47.949538',\n",
       "  'updated_at': '2025-09-06T16:12:38.617258'},\n",
       " {'id': 275,\n",
       "  'user_id': 134,\n",
       "  'platform': 'google_meet',\n",
       "  'native_meeting_id': 'yft-pduf-yob',\n",
       "  'constructed_meeting_url': 'https://meet.google.com/yft-pduf-yob',\n",
       "  'status': 'completed',\n",
       "  'bot_container_id': 'vexa-bot-275-9393fcc1',\n",
       "  'start_time': '2025-09-06T16:11:23.215308',\n",
       "  'end_time': '2025-09-06T16:11:34.867062',\n",
       "  'data': {'languages': ['en'], 'participants': ['Dmitriy Grankin']},\n",
       "  'created_at': '2025-09-06T16:11:10.672102',\n",
       "  'updated_at': '2025-09-06T16:11:34.880388'},\n",
       " {'id': 274,\n",
       "  'user_id': 134,\n",
       "  'platform': 'google_meet',\n",
       "  'native_meeting_id': 'yft-pduf-yob',\n",
       "  'constructed_meeting_url': 'https://meet.google.com/yft-pduf-yob',\n",
       "  'status': 'failed',\n",
       "  'bot_container_id': 'vexa-bot-274-5b30b4f9',\n",
       "  'start_time': '2025-09-06T16:10:41.411540',\n",
       "  'end_time': '2025-09-06T16:10:52.636271',\n",
       "  'data': {'last_error': {'reason': 'post_join_setup_error',\n",
       "    'exit_code': 1,\n",
       "    'timestamp': '2025-09-06T16:10:52.636206',\n",
       "    'error_details': {'context': 'post_join_setup_error',\n",
       "     'platform': 'google_meet',\n",
       "     'timestamp': '2025-09-06T16:10:51.613Z',\n",
       "     'error_name': 'Error',\n",
       "     'error_stack': 'page.evaluate: Error: [BOT Error] No active media elements found after multiple retries. Ensure the meeting media is playing.\\n    at eval (eval at evaluate (:291:30), <anonymous>:40:39)\\n    at startRecording (/app/dist/platforms/google.js:361:16)\\n    at async handleGoogleMeet (/app/dist/platforms/google.js:139:9)\\n    at async runBot (/app/dist/index.js:348:13)',\n",
       "     'error_message': 'page.evaluate: Error: [BOT Error] No active media elements found after multiple retries. Ensure the meeting media is playing.\\n    at eval (eval at evaluate (:291:30), <anonymous>:40:39)'},\n",
       "    'platform_specific_error': 'page.evaluate: Error: [BOT Error] No active media elements found after multiple retries. Ensure the meeting media is playing.\\n    at eval (eval at evaluate (:291:30), <anonymous>:40:39)'}},\n",
       "  'created_at': '2025-09-06T16:09:22.616184',\n",
       "  'updated_at': '2025-09-06T16:10:52.634439'},\n",
       " {'id': 273,\n",
       "  'user_id': 134,\n",
       "  'platform': 'google_meet',\n",
       "  'native_meeting_id': 'yft-pduf-yob',\n",
       "  'constructed_meeting_url': 'https://meet.google.com/yft-pduf-yob',\n",
       "  'status': 'completed',\n",
       "  'bot_container_id': 'vexa-bot-273-4421ecba',\n",
       "  'start_time': '2025-09-06T15:56:42.174041',\n",
       "  'end_time': '2025-09-06T16:07:03.279014',\n",
       "  'data': {'languages': ['en', 'ru'], 'participants': ['Dmitriy Grankin']},\n",
       "  'created_at': '2025-09-06T15:56:29.278175',\n",
       "  'updated_at': '2025-09-06T16:07:03.291923'},\n",
       " {'id': 272,\n",
       "  'user_id': 134,\n",
       "  'platform': 'google_meet',\n",
       "  'native_meeting_id': 'yft-pduf-yob',\n",
       "  'constructed_meeting_url': 'https://meet.google.com/yft-pduf-yob',\n",
       "  'status': 'completed',\n",
       "  'bot_container_id': 'vexa-bot-272-5a1bc224',\n",
       "  'start_time': '2025-09-06T15:38:34.753522',\n",
       "  'end_time': '2025-09-06T15:56:07.713399',\n",
       "  'data': {'languages': ['en', 'ru'], 'participants': ['Dmitriy Grankin']},\n",
       "  'created_at': '2025-09-06T15:38:21.599796',\n",
       "  'updated_at': '2025-09-06T15:56:07.727428'},\n",
       " {'id': 267,\n",
       "  'user_id': 134,\n",
       "  'platform': 'google_meet',\n",
       "  'native_meeting_id': 'yft-pduf-yob',\n",
       "  'constructed_meeting_url': 'https://meet.google.com/yft-pduf-yob',\n",
       "  'status': 'completed',\n",
       "  'bot_container_id': 'vexa-bot-267-75ab0433',\n",
       "  'start_time': '2025-09-06T14:50:08.778991',\n",
       "  'end_time': '2025-09-06T14:52:08.958535',\n",
       "  'data': {'languages': ['en'], 'participants': ['Dmitriy Grankin']},\n",
       "  'created_at': '2025-09-06T14:49:50.442188',\n",
       "  'updated_at': '2025-09-06T14:52:08.971682'},\n",
       " {'id': 266,\n",
       "  'user_id': 134,\n",
       "  'platform': 'google_meet',\n",
       "  'native_meeting_id': 'yft-pduf-yob',\n",
       "  'constructed_meeting_url': 'https://meet.google.com/yft-pduf-yob',\n",
       "  'status': 'completed',\n",
       "  'bot_container_id': 'vexa-bot-266-61b4f869',\n",
       "  'start_time': '2025-09-06T14:47:56.838895',\n",
       "  'end_time': '2025-09-06T14:48:59.624877',\n",
       "  'data': {'languages': ['en'], 'participants': ['Dmitriy Grankin']},\n",
       "  'created_at': '2025-09-06T14:47:43.932893',\n",
       "  'updated_at': '2025-09-06T14:48:59.638292'},\n",
       " {'id': 265,\n",
       "  'user_id': 134,\n",
       "  'platform': 'google_meet',\n",
       "  'native_meeting_id': 'eyi-uhuz-bju',\n",
       "  'constructed_meeting_url': 'https://meet.google.com/eyi-uhuz-bju',\n",
       "  'status': 'completed',\n",
       "  'bot_container_id': 'vexa-bot-265-392530cf',\n",
       "  'start_time': '2025-09-06T14:30:33.342177',\n",
       "  'end_time': '2025-09-06T14:31:33.915830',\n",
       "  'data': {'languages': ['en'], 'participants': ['Dmitriy Grankin']},\n",
       "  'created_at': '2025-09-06T14:30:15.452942',\n",
       "  'updated_at': '2025-09-06T14:31:33.927066'},\n",
       " {'id': 264,\n",
       "  'user_id': 134,\n",
       "  'platform': 'google_meet',\n",
       "  'native_meeting_id': 'eyi-uhuz-bju',\n",
       "  'constructed_meeting_url': 'https://meet.google.com/eyi-uhuz-bju',\n",
       "  'status': 'completed',\n",
       "  'bot_container_id': 'vexa-bot-264-6d5db322',\n",
       "  'start_time': '2025-09-06T14:28:19.278162',\n",
       "  'end_time': '2025-09-06T14:29:48.363826',\n",
       "  'data': {'languages': ['ru'], 'participants': ['Dmitriy Grankin']},\n",
       "  'created_at': '2025-09-06T14:28:01.095473',\n",
       "  'updated_at': '2025-09-06T14:29:48.380974'},\n",
       " {'id': 263,\n",
       "  'user_id': 134,\n",
       "  'platform': 'google_meet',\n",
       "  'native_meeting_id': 'eyi-uhuz-bju',\n",
       "  'constructed_meeting_url': 'https://meet.google.com/eyi-uhuz-bju',\n",
       "  'status': 'completed',\n",
       "  'bot_container_id': 'vexa-bot-263-fba6d54f',\n",
       "  'start_time': '2025-09-06T14:27:08.520454',\n",
       "  'end_time': '2025-09-06T14:27:20.110410',\n",
       "  'data': {},\n",
       "  'created_at': '2025-09-06T14:26:55.485005',\n",
       "  'updated_at': '2025-09-06T14:27:20.108473'},\n",
       " {'id': 262,\n",
       "  'user_id': 134,\n",
       "  'platform': 'google_meet',\n",
       "  'native_meeting_id': 'eyi-uhuz-bju',\n",
       "  'constructed_meeting_url': 'https://meet.google.com/eyi-uhuz-bju',\n",
       "  'status': 'completed',\n",
       "  'bot_container_id': 'vexa-bot-262-977d7890',\n",
       "  'start_time': '2025-09-06T14:22:29.568131',\n",
       "  'end_time': '2025-09-06T14:26:35.909918',\n",
       "  'data': {'languages': ['en'], 'participants': ['Dmitriy Grankin']},\n",
       "  'created_at': '2025-09-06T14:21:56.486616',\n",
       "  'updated_at': '2025-09-06T14:26:35.925925'},\n",
       " {'id': 261,\n",
       "  'user_id': 134,\n",
       "  'platform': 'google_meet',\n",
       "  'native_meeting_id': 'eyi-uhuz-bju',\n",
       "  'constructed_meeting_url': 'https://meet.google.com/eyi-uhuz-bju',\n",
       "  'status': 'completed',\n",
       "  'bot_container_id': 'vexa-bot-261-a102e6a4',\n",
       "  'start_time': '2025-09-06T14:12:45.048674',\n",
       "  'end_time': '2025-09-06T14:21:26.979383',\n",
       "  'data': {'languages': ['en'], 'participants': ['Dmitriy Grankin']},\n",
       "  'created_at': '2025-09-06T14:12:21.353253',\n",
       "  'updated_at': '2025-09-06T14:21:26.992521'},\n",
       " {'id': 260,\n",
       "  'user_id': 134,\n",
       "  'platform': 'google_meet',\n",
       "  'native_meeting_id': 'eyi-uhuz-bju',\n",
       "  'constructed_meeting_url': 'https://meet.google.com/eyi-uhuz-bju',\n",
       "  'status': 'completed',\n",
       "  'bot_container_id': 'vexa-bot-260-2d967fae',\n",
       "  'start_time': '2025-09-06T14:09:30.198224',\n",
       "  'end_time': '2025-09-06T14:11:33.682818',\n",
       "  'data': {'languages': ['en'], 'participants': ['Dmitriy Grankin']},\n",
       "  'created_at': '2025-09-06T14:09:17.331099',\n",
       "  'updated_at': '2025-09-06T14:11:33.695762'},\n",
       " {'id': 259,\n",
       "  'user_id': 134,\n",
       "  'platform': 'google_meet',\n",
       "  'native_meeting_id': 'eyi-uhuz-bju',\n",
       "  'constructed_meeting_url': 'https://meet.google.com/eyi-uhuz-bju',\n",
       "  'status': 'completed',\n",
       "  'bot_container_id': 'vexa-bot-259-2cd0eef0',\n",
       "  'start_time': '2025-09-06T13:21:45.174889',\n",
       "  'end_time': '2025-09-06T14:03:19.322075',\n",
       "  'data': {'languages': ['en', 'ru'], 'participants': ['Dmitriy Grankin']},\n",
       "  'created_at': '2025-09-06T13:21:32.270998',\n",
       "  'updated_at': '2025-09-06T14:03:19.335494'},\n",
       " {'id': 258,\n",
       "  'user_id': 134,\n",
       "  'platform': 'google_meet',\n",
       "  'native_meeting_id': 'eyi-uhuz-bju',\n",
       "  'constructed_meeting_url': 'https://meet.google.com/eyi-uhuz-bju',\n",
       "  'status': 'completed',\n",
       "  'bot_container_id': 'vexa-bot-258-87c4ed38',\n",
       "  'start_time': '2025-09-06T13:15:56.127685',\n",
       "  'end_time': '2025-09-06T13:20:33.525098',\n",
       "  'data': {'languages': ['en', 'ru'],\n",
       "   'participants': ['Dmitriy Grankin',\n",
       "    'Participant (spaces/gsOU_o0m4eEB/devices/447)']},\n",
       "  'created_at': '2025-09-06T13:15:43.322755',\n",
       "  'updated_at': '2025-09-06T13:20:33.538305'},\n",
       " {'id': 256,\n",
       "  'user_id': 134,\n",
       "  'platform': 'google_meet',\n",
       "  'native_meeting_id': 'fjp-cbnn-hug',\n",
       "  'constructed_meeting_url': 'https://meet.google.com/fjp-cbnn-hug',\n",
       "  'status': 'completed',\n",
       "  'bot_container_id': 'vexa-bot-256-503acc85',\n",
       "  'start_time': '2025-09-06T11:54:28.529338',\n",
       "  'end_time': '2025-09-06T11:54:40.269412',\n",
       "  'data': {},\n",
       "  'created_at': '2025-09-06T11:54:15.733045',\n",
       "  'updated_at': '2025-09-06T11:54:40.267400'}]"
      ]
     },
     "execution_count": 14,
     "metadata": {},
     "output_type": "execute_result"
    }
   ],
   "source": [
    "meetings"
   ]
  },
  {
   "cell_type": "markdown",
   "metadata": {},
   "source": []
  },
  {
   "cell_type": "code",
   "execution_count": 33,
   "metadata": {},
   "outputs": [
    {
     "name": "stdout",
     "output_type": "stream",
     "text": [
      "\n",
      "DEBUG: Making PATCH request to http://localhost:18056/meetings/google_meet/xdy-txjo-fyh\n",
      "DEBUG: Headers: {'Content-Type': 'application/json', 'X-API-Key': 'aQGEy4cX1XN9l60QOEsWKcWWKNNc0prjYUu7pkhw'}\n",
      "DEBUG: Params: None\n",
      "DEBUG: JSON data: {'data': {'name': 'Test Meeting'}}\n",
      "DEBUG: Response status: 200\n",
      "DEBUG: Response headers: {'date': 'Sun, 08 Jun 2025 15:06:06 GMT, Sun, 08 Jun 2025 15:06:06 GMT', 'server': 'uvicorn, uvicorn', 'content-length': '449', 'content-type': 'application/json'}\n",
      "DEBUG: Response content: {\"id\":5,\"user_id\":6,\"platform\":\"google_meet\",\"native_meeting_id\":\"xdy-txjo-fyh\",\"constructed_meeting_url\":\"https://meet.google.com/xdy-txjo-fyh\",\"status\":\"completed\",\"bot_container_id\":\"7edd0e3d1b1aa9f8f668a0c84447889c36a8c4cb974ca15b80654d00c9a083bf\",\"start_time\":\"2025-06-08T15:01:10.681410\",\"end_time\":\"2025-06-08T15:02:05.246022\",\"data\":{\"name\":\"Test Meeting\"},\"created_at\":\"2025-06-08T15:01:10.280791\",\"updated_at\":\"2025-06-08T15:06:07.017651\"}...\n"
     ]
    },
    {
     "data": {
      "text/plain": [
       "{'id': 5,\n",
       " 'user_id': 6,\n",
       " 'platform': 'google_meet',\n",
       " 'native_meeting_id': 'xdy-txjo-fyh',\n",
       " 'constructed_meeting_url': 'https://meet.google.com/xdy-txjo-fyh',\n",
       " 'status': 'completed',\n",
       " 'bot_container_id': '7edd0e3d1b1aa9f8f668a0c84447889c36a8c4cb974ca15b80654d00c9a083bf',\n",
       " 'start_time': '2025-06-08T15:01:10.681410',\n",
       " 'end_time': '2025-06-08T15:02:05.246022',\n",
       " 'data': {'name': 'Test Meeting'},\n",
       " 'created_at': '2025-06-08T15:01:10.280791',\n",
       " 'updated_at': '2025-06-08T15:06:07.017651'}"
      ]
     },
     "execution_count": 33,
     "metadata": {},
     "output_type": "execute_result"
    }
   ],
   "source": [
    "client.update_meeting_data(\n",
    "    platform=\"google_meet\",\n",
    "    native_meeting_id=native_meeting_id,\n",
    "    name=\"Test Meeting\",\n",
    ")"
   ]
  },
  {
   "cell_type": "code",
   "execution_count": 32,
   "metadata": {},
   "outputs": [
    {
     "name": "stdout",
     "output_type": "stream",
     "text": [
      "\n",
      "DEBUG: Making DELETE request to http://localhost:18056/meetings/google_meet/xdy-txjo-fyh\n",
      "DEBUG: Headers: {'Content-Type': 'application/json', 'X-API-Key': 'aQGEy4cX1XN9l60QOEsWKcWWKNNc0prjYUu7pkhw'}\n",
      "DEBUG: Params: None\n",
      "DEBUG: JSON data: None\n",
      "DEBUG: Response status: 200\n",
      "DEBUG: Response headers: {'date': 'Sun, 08 Jun 2025 15:06:02 GMT, Sun, 08 Jun 2025 15:06:02 GMT', 'server': 'uvicorn, uvicorn', 'content-length': '88', 'content-type': 'application/json'}\n",
      "DEBUG: Response content: {\"message\":\"Meeting google_meet/xdy-txjo-fyh and all its transcripts have been deleted\"}...\n"
     ]
    },
    {
     "data": {
      "text/plain": [
       "{'message': 'Meeting google_meet/xdy-txjo-fyh and all its transcripts have been deleted'}"
      ]
     },
     "execution_count": 32,
     "metadata": {},
     "output_type": "execute_result"
    }
   ],
   "source": [
    "client.delete_meeting(\n",
    "    platform=\"google_meet\",\n",
    "    native_meeting_id=native_meeting_id,\n",
    ")"
   ]
  },
  {
   "cell_type": "code",
   "execution_count": null,
   "metadata": {},
   "outputs": [],
   "source": []
  }
 ],
 "metadata": {
  "kernelspec": {
   "display_name": "vexa",
   "language": "python",
   "name": "python3"
  },
  "language_info": {
   "codemirror_mode": {
    "name": "ipython",
    "version": 3
   },
   "file_extension": ".py",
   "mimetype": "text/x-python",
   "name": "python",
   "nbconvert_exporter": "python",
   "pygments_lexer": "ipython3",
   "version": "3.11.10"
  }
 },
 "nbformat": 4,
 "nbformat_minor": 2
}
