{
 "cells": [
  {
   "cell_type": "code",
   "execution_count": 1,
   "metadata": {},
   "outputs": [
    {
     "name": "stdout",
     "output_type": "stream",
     "text": [
      "Imported VexaClient from: vexa_client\n",
      "VexaClient file location: Unknown\n"
     ]
    }
   ],
   "source": [
    "import sys\n",
    "import os\n",
    "\n",
    "# Add the parent directory to Python path to import local vexa_client\n",
    "sys.path.insert(0, os.path.abspath('..'))\n",
    "\n",
    "# Now import the local development version\n",
    "from vexa_client import VexaClient\n",
    "\n",
    "print(f\"Imported VexaClient from: {VexaClient.__module__}\")\n",
    "print(f\"VexaClient file location: {VexaClient.__module__.__file__ if hasattr(VexaClient.__module__, '__file__') else 'Unknown'}\")\n"
   ]
  },
  {
   "cell_type": "code",
   "execution_count": 2,
   "metadata": {},
   "outputs": [
    {
     "name": "stdout",
     "output_type": "stream",
     "text": [
      "request_bot method signature:\n",
      "(self, platform: str, native_meeting_id: str, bot_name: Optional[str] = None, language: Optional[str] = None, task: Optional[str] = None, passcode: Optional[str] = None) -> Dict[str, Any]\n",
      "✅ passcode parameter is available!\n"
     ]
    }
   ],
   "source": [
    "# Verify the request_bot method signature includes passcode parameter\n",
    "import inspect\n",
    "\n",
    "sig = inspect.signature(VexaClient.request_bot)\n",
    "print(\"request_bot method signature:\")\n",
    "print(sig)\n",
    "\n",
    "# Check if passcode parameter exists\n",
    "if 'passcode' in sig.parameters:\n",
    "    print(\"✅ passcode parameter is available!\")\n",
    "else:\n",
    "    print(\"❌ passcode parameter is missing!\")\n"
   ]
  },
  {
   "cell_type": "code",
   "execution_count": 3,
   "metadata": {},
   "outputs": [
    {
     "data": {
      "text/plain": [
       "1"
      ]
     },
     "execution_count": 3,
     "metadata": {},
     "output_type": "execute_result"
    }
   ],
   "source": [
    "1"
   ]
  },
  {
   "cell_type": "code",
   "execution_count": 4,
   "metadata": {},
   "outputs": [],
   "source": [
    "import pandas as pd\n",
    "pd.options.display.max_colwidth = 1000\n",
    "pd.set_option('display.max_colwidth', 1000)\n",
    "pd.set_option('display.max_rows', 1000)\n",
    "pd.set_option('display.max_columns', 1000)\n",
    "pd.set_option('display.width', 1000)\n",
    "pd.set_option('display.float_format', '{:20.2f}'.format)\n",
    "pd.set_option('display.max_colwidth', 1000)\n",
    "pd.set_option('display.max_rows', 1000)\n",
    "pd.set_option('display.max_columns', 1000)\n",
    "from IPython.display import clear_output,display"
   ]
  },
  {
   "cell_type": "code",
   "execution_count": 5,
   "metadata": {},
   "outputs": [],
   "source": [
    "from vexa_client import VexaClient"
   ]
  },
  {
   "cell_type": "code",
   "execution_count": 6,
   "metadata": {},
   "outputs": [],
   "source": [
    "import importlib\n",
    "import sys\n",
    "\n",
    "# Remove the module from cache if it exists\n",
    "if 'vexa_client' in sys.modules:\n",
    "    del sys.modules['vexa_client']\n",
    "\n",
    "# Re-import\n",
    "from vexa_client import VexaClient"
   ]
  },
  {
   "cell_type": "code",
   "execution_count": 7,
   "metadata": {},
   "outputs": [],
   "source": [
    "# Load environment variables from .env file\n",
    "from dotenv import load_dotenv\n",
    "\n",
    "# Load .env file\n",
    "load_dotenv()\n",
    "import random\n",
    "\n",
    "import os\n",
    "from vexa_client import VexaClient\n",
    "\n",
    "import os\n",
    "TOKEN = os.getenv('ADMIN_API_TOKEN')\n",
    "url = \"http://localhost:18056\"\n",
    "admin_client = VexaClient(\n",
    "    base_url=url,\n",
    "    admin_key=TOKEN  # From docker-compose.yml\n",
    ")\n",
    "\n",
    "import time"
   ]
  },
  {
   "cell_type": "code",
   "execution_count": 8,
   "metadata": {},
   "outputs": [
    {
     "name": "stdout",
     "output_type": "stream",
     "text": [
      "\n",
      "DEBUG: Making POST request to http://localhost:18056/admin/users\n",
      "DEBUG: Headers: {'Content-Type': 'application/json', 'X-Admin-API-Key': 'token'}\n",
      "DEBUG: Params: None\n",
      "DEBUG: JSON data: {'email': '404483@example.com', 'name': 'test', 'max_concurrent_bots': 1}\n",
      "DEBUG: Response status: 201\n",
      "DEBUG: Response headers: {'date': 'Fri, 19 Sep 2025 18:51:11 GMT, Fri, 19 Sep 2025 18:51:11 GMT', 'server': 'uvicorn, uvicorn', 'content-length': '146', 'content-type': 'application/json'}\n",
      "DEBUG: Response content: {\"email\":\"404483@example.com\",\"name\":\"test\",\"image_url\":null,\"max_concurrent_bots\":1,\"data\":{},\"id\":286,\"created_at\":\"2025-09-19T18:51:12.447555\"}...\n"
     ]
    }
   ],
   "source": [
    "new_user = admin_client.create_user(email=f\"{random.randint(1, 1000000)}@example.com\", \n",
    "                                    name=\"test\",\n",
    "                                    max_concurrent_bots=1)\n"
   ]
  },
  {
   "cell_type": "code",
   "execution_count": 9,
   "metadata": {},
   "outputs": [
    {
     "name": "stdout",
     "output_type": "stream",
     "text": [
      "\n",
      "DEBUG: Making POST request to http://localhost:18056/admin/users/286/tokens\n",
      "DEBUG: Headers: {'Content-Type': 'application/json', 'X-Admin-API-Key': 'token'}\n",
      "DEBUG: Params: None\n",
      "DEBUG: JSON data: None\n",
      "DEBUG: Response status: 201\n",
      "DEBUG: Response headers: {'date': 'Fri, 19 Sep 2025 18:51:12 GMT, Fri, 19 Sep 2025 18:51:12 GMT', 'server': 'uvicorn, uvicorn', 'content-length': '117', 'content-type': 'application/json'}\n",
      "DEBUG: Response content: {\"user_id\":286,\"id\":329,\"token\":\"3BptWoYiHWvarisyGQl061UHlWnijTb8ysZ6GmkN\",\"created_at\":\"2025-09-19T18:51:13.226689\"}...\n"
     ]
    }
   ],
   "source": [
    "\n",
    "user_id = new_user['id']\n",
    "user_id\n",
    "token_info = admin_client.create_token(user_id=user_id)\n",
    "user_api_key = token_info['token']\n",
    "client = VexaClient(\n",
    "    base_url=url,\n",
    "    api_key=user_api_key\n",
    ")"
   ]
  },
  {
   "cell_type": "code",
   "execution_count": 10,
   "metadata": {},
   "outputs": [
    {
     "name": "stdout",
     "output_type": "stream",
     "text": [
      "\n",
      "DEBUG: Making PUT request to http://localhost:18056/user/webhook\n",
      "DEBUG: Headers: {'Content-Type': 'application/json', 'X-API-Key': '3BptWoYiHWvarisyGQl061UHlWnijTb8ysZ6GmkN'}\n",
      "DEBUG: Params: None\n",
      "DEBUG: JSON data: {'webhook_url': 'https://webhook-test.com/e79be735cf3e9bc0c98ca068beaac1f3'}\n",
      "DEBUG: Response status: 200\n",
      "DEBUG: Response headers: {'date': 'Fri, 19 Sep 2025 18:51:13 GMT, Fri, 19 Sep 2025 18:51:13 GMT', 'server': 'uvicorn, uvicorn', 'content-length': '219', 'content-type': 'application/json'}\n",
      "DEBUG: Response content: {\"email\":\"404483@example.com\",\"name\":\"test\",\"image_url\":null,\"max_concurrent_bots\":1,\"data\":{\"webhook_url\":\"https://webhook-test.com/e79be735cf3e9bc0c98ca068beaac1f3\"},\"id\":286,\"created_at\":\"2025-09-19T18:51:12.447555\"}...\n"
     ]
    },
    {
     "data": {
      "text/plain": [
       "{'email': '404483@example.com',\n",
       " 'name': 'test',\n",
       " 'image_url': None,\n",
       " 'max_concurrent_bots': 1,\n",
       " 'data': {'webhook_url': 'https://webhook-test.com/e79be735cf3e9bc0c98ca068beaac1f3'},\n",
       " 'id': 286,\n",
       " 'created_at': '2025-09-19T18:51:12.447555'}"
      ]
     },
     "execution_count": 10,
     "metadata": {},
     "output_type": "execute_result"
    }
   ],
   "source": [
    "client.set_webhook_url(\"https://webhook-test.com/e79be735cf3e9bc0c98ca068beaac1f3\")"
   ]
  },
  {
   "cell_type": "code",
   "execution_count": 11,
   "metadata": {},
   "outputs": [],
   "source": [
    "# client = VexaClient(\n",
    "#     base_url=url,\n",
    "#     api_key='rzwFUoj4hoZq0p9SD7MnfDrEGjDe4Hfr7rBp34CS'\n",
    "# )"
   ]
  },
  {
   "cell_type": "code",
   "execution_count": 12,
   "metadata": {},
   "outputs": [],
   "source": [
    "\n",
    "#meeting_url=\"https://meet.google.com/guu-axxy-tze\"\n"
   ]
  },
  {
   "cell_type": "code",
   "execution_count": 13,
   "metadata": {},
   "outputs": [],
   "source": [
    "import re\n",
    "split_teams_url = lambda url: (re.search(r'/meet/(\\d+)', url).group(1), re.search(r'\\?p=([^&]+)', url).group(1) if '?p=' in url else '')"
   ]
  },
  {
   "cell_type": "code",
   "execution_count": 14,
   "metadata": {},
   "outputs": [],
   "source": [
    "meeting_url=\"https://meet.google.com/fvu-otxr-wjv\"\n",
    "platform = 'google_meet'\n",
    "native_meeting_id = meeting_url.split(\"/\")[-1]\n",
    "passcode = None\n"
   ]
  },
  {
   "cell_type": "code",
   "execution_count": 15,
   "metadata": {},
   "outputs": [],
   "source": [
    "# meeting_url=\"https://teams.live.com/meet/9342205715849?p=1Tw4SOPN4ZfYgCKRcQ\"\n",
    "# platform = 'teams'\n",
    "# native_meeting_id, passcode = split_teams_url(meeting_url)\n"
   ]
  },
  {
   "cell_type": "code",
   "execution_count": 16,
   "metadata": {},
   "outputs": [
    {
     "name": "stdout",
     "output_type": "stream",
     "text": [
      "Constructed URL: https://meet.google.com/fvu-otxr-wjv\n"
     ]
    },
    {
     "name": "stderr",
     "output_type": "stream",
     "text": [
      "/home/dima/anaconda3/envs/vexa/lib/python3.11/site-packages/pydantic/_internal/_config.py:373: UserWarning: Valid config keys have changed in V2:\n",
      "* 'orm_mode' has been renamed to 'from_attributes'\n",
      "  warnings.warn(message, UserWarning)\n",
      "/home/dima/anaconda3/envs/vexa/lib/python3.11/site-packages/pydantic/_internal/_config.py:373: UserWarning: Valid config keys have changed in V2:\n",
      "* 'allow_population_by_field_name' has been renamed to 'validate_by_name'\n",
      "* 'orm_mode' has been renamed to 'from_attributes'\n",
      "  warnings.warn(message, UserWarning)\n"
     ]
    }
   ],
   "source": [
    "\n",
    "# Test the URL construction locally\n",
    "sys.path.insert(0, os.path.abspath('../libs/shared-models'))\n",
    "from shared_models.schemas import Platform\n",
    "try:\n",
    "    constructed_url = Platform.construct_meeting_url(platform, native_meeting_id, passcode)\n",
    "    print(f\"Constructed URL: {constructed_url}\")\n",
    "except Exception as e:\n",
    "    print(f\"URL construction failed: {e}\")\n"
   ]
  },
  {
   "cell_type": "code",
   "execution_count": 17,
   "metadata": {},
   "outputs": [
    {
     "data": {
      "text/plain": [
       "'fvu-otxr-wjv'"
      ]
     },
     "execution_count": 17,
     "metadata": {},
     "output_type": "execute_result"
    }
   ],
   "source": [
    "native_meeting_id"
   ]
  },
  {
   "cell_type": "code",
   "execution_count": 18,
   "metadata": {},
   "outputs": [
    {
     "name": "stdout",
     "output_type": "stream",
     "text": [
      "\n",
      "DEBUG: Making POST request to http://localhost:18056/bots\n",
      "DEBUG: Headers: {'Content-Type': 'application/json', 'X-API-Key': '3BptWoYiHWvarisyGQl061UHlWnijTb8ysZ6GmkN'}\n",
      "DEBUG: Params: None\n",
      "DEBUG: JSON data: {'platform': 'google_meet', 'native_meeting_id': 'fvu-otxr-wjv', 'bot_name': \"Dmitry's bot\", 'language': 'ru', 'task': 'transcribe'}\n",
      "DEBUG: Response status: 201\n",
      "DEBUG: Response headers: {'date': 'Fri, 19 Sep 2025 18:51:32 GMT, Fri, 19 Sep 2025 18:51:32 GMT', 'server': 'uvicorn, uvicorn', 'content-length': '384', 'content-type': 'application/json'}\n",
      "DEBUG: Response content: {\"id\":635,\"user_id\":286,\"platform\":\"google_meet\",\"native_meeting_id\":\"fvu-otxr-wjv\",\"constructed_meeting_url\":\"https://meet.google.com/fvu-otxr-wjv\",\"status\":\"requested\",\"bot_container_id\":\"b8a21f36b350bb94df467b03bb91db7cd308d87acc310bf50d3e07ece546064d\",\"start_time\":null,\"end_time\":null,\"data\":{},\"created_at\":\"2025-09-19T18:51:32.903058\",\"updated_at\":\"2025-09-19T18:51:32.923204\"}...\n"
     ]
    }
   ],
   "source": [
    "\n",
    "meeting_info = client.request_bot(\n",
    "    platform=platform,\n",
    "    native_meeting_id=native_meeting_id,\n",
    "    bot_name=\"Dmitry's bot\",\n",
    "    language='ru',\n",
    "    task = 'transcribe',\n",
    "    passcode=passcode\n",
    ")\n",
    "meeting_id = meeting_info['id']"
   ]
  },
  {
   "cell_type": "code",
   "execution_count": 33,
   "metadata": {},
   "outputs": [
    {
     "name": "stdout",
     "output_type": "stream",
     "text": [
      "\n",
      "DEBUG: Making GET request to http://localhost:18056/meetings\n",
      "DEBUG: Headers: {'Content-Type': 'application/json', 'X-API-Key': '3BptWoYiHWvarisyGQl061UHlWnijTb8ysZ6GmkN'}\n",
      "DEBUG: Params: None\n",
      "DEBUG: JSON data: None\n",
      "DEBUG: Response status: 200\n",
      "DEBUG: Response headers: {'date': 'Fri, 19 Sep 2025 18:54:32 GMT, Fri, 19 Sep 2025 18:54:32 GMT', 'server': 'uvicorn, uvicorn', 'content-length': '943', 'content-type': 'application/json'}\n",
      "DEBUG: Response content: {\"meetings\":[{\"id\":635,\"user_id\":286,\"platform\":\"google_meet\",\"native_meeting_id\":\"fvu-otxr-wjv\",\"constructed_meeting_url\":\"https://meet.google.com/fvu-otxr-wjv\",\"status\":\"completed\",\"bot_container_id\":\"vexa-bot-635-45246bd5\",\"start_time\":\"2025-09-19T18:51:46.427554\",\"end_time\":\"2025-09-19T18:53:58.811992\",\"data\":{\"completion_reason\":\"stopped\",\"status_transition\":[{\"to\":\"joining\",\"from\":\"requested\",\"source\":\"bot_callback\",\"timestamp\":\"2025-09-19T18:51:36.708085\"},{\"to\":\"awaiting_admission\",\"from...\n"
     ]
    },
    {
     "data": {
      "text/plain": [
       "[{'id': 635,\n",
       "  'user_id': 286,\n",
       "  'platform': 'google_meet',\n",
       "  'native_meeting_id': 'fvu-otxr-wjv',\n",
       "  'constructed_meeting_url': 'https://meet.google.com/fvu-otxr-wjv',\n",
       "  'status': 'completed',\n",
       "  'bot_container_id': 'vexa-bot-635-45246bd5',\n",
       "  'start_time': '2025-09-19T18:51:46.427554',\n",
       "  'end_time': '2025-09-19T18:53:58.811992',\n",
       "  'data': {'completion_reason': 'stopped',\n",
       "   'status_transition': [{'to': 'joining',\n",
       "     'from': 'requested',\n",
       "     'source': 'bot_callback',\n",
       "     'timestamp': '2025-09-19T18:51:36.708085'},\n",
       "    {'to': 'awaiting_admission',\n",
       "     'from': 'joining',\n",
       "     'source': 'bot_callback',\n",
       "     'timestamp': '2025-09-19T18:51:46.399962'},\n",
       "    {'to': 'active',\n",
       "     'from': 'awaiting_admission',\n",
       "     'source': 'bot_callback',\n",
       "     'timestamp': '2025-09-19T18:51:46.423326'},\n",
       "    {'to': 'completed',\n",
       "     'from': 'active',\n",
       "     'reason': 'self_initiated_leave',\n",
       "     'source': 'user',\n",
       "     'exit_code': 0,\n",
       "     'timestamp': '2025-09-19T18:53:58.799918',\n",
       "     'completion_reason': 'stopped'}]},\n",
       "  'created_at': '2025-09-19T18:51:32.903058',\n",
       "  'updated_at': '2025-09-19T18:53:58.811236'}]"
      ]
     },
     "execution_count": 33,
     "metadata": {},
     "output_type": "execute_result"
    }
   ],
   "source": [
    "meetings = client.get_meetings()\n",
    "meetings"
   ]
  },
  {
   "cell_type": "code",
   "execution_count": 32,
   "metadata": {},
   "outputs": [
    {
     "name": "stdout",
     "output_type": "stream",
     "text": [
      "\n",
      "DEBUG: Making DELETE request to http://localhost:18056/bots/google_meet/fvu-otxr-wjv\n",
      "DEBUG: Headers: {'Content-Type': 'application/json', 'X-API-Key': '3BptWoYiHWvarisyGQl061UHlWnijTb8ysZ6GmkN'}\n",
      "DEBUG: Params: None\n",
      "DEBUG: JSON data: None\n",
      "DEBUG: Response status: 202\n",
      "DEBUG: Response headers: {'date': 'Fri, 19 Sep 2025 18:54:29 GMT, Fri, 19 Sep 2025 18:54:29 GMT', 'server': 'uvicorn, uvicorn', 'content-length': '40', 'content-type': 'application/json'}\n",
      "DEBUG: Response content: {\"message\":\"Meeting already completed.\"}...\n"
     ]
    },
    {
     "data": {
      "text/plain": [
       "{'message': 'Meeting already completed.'}"
      ]
     },
     "execution_count": 32,
     "metadata": {},
     "output_type": "execute_result"
    }
   ],
   "source": [
    "client.stop_bot(platform=platform,native_meeting_id=native_meeting_id)"
   ]
  },
  {
   "cell_type": "code",
   "execution_count": 141,
   "metadata": {},
   "outputs": [
    {
     "name": "stdout",
     "output_type": "stream",
     "text": [
      "\n",
      "DEBUG: Making GET request to http://localhost:18056/bots/status\n",
      "DEBUG: Headers: {'Content-Type': 'application/json', 'X-API-Key': 'MCitmXU0t3HOByU8qquiOR3XtRYMN6PlzKK1XxCA'}\n",
      "DEBUG: Params: None\n",
      "DEBUG: JSON data: None\n",
      "DEBUG: Response status: 200\n",
      "DEBUG: Response headers: {'date': 'Fri, 19 Sep 2025 18:33:09 GMT, Fri, 19 Sep 2025 18:33:09 GMT', 'server': 'uvicorn, uvicorn', 'content-length': '443', 'content-type': 'application/json'}\n",
      "DEBUG: Response content: {\"running_bots\":[{\"container_id\":\"8df6d84933c9c0765a0ef8472c1913bb71fcae2e02833205a2c204c76232f2ec\",\"container_name\":\"vexa-bot-634-38e80f27\",\"platform\":\"google_meet\",\"native_meeting_id\":\"fvu-otxr-wjv\",\"status\":\"Up 37 seconds\",\"normalized_status\":\"Up\",\"created_at\":\"2025-09-19T18:32:33+00:00\",\"labels\":{\"org.opencontainers.image.ref.name\":\"ubuntu\",\"org.opencontainers.image.version\":\"22.04\",\"vexa.user_id\":\"283\"},\"meeting_id_from_name\":\"634\"}]}...\n"
     ]
    },
    {
     "data": {
      "text/plain": [
       "[{'container_id': '8df6d84933c9c0765a0ef8472c1913bb71fcae2e02833205a2c204c76232f2ec',\n",
       "  'container_name': 'vexa-bot-634-38e80f27',\n",
       "  'platform': 'google_meet',\n",
       "  'native_meeting_id': 'fvu-otxr-wjv',\n",
       "  'status': 'Up 37 seconds',\n",
       "  'normalized_status': 'Up',\n",
       "  'created_at': '2025-09-19T18:32:33+00:00',\n",
       "  'labels': {'org.opencontainers.image.ref.name': 'ubuntu',\n",
       "   'org.opencontainers.image.version': '22.04',\n",
       "   'vexa.user_id': '283'},\n",
       "  'meeting_id_from_name': '634'}]"
      ]
     },
     "execution_count": 141,
     "metadata": {},
     "output_type": "execute_result"
    }
   ],
   "source": [
    "running_bots = client.get_running_bots_status()\n",
    "running_bots"
   ]
  },
  {
   "cell_type": "markdown",
   "metadata": {},
   "source": []
  },
  {
   "cell_type": "code",
   "execution_count": null,
   "metadata": {},
   "outputs": [],
   "source": []
  },
  {
   "cell_type": "code",
   "execution_count": 24,
   "metadata": {},
   "outputs": [
    {
     "name": "stdout",
     "output_type": "stream",
     "text": [
      "\n",
      "DEBUG: Making PUT request to http://localhost:18056/bots/google_meet/fvu-otxr-wjv/config\n",
      "DEBUG: Headers: {'Content-Type': 'application/json', 'X-API-Key': '3BptWoYiHWvarisyGQl061UHlWnijTb8ysZ6GmkN'}\n",
      "DEBUG: Params: None\n",
      "DEBUG: JSON data: {'language': 'en', 'task': 'transcribe'}\n",
      "DEBUG: Response status: 202\n",
      "DEBUG: Response headers: {'date': 'Fri, 19 Sep 2025 18:52:09 GMT, Fri, 19 Sep 2025 18:52:09 GMT', 'server': 'uvicorn, uvicorn', 'content-length': '67', 'content-type': 'application/json'}\n",
      "DEBUG: Response content: {\"message\":\"Reconfiguration request accepted and sent to the bot.\"}...\n"
     ]
    },
    {
     "data": {
      "text/plain": [
       "{'message': 'Reconfiguration request accepted and sent to the bot.'}"
      ]
     },
     "execution_count": 24,
     "metadata": {},
     "output_type": "execute_result"
    }
   ],
   "source": [
    "client.update_bot_config(\n",
    "    platform=platform,\n",
    "    native_meeting_id=native_meeting_id,\n",
    "    language='en',\n",
    "    task = 'transcribe'\n",
    ")"
   ]
  },
  {
   "cell_type": "markdown",
   "metadata": {},
   "source": []
  },
  {
   "cell_type": "code",
   "execution_count": null,
   "metadata": {},
   "outputs": [],
   "source": [
    "client.update_meeting_data(\n",
    "    platform=\"google_meet\",\n",
    "    native_meeting_id=native_meeting_id,\n",
    "    name=\"Test Meeting\",\n",
    ")"
   ]
  },
  {
   "cell_type": "code",
   "execution_count": null,
   "metadata": {},
   "outputs": [],
   "source": [
    "client.delete_meeting(\n",
    "    platform=\"google_meet\",\n",
    "    native_meeting_id=native_meeting_id,\n",
    ")"
   ]
  },
  {
   "cell_type": "code",
   "execution_count": null,
   "metadata": {},
   "outputs": [],
   "source": []
  }
 ],
 "metadata": {
  "kernelspec": {
   "display_name": "vexa",
   "language": "python",
   "name": "python3"
  },
  "language_info": {
   "codemirror_mode": {
    "name": "ipython",
    "version": 3
   },
   "file_extension": ".py",
   "mimetype": "text/x-python",
   "name": "python",
   "nbconvert_exporter": "python",
   "pygments_lexer": "ipython3",
   "version": "3.11.10"
  }
 },
 "nbformat": 4,
 "nbformat_minor": 2
}
