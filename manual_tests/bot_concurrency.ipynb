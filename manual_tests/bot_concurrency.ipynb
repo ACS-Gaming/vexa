{
 "cells": [
  {
   "cell_type": "markdown",
   "metadata": {},
   "source": [
    "#### imports "
   ]
  },
  {
   "cell_type": "code",
   "execution_count": 1,
   "metadata": {},
   "outputs": [],
   "source": [
    "import pandas as pd\n",
    "pd.options.display.max_colwidth = 1000\n",
    "pd.set_option('display.max_colwidth', 1000)\n",
    "pd.set_option('display.max_rows', 1000)\n",
    "pd.set_option('display.max_columns', 1000)\n",
    "pd.set_option('display.width', 1000)\n",
    "pd.set_option('display.float_format', '{:20.2f}'.format)\n",
    "pd.set_option('display.max_colwidth', 1000)\n",
    "pd.set_option('display.max_rows', 1000)\n",
    "pd.set_option('display.max_columns', 1000)\n",
    "from IPython.display import clear_output,display"
   ]
  },
  {
   "cell_type": "code",
   "execution_count": 2,
   "metadata": {},
   "outputs": [],
   "source": [
    "# Load environment variables from .env file\n",
    "from dotenv import load_dotenv\n",
    "\n",
    "# Load .env file\n",
    "load_dotenv()\n",
    "import random\n",
    "\n",
    "import os\n",
    "from vexa_client import VexaClient\n",
    "\n",
    "import os\n",
    "TOKEN = os.getenv('ADMIN_API_TOKEN')\n",
    "url = \"http://localhost:18056\"\n",
    "admin_client = VexaClient(\n",
    "    base_url=url,\n",
    "    admin_key=TOKEN  # From docker-compose.yml\n",
    ")\n",
    "\n",
    "import time\n",
    "\n",
    "def request_bot(meeting_url,language=None):\n",
    "    native_meeting_id = meeting_url.split(\"/\")[-1]  # \"xyz-abcd-123\"\n",
    "    meeting_info = client.request_bot(\n",
    "        platform=\"google_meet\",\n",
    "        native_meeting_id=native_meeting_id,\n",
    "        bot_name=\"Vexa\",\n",
    "        language=language,\n",
    "        task = 'transcribe'\n",
    "    )\n",
    "    return meeting_info\n",
    "def get_transcript(meeting_url):\n",
    "    native_meeting_id = meeting_url.split(\"/\")[-1]\n",
    "    try:\n",
    "        for _ in range(10):\n",
    "            \n",
    "                transcript = client.get_transcript(native_meeting_id=native_meeting_id,platform='google_meet')\n",
    "                df = pd.DataFrame(transcript['segments'])#.sort_values(['created_at','start'])#.drop_duplicates('start',keep='last')\n",
    "                clear_output()\n",
    "                display(df.sort_values('absolute_start_time').tail(10))\n",
    "                time.sleep(1)\n",
    "\n",
    "    except Exception as e:\n",
    "        print(e)\n",
    "\n",
    "def stop_bot(meeting_url):\n",
    "    native_meeting_id = meeting_url.split(\"/\")[-1]\n",
    "    client.stop_bot(platform=\"google_meet\",native_meeting_id=native_meeting_id)\n"
   ]
  },
  {
   "cell_type": "markdown",
   "metadata": {},
   "source": [
    "#### agenda"
   ]
  },
  {
   "cell_type": "markdown",
   "metadata": {},
   "source": [
    "#### single bot per user/meeting\n",
    "#### concurrent_bots\n",
    "1. create user with 2 concurrency\n",
    "2. start 1 bot\n",
    "3. request another bot for the same meeting immediately -> must fail\n",
    "4. first bot -> must come, admit the bot\n",
    "5. speak and test transcription\n",
    "6. launch bot for another meeting, admit the bot, check trnascription\n",
    "7. launch another bot for the third meeting -> must fail\n",
    "8. stop bot meeting 2 and and launch bot 3, but come\n",
    "\n",
    "#### stop bot works for requested and active meetings\n",
    "1 start meeting 1, stop immediately, start meeting 2 ->bot must come\n"
   ]
  },
  {
   "cell_type": "markdown",
   "metadata": {},
   "source": [
    "#### tests"
   ]
  },
  {
   "cell_type": "code",
   "execution_count": 3,
   "metadata": {},
   "outputs": [],
   "source": [
    "meeting_urls = [\"https://meet.google.com/xdy-txjo-fyh\", \n",
    "            \"https://meet.google.com/fjp-cbnn-hug\",\n",
    "            \"https://meet.google.com/wjf-bhmw-bix\"]"
   ]
  },
  {
   "cell_type": "markdown",
   "metadata": {},
   "source": [
    "##### 1. create user with 2 concurrency"
   ]
  },
  {
   "cell_type": "code",
   "execution_count": 4,
   "metadata": {},
   "outputs": [
    {
     "name": "stdout",
     "output_type": "stream",
     "text": [
      "\n",
      "DEBUG: Making POST request to http://localhost:18056/admin/users\n",
      "DEBUG: Headers: {'Content-Type': 'application/json', 'X-Admin-API-Key': 'token'}\n",
      "DEBUG: Params: None\n",
      "DEBUG: JSON data: {'email': '28365@example.com', 'name': 'test', 'max_concurrent_bots': 2}\n",
      "DEBUG: Response status: 201\n",
      "DEBUG: Response headers: {'date': 'Fri, 19 Sep 2025 18:08:08 GMT, Fri, 19 Sep 2025 18:08:08 GMT', 'server': 'uvicorn, uvicorn', 'content-length': '145', 'content-type': 'application/json'}\n",
      "DEBUG: Response content: {\"email\":\"28365@example.com\",\"name\":\"test\",\"image_url\":null,\"max_concurrent_bots\":2,\"data\":{},\"id\":282,\"created_at\":\"2025-09-19T18:08:09.255479\"}...\n",
      "\n",
      "DEBUG: Making POST request to http://localhost:18056/admin/users/282/tokens\n",
      "DEBUG: Headers: {'Content-Type': 'application/json', 'X-Admin-API-Key': 'token'}\n",
      "DEBUG: Params: None\n",
      "DEBUG: JSON data: None\n",
      "DEBUG: Response status: 201\n",
      "DEBUG: Response headers: {'date': 'Fri, 19 Sep 2025 18:08:08 GMT, Fri, 19 Sep 2025 18:08:08 GMT', 'server': 'uvicorn, uvicorn', 'content-length': '117', 'content-type': 'application/json'}\n",
      "DEBUG: Response content: {\"user_id\":282,\"id\":325,\"token\":\"JbCm18ZyVsB076jQi2f2wjX1mHRjsMgFhMAPmBh8\",\"created_at\":\"2025-09-19T18:08:09.265822\"}...\n"
     ]
    }
   ],
   "source": [
    "\n",
    "new_user = admin_client.create_user(email=f\"{random.randint(1, 1000000)}@example.com\", \n",
    "                                    name=\"test\",\n",
    "                                    max_concurrent_bots=2)\n",
    "user_id = new_user['id']\n",
    "user_id\n",
    "token_info = admin_client.create_token(user_id=user_id)\n",
    "user_api_key = token_info['token']\n",
    "client = VexaClient(\n",
    "    base_url=url,\n",
    "    api_key=user_api_key)"
   ]
  },
  {
   "cell_type": "code",
   "execution_count": 5,
   "metadata": {},
   "outputs": [
    {
     "name": "stdout",
     "output_type": "stream",
     "text": [
      "\n",
      "DEBUG: Making POST request to http://localhost:18056/bots\n",
      "DEBUG: Headers: {'Content-Type': 'application/json', 'X-API-Key': 'JbCm18ZyVsB076jQi2f2wjX1mHRjsMgFhMAPmBh8'}\n",
      "DEBUG: Params: None\n",
      "DEBUG: JSON data: {'platform': 'google_meet', 'native_meeting_id': 'xdy-txjo-fyh', 'bot_name': 'Vexa', 'task': 'transcribe'}\n",
      "DEBUG: Response status: 201\n",
      "DEBUG: Response headers: {'date': 'Fri, 19 Sep 2025 18:08:08 GMT, Fri, 19 Sep 2025 18:08:08 GMT', 'server': 'uvicorn, uvicorn', 'content-length': '384', 'content-type': 'application/json'}\n",
      "DEBUG: Response content: {\"id\":631,\"user_id\":282,\"platform\":\"google_meet\",\"native_meeting_id\":\"xdy-txjo-fyh\",\"constructed_meeting_url\":\"https://meet.google.com/xdy-txjo-fyh\",\"status\":\"requested\",\"bot_container_id\":\"337fc56430453f69052ae853777882802e2e0cd6d22295172d8b62cd40019909\",\"start_time\":null,\"end_time\":null,\"data\":{},\"created_at\":\"2025-09-19T18:08:09.397069\",\"updated_at\":\"2025-09-19T18:08:09.420857\"}...\n",
      "\n",
      "DEBUG: Making POST request to http://localhost:18056/bots\n",
      "DEBUG: Headers: {'Content-Type': 'application/json', 'X-API-Key': 'JbCm18ZyVsB076jQi2f2wjX1mHRjsMgFhMAPmBh8'}\n",
      "DEBUG: Params: None\n",
      "DEBUG: JSON data: {'platform': 'google_meet', 'native_meeting_id': 'xdy-txjo-fyh', 'bot_name': 'Vexa', 'task': 'transcribe'}\n",
      "DEBUG: Response status: 409\n",
      "DEBUG: Response headers: {'date': 'Fri, 19 Sep 2025 18:08:09 GMT, Fri, 19 Sep 2025 18:08:08 GMT', 'server': 'uvicorn, uvicorn', 'content-length': '147', 'content-type': 'application/json'}\n",
      "DEBUG: Response content: {\"detail\":\"An active or requested meeting already exists for this platform and meeting ID. Platform: google_meet, Native Meeting ID: xdy-txjo-fyh\"}...\n",
      "HTTP Error 409 for POST http://localhost:18056/bots: An active or requested meeting already exists for this platform and meeting ID. Platform: google_meet, Native Meeting ID: xdy-txjo-fyh\n"
     ]
    }
   ],
   "source": [
    "#2. start 1 bot\n",
    "request_bot(meeting_urls[0])\n",
    "#3. request another bot for the same meeting immediately (must fail)\n",
    "try:request_bot(meeting_urls[0])\n",
    "except Exception as e:\n",
    "    print(e) #An active or requested meeting already exists for this platform and meeting ID"
   ]
  },
  {
   "cell_type": "markdown",
   "metadata": {},
   "source": [
    "4. first bot must come, admit the bot and speak"
   ]
  },
  {
   "cell_type": "code",
   "execution_count": 6,
   "metadata": {},
   "outputs": [
    {
     "name": "stdout",
     "output_type": "stream",
     "text": [
      "'absolute_start_time'\n"
     ]
    }
   ],
   "source": [
    "#time.sleep(15)\n",
    "#5. speak and test transcription\n",
    "get_transcript(meeting_urls[0])"
   ]
  },
  {
   "cell_type": "code",
   "execution_count": 7,
   "metadata": {},
   "outputs": [
    {
     "name": "stdout",
     "output_type": "stream",
     "text": [
      "\n",
      "DEBUG: Making POST request to http://localhost:18056/bots\n",
      "DEBUG: Headers: {'Content-Type': 'application/json', 'X-API-Key': 'JbCm18ZyVsB076jQi2f2wjX1mHRjsMgFhMAPmBh8'}\n",
      "DEBUG: Params: None\n",
      "DEBUG: JSON data: {'platform': 'google_meet', 'native_meeting_id': 'fjp-cbnn-hug', 'bot_name': 'Vexa', 'task': 'transcribe'}\n",
      "DEBUG: Response status: 201\n",
      "DEBUG: Response headers: {'date': 'Fri, 19 Sep 2025 18:08:09 GMT, Fri, 19 Sep 2025 18:08:08 GMT', 'server': 'uvicorn, uvicorn', 'content-length': '384', 'content-type': 'application/json'}\n",
      "DEBUG: Response content: {\"id\":632,\"user_id\":282,\"platform\":\"google_meet\",\"native_meeting_id\":\"fjp-cbnn-hug\",\"constructed_meeting_url\":\"https://meet.google.com/fjp-cbnn-hug\",\"status\":\"requested\",\"bot_container_id\":\"72f2fb591f467e4f3407fc490181a2884ab99ee0c2afedd30b84f736c5a6b562\",\"start_time\":null,\"end_time\":null,\"data\":{},\"created_at\":\"2025-09-19T18:08:09.735150\",\"updated_at\":\"2025-09-19T18:08:09.748570\"}...\n"
     ]
    },
    {
     "data": {
      "text/plain": [
       "{'id': 632,\n",
       " 'user_id': 282,\n",
       " 'platform': 'google_meet',\n",
       " 'native_meeting_id': 'fjp-cbnn-hug',\n",
       " 'constructed_meeting_url': 'https://meet.google.com/fjp-cbnn-hug',\n",
       " 'status': 'requested',\n",
       " 'bot_container_id': '72f2fb591f467e4f3407fc490181a2884ab99ee0c2afedd30b84f736c5a6b562',\n",
       " 'start_time': None,\n",
       " 'end_time': None,\n",
       " 'data': {},\n",
       " 'created_at': '2025-09-19T18:08:09.735150',\n",
       " 'updated_at': '2025-09-19T18:08:09.748570'}"
      ]
     },
     "execution_count": 7,
     "metadata": {},
     "output_type": "execute_result"
    }
   ],
   "source": [
    "#6. launch bot for another meeting, admit the bot, check trnascription\n",
    "request_bot(meeting_urls[1])\n"
   ]
  },
  {
   "cell_type": "code",
   "execution_count": 8,
   "metadata": {},
   "outputs": [
    {
     "name": "stdout",
     "output_type": "stream",
     "text": [
      "'absolute_start_time'\n"
     ]
    }
   ],
   "source": [
    "#time.sleep(15)\n",
    "get_transcript(meeting_urls[1])"
   ]
  },
  {
   "cell_type": "code",
   "execution_count": 9,
   "metadata": {},
   "outputs": [
    {
     "name": "stdout",
     "output_type": "stream",
     "text": [
      "\n",
      "DEBUG: Making POST request to http://localhost:18056/bots\n",
      "DEBUG: Headers: {'Content-Type': 'application/json', 'X-API-Key': 'JbCm18ZyVsB076jQi2f2wjX1mHRjsMgFhMAPmBh8'}\n",
      "DEBUG: Params: None\n",
      "DEBUG: JSON data: {'platform': 'google_meet', 'native_meeting_id': 'wjf-bhmw-bix', 'bot_name': 'Vexa', 'task': 'transcribe'}\n",
      "DEBUG: Response status: 403\n",
      "DEBUG: Response headers: {'date': 'Fri, 19 Sep 2025 18:08:09 GMT, Fri, 19 Sep 2025 18:08:08 GMT', 'server': 'uvicorn, uvicorn', 'content-length': '67', 'content-type': 'application/json'}\n",
      "DEBUG: Response content: {\"detail\":\"User has reached the maximum concurrent bot limit (2).\"}...\n",
      "HTTP Error 403 for POST http://localhost:18056/bots: User has reached the maximum concurrent bot limit (2).\n"
     ]
    }
   ],
   "source": [
    "#7. launch another bot for the third meeting -> must fail\n",
    "#time.sleep(1)\n",
    "try:request_bot(meeting_urls[2])\n",
    "except Exception as e:\n",
    "    print(e) #User has reached the maximum concurrent bot limit (2)."
   ]
  },
  {
   "cell_type": "code",
   "execution_count": 10,
   "metadata": {},
   "outputs": [
    {
     "data": {
      "text/plain": [
       "['https://meet.google.com/xdy-txjo-fyh',\n",
       " 'https://meet.google.com/fjp-cbnn-hug',\n",
       " 'https://meet.google.com/wjf-bhmw-bix']"
      ]
     },
     "execution_count": 10,
     "metadata": {},
     "output_type": "execute_result"
    }
   ],
   "source": [
    "meeting_urls"
   ]
  },
  {
   "cell_type": "code",
   "execution_count": 11,
   "metadata": {},
   "outputs": [
    {
     "name": "stdout",
     "output_type": "stream",
     "text": [
      "\n",
      "DEBUG: Making DELETE request to http://localhost:18056/bots/google_meet/fjp-cbnn-hug\n",
      "DEBUG: Headers: {'Content-Type': 'application/json', 'X-API-Key': 'JbCm18ZyVsB076jQi2f2wjX1mHRjsMgFhMAPmBh8'}\n",
      "DEBUG: Params: None\n",
      "DEBUG: JSON data: None\n",
      "DEBUG: Response status: 202\n",
      "DEBUG: Response headers: {'date': 'Fri, 19 Sep 2025 18:08:09 GMT, Fri, 19 Sep 2025 18:08:08 GMT', 'server': 'uvicorn, uvicorn', 'content-length': '80', 'content-type': 'application/json'}\n",
      "DEBUG: Response content: {\"message\":\"Stop request accepted; meeting finalized immediately (pre-active).\"}...\n",
      "\n",
      "DEBUG: Making POST request to http://localhost:18056/bots\n",
      "DEBUG: Headers: {'Content-Type': 'application/json', 'X-API-Key': 'JbCm18ZyVsB076jQi2f2wjX1mHRjsMgFhMAPmBh8'}\n",
      "DEBUG: Params: None\n",
      "DEBUG: JSON data: {'platform': 'google_meet', 'native_meeting_id': 'wjf-bhmw-bix', 'bot_name': 'Vexa', 'task': 'transcribe'}\n"
     ]
    },
    {
     "name": "stdout",
     "output_type": "stream",
     "text": [
      "DEBUG: Response status: 201\n",
      "DEBUG: Response headers: {'date': 'Fri, 19 Sep 2025 18:08:09 GMT, Fri, 19 Sep 2025 18:08:08 GMT', 'server': 'uvicorn, uvicorn', 'content-length': '384', 'content-type': 'application/json'}\n",
      "DEBUG: Response content: {\"id\":633,\"user_id\":282,\"platform\":\"google_meet\",\"native_meeting_id\":\"wjf-bhmw-bix\",\"constructed_meeting_url\":\"https://meet.google.com/wjf-bhmw-bix\",\"status\":\"requested\",\"bot_container_id\":\"052ac63ff83ca3e448f48969a854e9d6e2bbe674feca0da02771fca9a4de5b01\",\"start_time\":null,\"end_time\":null,\"data\":{},\"created_at\":\"2025-09-19T18:08:10.029954\",\"updated_at\":\"2025-09-19T18:08:10.037359\"}...\n"
     ]
    },
    {
     "data": {
      "text/plain": [
       "{'id': 633,\n",
       " 'user_id': 282,\n",
       " 'platform': 'google_meet',\n",
       " 'native_meeting_id': 'wjf-bhmw-bix',\n",
       " 'constructed_meeting_url': 'https://meet.google.com/wjf-bhmw-bix',\n",
       " 'status': 'requested',\n",
       " 'bot_container_id': '052ac63ff83ca3e448f48969a854e9d6e2bbe674feca0da02771fca9a4de5b01',\n",
       " 'start_time': None,\n",
       " 'end_time': None,\n",
       " 'data': {},\n",
       " 'created_at': '2025-09-19T18:08:10.029954',\n",
       " 'updated_at': '2025-09-19T18:08:10.037359'}"
      ]
     },
     "execution_count": 11,
     "metadata": {},
     "output_type": "execute_result"
    }
   ],
   "source": [
    "#8. stop bot meeting 2 and and launch bot 3, but come\n",
    "#time.sleep(5)\n",
    "stop_bot(meeting_urls[1])\n",
    "request_bot(meeting_urls[2])"
   ]
  },
  {
   "cell_type": "code",
   "execution_count": 12,
   "metadata": {},
   "outputs": [
    {
     "name": "stdout",
     "output_type": "stream",
     "text": [
      "'absolute_start_time'\n"
     ]
    }
   ],
   "source": [
    "#time.sleep(15)\n",
    "get_transcript(meeting_urls[2])"
   ]
  },
  {
   "cell_type": "code",
   "execution_count": 13,
   "metadata": {},
   "outputs": [
    {
     "name": "stdout",
     "output_type": "stream",
     "text": [
      "\n",
      "DEBUG: Making GET request to http://localhost:18056/bots/status\n",
      "DEBUG: Headers: {'Content-Type': 'application/json', 'X-API-Key': 'JbCm18ZyVsB076jQi2f2wjX1mHRjsMgFhMAPmBh8'}\n",
      "DEBUG: Params: None\n",
      "DEBUG: JSON data: None\n",
      "DEBUG: Response status: 200\n",
      "DEBUG: Response headers: {'date': 'Fri, 19 Sep 2025 18:08:09 GMT, Fri, 19 Sep 2025 18:08:08 GMT', 'server': 'uvicorn, uvicorn', 'content-length': '1317', 'content-type': 'application/json'}\n",
      "DEBUG: Response content: {\"running_bots\":[{\"container_id\":\"052ac63ff83ca3e448f48969a854e9d6e2bbe674feca0da02771fca9a4de5b01\",\"container_name\":\"vexa-bot-633-30961214\",\"platform\":\"google_meet\",\"native_meeting_id\":\"wjf-bhmw-bix\",\"status\":\"Up Less than a second\",\"normalized_status\":\"Up\",\"created_at\":\"2025-09-19T18:08:10+00:00\",\"labels\":{\"org.opencontainers.image.ref.name\":\"ubuntu\",\"org.opencontainers.image.version\":\"22.04\",\"vexa.user_id\":\"282\"},\"meeting_id_from_name\":\"633\"},{\"container_id\":\"72f2fb591f467e4f3407fc490181a2884...\n"
     ]
    },
    {
     "data": {
      "text/plain": [
       "3"
      ]
     },
     "execution_count": 13,
     "metadata": {},
     "output_type": "execute_result"
    }
   ],
   "source": [
    "running_bots = client.get_running_bots_status()\n",
    "len(running_bots) #should be 2\n"
   ]
  },
  {
   "cell_type": "code",
   "execution_count": 46,
   "metadata": {},
   "outputs": [
    {
     "name": "stdout",
     "output_type": "stream",
     "text": [
      "\n",
      "DEBUG: Making GET request to http://localhost:18056/meetings\n",
      "DEBUG: Headers: {'Content-Type': 'application/json', 'X-API-Key': 'JbCm18ZyVsB076jQi2f2wjX1mHRjsMgFhMAPmBh8'}\n",
      "DEBUG: Params: None\n",
      "DEBUG: JSON data: None\n",
      "DEBUG: Response status: 200\n",
      "DEBUG: Response headers: {'date': 'Fri, 19 Sep 2025 18:30:52 GMT, Fri, 19 Sep 2025 18:30:52 GMT', 'server': 'uvicorn, uvicorn', 'content-length': '2477', 'content-type': 'application/json'}\n",
      "DEBUG: Response content: {\"meetings\":[{\"id\":633,\"user_id\":282,\"platform\":\"google_meet\",\"native_meeting_id\":\"wjf-bhmw-bix\",\"constructed_meeting_url\":\"https://meet.google.com/wjf-bhmw-bix\",\"status\":\"completed\",\"bot_container_id\":\"vexa-bot-633-30961214\",\"start_time\":\"2025-09-19T18:08:53.189535\",\"end_time\":\"2025-09-19T18:13:02.774969\",\"data\":{\"completion_reason\":\"stopped\",\"status_transition\":[{\"to\":\"joining\",\"from\":\"requested\",\"source\":\"bot_callback\",\"timestamp\":\"2025-09-19T18:08:13.141719\"},{\"to\":\"awaiting_admission\",\"from...\n"
     ]
    },
    {
     "data": {
      "text/plain": [
       "['completed', 'completed', 'completed']"
      ]
     },
     "execution_count": 46,
     "metadata": {},
     "output_type": "execute_result"
    }
   ],
   "source": [
    "meetings = client.get_meetings()\n",
    "[m['status'] for m in meetings]"
   ]
  },
  {
   "cell_type": "code",
   "execution_count": 47,
   "metadata": {},
   "outputs": [
    {
     "data": {
      "text/plain": [
       "[{'id': 633,\n",
       "  'user_id': 282,\n",
       "  'platform': 'google_meet',\n",
       "  'native_meeting_id': 'wjf-bhmw-bix',\n",
       "  'constructed_meeting_url': 'https://meet.google.com/wjf-bhmw-bix',\n",
       "  'status': 'completed',\n",
       "  'bot_container_id': 'vexa-bot-633-30961214',\n",
       "  'start_time': '2025-09-19T18:08:53.189535',\n",
       "  'end_time': '2025-09-19T18:13:02.774969',\n",
       "  'data': {'completion_reason': 'stopped',\n",
       "   'status_transition': [{'to': 'joining',\n",
       "     'from': 'requested',\n",
       "     'source': 'bot_callback',\n",
       "     'timestamp': '2025-09-19T18:08:13.141719'},\n",
       "    {'to': 'awaiting_admission',\n",
       "     'from': 'joining',\n",
       "     'source': 'bot_callback',\n",
       "     'timestamp': '2025-09-19T18:08:22.779233'},\n",
       "    {'to': 'active',\n",
       "     'from': 'awaiting_admission',\n",
       "     'source': 'bot_callback',\n",
       "     'timestamp': '2025-09-19T18:08:53.185960'},\n",
       "    {'to': 'completed',\n",
       "     'from': 'active',\n",
       "     'reason': 'self_initiated_leave',\n",
       "     'source': 'user',\n",
       "     'exit_code': 0,\n",
       "     'timestamp': '2025-09-19T18:13:02.760822',\n",
       "     'completion_reason': 'stopped'}]},\n",
       "  'created_at': '2025-09-19T18:08:10.029954',\n",
       "  'updated_at': '2025-09-19T18:13:02.774363'},\n",
       " {'id': 632,\n",
       "  'user_id': 282,\n",
       "  'platform': 'google_meet',\n",
       "  'native_meeting_id': 'fjp-cbnn-hug',\n",
       "  'constructed_meeting_url': 'https://meet.google.com/fjp-cbnn-hug',\n",
       "  'status': 'completed',\n",
       "  'bot_container_id': '72f2fb591f467e4f3407fc490181a2884ab99ee0c2afedd30b84f736c5a6b562',\n",
       "  'start_time': None,\n",
       "  'end_time': '2025-09-19T18:08:10.020007',\n",
       "  'data': {'stop_requested': True,\n",
       "   'completion_reason': 'stopped',\n",
       "   'status_transition': [{'to': 'completed',\n",
       "     'from': 'requested',\n",
       "     'source': 'user',\n",
       "     'timestamp': '2025-09-19T18:08:10.020017',\n",
       "     'completion_reason': 'stopped'}]},\n",
       "  'created_at': '2025-09-19T18:08:09.735150',\n",
       "  'updated_at': '2025-09-19T18:08:10.021455'},\n",
       " {'id': 631,\n",
       "  'user_id': 282,\n",
       "  'platform': 'google_meet',\n",
       "  'native_meeting_id': 'xdy-txjo-fyh',\n",
       "  'constructed_meeting_url': 'https://meet.google.com/xdy-txjo-fyh',\n",
       "  'status': 'completed',\n",
       "  'bot_container_id': 'vexa-bot-631-8dcb6f00',\n",
       "  'start_time': '2025-09-19T18:08:48.364728',\n",
       "  'end_time': '2025-09-19T18:09:30.451341',\n",
       "  'data': {'completion_reason': 'stopped',\n",
       "   'status_transition': [{'to': 'joining',\n",
       "     'from': 'requested',\n",
       "     'source': 'bot_callback',\n",
       "     'timestamp': '2025-09-19T18:08:12.938024'},\n",
       "    {'to': 'awaiting_admission',\n",
       "     'from': 'joining',\n",
       "     'source': 'bot_callback',\n",
       "     'timestamp': '2025-09-19T18:08:22.197280'},\n",
       "    {'to': 'active',\n",
       "     'from': 'awaiting_admission',\n",
       "     'source': 'bot_callback',\n",
       "     'timestamp': '2025-09-19T18:08:48.353707'},\n",
       "    {'to': 'completed',\n",
       "     'from': 'active',\n",
       "     'reason': 'left_alone_timeout',\n",
       "     'source': 'user',\n",
       "     'exit_code': 0,\n",
       "     'timestamp': '2025-09-19T18:09:30.447235',\n",
       "     'completion_reason': 'stopped'}]},\n",
       "  'created_at': '2025-09-19T18:08:09.397069',\n",
       "  'updated_at': '2025-09-19T18:09:30.450672'}]"
      ]
     },
     "execution_count": 47,
     "metadata": {},
     "output_type": "execute_result"
    }
   ],
   "source": [
    "meetings"
   ]
  },
  {
   "cell_type": "code",
   "execution_count": 38,
   "metadata": {},
   "outputs": [
    {
     "data": {
      "text/plain": [
       "'active'"
      ]
     },
     "execution_count": 38,
     "metadata": {},
     "output_type": "execute_result"
    }
   ],
   "source": [
    "meetings[0]['status']"
   ]
  },
  {
   "cell_type": "code",
   "execution_count": 39,
   "metadata": {},
   "outputs": [
    {
     "data": {
      "text/plain": [
       "{'status_transition': [{'to': 'joining',\n",
       "   'from': 'requested',\n",
       "   'source': 'bot_callback',\n",
       "   'timestamp': '2025-09-19T18:08:13.141719'},\n",
       "  {'to': 'awaiting_admission',\n",
       "   'from': 'joining',\n",
       "   'source': 'bot_callback',\n",
       "   'timestamp': '2025-09-19T18:08:22.779233'},\n",
       "  {'to': 'active',\n",
       "   'from': 'awaiting_admission',\n",
       "   'source': 'bot_callback',\n",
       "   'timestamp': '2025-09-19T18:08:53.185960'}]}"
      ]
     },
     "execution_count": 39,
     "metadata": {},
     "output_type": "execute_result"
    }
   ],
   "source": [
    "meetings[0]['data']"
   ]
  },
  {
   "cell_type": "code",
   "execution_count": 32,
   "metadata": {},
   "outputs": [
    {
     "data": {
      "text/plain": [
       "{'completion_reason': 'stopped',\n",
       " 'status_transition': [{'to': 'joining',\n",
       "   'from': 'requested',\n",
       "   'source': 'bot_callback',\n",
       "   'timestamp': '2025-09-19T18:08:12.938024'},\n",
       "  {'to': 'awaiting_admission',\n",
       "   'from': 'joining',\n",
       "   'source': 'bot_callback',\n",
       "   'timestamp': '2025-09-19T18:08:22.197280'},\n",
       "  {'to': 'active',\n",
       "   'from': 'awaiting_admission',\n",
       "   'source': 'bot_callback',\n",
       "   'timestamp': '2025-09-19T18:08:48.353707'},\n",
       "  {'to': 'completed',\n",
       "   'from': 'active',\n",
       "   'reason': 'left_alone_timeout',\n",
       "   'source': 'user',\n",
       "   'exit_code': 0,\n",
       "   'timestamp': '2025-09-19T18:09:30.447235',\n",
       "   'completion_reason': 'stopped'}]}"
      ]
     },
     "execution_count": 32,
     "metadata": {},
     "output_type": "execute_result"
    }
   ],
   "source": [
    "meetings[2]['data']"
   ]
  },
  {
   "cell_type": "code",
   "execution_count": 20,
   "metadata": {},
   "outputs": [
    {
     "data": {
      "text/html": [
       "<div>\n",
       "<style scoped>\n",
       "    .dataframe tbody tr th:only-of-type {\n",
       "        vertical-align: middle;\n",
       "    }\n",
       "\n",
       "    .dataframe tbody tr th {\n",
       "        vertical-align: top;\n",
       "    }\n",
       "\n",
       "    .dataframe thead th {\n",
       "        text-align: right;\n",
       "    }\n",
       "</style>\n",
       "<table border=\"1\" class=\"dataframe\">\n",
       "  <thead>\n",
       "    <tr style=\"text-align: right;\">\n",
       "      <th></th>\n",
       "      <th>start</th>\n",
       "      <th>end</th>\n",
       "      <th>text</th>\n",
       "      <th>language</th>\n",
       "      <th>created_at</th>\n",
       "      <th>speaker</th>\n",
       "      <th>absolute_start_time</th>\n",
       "      <th>absolute_end_time</th>\n",
       "    </tr>\n",
       "  </thead>\n",
       "  <tbody>\n",
       "    <tr>\n",
       "      <th>0</th>\n",
       "      <td>0.00</td>\n",
       "      <td>3.00</td>\n",
       "      <td>He didn't come down, that's why he didn't come.</td>\n",
       "      <td>en</td>\n",
       "      <td>None</td>\n",
       "      <td>Dmitriy Grankin</td>\n",
       "      <td>2025-09-19T17:31:49.081584+00:00</td>\n",
       "      <td>2025-09-19T17:31:52.081584+00:00</td>\n",
       "    </tr>\n",
       "    <tr>\n",
       "      <th>1</th>\n",
       "      <td>3.00</td>\n",
       "      <td>4.00</td>\n",
       "      <td>And now...</td>\n",
       "      <td>en</td>\n",
       "      <td>None</td>\n",
       "      <td>Dmitriy Grankin</td>\n",
       "      <td>2025-09-19T17:31:52.081584+00:00</td>\n",
       "      <td>2025-09-19T17:31:53.081584+00:00</td>\n",
       "    </tr>\n",
       "    <tr>\n",
       "      <th>2</th>\n",
       "      <td>3.30</td>\n",
       "      <td>6.30</td>\n",
       "      <td>And now it was released and it happened.</td>\n",
       "      <td>en</td>\n",
       "      <td>None</td>\n",
       "      <td>Dmitriy Grankin</td>\n",
       "      <td>2025-09-19T17:31:52.381584+00:00</td>\n",
       "      <td>2025-09-19T17:31:55.381584+00:00</td>\n",
       "    </tr>\n",
       "  </tbody>\n",
       "</table>\n",
       "</div>"
      ],
      "text/plain": [
       "                 start                  end                                              text language created_at          speaker               absolute_start_time                 absolute_end_time\n",
       "0                 0.00                 3.00   He didn't come down, that's why he didn't come.       en       None  Dmitriy Grankin  2025-09-19T17:31:49.081584+00:00  2025-09-19T17:31:52.081584+00:00\n",
       "1                 3.00                 4.00                                        And now...       en       None  Dmitriy Grankin  2025-09-19T17:31:52.081584+00:00  2025-09-19T17:31:53.081584+00:00\n",
       "2                 3.30                 6.30          And now it was released and it happened.       en       None  Dmitriy Grankin  2025-09-19T17:31:52.381584+00:00  2025-09-19T17:31:55.381584+00:00"
      ]
     },
     "metadata": {},
     "output_type": "display_data"
    },
    {
     "ename": "KeyboardInterrupt",
     "evalue": "",
     "output_type": "error",
     "traceback": [
      "\u001b[0;31m---------------------------------------------------------------------------\u001b[0m",
      "\u001b[0;31mKeyboardInterrupt\u001b[0m                         Traceback (most recent call last)",
      "Cell \u001b[0;32mIn[20], line 1\u001b[0m\n\u001b[0;32m----> 1\u001b[0m \u001b[43mget_transcript\u001b[49m\u001b[43m(\u001b[49m\u001b[43mmeeting_urls\u001b[49m\u001b[43m[\u001b[49m\u001b[38;5;241;43m0\u001b[39;49m\u001b[43m]\u001b[49m\u001b[43m)\u001b[49m\n",
      "Cell \u001b[0;32mIn[2], line 40\u001b[0m, in \u001b[0;36mget_transcript\u001b[0;34m(meeting_url)\u001b[0m\n\u001b[1;32m     38\u001b[0m             clear_output()\n\u001b[1;32m     39\u001b[0m             display(df\u001b[38;5;241m.\u001b[39msort_values(\u001b[38;5;124m'\u001b[39m\u001b[38;5;124mabsolute_start_time\u001b[39m\u001b[38;5;124m'\u001b[39m)\u001b[38;5;241m.\u001b[39mtail(\u001b[38;5;241m10\u001b[39m))\n\u001b[0;32m---> 40\u001b[0m             time\u001b[38;5;241m.\u001b[39msleep(\u001b[38;5;241m1\u001b[39m)\n\u001b[1;32m     42\u001b[0m \u001b[38;5;28;01mexcept\u001b[39;00m \u001b[38;5;167;01mException\u001b[39;00m \u001b[38;5;28;01mas\u001b[39;00m e:\n\u001b[1;32m     43\u001b[0m     \u001b[38;5;28mprint\u001b[39m(e)\n",
      "\u001b[0;31mKeyboardInterrupt\u001b[0m: "
     ]
    }
   ],
   "source": [
    "get_transcript(meeting_urls[0])"
   ]
  },
  {
   "cell_type": "code",
   "execution_count": 21,
   "metadata": {},
   "outputs": [
    {
     "name": "stdout",
     "output_type": "stream",
     "text": [
      "'absolute_start_time'\n"
     ]
    }
   ],
   "source": [
    "get_transcript(meeting_urls[1])"
   ]
  },
  {
   "cell_type": "code",
   "execution_count": 22,
   "metadata": {},
   "outputs": [
    {
     "data": {
      "text/html": [
       "<div>\n",
       "<style scoped>\n",
       "    .dataframe tbody tr th:only-of-type {\n",
       "        vertical-align: middle;\n",
       "    }\n",
       "\n",
       "    .dataframe tbody tr th {\n",
       "        vertical-align: top;\n",
       "    }\n",
       "\n",
       "    .dataframe thead th {\n",
       "        text-align: right;\n",
       "    }\n",
       "</style>\n",
       "<table border=\"1\" class=\"dataframe\">\n",
       "  <thead>\n",
       "    <tr style=\"text-align: right;\">\n",
       "      <th></th>\n",
       "      <th>start</th>\n",
       "      <th>end</th>\n",
       "      <th>text</th>\n",
       "      <th>language</th>\n",
       "      <th>created_at</th>\n",
       "      <th>speaker</th>\n",
       "      <th>absolute_start_time</th>\n",
       "      <th>absolute_end_time</th>\n",
       "    </tr>\n",
       "  </thead>\n",
       "  <tbody>\n",
       "    <tr>\n",
       "      <th>0</th>\n",
       "      <td>1.02</td>\n",
       "      <td>6.54</td>\n",
       "      <td>Поэтому он и не пришел, а теперь его пустили и он пришел.</td>\n",
       "      <td>ru</td>\n",
       "      <td>None</td>\n",
       "      <td>Dmitriy Grankin</td>\n",
       "      <td>2025-09-19T17:31:50.166543+00:00</td>\n",
       "      <td>2025-09-19T17:31:55.686543+00:00</td>\n",
       "    </tr>\n",
       "  </tbody>\n",
       "</table>\n",
       "</div>"
      ],
      "text/plain": [
       "                 start                  end                                                        text language created_at          speaker               absolute_start_time                 absolute_end_time\n",
       "0                 1.02                 6.54   Поэтому он и не пришел, а теперь его пустили и он пришел.       ru       None  Dmitriy Grankin  2025-09-19T17:31:50.166543+00:00  2025-09-19T17:31:55.686543+00:00"
      ]
     },
     "metadata": {},
     "output_type": "display_data"
    },
    {
     "ename": "KeyboardInterrupt",
     "evalue": "",
     "output_type": "error",
     "traceback": [
      "\u001b[0;31m---------------------------------------------------------------------------\u001b[0m",
      "\u001b[0;31mKeyboardInterrupt\u001b[0m                         Traceback (most recent call last)",
      "Cell \u001b[0;32mIn[22], line 1\u001b[0m\n\u001b[0;32m----> 1\u001b[0m \u001b[43mget_transcript\u001b[49m\u001b[43m(\u001b[49m\u001b[43mmeeting_urls\u001b[49m\u001b[43m[\u001b[49m\u001b[38;5;241;43m2\u001b[39;49m\u001b[43m]\u001b[49m\u001b[43m)\u001b[49m\n",
      "Cell \u001b[0;32mIn[2], line 40\u001b[0m, in \u001b[0;36mget_transcript\u001b[0;34m(meeting_url)\u001b[0m\n\u001b[1;32m     38\u001b[0m             clear_output()\n\u001b[1;32m     39\u001b[0m             display(df\u001b[38;5;241m.\u001b[39msort_values(\u001b[38;5;124m'\u001b[39m\u001b[38;5;124mabsolute_start_time\u001b[39m\u001b[38;5;124m'\u001b[39m)\u001b[38;5;241m.\u001b[39mtail(\u001b[38;5;241m10\u001b[39m))\n\u001b[0;32m---> 40\u001b[0m             time\u001b[38;5;241m.\u001b[39msleep(\u001b[38;5;241m1\u001b[39m)\n\u001b[1;32m     42\u001b[0m \u001b[38;5;28;01mexcept\u001b[39;00m \u001b[38;5;167;01mException\u001b[39;00m \u001b[38;5;28;01mas\u001b[39;00m e:\n\u001b[1;32m     43\u001b[0m     \u001b[38;5;28mprint\u001b[39m(e)\n",
      "\u001b[0;31mKeyboardInterrupt\u001b[0m: "
     ]
    }
   ],
   "source": [
    "get_transcript(meeting_urls[2])"
   ]
  },
  {
   "cell_type": "code",
   "execution_count": 33,
   "metadata": {},
   "outputs": [
    {
     "data": {
      "text/plain": [
       "[{'id': 600,\n",
       "  'user_id': 264,\n",
       "  'platform': 'google_meet',\n",
       "  'native_meeting_id': 'wjf-bhmw-bix',\n",
       "  'constructed_meeting_url': 'https://meet.google.com/wjf-bhmw-bix',\n",
       "  'status': 'requested',\n",
       "  'bot_container_id': '42ceb1006d4b486de866b58342ab6b4a1423b28d2fc269d6b4912b33ff6c462a',\n",
       "  'start_time': None,\n",
       "  'end_time': None,\n",
       "  'data': {},\n",
       "  'created_at': '2025-09-19T17:25:12.339940',\n",
       "  'updated_at': '2025-09-19T17:25:12.651872'},\n",
       " {'id': 599,\n",
       "  'user_id': 264,\n",
       "  'platform': 'google_meet',\n",
       "  'native_meeting_id': 'fjp-cbnn-hug',\n",
       "  'constructed_meeting_url': 'https://meet.google.com/fjp-cbnn-hug',\n",
       "  'status': 'completed',\n",
       "  'bot_container_id': '3e3af2f1ddb76f01f033c9c8cca97f28a249a46b3a364fdf5697d33be955f046',\n",
       "  'start_time': None,\n",
       "  'end_time': '2025-09-19T17:25:12.663591',\n",
       "  'data': {'status_transition': {'to': 'joining',\n",
       "    'from': 'requested',\n",
       "    'source': 'bot_callback',\n",
       "    'timestamp': '2025-09-19T17:25:10.027641'}},\n",
       "  'created_at': '2025-09-19T17:25:07.042147',\n",
       "  'updated_at': '2025-09-19T17:25:12.662288'},\n",
       " {'id': 598,\n",
       "  'user_id': 264,\n",
       "  'platform': 'google_meet',\n",
       "  'native_meeting_id': 'xdy-txjo-fyh',\n",
       "  'constructed_meeting_url': 'https://meet.google.com/xdy-txjo-fyh',\n",
       "  'status': 'joining',\n",
       "  'bot_container_id': 'ed1943b2eb85dc7a2da74c70848d3cf48e4f5d3faff506458af796d343d50e2a',\n",
       "  'start_time': None,\n",
       "  'end_time': None,\n",
       "  'data': {'status_transition': {'to': 'joining',\n",
       "    'from': 'requested',\n",
       "    'source': 'bot_callback',\n",
       "    'timestamp': '2025-09-19T17:25:10.146051'}},\n",
       "  'created_at': '2025-09-19T17:25:06.719357',\n",
       "  'updated_at': '2025-09-19T17:25:10.144312'}]"
      ]
     },
     "execution_count": 33,
     "metadata": {},
     "output_type": "execute_result"
    }
   ],
   "source": [
    "meetings"
   ]
  },
  {
   "cell_type": "code",
   "execution_count": null,
   "metadata": {},
   "outputs": [],
   "source": []
  },
  {
   "cell_type": "code",
   "execution_count": 43,
   "metadata": {},
   "outputs": [
    {
     "name": "stdout",
     "output_type": "stream",
     "text": [
      "\n",
      "DEBUG: Making DELETE request to http://localhost:18056/bots/google_meet/xdy-txjo-fyh\n",
      "DEBUG: Headers: {'Content-Type': 'application/json', 'X-API-Key': 'JbCm18ZyVsB076jQi2f2wjX1mHRjsMgFhMAPmBh8'}\n",
      "DEBUG: Params: None\n",
      "DEBUG: JSON data: None\n",
      "DEBUG: Response status: 202\n",
      "DEBUG: Response headers: {'date': 'Fri, 19 Sep 2025 18:13:01 GMT, Fri, 19 Sep 2025 18:13:01 GMT', 'server': 'uvicorn, uvicorn', 'content-length': '40', 'content-type': 'application/json'}\n",
      "DEBUG: Response content: {\"message\":\"Meeting already completed.\"}...\n",
      "\n",
      "DEBUG: Making DELETE request to http://localhost:18056/bots/google_meet/fjp-cbnn-hug\n",
      "DEBUG: Headers: {'Content-Type': 'application/json', 'X-API-Key': 'JbCm18ZyVsB076jQi2f2wjX1mHRjsMgFhMAPmBh8'}\n",
      "DEBUG: Params: None\n",
      "DEBUG: JSON data: None\n",
      "DEBUG: Response status: 202\n",
      "DEBUG: Response headers: {'date': 'Fri, 19 Sep 2025 18:13:01 GMT, Fri, 19 Sep 2025 18:13:01 GMT', 'server': 'uvicorn, uvicorn', 'content-length': '40', 'content-type': 'application/json'}\n",
      "DEBUG: Response content: {\"message\":\"Meeting already completed.\"}...\n",
      "\n",
      "DEBUG: Making DELETE request to http://localhost:18056/bots/google_meet/wjf-bhmw-bix\n",
      "DEBUG: Headers: {'Content-Type': 'application/json', 'X-API-Key': 'JbCm18ZyVsB076jQi2f2wjX1mHRjsMgFhMAPmBh8'}\n",
      "DEBUG: Params: None\n",
      "DEBUG: JSON data: None\n",
      "DEBUG: Response status: 202\n",
      "DEBUG: Response headers: {'date': 'Fri, 19 Sep 2025 18:13:01 GMT, Fri, 19 Sep 2025 18:13:01 GMT', 'server': 'uvicorn, uvicorn', 'content-length': '59', 'content-type': 'application/json'}\n",
      "DEBUG: Response content: {\"message\":\"Stop request accepted and is being processed.\"}...\n"
     ]
    }
   ],
   "source": [
    "for m in meeting_urls:\n",
    "    try:stop_bot(m)\n",
    "    except Exception as e:\n",
    "        print(e)"
   ]
  },
  {
   "cell_type": "code",
   "execution_count": 16,
   "metadata": {},
   "outputs": [
    {
     "name": "stdout",
     "output_type": "stream",
     "text": [
      "\n",
      "DEBUG: Making GET request to http://localhost:18056/meetings\n",
      "DEBUG: Headers: {'Content-Type': 'application/json', 'X-API-Key': 's8uOUuYKTvv6vBtpWIrT3Ac9skRniMVAsSXmHHzm'}\n",
      "DEBUG: Params: None\n",
      "DEBUG: JSON data: None\n",
      "DEBUG: Response status: 200\n",
      "DEBUG: Response headers: {'date': 'Fri, 19 Sep 2025 16:52:11 GMT, Fri, 19 Sep 2025 16:52:11 GMT', 'server': 'uvicorn, uvicorn', 'content-length': '1505', 'content-type': 'application/json'}\n",
      "DEBUG: Response content: {\"meetings\":[{\"id\":570,\"user_id\":251,\"platform\":\"google_meet\",\"native_meeting_id\":\"wjf-bhmw-bix\",\"constructed_meeting_url\":\"https://meet.google.com/wjf-bhmw-bix\",\"status\":\"stopping\",\"bot_container_id\":\"4ab0c7294d9e9ee439c105bd7c181309e11a5f28bc2cf5e426c1015cb27a2df9\",\"start_time\":null,\"end_time\":null,\"data\":{\"status_transition\":{\"to\":\"stopping\",\"from\":\"requested\",\"source\":\"user\",\"timestamp\":\"2025-09-19T16:52:12.292814\"}},\"created_at\":\"2025-09-19T16:52:11.982282\",\"updated_at\":\"2025-09-19T16:52:12...\n"
     ]
    },
    {
     "data": {
      "text/plain": [
       "False"
      ]
     },
     "execution_count": 16,
     "metadata": {},
     "output_type": "execute_result"
    }
   ],
   "source": [
    "meetings = client.get_meetings()\n",
    "[m['status'] for m in meetings] == ['completed', 'completed', 'completed']"
   ]
  },
  {
   "cell_type": "code",
   "execution_count": null,
   "metadata": {},
   "outputs": [],
   "source": []
  }
 ],
 "metadata": {
  "kernelspec": {
   "display_name": "vexa",
   "language": "python",
   "name": "python3"
  },
  "language_info": {
   "codemirror_mode": {
    "name": "ipython",
    "version": 3
   },
   "file_extension": ".py",
   "mimetype": "text/x-python",
   "name": "python",
   "nbconvert_exporter": "python",
   "pygments_lexer": "ipython3",
   "version": "3.11.10"
  }
 },
 "nbformat": 4,
 "nbformat_minor": 2
}
