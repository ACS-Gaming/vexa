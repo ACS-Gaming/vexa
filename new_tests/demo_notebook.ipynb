{
  "cells": [
    {
      "cell_type": "markdown",
      "metadata": {},
      "source": [
        "# Vexa Test Library Demo\n",
        "\n",
        "This notebook demonstrates how to use the Vexa Test Library for comprehensive testing scenarios.\n",
        "\n",
        "## Features:\n",
        "- Create multiple users with individual API keys\n",
        "- Random mapping of users to meetings\n",
        "- Bot lifecycle management\n",
        "- Background monitoring with timestamps\n",
        "- Pandas integration for data analysis\n"
      ]
    },
    {
      "cell_type": "code",
      "execution_count": null,
      "metadata": {},
      "outputs": [],
      "source": [
        "# Import required libraries\n",
        "import os\n",
        "import sys\n",
        "import pandas as pd\n",
        "from IPython.display import clear_output, display\n",
        "import time\n",
        "\n",
        "# Add the new_tests directory to the path\n",
        "sys.path.append('./new_tests')\n",
        "\n",
        "# Import our test library\n",
        "from test_suite import TestSuite\n",
        "from bot import Bot\n"
      ]
    },
    {
      "cell_type": "code",
      "execution_count": null,
      "metadata": {},
      "outputs": [],
      "source": [
        "# Configuration\n",
        "BASE_URL = \"http://localhost:18056\"  # Change to your Vexa API URL\n",
        "ADMIN_API_KEY = 'token'  # Set this environment variable\n",
        "\n",
        "# Test parameters\n",
        "NUM_USERS = 12\n",
        "MEETING_URLS = [\n",
        "    \"https://meet.google.com/grw-hxrw-dtf\",\n",
        "    \"https://meet.google.com/nbk-dfdu-xkj\"\n",
        "]\n",
        "\n"
      ]
    },
    {
      "cell_type": "code",
      "execution_count": null,
      "metadata": {},
      "outputs": [],
      "source": [
        "# Initialize TestSuite\n",
        "test_suite = TestSuite(\n",
        "    base_url=BASE_URL,\n",
        "    admin_api_key=ADMIN_API_KEY,\n",
        "    poll_interval=2.0 \n",
        ")\n",
        "\n",
        "print(\"TestSuite initialized\")\n"
      ]
    },
    {
      "cell_type": "code",
      "execution_count": null,
      "metadata": {},
      "outputs": [],
      "source": [
        "# Step 1: Create users\n",
        "test_suite.cleanup()\n",
        "users = test_suite.create_users(NUM_USERS)\n",
        "print(f\"Created {len(users)} users\")\n",
        "# Step 2: Create random user-meeting mapping\n",
        "mapping = test_suite.create_random_mapping(MEETING_URLS)\n",
        "bots = test_suite.create_bots(bot_name_prefix=\"DemoBot\")\n",
        "results = test_suite.start_all_bots(language='en', task='transcribe')\n",
        "test_suite.start_monitoring()"
      ]
    },
    {
      "cell_type": "code",
      "execution_count": null,
      "metadata": {},
      "outputs": [],
      "source": [
        "pd.options.display.max_columns = None\n",
        "now = pd.Timestamp.now()\n",
        "\n",
        "df = test_suite.get_latest_dataframe()\n",
        "print(df['transcription_latency'].mean())\n",
        "df[['bot_id','platform','meeting_status','created_at','transcription_latency','current_status','detected_languages','segments_count']].sort_values(by='transcription_latency', ascending=False)"
      ]
    },
    {
      "cell_type": "code",
      "execution_count": null,
      "metadata": {},
      "outputs": [],
      "source": []
    },
    {
      "cell_type": "code",
      "execution_count": null,
      "metadata": {},
      "outputs": [],
      "source": [
        "bot = bots[5]\n",
        "bot.user_client.get_meetings()"
      ]
    },
    {
      "cell_type": "code",
      "execution_count": null,
      "metadata": {},
      "outputs": [],
      "source": [
        "[s['text'] for s in bot.get_transcript()['segments']]"
      ]
    },
    {
      "cell_type": "code",
      "execution_count": null,
      "metadata": {},
      "outputs": [],
      "source": [
        "bot.get_transcript()"
      ]
    },
    {
      "cell_type": "code",
      "execution_count": null,
      "metadata": {},
      "outputs": [],
      "source": [
        "test_suite.cleanup()"
      ]
    },
    {
      "cell_type": "markdown",
      "metadata": {},
      "source": []
    }
  ],
  "metadata": {
    "kernelspec": {
      "display_name": "vexa",
      "language": "python",
      "name": "python3"
    },
    "language_info": {
      "codemirror_mode": {
        "name": "ipython",
        "version": 3
      },
      "file_extension": ".py",
      "mimetype": "text/x-python",
      "name": "python",
      "nbconvert_exporter": "python",
      "pygments_lexer": "ipython3",
      "version": "3.11.10"
    }
  },
  "nbformat": 4,
  "nbformat_minor": 2
}
