{
 "cells": [
  {
   "cell_type": "code",
   "execution_count": null,
   "metadata": {},
   "outputs": [],
   "source": [
    "# Load environment variables from .env file\n",
    "from dotenv import load_dotenv\n",
    "\n",
    "# Load .env file\n",
    "load_dotenv()\n",
    "import random\n",
    "\n",
    "import os\n",
    "from vexa_client import VexaClient\n",
    "\n",
    "import os\n",
    "TOKEN = os.getenv('ADMIN_API_TOKEN')\n",
    "url = \"http://localhost:8056\"\n",
    "client = VexaClient(\n",
    "    base_url=url,\n",
    "    admin_key=TOKEN  # From docker-compose.yml\n",
    ")"
   ]
  },
  {
   "cell_type": "code",
   "execution_count": null,
   "metadata": {},
   "outputs": [],
   "source": [
    "# Assuming 'client' is an instance of VexaClient with a valid admin_key\n",
    "target_email = \"test@test.com\"  # Replace with the actual email\n",
    "new_max_bots = 5                # Replace with the desired maximum"
   ]
  },
  {
   "cell_type": "code",
   "execution_count": null,
   "metadata": {},
   "outputs": [],
   "source": [
    "user_id = client.get_user_by_email(target_email)['id']"
   ]
  },
  {
   "cell_type": "code",
   "execution_count": null,
   "metadata": {},
   "outputs": [],
   "source": [
    "\n",
    "updated_user_info = client.update_user(\n",
    "    user_id=user_id,\n",
    "    max_concurrent_bots=new_max_bots\n",
    ")\n",
    "print(f\"Successfully updated user {target_email} (ID: {user_id}): {updated_user_info}\")\n"
   ]
  },
  {
   "cell_type": "code",
   "execution_count": null,
   "metadata": {},
   "outputs": [],
   "source": [
    "# Assuming 'client' is an instance of VexaClient with a valid admin_key\n",
    "user_id_to_update = 123  # Replace with the actual user ID\n",
    "new_max_bots = 10       # Replace with the desired maximum number of concurrent bots\n",
    "\n",
    "try:\n",
    "    updated_user_info = client.update_user(\n",
    "        user_id=user_id_to_update,\n",
    "        max_concurrent_bots=new_max_bots\n",
    "    )\n",
    "    print(f\"Successfully updated user {user_id_to_update}: {updated_user_info}\")\n",
    "except VexaClientError as e:\n",
    "    print(f\"Error updating user: {e}\")"
   ]
  }
 ],
 "metadata": {
  "kernelspec": {
   "display_name": "vexa",
   "language": "python",
   "name": "python3"
  },
  "language_info": {
   "codemirror_mode": {
    "name": "ipython",
    "version": 3
   },
   "file_extension": ".py",
   "mimetype": "text/x-python",
   "name": "python",
   "nbconvert_exporter": "python",
   "pygments_lexer": "ipython3",
   "version": "3.11.10"
  }
 },
 "nbformat": 4,
 "nbformat_minor": 2
}
