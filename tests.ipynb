{
 "cells": [
  {
   "cell_type": "code",
   "execution_count": 2,
   "metadata": {},
   "outputs": [],
   "source": [
    "# Load environment variables from .env file\n",
    "from dotenv import load_dotenv\n",
    "\n",
    "# Load .env file\n",
    "load_dotenv()\n",
    "\n",
    "import os\n",
    "from vexa_client import VexaClient\n",
    "\n",
    "import os\n",
    "TOKEN = os.getenv('ADMIN_API_TOKEN')"
   ]
  },
  {
   "cell_type": "code",
   "execution_count": 3,
   "metadata": {},
   "outputs": [],
   "source": [
    "url = \"http://localhost:8056\""
   ]
  },
  {
   "cell_type": "code",
   "execution_count": 4,
   "metadata": {},
   "outputs": [],
   "source": [
    "admin_client = VexaClient(\n",
    "    base_url=url,\n",
    "    admin_key=TOKEN  # From docker-compose.yml\n",
    ")"
   ]
  },
  {
   "cell_type": "code",
   "execution_count": 5,
   "metadata": {},
   "outputs": [],
   "source": [
    "import random"
   ]
  },
  {
   "cell_type": "code",
   "execution_count": null,
   "metadata": {},
   "outputs": [],
   "source": []
  },
  {
   "cell_type": "code",
   "execution_count": 6,
   "metadata": {},
   "outputs": [
    {
     "name": "stdout",
     "output_type": "stream",
     "text": [
      "\n",
      "DEBUG: Making POST request to http://localhost:8056/admin/users\n",
      "DEBUG: Headers: {'Content-Type': 'application/json', 'X-Admin-API-Key': 'KJnl2jjk&'}\n",
      "DEBUG: Params: None\n",
      "DEBUG: JSON data: {'email': '177180@example.com', 'name': 'test'}\n",
      "DEBUG: Response status: 201\n",
      "DEBUG: Response headers: {'date': 'Sat, 19 Apr 2025 14:39:44 GMT, Sat, 19 Apr 2025 14:39:45 GMT', 'server': 'uvicorn, uvicorn', 'content-length': '111', 'content-type': 'application/json'}\n",
      "DEBUG: Response content: {\"email\":\"177180@example.com\",\"name\":\"test\",\"image_url\":null,\"id\":57,\"created_at\":\"2025-04-19T14:39:45.634387\"}...\n"
     ]
    }
   ],
   "source": [
    "new_user = admin_client.create_user(email=f\"{random.randint(1, 1000000)}@example.com\", name=\"test\")\n"
   ]
  },
  {
   "cell_type": "code",
   "execution_count": 7,
   "metadata": {},
   "outputs": [],
   "source": [
    "\n",
    "user_id = new_user['id']"
   ]
  },
  {
   "cell_type": "code",
   "execution_count": 8,
   "metadata": {},
   "outputs": [
    {
     "data": {
      "text/plain": [
       "57"
      ]
     },
     "execution_count": 8,
     "metadata": {},
     "output_type": "execute_result"
    }
   ],
   "source": [
    "user_id"
   ]
  },
  {
   "cell_type": "code",
   "execution_count": 9,
   "metadata": {},
   "outputs": [
    {
     "name": "stdout",
     "output_type": "stream",
     "text": [
      "\n",
      "DEBUG: Making POST request to http://localhost:8056/admin/users/57/tokens\n",
      "DEBUG: Headers: {'Content-Type': 'application/json', 'X-Admin-API-Key': 'KJnl2jjk&'}\n",
      "DEBUG: Params: None\n",
      "DEBUG: JSON data: None\n",
      "DEBUG: Response status: 201\n",
      "DEBUG: Response headers: {'date': 'Sat, 19 Apr 2025 14:39:46 GMT, Sat, 19 Apr 2025 14:39:46 GMT', 'server': 'uvicorn, uvicorn', 'content-length': '115', 'content-type': 'application/json'}\n",
      "DEBUG: Response content: {\"user_id\":57,\"id\":57,\"token\":\"Fp68aGtGdysKqas9KKVwNsp1o7RRuQKUaD9CrW09\",\"created_at\":\"2025-04-19T14:39:47.497347\"}...\n"
     ]
    }
   ],
   "source": [
    "token_info = admin_client.create_token(user_id=user_id)\n",
    "user_api_key = token_info['token']"
   ]
  },
  {
   "cell_type": "code",
   "execution_count": 10,
   "metadata": {},
   "outputs": [],
   "source": [
    "#user_api_key = 'FQUV46o4ychNZOKMEDDEkCJ7hL82rgOomHTmKMgH'"
   ]
  },
  {
   "cell_type": "code",
   "execution_count": 11,
   "metadata": {},
   "outputs": [],
   "source": [
    "client = VexaClient(\n",
    "    base_url=url,\n",
    "    api_key=user_api_key\n",
    ")"
   ]
  },
  {
   "cell_type": "code",
   "execution_count": 12,
   "metadata": {},
   "outputs": [],
   "source": [
    "meeting_url=\"https://meet.google.com/qcm-yvzc-izx\"\n",
    "native_meeting_id = meeting_url.split(\"/\")[-1]  # \"xyz-abcd-123\""
   ]
  },
  {
   "cell_type": "code",
   "execution_count": 18,
   "metadata": {},
   "outputs": [
    {
     "name": "stdout",
     "output_type": "stream",
     "text": [
      "\n",
      "DEBUG: Making POST request to http://localhost:8056/bots\n",
      "DEBUG: Headers: {'Content-Type': 'application/json', 'X-API-Key': 'Fp68aGtGdysKqas9KKVwNsp1o7RRuQKUaD9CrW09'}\n",
      "DEBUG: Params: None\n",
      "DEBUG: JSON data: {'platform': 'google_meet', 'native_meeting_id': 'qcm-yvzc-izx', 'bot_name': 'MyBot', 'language': 'es', 'task': 'transcribe'}\n",
      "DEBUG: Response status: 201\n",
      "DEBUG: Response headers: {'date': 'Sat, 19 Apr 2025 14:44:23 GMT, Sat, 19 Apr 2025 14:44:22 GMT', 'server': 'uvicorn, uvicorn', 'content-length': '393', 'content-type': 'application/json'}\n",
      "DEBUG: Response content: {\"id\":72,\"user_id\":57,\"platform\":\"google_meet\",\"native_meeting_id\":\"qcm-yvzc-izx\",\"constructed_meeting_url\":\"https://meet.google.com/qcm-yvzc-izx\",\"status\":\"active\",\"bot_container_id\":\"07f544004706867271884a01be349f03c261e3939d30e0da277c268bd53ceac4\",\"start_time\":\"2025-04-19T14:44:23.585724\",\"end_time\":null,\"created_at\":\"2025-04-19T14:44:23.363701\",\"updated_at\":\"2025-04-19T14:44:23.383282\"}...\n"
     ]
    }
   ],
   "source": [
    "meeting_info = client.request_bot(\n",
    "    platform=\"google_meet\",\n",
    "    native_meeting_id=native_meeting_id,\n",
    "    bot_name=\"MyBot\",\n",
    "    language='es',\n",
    "    task = 'transcribe'\n",
    ")\n",
    "meeting_id = meeting_info['id']"
   ]
  },
  {
   "cell_type": "code",
   "execution_count": 33,
   "metadata": {},
   "outputs": [
    {
     "data": {
      "text/plain": [
       "72"
      ]
     },
     "execution_count": 33,
     "metadata": {},
     "output_type": "execute_result"
    }
   ],
   "source": [
    "meeting_id"
   ]
  },
  {
   "cell_type": "code",
   "execution_count": 32,
   "metadata": {},
   "outputs": [
    {
     "name": "stdout",
     "output_type": "stream",
     "text": [
      "\n",
      "DEBUG: Making PUT request to http://localhost:8056/bots/google_meet/qcm-yvzc-izx/config\n",
      "DEBUG: Headers: {'Content-Type': 'application/json', 'X-API-Key': 'Fp68aGtGdysKqas9KKVwNsp1o7RRuQKUaD9CrW09'}\n",
      "DEBUG: Params: None\n",
      "DEBUG: JSON data: {'language': 'ru', 'task': 'transcribe'}\n",
      "DEBUG: Response status: 202\n",
      "DEBUG: Response headers: {'date': 'Sat, 19 Apr 2025 14:50:37 GMT, Sat, 19 Apr 2025 14:50:37 GMT', 'server': 'uvicorn, uvicorn', 'content-length': '67', 'content-type': 'application/json'}\n",
      "DEBUG: Response content: {\"message\":\"Reconfiguration request accepted and sent to the bot.\"}...\n"
     ]
    },
    {
     "data": {
      "text/plain": [
       "{'message': 'Reconfiguration request accepted and sent to the bot.'}"
      ]
     },
     "execution_count": 32,
     "metadata": {},
     "output_type": "execute_result"
    }
   ],
   "source": [
    "client.update_bot_config(\n",
    "    platform=\"google_meet\",\n",
    "    native_meeting_id=native_meeting_id,\n",
    "    language='ru',\n",
    "    task = 'transcribe'\n",
    ")"
   ]
  },
  {
   "cell_type": "code",
   "execution_count": 17,
   "metadata": {},
   "outputs": [
    {
     "name": "stdout",
     "output_type": "stream",
     "text": [
      "\n",
      "DEBUG: Making DELETE request to http://localhost:8056/bots/google_meet/qcm-yvzc-izx\n",
      "DEBUG: Headers: {'Content-Type': 'application/json', 'X-API-Key': 'Fp68aGtGdysKqas9KKVwNsp1o7RRuQKUaD9CrW09'}\n",
      "DEBUG: Params: None\n",
      "DEBUG: JSON data: None\n",
      "DEBUG: Response status: 202\n",
      "DEBUG: Response headers: {'date': 'Sat, 19 Apr 2025 14:44:08 GMT, Sat, 19 Apr 2025 14:44:08 GMT', 'server': 'uvicorn, uvicorn', 'content-length': '59', 'content-type': 'application/json'}\n",
      "DEBUG: Response content: {\"message\":\"Stop request accepted and is being processed.\"}...\n"
     ]
    },
    {
     "data": {
      "text/plain": [
       "{'message': 'Stop request accepted and is being processed.'}"
      ]
     },
     "execution_count": 17,
     "metadata": {},
     "output_type": "execute_result"
    }
   ],
   "source": [
    "client.stop_bot(platform=\"google_meet\",native_meeting_id=native_meeting_id)"
   ]
  },
  {
   "cell_type": "code",
   "execution_count": 14,
   "metadata": {},
   "outputs": [
    {
     "name": "stdout",
     "output_type": "stream",
     "text": [
      "\n",
      "DEBUG: Making GET request to http://localhost:8056/meetings\n",
      "DEBUG: Headers: {'Content-Type': 'application/json', 'X-API-Key': 'z1X5GaBMVR9B88CJH4f7sr2epjJnoR25AGdEfQFP'}\n",
      "DEBUG: Params: None\n",
      "DEBUG: JSON data: None\n",
      "DEBUG: Response status: 200\n",
      "DEBUG: Response headers: {'date': 'Fri, 18 Apr 2025 18:34:12 GMT, Fri, 18 Apr 2025 18:34:12 GMT', 'server': 'uvicorn, uvicorn', 'content-length': '408', 'content-type': 'application/json'}\n",
      "DEBUG: Response content: {\"meetings\":[{\"id\":64,\"user_id\":54,\"platform\":\"google_meet\",\"native_meeting_id\":\"qcm-yvzc-izx\",\"constructed_meeting_url\":\"https://meet.google.com/qcm-yvzc-izx\",\"status\":\"active\",\"bot_container_id\":\"a50ebcbae367f255fed6c8506161f60382fbb90fa3c953fee7d843bd60fd4955\",\"start_time\":\"2025-04-18T18:33:38.770287\",\"end_time\":null,\"created_at\":\"2025-04-18T18:33:38.536475\",\"updated_at\":\"2025-04-18T18:33:38.542903\"}]}...\n"
     ]
    }
   ],
   "source": [
    "meetings = client.get_meetings()"
   ]
  },
  {
   "cell_type": "code",
   "execution_count": 15,
   "metadata": {},
   "outputs": [
    {
     "data": {
      "text/plain": [
       "64"
      ]
     },
     "execution_count": 15,
     "metadata": {},
     "output_type": "execute_result"
    }
   ],
   "source": [
    "meeting_id"
   ]
  },
  {
   "cell_type": "code",
   "execution_count": 31,
   "metadata": {},
   "outputs": [
    {
     "name": "stdout",
     "output_type": "stream",
     "text": [
      "\n",
      "DEBUG: Making GET request to http://localhost:8056/transcripts/google_meet/qcm-yvzc-izx\n",
      "DEBUG: Headers: {'Content-Type': 'application/json', 'X-API-Key': 'Fp68aGtGdysKqas9KKVwNsp1o7RRuQKUaD9CrW09'}\n",
      "DEBUG: Params: None\n",
      "DEBUG: JSON data: None\n",
      "DEBUG: Response status: 200\n",
      "DEBUG: Response headers: {'date': 'Sat, 19 Apr 2025 14:50:29 GMT, Sat, 19 Apr 2025 14:50:29 GMT', 'server': 'uvicorn, uvicorn', 'content-length': '8150', 'content-type': 'application/json'}\n",
      "DEBUG: Response content: {\"id\":72,\"platform\":\"google_meet\",\"native_meeting_id\":\"qcm-yvzc-izx\",\"constructed_meeting_url\":\"https://meet.google.com/qcm-yvzc-izx\",\"status\":\"active\",\"start_time\":\"2025-04-19T14:44:23.585724\",\"end_time\":null,\"segments\":[{\"start\":2.043,\"end\":14.313,\"text\":\" Так, это было, это тётка сказала, овечка. Овечка сказала тётень.\",\"language\":null,\"created_at\":\"2025-04-19T14:46:12.195041\",\"speaker\":null,\"absolute_start_time\":\"2025-04-19T14:45:09.702403+00:00\",\"absolute_end_time\":\"2025-04-19T14:45:21.9724...\n"
     ]
    },
    {
     "data": {
      "text/html": [
       "<div>\n",
       "<style scoped>\n",
       "    .dataframe tbody tr th:only-of-type {\n",
       "        vertical-align: middle;\n",
       "    }\n",
       "\n",
       "    .dataframe tbody tr th {\n",
       "        vertical-align: top;\n",
       "    }\n",
       "\n",
       "    .dataframe thead th {\n",
       "        text-align: right;\n",
       "    }\n",
       "</style>\n",
       "<table border=\"1\" class=\"dataframe\">\n",
       "  <thead>\n",
       "    <tr style=\"text-align: right;\">\n",
       "      <th></th>\n",
       "      <th>start</th>\n",
       "      <th>end</th>\n",
       "      <th>text</th>\n",
       "      <th>language</th>\n",
       "      <th>created_at</th>\n",
       "      <th>speaker</th>\n",
       "      <th>absolute_start_time</th>\n",
       "      <th>absolute_end_time</th>\n",
       "    </tr>\n",
       "  </thead>\n",
       "  <tbody>\n",
       "    <tr>\n",
       "      <th>23</th>\n",
       "      <td>66.12</td>\n",
       "      <td>72.00</td>\n",
       "      <td>То есть в нашем мозге система, как делает движение, невероятно сложна и взаимосвязана,</td>\n",
       "      <td>None</td>\n",
       "      <td>None</td>\n",
       "      <td>None</td>\n",
       "      <td>2025-04-19T14:49:51.305247+00:00</td>\n",
       "      <td>2025-04-19T14:49:57.185247+00:00</td>\n",
       "    </tr>\n",
       "    <tr>\n",
       "      <th>24</th>\n",
       "      <td>72.00</td>\n",
       "      <td>81.00</td>\n",
       "      <td>Поэтому маркер хорошего специалиста для возвода разнообразия всяких упражнений и типов систем,</td>\n",
       "      <td>None</td>\n",
       "      <td>None</td>\n",
       "      <td>None</td>\n",
       "      <td>2025-04-19T14:49:57.185247+00:00</td>\n",
       "      <td>2025-04-19T14:50:06.185247+00:00</td>\n",
       "    </tr>\n",
       "    <tr>\n",
       "      <th>25</th>\n",
       "      <td>81.00</td>\n",
       "      <td>86.00</td>\n",
       "      <td>которые подружают для того, чтобы были локальные походы с тем, что зажат на чему-то,</td>\n",
       "      <td>None</td>\n",
       "      <td>None</td>\n",
       "      <td>None</td>\n",
       "      <td>2025-04-19T14:50:06.185247+00:00</td>\n",
       "      <td>2025-04-19T14:50:11.185247+00:00</td>\n",
       "    </tr>\n",
       "    <tr>\n",
       "      <th>26</th>\n",
       "      <td>86.00</td>\n",
       "      <td>88.00</td>\n",
       "      <td>то есть он на правое существо.</td>\n",
       "      <td>None</td>\n",
       "      <td>None</td>\n",
       "      <td>None</td>\n",
       "      <td>2025-04-19T14:50:11.185247+00:00</td>\n",
       "      <td>2025-04-19T14:50:13.185247+00:00</td>\n",
       "    </tr>\n",
       "    <tr>\n",
       "      <th>27</th>\n",
       "      <td>88.00</td>\n",
       "      <td>89.35</td>\n",
       "      <td>Наверное, я вот это...</td>\n",
       "      <td>None</td>\n",
       "      <td>None</td>\n",
       "      <td>None</td>\n",
       "      <td>2025-04-19T14:50:13.185247+00:00</td>\n",
       "      <td>2025-04-19T14:50:14.529247+00:00</td>\n",
       "    </tr>\n",
       "  </tbody>\n",
       "</table>\n",
       "</div>"
      ],
      "text/plain": [
       "                  start                  end                                                                                             text language created_at speaker               absolute_start_time                 absolute_end_time\n",
       "23                66.12                72.00           То есть в нашем мозге система, как делает движение, невероятно сложна и взаимосвязана,     None       None    None  2025-04-19T14:49:51.305247+00:00  2025-04-19T14:49:57.185247+00:00\n",
       "24                72.00                81.00   Поэтому маркер хорошего специалиста для возвода разнообразия всяких упражнений и типов систем,     None       None    None  2025-04-19T14:49:57.185247+00:00  2025-04-19T14:50:06.185247+00:00\n",
       "25                81.00                86.00             которые подружают для того, чтобы были локальные походы с тем, что зажат на чему-то,     None       None    None  2025-04-19T14:50:06.185247+00:00  2025-04-19T14:50:11.185247+00:00\n",
       "26                86.00                88.00                                                                   то есть он на правое существо.     None       None    None  2025-04-19T14:50:11.185247+00:00  2025-04-19T14:50:13.185247+00:00\n",
       "27                88.00                89.35                                                                           Наверное, я вот это...     None       None    None  2025-04-19T14:50:13.185247+00:00  2025-04-19T14:50:14.529247+00:00"
      ]
     },
     "execution_count": 31,
     "metadata": {},
     "output_type": "execute_result"
    }
   ],
   "source": [
    "import pandas as pd\n",
    "pd.options.display.max_colwidth = 1000\n",
    "pd.set_option('display.max_colwidth', 1000)\n",
    "pd.set_option('display.max_rows', 1000)\n",
    "pd.set_option('display.max_columns', 1000)\n",
    "pd.set_option('display.width', 1000)\n",
    "pd.set_option('display.float_format', '{:20.2f}'.format)\n",
    "pd.set_option('display.max_colwidth', 1000)\n",
    "pd.set_option('display.max_rows', 1000)\n",
    "pd.set_option('display.max_columns', 1000)\n",
    "transcript = client.get_transcript(native_meeting_id=native_meeting_id,platform='google_meet')\n",
    "df = pd.DataFrame(transcript['segments'])#.sort_values(['created_at','start'])#.drop_duplicates('start',keep='last')\n",
    "df.sort_values('absolute_start_time').tail(5)"
   ]
  },
  {
   "cell_type": "code",
   "execution_count": 20,
   "metadata": {},
   "outputs": [
    {
     "data": {
      "text/html": [
       "<div>\n",
       "<style scoped>\n",
       "    .dataframe tbody tr th:only-of-type {\n",
       "        vertical-align: middle;\n",
       "    }\n",
       "\n",
       "    .dataframe tbody tr th {\n",
       "        vertical-align: top;\n",
       "    }\n",
       "\n",
       "    .dataframe thead th {\n",
       "        text-align: right;\n",
       "    }\n",
       "</style>\n",
       "<table border=\"1\" class=\"dataframe\">\n",
       "  <thead>\n",
       "    <tr style=\"text-align: right;\">\n",
       "      <th></th>\n",
       "    </tr>\n",
       "  </thead>\n",
       "  <tbody>\n",
       "  </tbody>\n",
       "</table>\n",
       "</div>"
      ],
      "text/plain": [
       "Empty DataFrame\n",
       "Columns: []\n",
       "Index: []"
      ]
     },
     "execution_count": 20,
     "metadata": {},
     "output_type": "execute_result"
    }
   ],
   "source": [
    "df"
   ]
  },
  {
   "cell_type": "code",
   "execution_count": null,
   "metadata": {},
   "outputs": [],
   "source": []
  }
 ],
 "metadata": {
  "kernelspec": {
   "display_name": "langchain",
   "language": "python",
   "name": "langchain"
  },
  "language_info": {
   "codemirror_mode": {
    "name": "ipython",
    "version": 3
   },
   "file_extension": ".py",
   "mimetype": "text/x-python",
   "name": "python",
   "nbconvert_exporter": "python",
   "pygments_lexer": "ipython3",
   "version": "3.11.2"
  }
 },
 "nbformat": 4,
 "nbformat_minor": 2
}
