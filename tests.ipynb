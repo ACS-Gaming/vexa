{
 "cells": [
  {
   "cell_type": "code",
   "execution_count": 1,
   "metadata": {},
   "outputs": [],
   "source": [
    "import pandas as pd\n",
    "pd.options.display.max_colwidth = 1000\n",
    "pd.set_option('display.max_colwidth', 1000)\n",
    "pd.set_option('display.max_rows', 1000)\n",
    "pd.set_option('display.max_columns', 1000)\n",
    "pd.set_option('display.width', 1000)\n",
    "pd.set_option('display.float_format', '{:20.2f}'.format)\n",
    "pd.set_option('display.max_colwidth', 1000)\n",
    "pd.set_option('display.max_rows', 1000)\n",
    "pd.set_option('display.max_columns', 1000)\n",
    "from IPython.display import clear_output,display"
   ]
  },
  {
   "cell_type": "code",
   "execution_count": 2,
   "metadata": {},
   "outputs": [],
   "source": [
    "# Load environment variables from .env file\n",
    "from dotenv import load_dotenv\n",
    "\n",
    "# Load .env file\n",
    "load_dotenv()\n",
    "import random\n",
    "\n",
    "import os\n",
    "from vexa_client import VexaClient\n",
    "\n",
    "import os\n",
    "TOKEN = os.getenv('ADMIN_API_TOKEN')\n",
    "TOKEN = 'vexa-admin-secret-2025'\n",
    "url = \"http://localhost:8926\"\n",
    "admin_client = VexaClient(\n",
    "    base_url=url,\n",
    "    admin_key=TOKEN  # From docker-compose.yml\n",
    ")\n",
    "\n",
    "import time"
   ]
  },
  {
   "cell_type": "code",
   "execution_count": 3,
   "metadata": {},
   "outputs": [
    {
     "name": "stdout",
     "output_type": "stream",
     "text": [
      "\n",
      "DEBUG: Making POST request to http://localhost:8926/admin/users\n",
      "DEBUG: Headers: {'Content-Type': 'application/json', 'X-Admin-API-Key': 'vexa-admin-secret-2025'}\n",
      "DEBUG: Params: None\n",
      "DEBUG: JSON data: {'email': '23079@example.com', 'name': 'test'}\n",
      "DEBUG: Response status: 201\n",
      "DEBUG: Response headers: {'date': 'Mon, 23 Jun 2025 14:55:58 GMT, Mon, 23 Jun 2025 14:55:58 GMT', 'server': 'uvicorn, uvicorn', 'content-length': '143', 'content-type': 'application/json'}\n",
      "DEBUG: Response content: {\"email\":\"23079@example.com\",\"name\":\"test\",\"image_url\":null,\"max_concurrent_bots\":1,\"data\":{},\"id\":7,\"created_at\":\"2025-06-23T14:55:58.339931\"}...\n"
     ]
    }
   ],
   "source": [
    "new_user = admin_client.create_user(email=f\"{random.randint(1, 1000000)}@example.com\", name=\"test\")\n"
   ]
  },
  {
   "cell_type": "code",
   "execution_count": null,
   "metadata": {},
   "outputs": [
    {
     "name": "stdout",
     "output_type": "stream",
     "text": [
      "\n",
      "DEBUG: Making POST request to http://localhost:8926/admin/users/7/tokens\n",
      "DEBUG: Headers: {'Content-Type': 'application/json', 'X-Admin-API-Key': 'vexa-admin-secret-2025'}\n",
      "DEBUG: Params: None\n",
      "DEBUG: JSON data: None\n",
      "DEBUG: Response status: 201\n",
      "DEBUG: Response headers: {'date': 'Mon, 23 Jun 2025 14:55:59 GMT, Mon, 23 Jun 2025 14:55:59 GMT', 'server': 'uvicorn, uvicorn', 'content-length': '113', 'content-type': 'application/json'}\n",
      "DEBUG: Response content: {\"user_id\":7,\"id\":8,\"token\":\"SAevPG4z3UmNI2a929psoJ3OHPvwkyDi8x8XEwqS\",\"created_at\":\"2025-06-23T14:55:59.419525\"}...\n"
     ]
    }
   ],
   "source": [
    "\n",
    "user_id = new_user['id']\n",
    "user_id\n",
    "token_info = admin_client.create_token(user_id=user_id)\n",
    "user_api_key = token_info['token']\n",
    "client = VexaClient(\n",
    "    base_url=url,\n",
    "    api_key=user_api_key\n",
    ")"
   ]
  },
  {
   "cell_type": "code",
   "execution_count": 5,
   "metadata": {},
   "outputs": [
    {
     "name": "stdout",
     "output_type": "stream",
     "text": [
      "\n",
      "DEBUG: Making PUT request to http://localhost:8926/user/webhook\n",
      "DEBUG: Headers: {'Content-Type': 'application/json', 'X-API-Key': 'SAevPG4z3UmNI2a929psoJ3OHPvwkyDi8x8XEwqS'}\n",
      "DEBUG: Params: None\n",
      "DEBUG: JSON data: {'webhook_url': 'https://webhook-test.com/e79be735cf3e9bc0c98ca068beaac1f3'}\n",
      "DEBUG: Response status: 200\n",
      "DEBUG: Response headers: {'date': 'Mon, 23 Jun 2025 14:56:00 GMT, Mon, 23 Jun 2025 14:56:00 GMT', 'server': 'uvicorn, uvicorn', 'content-length': '216', 'content-type': 'application/json'}\n",
      "DEBUG: Response content: {\"email\":\"23079@example.com\",\"name\":\"test\",\"image_url\":null,\"max_concurrent_bots\":1,\"data\":{\"webhook_url\":\"https://webhook-test.com/e79be735cf3e9bc0c98ca068beaac1f3\"},\"id\":7,\"created_at\":\"2025-06-23T14:55:58.339931\"}...\n"
     ]
    },
    {
     "data": {
      "text/plain": [
       "{'email': '23079@example.com',\n",
       " 'name': 'test',\n",
       " 'image_url': None,\n",
       " 'max_concurrent_bots': 1,\n",
       " 'data': {'webhook_url': 'https://webhook-test.com/e79be735cf3e9bc0c98ca068beaac1f3'},\n",
       " 'id': 7,\n",
       " 'created_at': '2025-06-23T14:55:58.339931'}"
      ]
     },
     "execution_count": 5,
     "metadata": {},
     "output_type": "execute_result"
    }
   ],
   "source": [
    "client.set_webhook_url(\"https://webhook-test.com/e79be735cf3e9bc0c98ca068beaac1f3\")"
   ]
  },
  {
   "cell_type": "code",
   "execution_count": 10,
   "metadata": {},
   "outputs": [
    {
     "name": "stdout",
     "output_type": "stream",
     "text": [
      "\n",
      "DEBUG: Making POST request to http://localhost:8926/bots\n",
      "DEBUG: Headers: {'Content-Type': 'application/json', 'X-API-Key': 'SAevPG4z3UmNI2a929psoJ3OHPvwkyDi8x8XEwqS'}\n",
      "DEBUG: Params: None\n",
      "DEBUG: JSON data: {'platform': 'google_meet', 'native_meeting_id': 'kgq-mbwy-mya', 'bot_name': 'Vexa', 'task': 'transcribe'}\n",
      "DEBUG: Response status: 201\n",
      "DEBUG: Response headers: {'date': 'Mon, 23 Jun 2025 15:01:13 GMT, Mon, 23 Jun 2025 15:01:13 GMT', 'server': 'uvicorn, uvicorn', 'content-length': '375', 'content-type': 'application/json'}\n",
      "DEBUG: Response content: {\"id\":71,\"user_id\":7,\"platform\":\"google_meet\",\"native_meeting_id\":\"kgq-mbwy-mya\",\"constructed_meeting_url\":\"https://meet.google.com/kgq-mbwy-mya\",\"status\":\"active\",\"bot_container_id\":\"vexa-bot/dispatch-1750690874-d4c2a58c\",\"start_time\":\"2025-06-23T15:01:14.610713\",\"end_time\":null,\"data\":{},\"created_at\":\"2025-06-23T15:01:14.549049\",\"updated_at\":\"2025-06-23T15:01:14.555904\"}...\n"
     ]
    }
   ],
   "source": [
    "\n",
    "meeting_url=\"https://meet.google.com/kgq-mbwy-mya\"\n",
    "native_meeting_id = meeting_url.split(\"/\")[-1]  # \"xyz-abcd-123\"\n",
    "meeting_info = client.request_bot(\n",
    "    platform=\"google_meet\",\n",
    "    native_meeting_id=native_meeting_id,\n",
    "    bot_name=\"Vexa\",\n",
    "  #  language='es',\n",
    "    task = 'transcribe'\n",
    ")\n",
    "meeting_id = meeting_info['id']"
   ]
  },
  {
   "cell_type": "code",
   "execution_count": 11,
   "metadata": {},
   "outputs": [
    {
     "data": {
      "text/plain": [
       "7"
      ]
     },
     "execution_count": 11,
     "metadata": {},
     "output_type": "execute_result"
    }
   ],
   "source": [
    "user_id"
   ]
  },
  {
   "cell_type": "code",
   "execution_count": 18,
   "metadata": {},
   "outputs": [
    {
     "data": {
      "text/html": [
       "<div>\n",
       "<style scoped>\n",
       "    .dataframe tbody tr th:only-of-type {\n",
       "        vertical-align: middle;\n",
       "    }\n",
       "\n",
       "    .dataframe tbody tr th {\n",
       "        vertical-align: top;\n",
       "    }\n",
       "\n",
       "    .dataframe thead th {\n",
       "        text-align: right;\n",
       "    }\n",
       "</style>\n",
       "<table border=\"1\" class=\"dataframe\">\n",
       "  <thead>\n",
       "    <tr style=\"text-align: right;\">\n",
       "      <th></th>\n",
       "      <th>start</th>\n",
       "      <th>end</th>\n",
       "      <th>text</th>\n",
       "      <th>language</th>\n",
       "      <th>created_at</th>\n",
       "      <th>speaker</th>\n",
       "      <th>absolute_start_time</th>\n",
       "      <th>absolute_end_time</th>\n",
       "    </tr>\n",
       "  </thead>\n",
       "  <tbody>\n",
       "    <tr>\n",
       "      <th>10</th>\n",
       "      <td>84.54</td>\n",
       "      <td>86.54</td>\n",
       "      <td>скрипт</td>\n",
       "      <td>ru</td>\n",
       "      <td>None</td>\n",
       "      <td>Dmitriy Grankin</td>\n",
       "      <td>2025-06-23T15:03:01.341788+00:00</td>\n",
       "      <td>2025-06-23T15:03:03.341788+00:00</td>\n",
       "    </tr>\n",
       "    <tr>\n",
       "      <th>11</th>\n",
       "      <td>86.54</td>\n",
       "      <td>90.46</td>\n",
       "      <td>скрипт</td>\n",
       "      <td>ru</td>\n",
       "      <td>None</td>\n",
       "      <td>Dmitriy Grankin</td>\n",
       "      <td>2025-06-23T15:03:03.341788+00:00</td>\n",
       "      <td>2025-06-23T15:03:07.261788+00:00</td>\n",
       "    </tr>\n",
       "    <tr>\n",
       "      <th>12</th>\n",
       "      <td>90.46</td>\n",
       "      <td>107.99</td>\n",
       "      <td>дибукс ассетс</td>\n",
       "      <td>ru</td>\n",
       "      <td>2025-06-23T15:04:06.941496</td>\n",
       "      <td>Dmitriy Grankin</td>\n",
       "      <td>2025-06-23T15:03:07.261788+00:00</td>\n",
       "      <td>2025-06-23T15:03:24.791788+00:00</td>\n",
       "    </tr>\n",
       "    <tr>\n",
       "      <th>13</th>\n",
       "      <td>114.57</td>\n",
       "      <td>125.21</td>\n",
       "      <td>Ну и то, значит нужно сделать так</td>\n",
       "      <td>ru</td>\n",
       "      <td>None</td>\n",
       "      <td>Dmitriy Grankin</td>\n",
       "      <td>2025-06-23T15:03:31.370788+00:00</td>\n",
       "      <td>2025-06-23T15:03:42.010788+00:00</td>\n",
       "    </tr>\n",
       "    <tr>\n",
       "      <th>14</th>\n",
       "      <td>125.21</td>\n",
       "      <td>127.98</td>\n",
       "      <td>X1</td>\n",
       "      <td>ru</td>\n",
       "      <td>None</td>\n",
       "      <td>Dmitriy Grankin</td>\n",
       "      <td>2025-06-23T15:03:42.010788+00:00</td>\n",
       "      <td>2025-06-23T15:03:44.785788+00:00</td>\n",
       "    </tr>\n",
       "    <tr>\n",
       "      <th>15</th>\n",
       "      <td>125.90</td>\n",
       "      <td>133.42</td>\n",
       "      <td>так вот он будет смотреть не сюда</td>\n",
       "      <td>ru</td>\n",
       "      <td>None</td>\n",
       "      <td>Dmitriy Grankin</td>\n",
       "      <td>2025-06-23T15:03:42.700788+00:00</td>\n",
       "      <td>2025-06-23T15:03:50.220788+00:00</td>\n",
       "    </tr>\n",
       "    <tr>\n",
       "      <th>16</th>\n",
       "      <td>133.42</td>\n",
       "      <td>138.22</td>\n",
       "      <td>ему нужно указать, какие мы надо смотреть в орбитарном</td>\n",
       "      <td>ru</td>\n",
       "      <td>None</td>\n",
       "      <td>Dmitriy Grankin</td>\n",
       "      <td>2025-06-23T15:03:50.220788+00:00</td>\n",
       "      <td>2025-06-23T15:03:55.020788+00:00</td>\n",
       "    </tr>\n",
       "    <tr>\n",
       "      <th>17</th>\n",
       "      <td>138.22</td>\n",
       "      <td>144.11</td>\n",
       "      <td>окей, это мы и сделаем</td>\n",
       "      <td>ru</td>\n",
       "      <td>None</td>\n",
       "      <td>Dmitriy Grankin</td>\n",
       "      <td>2025-06-23T15:03:55.020788+00:00</td>\n",
       "      <td>2025-06-23T15:04:00.910788+00:00</td>\n",
       "    </tr>\n",
       "    <tr>\n",
       "      <th>18</th>\n",
       "      <td>144.11</td>\n",
       "      <td>147.02</td>\n",
       "      <td>окей, что тут еще можно предпри...</td>\n",
       "      <td>ru</td>\n",
       "      <td>None</td>\n",
       "      <td>Dmitriy Grankin</td>\n",
       "      <td>2025-06-23T15:04:00.910788+00:00</td>\n",
       "      <td>2025-06-23T15:04:03.824788+00:00</td>\n",
       "    </tr>\n",
       "    <tr>\n",
       "      <th>19</th>\n",
       "      <td>0.00</td>\n",
       "      <td>6.32</td>\n",
       "      <td>And we say, come on, my friend, now we will be processing in English, how will you work in English?</td>\n",
       "      <td>en</td>\n",
       "      <td>None</td>\n",
       "      <td>Dmitriy Grankin</td>\n",
       "      <td>2025-06-23T15:04:17.772213+00:00</td>\n",
       "      <td>2025-06-23T15:04:24.088213+00:00</td>\n",
       "    </tr>\n",
       "  </tbody>\n",
       "</table>\n",
       "</div>"
      ],
      "text/plain": [
       "                  start                  end                                                                                                  text language                  created_at          speaker               absolute_start_time                 absolute_end_time\n",
       "10                84.54                86.54                                                                                                скрипт       ru                        None  Dmitriy Grankin  2025-06-23T15:03:01.341788+00:00  2025-06-23T15:03:03.341788+00:00\n",
       "11                86.54                90.46                                                                                                скрипт       ru                        None  Dmitriy Grankin  2025-06-23T15:03:03.341788+00:00  2025-06-23T15:03:07.261788+00:00\n",
       "12                90.46               107.99                                                                                         дибукс ассетс       ru  2025-06-23T15:04:06.941496  Dmitriy Grankin  2025-06-23T15:03:07.261788+00:00  2025-06-23T15:03:24.791788+00:00\n",
       "13               114.57               125.21                                                                     Ну и то, значит нужно сделать так       ru                        None  Dmitriy Grankin  2025-06-23T15:03:31.370788+00:00  2025-06-23T15:03:42.010788+00:00\n",
       "14               125.21               127.98                                                                                                    X1       ru                        None  Dmitriy Grankin  2025-06-23T15:03:42.010788+00:00  2025-06-23T15:03:44.785788+00:00\n",
       "15               125.90               133.42                                                                     так вот он будет смотреть не сюда       ru                        None  Dmitriy Grankin  2025-06-23T15:03:42.700788+00:00  2025-06-23T15:03:50.220788+00:00\n",
       "16               133.42               138.22                                                ему нужно указать, какие мы надо смотреть в орбитарном       ru                        None  Dmitriy Grankin  2025-06-23T15:03:50.220788+00:00  2025-06-23T15:03:55.020788+00:00\n",
       "17               138.22               144.11                                                                                окей, это мы и сделаем       ru                        None  Dmitriy Grankin  2025-06-23T15:03:55.020788+00:00  2025-06-23T15:04:00.910788+00:00\n",
       "18               144.11               147.02                                                                    окей, что тут еще можно предпри...       ru                        None  Dmitriy Grankin  2025-06-23T15:04:00.910788+00:00  2025-06-23T15:04:03.824788+00:00\n",
       "19                 0.00                 6.32   And we say, come on, my friend, now we will be processing in English, how will you work in English?       en                        None  Dmitriy Grankin  2025-06-23T15:04:17.772213+00:00  2025-06-23T15:04:24.088213+00:00"
      ]
     },
     "metadata": {},
     "output_type": "display_data"
    },
    {
     "ename": "KeyboardInterrupt",
     "evalue": "",
     "output_type": "error",
     "traceback": [
      "\u001b[0;31m---------------------------------------------------------------------------\u001b[0m",
      "\u001b[0;31mKeyboardInterrupt\u001b[0m                         Traceback (most recent call last)",
      "Cell \u001b[0;32mIn[18], line 6\u001b[0m\n\u001b[1;32m      4\u001b[0m clear_output()\n\u001b[1;32m      5\u001b[0m display(df\u001b[38;5;241m.\u001b[39msort_values(\u001b[38;5;124m'\u001b[39m\u001b[38;5;124mabsolute_start_time\u001b[39m\u001b[38;5;124m'\u001b[39m)\u001b[38;5;241m.\u001b[39mtail(\u001b[38;5;241m10\u001b[39m))\n\u001b[0;32m----> 6\u001b[0m time\u001b[38;5;241m.\u001b[39msleep(\u001b[38;5;241m1\u001b[39m)\n",
      "\u001b[0;31mKeyboardInterrupt\u001b[0m: "
     ]
    }
   ],
   "source": [
    "while True:\n",
    "    transcript = client.get_transcript(native_meeting_id=native_meeting_id,platform='google_meet')\n",
    "    df = pd.DataFrame(transcript['segments'])#.sort_values(['created_at','start'])#.drop_duplicates('start',keep='last')\n",
    "    clear_output()\n",
    "    display(df.sort_values('absolute_start_time').tail(10))\n",
    "    time.sleep(1)"
   ]
  },
  {
   "cell_type": "code",
   "execution_count": 9,
   "metadata": {},
   "outputs": [
    {
     "name": "stdout",
     "output_type": "stream",
     "text": [
      "\n",
      "DEBUG: Making DELETE request to http://localhost:8926/bots/google_meet/kgq-mbwy-mya\n",
      "DEBUG: Headers: {'Content-Type': 'application/json', 'X-API-Key': 'SAevPG4z3UmNI2a929psoJ3OHPvwkyDi8x8XEwqS'}\n",
      "DEBUG: Params: None\n",
      "DEBUG: JSON data: None\n",
      "DEBUG: Response status: 202\n",
      "DEBUG: Response headers: {'date': 'Mon, 23 Jun 2025 15:00:50 GMT, Mon, 23 Jun 2025 15:00:50 GMT', 'server': 'uvicorn, uvicorn', 'content-length': '59', 'content-type': 'application/json'}\n",
      "DEBUG: Response content: {\"message\":\"Stop request accepted and is being processed.\"}...\n"
     ]
    },
    {
     "data": {
      "text/plain": [
       "{'message': 'Stop request accepted and is being processed.'}"
      ]
     },
     "execution_count": 9,
     "metadata": {},
     "output_type": "execute_result"
    }
   ],
   "source": [
    "client.stop_bot(platform=\"google_meet\",native_meeting_id=native_meeting_id)"
   ]
  },
  {
   "cell_type": "code",
   "execution_count": 21,
   "metadata": {},
   "outputs": [
    {
     "data": {
      "text/plain": [
       "5"
      ]
     },
     "execution_count": 21,
     "metadata": {},
     "output_type": "execute_result"
    }
   ],
   "source": [
    "user_id"
   ]
  },
  {
   "cell_type": "code",
   "execution_count": 22,
   "metadata": {},
   "outputs": [
    {
     "name": "stdout",
     "output_type": "stream",
     "text": [
      "\n",
      "DEBUG: Making GET request to http://localhost:18056/bots/status\n",
      "DEBUG: Headers: {'Content-Type': 'application/json', 'X-API-Key': '2GNtUTbWl2vyqtXkFhvAAawQeQ4EDQRzymqqX1dl'}\n",
      "DEBUG: Params: None\n",
      "DEBUG: JSON data: None\n",
      "DEBUG: Response status: 200\n",
      "DEBUG: Response headers: {'date': 'Thu, 19 Jun 2025 08:38:20 GMT, Thu, 19 Jun 2025 08:38:20 GMT', 'server': 'uvicorn, uvicorn', 'content-length': '19', 'content-type': 'application/json'}\n",
      "DEBUG: Response content: {\"running_bots\":[]}...\n"
     ]
    }
   ],
   "source": [
    "running_bots = client.get_running_bots_status()"
   ]
  },
  {
   "cell_type": "code",
   "execution_count": 17,
   "metadata": {},
   "outputs": [
    {
     "name": "stdout",
     "output_type": "stream",
     "text": [
      "\n",
      "DEBUG: Making PUT request to http://localhost:8926/bots/google_meet/kgq-mbwy-mya/config\n",
      "DEBUG: Headers: {'Content-Type': 'application/json', 'X-API-Key': 'SAevPG4z3UmNI2a929psoJ3OHPvwkyDi8x8XEwqS'}\n",
      "DEBUG: Params: None\n",
      "DEBUG: JSON data: {'language': 'en', 'task': 'transcribe'}\n",
      "DEBUG: Response status: 202\n",
      "DEBUG: Response headers: {'date': 'Mon, 23 Jun 2025 15:04:16 GMT, Mon, 23 Jun 2025 15:04:15 GMT', 'server': 'uvicorn, uvicorn', 'content-length': '67', 'content-type': 'application/json'}\n",
      "DEBUG: Response content: {\"message\":\"Reconfiguration request accepted and sent to the bot.\"}...\n"
     ]
    },
    {
     "data": {
      "text/plain": [
       "{'message': 'Reconfiguration request accepted and sent to the bot.'}"
      ]
     },
     "execution_count": 17,
     "metadata": {},
     "output_type": "execute_result"
    }
   ],
   "source": [
    "client.update_bot_config(\n",
    "    platform=\"google_meet\",\n",
    "    native_meeting_id=native_meeting_id,\n",
    "    language='en',\n",
    "    task = 'transcribe'\n",
    ")"
   ]
  },
  {
   "cell_type": "code",
   "execution_count": 23,
   "metadata": {},
   "outputs": [
    {
     "name": "stdout",
     "output_type": "stream",
     "text": [
      "\n",
      "DEBUG: Making GET request to http://localhost:18056/bots/status\n",
      "DEBUG: Headers: {'Content-Type': 'application/json', 'X-API-Key': '2GNtUTbWl2vyqtXkFhvAAawQeQ4EDQRzymqqX1dl'}\n",
      "DEBUG: Params: None\n",
      "DEBUG: JSON data: None\n",
      "DEBUG: Response status: 200\n",
      "DEBUG: Response headers: {'date': 'Thu, 19 Jun 2025 08:38:26 GMT, Thu, 19 Jun 2025 08:38:25 GMT', 'server': 'uvicorn, uvicorn', 'content-length': '19', 'content-type': 'application/json'}\n",
      "DEBUG: Response content: {\"running_bots\":[]}...\n"
     ]
    }
   ],
   "source": [
    "running_bots = client.get_running_bots_status()"
   ]
  },
  {
   "cell_type": "code",
   "execution_count": 24,
   "metadata": {},
   "outputs": [
    {
     "name": "stdout",
     "output_type": "stream",
     "text": [
      "\n",
      "DEBUG: Making GET request to http://localhost:18056/meetings\n",
      "DEBUG: Headers: {'Content-Type': 'application/json', 'X-API-Key': '2GNtUTbWl2vyqtXkFhvAAawQeQ4EDQRzymqqX1dl'}\n",
      "DEBUG: Params: None\n",
      "DEBUG: JSON data: None\n",
      "DEBUG: Response status: 200\n",
      "DEBUG: Response headers: {'date': 'Thu, 19 Jun 2025 08:38:26 GMT, Thu, 19 Jun 2025 08:38:26 GMT', 'server': 'uvicorn, uvicorn', 'content-length': '496', 'content-type': 'application/json'}\n",
      "DEBUG: Response content: {\"meetings\":[{\"id\":9,\"user_id\":5,\"platform\":\"google_meet\",\"native_meeting_id\":\"xdy-txjo-fyh\",\"constructed_meeting_url\":\"https://meet.google.com/xdy-txjo-fyh\",\"status\":\"completed\",\"bot_container_id\":\"2bc15a0debc37f24ef42a5bd6a1763d2a9d9d7e43b0daae6091107e66477d44c\",\"start_time\":\"2025-06-19T08:37:33.371658\",\"end_time\":\"2025-06-19T08:38:19.097013\",\"data\":{\"languages\":[\"en\"],\"participants\":[\"Dmitriy Grankin\"]},\"created_at\":\"2025-06-19T08:37:33.143631\",\"updated_at\":\"2025-06-19T08:38:19.108524\"}]}...\n"
     ]
    }
   ],
   "source": [
    "meetings = client.get_meetings()"
   ]
  },
  {
   "cell_type": "markdown",
   "metadata": {},
   "source": []
  },
  {
   "cell_type": "code",
   "execution_count": 25,
   "metadata": {},
   "outputs": [
    {
     "data": {
      "text/plain": [
       "[{'id': 9,\n",
       "  'user_id': 5,\n",
       "  'platform': 'google_meet',\n",
       "  'native_meeting_id': 'xdy-txjo-fyh',\n",
       "  'constructed_meeting_url': 'https://meet.google.com/xdy-txjo-fyh',\n",
       "  'status': 'completed',\n",
       "  'bot_container_id': '2bc15a0debc37f24ef42a5bd6a1763d2a9d9d7e43b0daae6091107e66477d44c',\n",
       "  'start_time': '2025-06-19T08:37:33.371658',\n",
       "  'end_time': '2025-06-19T08:38:19.097013',\n",
       "  'data': {'languages': ['en'], 'participants': ['Dmitriy Grankin']},\n",
       "  'created_at': '2025-06-19T08:37:33.143631',\n",
       "  'updated_at': '2025-06-19T08:38:19.108524'}]"
      ]
     },
     "execution_count": 25,
     "metadata": {},
     "output_type": "execute_result"
    }
   ],
   "source": [
    "meetings"
   ]
  },
  {
   "cell_type": "code",
   "execution_count": 26,
   "metadata": {},
   "outputs": [
    {
     "name": "stdout",
     "output_type": "stream",
     "text": [
      "\n",
      "DEBUG: Making PATCH request to http://localhost:18056/meetings/google_meet/xdy-txjo-fyh\n",
      "DEBUG: Headers: {'Content-Type': 'application/json', 'X-API-Key': '2GNtUTbWl2vyqtXkFhvAAawQeQ4EDQRzymqqX1dl'}\n",
      "DEBUG: Params: None\n",
      "DEBUG: JSON data: {'data': {'name': 'Test Meeting'}}\n",
      "DEBUG: Response status: 200\n",
      "DEBUG: Response headers: {'date': 'Thu, 19 Jun 2025 08:38:34 GMT, Thu, 19 Jun 2025 08:38:34 GMT', 'server': 'uvicorn, uvicorn', 'content-length': '503', 'content-type': 'application/json'}\n",
      "DEBUG: Response content: {\"id\":9,\"user_id\":5,\"platform\":\"google_meet\",\"native_meeting_id\":\"xdy-txjo-fyh\",\"constructed_meeting_url\":\"https://meet.google.com/xdy-txjo-fyh\",\"status\":\"completed\",\"bot_container_id\":\"2bc15a0debc37f24ef42a5bd6a1763d2a9d9d7e43b0daae6091107e66477d44c\",\"start_time\":\"2025-06-19T08:37:33.371658\",\"end_time\":\"2025-06-19T08:38:19.097013\",\"data\":{\"name\":\"Test Meeting\",\"languages\":[\"en\"],\"participants\":[\"Dmitriy Grankin\"]},\"created_at\":\"2025-06-19T08:37:33.143631\",\"updated_at\":\"2025-06-19T08:38:34.30479...\n"
     ]
    },
    {
     "data": {
      "text/plain": [
       "{'id': 9,\n",
       " 'user_id': 5,\n",
       " 'platform': 'google_meet',\n",
       " 'native_meeting_id': 'xdy-txjo-fyh',\n",
       " 'constructed_meeting_url': 'https://meet.google.com/xdy-txjo-fyh',\n",
       " 'status': 'completed',\n",
       " 'bot_container_id': '2bc15a0debc37f24ef42a5bd6a1763d2a9d9d7e43b0daae6091107e66477d44c',\n",
       " 'start_time': '2025-06-19T08:37:33.371658',\n",
       " 'end_time': '2025-06-19T08:38:19.097013',\n",
       " 'data': {'name': 'Test Meeting',\n",
       "  'languages': ['en'],\n",
       "  'participants': ['Dmitriy Grankin']},\n",
       " 'created_at': '2025-06-19T08:37:33.143631',\n",
       " 'updated_at': '2025-06-19T08:38:34.304795'}"
      ]
     },
     "execution_count": 26,
     "metadata": {},
     "output_type": "execute_result"
    }
   ],
   "source": [
    "client.update_meeting_data(\n",
    "    platform=\"google_meet\",\n",
    "    native_meeting_id=native_meeting_id,\n",
    "    name=\"Test Meeting\",\n",
    ")"
   ]
  },
  {
   "cell_type": "code",
   "execution_count": 27,
   "metadata": {},
   "outputs": [
    {
     "name": "stdout",
     "output_type": "stream",
     "text": [
      "\n",
      "DEBUG: Making DELETE request to http://localhost:18056/meetings/google_meet/xdy-txjo-fyh\n",
      "DEBUG: Headers: {'Content-Type': 'application/json', 'X-API-Key': '2GNtUTbWl2vyqtXkFhvAAawQeQ4EDQRzymqqX1dl'}\n",
      "DEBUG: Params: None\n",
      "DEBUG: JSON data: None\n",
      "DEBUG: Response status: 200\n",
      "DEBUG: Response headers: {'date': 'Thu, 19 Jun 2025 08:38:35 GMT, Thu, 19 Jun 2025 08:38:35 GMT', 'server': 'uvicorn, uvicorn', 'content-length': '88', 'content-type': 'application/json'}\n",
      "DEBUG: Response content: {\"message\":\"Meeting google_meet/xdy-txjo-fyh and all its transcripts have been deleted\"}...\n"
     ]
    },
    {
     "data": {
      "text/plain": [
       "{'message': 'Meeting google_meet/xdy-txjo-fyh and all its transcripts have been deleted'}"
      ]
     },
     "execution_count": 27,
     "metadata": {},
     "output_type": "execute_result"
    }
   ],
   "source": [
    "client.delete_meeting(\n",
    "    platform=\"google_meet\",\n",
    "    native_meeting_id=native_meeting_id,\n",
    ")"
   ]
  },
  {
   "cell_type": "code",
   "execution_count": null,
   "metadata": {},
   "outputs": [],
   "source": []
  }
 ],
 "metadata": {
  "kernelspec": {
   "display_name": "langchain",
   "language": "python",
   "name": "langchain"
  },
  "language_info": {
   "codemirror_mode": {
    "name": "ipython",
    "version": 3
   },
   "file_extension": ".py",
   "mimetype": "text/x-python",
   "name": "python",
   "nbconvert_exporter": "python",
   "pygments_lexer": "ipython3",
   "version": "3.11.2"
  }
 },
 "nbformat": 4,
 "nbformat_minor": 2
}
