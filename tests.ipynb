{
 "cells": [
  {
   "cell_type": "code",
   "execution_count": 1,
   "metadata": {},
   "outputs": [],
   "source": [
    "import pandas as pd\n",
    "pd.options.display.max_colwidth = 1000\n",
    "pd.set_option('display.max_colwidth', 1000)\n",
    "pd.set_option('display.max_rows', 1000)\n",
    "pd.set_option('display.max_columns', 1000)\n",
    "pd.set_option('display.width', 1000)\n",
    "pd.set_option('display.float_format', '{:20.2f}'.format)\n",
    "pd.set_option('display.max_colwidth', 1000)\n",
    "pd.set_option('display.max_rows', 1000)\n",
    "pd.set_option('display.max_columns', 1000)\n",
    "from IPython.display import clear_output,display"
   ]
  },
  {
   "cell_type": "code",
   "execution_count": 2,
   "metadata": {},
   "outputs": [],
   "source": [
    "# Load environment variables from .env file\n",
    "from dotenv import load_dotenv\n",
    "\n",
    "# Load .env file\n",
    "load_dotenv()\n",
    "import random\n",
    "\n",
    "import os\n",
    "from vexa_client import VexaClient\n",
    "\n",
    "import os\n",
    "TOKEN = os.getenv('ADMIN_API_TOKEN')\n",
    "url = \"http://localhost:18056\"\n",
    "admin_client = VexaClient(\n",
    "    base_url=url,\n",
    "    admin_key=TOKEN  # From docker-compose.yml\n",
    ")\n",
    "\n",
    "import time"
   ]
  },
  {
   "cell_type": "code",
   "execution_count": 3,
   "metadata": {},
   "outputs": [
    {
     "name": "stdout",
     "output_type": "stream",
     "text": [
      "\n",
      "DEBUG: Making POST request to http://localhost:18056/admin/users\n",
      "DEBUG: Headers: {'Content-Type': 'application/json', 'X-Admin-API-Key': 'token'}\n",
      "DEBUG: Params: None\n",
      "DEBUG: JSON data: {'email': '517340@example.com', 'name': 'test'}\n",
      "DEBUG: Response status: 201\n",
      "DEBUG: Response headers: {'date': 'Sun, 24 Aug 2025 15:49:21 GMT, Sun, 24 Aug 2025 15:49:21 GMT', 'server': 'uvicorn, uvicorn', 'content-length': '145', 'content-type': 'application/json'}\n",
      "DEBUG: Response content: {\"email\":\"517340@example.com\",\"name\":\"test\",\"image_url\":null,\"max_concurrent_bots\":1,\"data\":{},\"id\":58,\"created_at\":\"2025-08-24T15:49:22.015984\"}...\n"
     ]
    }
   ],
   "source": [
    "new_user = admin_client.create_user(email=f\"{random.randint(1, 1000000)}@example.com\", name=\"test\")\n"
   ]
  },
  {
   "cell_type": "code",
   "execution_count": 4,
   "metadata": {},
   "outputs": [
    {
     "name": "stdout",
     "output_type": "stream",
     "text": [
      "\n",
      "DEBUG: Making POST request to http://localhost:18056/admin/users/58/tokens\n",
      "DEBUG: Headers: {'Content-Type': 'application/json', 'X-Admin-API-Key': 'token'}\n",
      "DEBUG: Params: None\n",
      "DEBUG: JSON data: None\n",
      "DEBUG: Response status: 201\n",
      "DEBUG: Response headers: {'date': 'Sun, 24 Aug 2025 15:49:22 GMT, Sun, 24 Aug 2025 15:49:22 GMT', 'server': 'uvicorn, uvicorn', 'content-length': '116', 'content-type': 'application/json'}\n",
      "DEBUG: Response content: {\"user_id\":58,\"id\":101,\"token\":\"PknZSamDG00SZBvHLCcG7SqG86eN6XJ3x4YVMgX5\",\"created_at\":\"2025-08-24T15:49:22.992183\"}...\n"
     ]
    }
   ],
   "source": [
    "\n",
    "user_id = new_user['id']\n",
    "user_id\n",
    "token_info = admin_client.create_token(user_id=user_id)\n",
    "user_api_key = token_info['token']\n",
    "client = VexaClient(\n",
    "    base_url=url,\n",
    "    api_key=user_api_key\n",
    ")"
   ]
  },
  {
   "cell_type": "code",
   "execution_count": 5,
   "metadata": {},
   "outputs": [
    {
     "name": "stdout",
     "output_type": "stream",
     "text": [
      "\n",
      "DEBUG: Making PUT request to http://localhost:18056/user/webhook\n",
      "DEBUG: Headers: {'Content-Type': 'application/json', 'X-API-Key': 'PknZSamDG00SZBvHLCcG7SqG86eN6XJ3x4YVMgX5'}\n",
      "DEBUG: Params: None\n",
      "DEBUG: JSON data: {'webhook_url': 'https://webhook-test.com/e79be735cf3e9bc0c98ca068beaac1f3'}\n",
      "DEBUG: Response status: 200\n",
      "DEBUG: Response headers: {'date': 'Sun, 24 Aug 2025 15:49:23 GMT, Sun, 24 Aug 2025 15:49:23 GMT', 'server': 'uvicorn, uvicorn', 'content-length': '218', 'content-type': 'application/json'}\n",
      "DEBUG: Response content: {\"email\":\"517340@example.com\",\"name\":\"test\",\"image_url\":null,\"max_concurrent_bots\":1,\"data\":{\"webhook_url\":\"https://webhook-test.com/e79be735cf3e9bc0c98ca068beaac1f3\"},\"id\":58,\"created_at\":\"2025-08-24T15:49:22.015984\"}...\n"
     ]
    },
    {
     "data": {
      "text/plain": [
       "{'email': '517340@example.com',\n",
       " 'name': 'test',\n",
       " 'image_url': None,\n",
       " 'max_concurrent_bots': 1,\n",
       " 'data': {'webhook_url': 'https://webhook-test.com/e79be735cf3e9bc0c98ca068beaac1f3'},\n",
       " 'id': 58,\n",
       " 'created_at': '2025-08-24T15:49:22.015984'}"
      ]
     },
     "execution_count": 5,
     "metadata": {},
     "output_type": "execute_result"
    }
   ],
   "source": [
    "client.set_webhook_url(\"https://webhook-test.com/e79be735cf3e9bc0c98ca068beaac1f3\")"
   ]
  },
  {
   "cell_type": "code",
   "execution_count": 16,
   "metadata": {},
   "outputs": [
    {
     "name": "stdout",
     "output_type": "stream",
     "text": [
      "\n",
      "DEBUG: Making POST request to http://localhost:18056/bots\n",
      "DEBUG: Headers: {'Content-Type': 'application/json', 'X-API-Key': 'PknZSamDG00SZBvHLCcG7SqG86eN6XJ3x4YVMgX5'}\n",
      "DEBUG: Params: None\n",
      "DEBUG: JSON data: {'platform': 'google_meet', 'native_meeting_id': 'xdy-txjo-fyh', 'bot_name': 'Vexa', 'task': 'transcribe'}\n",
      "DEBUG: Response status: 201\n",
      "DEBUG: Response headers: {'date': 'Sun, 24 Aug 2025 15:50:10 GMT, Sun, 24 Aug 2025 15:50:10 GMT', 'server': 'uvicorn, uvicorn', 'content-length': '383', 'content-type': 'application/json'}\n",
      "DEBUG: Response content: {\"id\":133,\"user_id\":58,\"platform\":\"google_meet\",\"native_meeting_id\":\"xdy-txjo-fyh\",\"constructed_meeting_url\":\"https://meet.google.com/xdy-txjo-fyh\",\"status\":\"requested\",\"bot_container_id\":\"e675231d5a128d35b096536706cbcbd9e6e24397180d09c19816eae65473315d\",\"start_time\":null,\"end_time\":null,\"data\":{},\"created_at\":\"2025-08-24T15:50:11.231669\",\"updated_at\":\"2025-08-24T15:50:11.241963\"}...\n"
     ]
    }
   ],
   "source": [
    "\n",
    "meeting_url=\"https://meet.google.com/xdy-txjo-fyh\"\n",
    "native_meeting_id = meeting_url.split(\"/\")[-1]  # \"xyz-abcd-123\"\n",
    "meeting_info = client.request_bot(\n",
    "    platform=\"google_meet\",\n",
    "    native_meeting_id=native_meeting_id,\n",
    "    bot_name=\"Vexa\",\n",
    "  #  language='es',\n",
    "    task = 'transcribe'\n",
    ")\n",
    "meeting_id = meeting_info['id']"
   ]
  },
  {
   "cell_type": "code",
   "execution_count": 53,
   "metadata": {},
   "outputs": [
    {
     "name": "stdout",
     "output_type": "stream",
     "text": [
      "\n",
      "DEBUG: Making GET request to http://localhost:18056/bots/status\n",
      "DEBUG: Headers: {'Content-Type': 'application/json', 'X-API-Key': 'PknZSamDG00SZBvHLCcG7SqG86eN6XJ3x4YVMgX5'}\n",
      "DEBUG: Params: None\n",
      "DEBUG: JSON data: None\n",
      "DEBUG: Response status: 200\n",
      "DEBUG: Response headers: {'date': 'Sun, 24 Aug 2025 15:50:56 GMT, Sun, 24 Aug 2025 15:50:56 GMT', 'server': 'uvicorn, uvicorn', 'content-length': '19', 'content-type': 'application/json'}\n",
      "DEBUG: Response content: {\"running_bots\":[]}...\n"
     ]
    },
    {
     "data": {
      "text/plain": [
       "[]"
      ]
     },
     "execution_count": 53,
     "metadata": {},
     "output_type": "execute_result"
    }
   ],
   "source": [
    "running_bots = client.get_running_bots_status()\n",
    "running_bots\n"
   ]
  },
  {
   "cell_type": "code",
   "execution_count": 54,
   "metadata": {},
   "outputs": [
    {
     "name": "stdout",
     "output_type": "stream",
     "text": [
      "\n",
      "DEBUG: Making GET request to http://localhost:18056/meetings\n",
      "DEBUG: Headers: {'Content-Type': 'application/json', 'X-API-Key': 'PknZSamDG00SZBvHLCcG7SqG86eN6XJ3x4YVMgX5'}\n",
      "DEBUG: Params: None\n",
      "DEBUG: JSON data: None\n",
      "DEBUG: Response status: 200\n",
      "DEBUG: Response headers: {'date': 'Sun, 24 Aug 2025 15:51:03 GMT, Sun, 24 Aug 2025 15:51:03 GMT', 'server': 'uvicorn, uvicorn', 'content-length': '1228', 'content-type': 'application/json'}\n",
      "DEBUG: Response content: {\"meetings\":[{\"id\":133,\"user_id\":58,\"platform\":\"google_meet\",\"native_meeting_id\":\"xdy-txjo-fyh\",\"constructed_meeting_url\":\"https://meet.google.com/xdy-txjo-fyh\",\"status\":\"completed\",\"bot_container_id\":\"vexa-bot-133-c85c96a6\",\"start_time\":\"2025-08-24T15:50:28.999901\",\"end_time\":\"2025-08-24T15:50:49.527106\",\"data\":{\"languages\":[\"en\"],\"participants\":[\"Dmitriy Grankin\"]},\"created_at\":\"2025-08-24T15:50:11.231669\",\"updated_at\":\"2025-08-24T15:50:49.539580\"},{\"id\":132,\"user_id\":58,\"platform\":\"google_mee...\n"
     ]
    },
    {
     "data": {
      "text/plain": [
       "[{'id': 133,\n",
       "  'user_id': 58,\n",
       "  'platform': 'google_meet',\n",
       "  'native_meeting_id': 'xdy-txjo-fyh',\n",
       "  'constructed_meeting_url': 'https://meet.google.com/xdy-txjo-fyh',\n",
       "  'status': 'completed',\n",
       "  'bot_container_id': 'vexa-bot-133-c85c96a6',\n",
       "  'start_time': '2025-08-24T15:50:28.999901',\n",
       "  'end_time': '2025-08-24T15:50:49.527106',\n",
       "  'data': {'languages': ['en'], 'participants': ['Dmitriy Grankin']},\n",
       "  'created_at': '2025-08-24T15:50:11.231669',\n",
       "  'updated_at': '2025-08-24T15:50:49.539580'},\n",
       " {'id': 132,\n",
       "  'user_id': 58,\n",
       "  'platform': 'google_meet',\n",
       "  'native_meeting_id': 'xdy-txjo-fyh',\n",
       "  'constructed_meeting_url': 'https://meet.google.com/xdy-txjo-fyh',\n",
       "  'status': 'failed',\n",
       "  'bot_container_id': 'vexa-bot-132-3291cae2',\n",
       "  'start_time': '2025-08-24T15:50:02.642525',\n",
       "  'end_time': '2025-08-24T15:50:03.797649',\n",
       "  'data': {},\n",
       "  'created_at': '2025-08-24T15:49:49.635928',\n",
       "  'updated_at': '2025-08-24T15:50:03.795632'},\n",
       " {'id': 131,\n",
       "  'user_id': 58,\n",
       "  'platform': 'google_meet',\n",
       "  'native_meeting_id': 'xdy-txjo-fyh',\n",
       "  'constructed_meeting_url': 'https://meet.google.com/xdy-txjo-fyh',\n",
       "  'status': 'failed',\n",
       "  'bot_container_id': 'vexa-bot-131-5747eb66',\n",
       "  'start_time': '2025-08-24T15:49:38.214187',\n",
       "  'end_time': '2025-08-24T15:49:39.446557',\n",
       "  'data': {},\n",
       "  'created_at': '2025-08-24T15:49:25.391659',\n",
       "  'updated_at': '2025-08-24T15:49:39.443930'}]"
      ]
     },
     "execution_count": 54,
     "metadata": {},
     "output_type": "execute_result"
    }
   ],
   "source": [
    "\n",
    "meetings = client.get_meetings()\n",
    "meetings"
   ]
  },
  {
   "cell_type": "code",
   "execution_count": 50,
   "metadata": {},
   "outputs": [
    {
     "data": {
      "text/plain": [
       "58"
      ]
     },
     "execution_count": 50,
     "metadata": {},
     "output_type": "execute_result"
    }
   ],
   "source": [
    "user_id"
   ]
  },
  {
   "cell_type": "code",
   "execution_count": 51,
   "metadata": {},
   "outputs": [
    {
     "data": {
      "text/html": [
       "<div>\n",
       "<style scoped>\n",
       "    .dataframe tbody tr th:only-of-type {\n",
       "        vertical-align: middle;\n",
       "    }\n",
       "\n",
       "    .dataframe tbody tr th {\n",
       "        vertical-align: top;\n",
       "    }\n",
       "\n",
       "    .dataframe thead th {\n",
       "        text-align: right;\n",
       "    }\n",
       "</style>\n",
       "<table border=\"1\" class=\"dataframe\">\n",
       "  <thead>\n",
       "    <tr style=\"text-align: right;\">\n",
       "      <th></th>\n",
       "      <th>start</th>\n",
       "      <th>end</th>\n",
       "      <th>text</th>\n",
       "      <th>language</th>\n",
       "      <th>created_at</th>\n",
       "      <th>speaker</th>\n",
       "      <th>absolute_start_time</th>\n",
       "      <th>absolute_end_time</th>\n",
       "    </tr>\n",
       "  </thead>\n",
       "  <tbody>\n",
       "    <tr>\n",
       "      <th>0</th>\n",
       "      <td>6.69</td>\n",
       "      <td>9.69</td>\n",
       "      <td>1, 2, 3, 4, 5, 6, 7...</td>\n",
       "      <td>en</td>\n",
       "      <td>None</td>\n",
       "      <td>Dmitriy Grankin</td>\n",
       "      <td>2025-08-24T15:50:37.051610+00:00</td>\n",
       "      <td>2025-08-24T15:50:40.051610+00:00</td>\n",
       "    </tr>\n",
       "    <tr>\n",
       "      <th>1</th>\n",
       "      <td>10.69</td>\n",
       "      <td>11.61</td>\n",
       "      <td>Oh yeah.</td>\n",
       "      <td>en</td>\n",
       "      <td>None</td>\n",
       "      <td>Dmitriy Grankin</td>\n",
       "      <td>2025-08-24T15:50:41.051610+00:00</td>\n",
       "      <td>2025-08-24T15:50:41.970610+00:00</td>\n",
       "    </tr>\n",
       "    <tr>\n",
       "      <th>2</th>\n",
       "      <td>10.79</td>\n",
       "      <td>12.79</td>\n",
       "      <td>Oh, yeah</td>\n",
       "      <td>en</td>\n",
       "      <td>None</td>\n",
       "      <td>Dmitriy Grankin</td>\n",
       "      <td>2025-08-24T15:50:41.151610+00:00</td>\n",
       "      <td>2025-08-24T15:50:43.151610+00:00</td>\n",
       "    </tr>\n",
       "  </tbody>\n",
       "</table>\n",
       "</div>"
      ],
      "text/plain": [
       "                 start                  end                     text language created_at          speaker               absolute_start_time                 absolute_end_time\n",
       "0                 6.69                 9.69   1, 2, 3, 4, 5, 6, 7...       en       None  Dmitriy Grankin  2025-08-24T15:50:37.051610+00:00  2025-08-24T15:50:40.051610+00:00\n",
       "1                10.69                11.61                 Oh yeah.       en       None  Dmitriy Grankin  2025-08-24T15:50:41.051610+00:00  2025-08-24T15:50:41.970610+00:00\n",
       "2                10.79                12.79                 Oh, yeah       en       None  Dmitriy Grankin  2025-08-24T15:50:41.151610+00:00  2025-08-24T15:50:43.151610+00:00"
      ]
     },
     "metadata": {},
     "output_type": "display_data"
    },
    {
     "ename": "KeyboardInterrupt",
     "evalue": "",
     "output_type": "error",
     "traceback": [
      "\u001b[0;31m---------------------------------------------------------------------------\u001b[0m",
      "\u001b[0;31mKeyboardInterrupt\u001b[0m                         Traceback (most recent call last)",
      "Cell \u001b[0;32mIn[51], line 6\u001b[0m\n\u001b[1;32m      4\u001b[0m clear_output()\n\u001b[1;32m      5\u001b[0m display(df\u001b[38;5;241m.\u001b[39msort_values(\u001b[38;5;124m'\u001b[39m\u001b[38;5;124mabsolute_start_time\u001b[39m\u001b[38;5;124m'\u001b[39m)\u001b[38;5;241m.\u001b[39mtail(\u001b[38;5;241m10\u001b[39m))\n\u001b[0;32m----> 6\u001b[0m \u001b[43mtime\u001b[49m\u001b[38;5;241;43m.\u001b[39;49m\u001b[43msleep\u001b[49m\u001b[43m(\u001b[49m\u001b[38;5;241;43m1\u001b[39;49m\u001b[43m)\u001b[49m\n",
      "\u001b[0;31mKeyboardInterrupt\u001b[0m: "
     ]
    }
   ],
   "source": [
    "while True:\n",
    "    transcript = client.get_transcript(native_meeting_id=native_meeting_id,platform='google_meet')\n",
    "    df = pd.DataFrame(transcript['segments'])#.sort_values(['created_at','start'])#.drop_duplicates('start',keep='last')\n",
    "    clear_output()\n",
    "    display(df.sort_values('absolute_start_time').tail(10))\n",
    "    time.sleep(1)\n"
   ]
  },
  {
   "cell_type": "code",
   "execution_count": 52,
   "metadata": {},
   "outputs": [
    {
     "name": "stdout",
     "output_type": "stream",
     "text": [
      "\n",
      "DEBUG: Making DELETE request to http://localhost:18056/bots/google_meet/xdy-txjo-fyh\n",
      "DEBUG: Headers: {'Content-Type': 'application/json', 'X-API-Key': 'PknZSamDG00SZBvHLCcG7SqG86eN6XJ3x4YVMgX5'}\n",
      "DEBUG: Params: None\n",
      "DEBUG: JSON data: None\n",
      "DEBUG: Response status: 202\n",
      "DEBUG: Response headers: {'date': 'Sun, 24 Aug 2025 15:50:47 GMT, Sun, 24 Aug 2025 15:50:47 GMT', 'server': 'uvicorn, uvicorn', 'content-length': '59', 'content-type': 'application/json'}\n",
      "DEBUG: Response content: {\"message\":\"Stop request accepted and is being processed.\"}...\n"
     ]
    },
    {
     "data": {
      "text/plain": [
       "{'message': 'Stop request accepted and is being processed.'}"
      ]
     },
     "execution_count": 52,
     "metadata": {},
     "output_type": "execute_result"
    }
   ],
   "source": [
    "client.stop_bot(platform=\"google_meet\",native_meeting_id=native_meeting_id)"
   ]
  },
  {
   "cell_type": "code",
   "execution_count": 21,
   "metadata": {},
   "outputs": [
    {
     "data": {
      "text/plain": [
       "1"
      ]
     },
     "execution_count": 21,
     "metadata": {},
     "output_type": "execute_result"
    }
   ],
   "source": [
    "user_id"
   ]
  },
  {
   "cell_type": "code",
   "execution_count": 29,
   "metadata": {},
   "outputs": [
    {
     "name": "stdout",
     "output_type": "stream",
     "text": [
      "\n",
      "DEBUG: Making GET request to http://localhost:18056/bots/status\n",
      "DEBUG: Headers: {'Content-Type': 'application/json', 'X-API-Key': 'ZJRZJfmkf4c8KYrHPTy1txoB3HFJnocCPUEPBXjE'}\n",
      "DEBUG: Params: None\n",
      "DEBUG: JSON data: None\n",
      "DEBUG: Response status: 200\n",
      "DEBUG: Response headers: {'date': 'Sun, 24 Aug 2025 15:47:53 GMT, Sun, 24 Aug 2025 15:47:52 GMT', 'server': 'uvicorn, uvicorn', 'content-length': '416', 'content-type': 'application/json'}\n",
      "DEBUG: Response content: {\"running_bots\":[{\"container_id\":\"407afc635bb9b91b8995c7cab2e48ffec613cbe26f3bc72330a30b3f2b069f99\",\"container_name\":\"vexa-bot-130-55616276\",\"platform\":\"google_meet\",\"native_meeting_id\":\"xdy-txjo-fyh\",\"status\":\"Up 2 minutes\",\"created_at\":\"2025-08-24T15:45:15+00:00\",\"labels\":{\"org.opencontainers.image.ref.name\":\"ubuntu\",\"org.opencontainers.image.version\":\"22.04\",\"vexa.user_id\":\"57\"},\"meeting_id_from_name\":\"130\"}]}...\n"
     ]
    }
   ],
   "source": [
    "running_bots = client.get_running_bots_status()"
   ]
  },
  {
   "cell_type": "code",
   "execution_count": 23,
   "metadata": {},
   "outputs": [
    {
     "name": "stdout",
     "output_type": "stream",
     "text": [
      "\n",
      "DEBUG: Making PUT request to http://localhost:18056/bots/google_meet/xdy-txjo-fyh/config\n",
      "DEBUG: Headers: {'Content-Type': 'application/json', 'X-API-Key': 'ByWb1qpsR1Kq3hTg3Rhg6cXcxaAFpA2e5FeFvCVJ'}\n",
      "DEBUG: Params: None\n",
      "DEBUG: JSON data: {'language': 'en', 'task': 'transcribe'}\n",
      "DEBUG: Response status: 409\n",
      "DEBUG: Response headers: {'date': 'Sun, 08 Jun 2025 17:12:10 GMT, Sun, 08 Jun 2025 17:12:09 GMT', 'server': 'uvicorn, uvicorn', 'content-length': '87', 'content-type': 'application/json'}\n",
      "DEBUG: Response content: {\"detail\":\"Meeting found but is not active (status: 'completed'). Cannot reconfigure.\"}...\n"
     ]
    },
    {
     "ename": "VexaClientError",
     "evalue": "HTTP Error 409 for PUT http://localhost:18056/bots/google_meet/xdy-txjo-fyh/config: Meeting found but is not active (status: 'completed'). Cannot reconfigure.",
     "output_type": "error",
     "traceback": [
      "\u001b[0;31m---------------------------------------------------------------------------\u001b[0m",
      "\u001b[0;31mHTTPError\u001b[0m                                 Traceback (most recent call last)",
      "File \u001b[0;32m~/vexa_dev/vexa_client.py:107\u001b[0m, in \u001b[0;36mVexaClient._request\u001b[0;34m(self, method, path, api_type, params, json_data)\u001b[0m\n\u001b[1;32m    105\u001b[0m     \u001b[38;5;28mprint\u001b[39m(\u001b[38;5;124mf\u001b[39m\u001b[38;5;124m\"\u001b[39m\u001b[38;5;124mDEBUG: Could not display response content\u001b[39m\u001b[38;5;124m\"\u001b[39m)\n\u001b[0;32m--> 107\u001b[0m \u001b[43mresponse\u001b[49m\u001b[38;5;241;43m.\u001b[39;49m\u001b[43mraise_for_status\u001b[49m\u001b[43m(\u001b[49m\u001b[43m)\u001b[49m \u001b[38;5;66;03m# Raise HTTPError for bad responses (4xx or 5xx)\u001b[39;00m\n\u001b[1;32m    109\u001b[0m \u001b[38;5;66;03m# Handle cases where response might be empty (e.g., 204 No Content)\u001b[39;00m\n",
      "File \u001b[0;32m~/.local/lib/python3.10/site-packages/requests/models.py:1024\u001b[0m, in \u001b[0;36mResponse.raise_for_status\u001b[0;34m(self)\u001b[0m\n\u001b[1;32m   1023\u001b[0m \u001b[38;5;28;01mif\u001b[39;00m http_error_msg:\n\u001b[0;32m-> 1024\u001b[0m     \u001b[38;5;28;01mraise\u001b[39;00m HTTPError(http_error_msg, response\u001b[38;5;241m=\u001b[39m\u001b[38;5;28mself\u001b[39m)\n",
      "\u001b[0;31mHTTPError\u001b[0m: 409 Client Error: Conflict for url: http://localhost:18056/bots/google_meet/xdy-txjo-fyh/config",
      "\nThe above exception was the direct cause of the following exception:\n",
      "\u001b[0;31mVexaClientError\u001b[0m                           Traceback (most recent call last)",
      "Cell \u001b[0;32mIn[23], line 1\u001b[0m\n\u001b[0;32m----> 1\u001b[0m \u001b[43mclient\u001b[49m\u001b[38;5;241;43m.\u001b[39;49m\u001b[43mupdate_bot_config\u001b[49m\u001b[43m(\u001b[49m\n\u001b[1;32m      2\u001b[0m \u001b[43m    \u001b[49m\u001b[43mplatform\u001b[49m\u001b[38;5;241;43m=\u001b[39;49m\u001b[38;5;124;43m\"\u001b[39;49m\u001b[38;5;124;43mgoogle_meet\u001b[39;49m\u001b[38;5;124;43m\"\u001b[39;49m\u001b[43m,\u001b[49m\n\u001b[1;32m      3\u001b[0m \u001b[43m    \u001b[49m\u001b[43mnative_meeting_id\u001b[49m\u001b[38;5;241;43m=\u001b[39;49m\u001b[43mnative_meeting_id\u001b[49m\u001b[43m,\u001b[49m\n\u001b[1;32m      4\u001b[0m \u001b[43m    \u001b[49m\u001b[43mlanguage\u001b[49m\u001b[38;5;241;43m=\u001b[39;49m\u001b[38;5;124;43m'\u001b[39;49m\u001b[38;5;124;43men\u001b[39;49m\u001b[38;5;124;43m'\u001b[39;49m\u001b[43m,\u001b[49m\n\u001b[1;32m      5\u001b[0m \u001b[43m    \u001b[49m\u001b[43mtask\u001b[49m\u001b[43m \u001b[49m\u001b[38;5;241;43m=\u001b[39;49m\u001b[43m \u001b[49m\u001b[38;5;124;43m'\u001b[39;49m\u001b[38;5;124;43mtranscribe\u001b[39;49m\u001b[38;5;124;43m'\u001b[39;49m\n\u001b[1;32m      6\u001b[0m \u001b[43m)\u001b[49m\n",
      "File \u001b[0;32m~/vexa_dev/vexa_client.py:198\u001b[0m, in \u001b[0;36mVexaClient.update_bot_config\u001b[0;34m(self, platform, native_meeting_id, language, task)\u001b[0m\n\u001b[1;32m    195\u001b[0m     \u001b[38;5;28;01mraise\u001b[39;00m VexaClientError(\u001b[38;5;124m\"\u001b[39m\u001b[38;5;124mNo configuration updates provided (language or task must be specified).\u001b[39m\u001b[38;5;124m\"\u001b[39m)\n\u001b[1;32m    197\u001b[0m \u001b[38;5;66;03m# _request handles 202 status and returns the JSON body\u001b[39;00m\n\u001b[0;32m--> 198\u001b[0m \u001b[38;5;28;01mreturn\u001b[39;00m \u001b[38;5;28;43mself\u001b[39;49m\u001b[38;5;241;43m.\u001b[39;49m\u001b[43m_request\u001b[49m\u001b[43m(\u001b[49m\u001b[38;5;124;43m\"\u001b[39;49m\u001b[38;5;124;43mPUT\u001b[39;49m\u001b[38;5;124;43m\"\u001b[39;49m\u001b[43m,\u001b[49m\u001b[43m \u001b[49m\u001b[43mpath\u001b[49m\u001b[43m,\u001b[49m\u001b[43m \u001b[49m\u001b[43mapi_type\u001b[49m\u001b[38;5;241;43m=\u001b[39;49m\u001b[38;5;124;43m'\u001b[39;49m\u001b[38;5;124;43muser\u001b[39;49m\u001b[38;5;124;43m'\u001b[39;49m\u001b[43m,\u001b[49m\u001b[43m \u001b[49m\u001b[43mjson_data\u001b[49m\u001b[38;5;241;43m=\u001b[39;49m\u001b[43mpayload\u001b[49m\u001b[43m)\u001b[49m\n",
      "File \u001b[0;32m~/vexa_dev/vexa_client.py:123\u001b[0m, in \u001b[0;36mVexaClient._request\u001b[0;34m(self, method, path, api_type, params, json_data)\u001b[0m\n\u001b[1;32m    121\u001b[0m     \u001b[38;5;28;01mexcept\u001b[39;00m requests\u001b[38;5;241m.\u001b[39mexceptions\u001b[38;5;241m.\u001b[39mJSONDecodeError:\n\u001b[1;32m    122\u001b[0m         detail_msg \u001b[38;5;241m=\u001b[39m e\u001b[38;5;241m.\u001b[39mresponse\u001b[38;5;241m.\u001b[39mtext\n\u001b[0;32m--> 123\u001b[0m     \u001b[38;5;28;01mraise\u001b[39;00m VexaClientError(\u001b[38;5;124mf\u001b[39m\u001b[38;5;124m\"\u001b[39m\u001b[38;5;124mHTTP Error \u001b[39m\u001b[38;5;132;01m{\u001b[39;00me\u001b[38;5;241m.\u001b[39mresponse\u001b[38;5;241m.\u001b[39mstatus_code\u001b[38;5;132;01m}\u001b[39;00m\u001b[38;5;124m for \u001b[39m\u001b[38;5;132;01m{\u001b[39;00mmethod\u001b[38;5;132;01m}\u001b[39;00m\u001b[38;5;124m \u001b[39m\u001b[38;5;132;01m{\u001b[39;00murl\u001b[38;5;132;01m}\u001b[39;00m\u001b[38;5;124m: \u001b[39m\u001b[38;5;132;01m{\u001b[39;00mdetail_msg\u001b[38;5;132;01m}\u001b[39;00m\u001b[38;5;124m\"\u001b[39m) \u001b[38;5;28;01mfrom\u001b[39;00m \u001b[38;5;21;01me\u001b[39;00m\n\u001b[1;32m    124\u001b[0m \u001b[38;5;28;01mexcept\u001b[39;00m requests\u001b[38;5;241m.\u001b[39mexceptions\u001b[38;5;241m.\u001b[39mRequestException \u001b[38;5;28;01mas\u001b[39;00m e:\n\u001b[1;32m    125\u001b[0m     \u001b[38;5;28;01mraise\u001b[39;00m VexaClientError(\u001b[38;5;124mf\u001b[39m\u001b[38;5;124m\"\u001b[39m\u001b[38;5;124mRequest failed for \u001b[39m\u001b[38;5;132;01m{\u001b[39;00mmethod\u001b[38;5;132;01m}\u001b[39;00m\u001b[38;5;124m \u001b[39m\u001b[38;5;132;01m{\u001b[39;00murl\u001b[38;5;132;01m}\u001b[39;00m\u001b[38;5;124m: \u001b[39m\u001b[38;5;132;01m{\u001b[39;00me\u001b[38;5;132;01m}\u001b[39;00m\u001b[38;5;124m\"\u001b[39m) \u001b[38;5;28;01mfrom\u001b[39;00m \u001b[38;5;21;01me\u001b[39;00m\n",
      "\u001b[0;31mVexaClientError\u001b[0m: HTTP Error 409 for PUT http://localhost:18056/bots/google_meet/xdy-txjo-fyh/config: Meeting found but is not active (status: 'completed'). Cannot reconfigure."
     ]
    }
   ],
   "source": [
    "client.update_bot_config(\n",
    "    platform=\"google_meet\",\n",
    "    native_meeting_id=native_meeting_id,\n",
    "    language='en',\n",
    "    task = 'transcribe'\n",
    ")"
   ]
  },
  {
   "cell_type": "code",
   "execution_count": null,
   "metadata": {},
   "outputs": [
    {
     "name": "stdout",
     "output_type": "stream",
     "text": [
      "\n",
      "DEBUG: Making GET request to http://localhost:18056/bots/status\n",
      "DEBUG: Headers: {'Content-Type': 'application/json', 'X-API-Key': '3bolGWLCr8oSyPwDvS9WEXBHnAdYS6gqUGrpIOJ6'}\n",
      "DEBUG: Params: None\n",
      "DEBUG: JSON data: None\n",
      "DEBUG: Response status: 200\n",
      "DEBUG: Response headers: {'date': 'Sun, 24 Aug 2025 15:21:05 GMT, Sun, 24 Aug 2025 15:21:05 GMT', 'server': 'uvicorn, uvicorn', 'content-length': '19', 'content-type': 'application/json'}\n",
      "DEBUG: Response content: {\"running_bots\":[]}...\n"
     ]
    }
   ],
   "source": []
  },
  {
   "cell_type": "markdown",
   "metadata": {},
   "source": []
  },
  {
   "cell_type": "code",
   "execution_count": 33,
   "metadata": {},
   "outputs": [
    {
     "name": "stdout",
     "output_type": "stream",
     "text": [
      "\n",
      "DEBUG: Making PATCH request to http://localhost:18056/meetings/google_meet/xdy-txjo-fyh\n",
      "DEBUG: Headers: {'Content-Type': 'application/json', 'X-API-Key': 'aQGEy4cX1XN9l60QOEsWKcWWKNNc0prjYUu7pkhw'}\n",
      "DEBUG: Params: None\n",
      "DEBUG: JSON data: {'data': {'name': 'Test Meeting'}}\n",
      "DEBUG: Response status: 200\n",
      "DEBUG: Response headers: {'date': 'Sun, 08 Jun 2025 15:06:06 GMT, Sun, 08 Jun 2025 15:06:06 GMT', 'server': 'uvicorn, uvicorn', 'content-length': '449', 'content-type': 'application/json'}\n",
      "DEBUG: Response content: {\"id\":5,\"user_id\":6,\"platform\":\"google_meet\",\"native_meeting_id\":\"xdy-txjo-fyh\",\"constructed_meeting_url\":\"https://meet.google.com/xdy-txjo-fyh\",\"status\":\"completed\",\"bot_container_id\":\"7edd0e3d1b1aa9f8f668a0c84447889c36a8c4cb974ca15b80654d00c9a083bf\",\"start_time\":\"2025-06-08T15:01:10.681410\",\"end_time\":\"2025-06-08T15:02:05.246022\",\"data\":{\"name\":\"Test Meeting\"},\"created_at\":\"2025-06-08T15:01:10.280791\",\"updated_at\":\"2025-06-08T15:06:07.017651\"}...\n"
     ]
    },
    {
     "data": {
      "text/plain": [
       "{'id': 5,\n",
       " 'user_id': 6,\n",
       " 'platform': 'google_meet',\n",
       " 'native_meeting_id': 'xdy-txjo-fyh',\n",
       " 'constructed_meeting_url': 'https://meet.google.com/xdy-txjo-fyh',\n",
       " 'status': 'completed',\n",
       " 'bot_container_id': '7edd0e3d1b1aa9f8f668a0c84447889c36a8c4cb974ca15b80654d00c9a083bf',\n",
       " 'start_time': '2025-06-08T15:01:10.681410',\n",
       " 'end_time': '2025-06-08T15:02:05.246022',\n",
       " 'data': {'name': 'Test Meeting'},\n",
       " 'created_at': '2025-06-08T15:01:10.280791',\n",
       " 'updated_at': '2025-06-08T15:06:07.017651'}"
      ]
     },
     "execution_count": 33,
     "metadata": {},
     "output_type": "execute_result"
    }
   ],
   "source": [
    "client.update_meeting_data(\n",
    "    platform=\"google_meet\",\n",
    "    native_meeting_id=native_meeting_id,\n",
    "    name=\"Test Meeting\",\n",
    ")"
   ]
  },
  {
   "cell_type": "code",
   "execution_count": 33,
   "metadata": {},
   "outputs": [
    {
     "name": "stdout",
     "output_type": "stream",
     "text": [
      "\n",
      "DEBUG: Making DELETE request to http://localhost:18056/meetings/google_meet/xdy-txjo-fyh\n",
      "DEBUG: Headers: {'Content-Type': 'application/json', 'X-API-Key': 'ZJRZJfmkf4c8KYrHPTy1txoB3HFJnocCPUEPBXjE'}\n",
      "DEBUG: Params: None\n",
      "DEBUG: JSON data: None\n",
      "DEBUG: Response status: 200\n",
      "DEBUG: Response headers: {'date': 'Sun, 24 Aug 2025 15:48:04 GMT, Sun, 24 Aug 2025 15:48:04 GMT', 'server': 'uvicorn, uvicorn', 'content-length': '88', 'content-type': 'application/json'}\n",
      "DEBUG: Response content: {\"message\":\"Meeting google_meet/xdy-txjo-fyh and all its transcripts have been deleted\"}...\n"
     ]
    },
    {
     "data": {
      "text/plain": [
       "{'message': 'Meeting google_meet/xdy-txjo-fyh and all its transcripts have been deleted'}"
      ]
     },
     "execution_count": 33,
     "metadata": {},
     "output_type": "execute_result"
    }
   ],
   "source": [
    "client.delete_meeting(\n",
    "    platform=\"google_meet\",\n",
    "    native_meeting_id=native_meeting_id,\n",
    ")"
   ]
  },
  {
   "cell_type": "code",
   "execution_count": null,
   "metadata": {},
   "outputs": [],
   "source": []
  }
 ],
 "metadata": {
  "kernelspec": {
   "display_name": "vexa",
   "language": "python",
   "name": "python3"
  },
  "language_info": {
   "codemirror_mode": {
    "name": "ipython",
    "version": 3
   },
   "file_extension": ".py",
   "mimetype": "text/x-python",
   "name": "python",
   "nbconvert_exporter": "python",
   "pygments_lexer": "ipython3",
   "version": "3.11.10"
  }
 },
 "nbformat": 4,
 "nbformat_minor": 2
}
