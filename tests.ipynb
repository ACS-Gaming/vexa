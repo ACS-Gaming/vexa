{
 "cells": [
  {
   "cell_type": "code",
   "execution_count": 1,
   "metadata": {},
   "outputs": [],
   "source": [
    "import pandas as pd\n",
    "pd.options.display.max_colwidth = 1000\n",
    "pd.set_option('display.max_colwidth', 1000)\n",
    "pd.set_option('display.max_rows', 1000)\n",
    "pd.set_option('display.max_columns', 1000)\n",
    "pd.set_option('display.width', 1000)\n",
    "pd.set_option('display.float_format', '{:20.2f}'.format)\n",
    "pd.set_option('display.max_colwidth', 1000)\n",
    "pd.set_option('display.max_rows', 1000)\n",
    "pd.set_option('display.max_columns', 1000)"
   ]
  },
  {
   "cell_type": "code",
   "execution_count": 2,
   "metadata": {},
   "outputs": [],
   "source": [
    "# Load environment variables from .env file\n",
    "from dotenv import load_dotenv\n",
    "\n",
    "# Load .env file\n",
    "load_dotenv()\n",
    "import random\n",
    "\n",
    "import os\n",
    "from vexa_client import VexaClient\n",
    "\n",
    "import os\n",
    "TOKEN = os.getenv('ADMIN_API_TOKEN')\n",
    "url = \"http://localhost:18056\"\n",
    "admin_client = VexaClient(\n",
    "    base_url=url,\n",
    "    admin_key=TOKEN  # From docker-compose.yml\n",
    ")\n",
    "\n",
    "import time"
   ]
  },
  {
   "cell_type": "code",
   "execution_count": null,
   "metadata": {},
   "outputs": [
    {
     "name": "stdout",
     "output_type": "stream",
     "text": [
      "\n",
      "DEBUG: Making POST request to http://localhost:18056/admin/users\n",
      "DEBUG: Headers: {'Content-Type': 'application/json', 'X-Admin-API-Key': 'token'}\n",
      "DEBUG: Params: None\n",
      "DEBUG: JSON data: {'email': '90612@example.com', 'name': 'test'}\n",
      "DEBUG: Response status: 201\n",
      "DEBUG: Response headers: {'date': 'Wed, 04 Jun 2025 16:56:53 GMT, Wed, 04 Jun 2025 16:56:53 GMT', 'server': 'uvicorn, uvicorn', 'content-length': '133', 'content-type': 'application/json'}\n",
      "DEBUG: Response content: {\"email\":\"90612@example.com\",\"name\":\"test\",\"image_url\":null,\"max_concurrent_bots\":1,\"id\":9,\"created_at\":\"2025-06-04T16:56:53.918448\"}...\n"
     ]
    }
   ],
   "source": [
    "new_user = admin_client.create_user(email=f\"{random.randint(1, 1000000)}@example.com\", name=\"test\")\n",
    "user_id = new_user['id']"
   ]
  },
  {
   "cell_type": "code",
   "execution_count": 4,
   "metadata": {},
   "outputs": [
    {
     "data": {
      "text/plain": [
       "9"
      ]
     },
     "execution_count": 4,
     "metadata": {},
     "output_type": "execute_result"
    }
   ],
   "source": [
    "user_id"
   ]
  },
  {
   "cell_type": "code",
   "execution_count": 5,
   "metadata": {},
   "outputs": [
    {
     "name": "stdout",
     "output_type": "stream",
     "text": [
      "\n",
      "DEBUG: Making POST request to http://localhost:18056/admin/users/9/tokens\n",
      "DEBUG: Headers: {'Content-Type': 'application/json', 'X-Admin-API-Key': 'token'}\n",
      "DEBUG: Params: None\n",
      "DEBUG: JSON data: None\n",
      "DEBUG: Response status: 201\n",
      "DEBUG: Response headers: {'date': 'Wed, 04 Jun 2025 16:56:54 GMT, Wed, 04 Jun 2025 16:56:54 GMT', 'server': 'uvicorn, uvicorn', 'content-length': '113', 'content-type': 'application/json'}\n",
      "DEBUG: Response content: {\"user_id\":9,\"id\":9,\"token\":\"VLZbS0Vh3nNBNk8woojDWBG1r56cwP5PEIdPM74s\",\"created_at\":\"2025-06-04T16:56:55.197877\"}...\n"
     ]
    }
   ],
   "source": [
    "token_info = admin_client.create_token(user_id=user_id)\n",
    "user_api_key = token_info['token']"
   ]
  },
  {
   "cell_type": "code",
   "execution_count": 6,
   "metadata": {},
   "outputs": [],
   "source": [
    "client = VexaClient(\n",
    "    base_url=url,\n",
    "    api_key=user_api_key\n",
    ")"
   ]
  },
  {
   "cell_type": "code",
   "execution_count": 8,
   "metadata": {},
   "outputs": [],
   "source": [
    "meeting_url=\"https://meet.google.com/icj-aejh-tac\"\n",
    "native_meeting_id = meeting_url.split(\"/\")[-1]  # \"xyz-abcd-123\""
   ]
  },
  {
   "cell_type": "code",
   "execution_count": 23,
   "metadata": {},
   "outputs": [
    {
     "name": "stdout",
     "output_type": "stream",
     "text": [
      "\n",
      "DEBUG: Making POST request to http://localhost:18056/bots\n",
      "DEBUG: Headers: {'Content-Type': 'application/json', 'X-API-Key': 'VLZbS0Vh3nNBNk8woojDWBG1r56cwP5PEIdPM74s'}\n",
      "DEBUG: Params: None\n",
      "DEBUG: JSON data: {'platform': 'google_meet', 'native_meeting_id': 'icj-aejh-tac', 'bot_name': 'Vexa', 'task': 'transcribe'}\n",
      "DEBUG: Response status: 201\n",
      "DEBUG: Response headers: {'date': 'Wed, 04 Jun 2025 17:23:22 GMT, Wed, 04 Jun 2025 17:23:22 GMT', 'server': 'uvicorn, uvicorn', 'content-length': '392', 'content-type': 'application/json'}\n",
      "DEBUG: Response content: {\"id\":23,\"user_id\":9,\"platform\":\"google_meet\",\"native_meeting_id\":\"icj-aejh-tac\",\"constructed_meeting_url\":\"https://meet.google.com/icj-aejh-tac\",\"status\":\"active\",\"bot_container_id\":\"75227659dd22a8a89127b704493860b570c45e34ee19b0a78c5901f89383f2fd\",\"start_time\":\"2025-06-04T17:23:23.658672\",\"end_time\":null,\"created_at\":\"2025-06-04T17:23:23.450570\",\"updated_at\":\"2025-06-04T17:23:23.456710\"}...\n"
     ]
    }
   ],
   "source": [
    "meeting_info = client.request_bot(\n",
    "    platform=\"google_meet\",\n",
    "    native_meeting_id=native_meeting_id,\n",
    "    bot_name=\"Vexa\",\n",
    "  #  language='es',\n",
    "    task = 'transcribe'\n",
    ")\n",
    "meeting_id = meeting_info['id']"
   ]
  },
  {
   "cell_type": "code",
   "execution_count": 33,
   "metadata": {},
   "outputs": [],
   "source": [
    "from IPython.display import clear_output,display"
   ]
  },
  {
   "cell_type": "code",
   "execution_count": 39,
   "metadata": {},
   "outputs": [
    {
     "data": {
      "text/html": [
       "<div>\n",
       "<style scoped>\n",
       "    .dataframe tbody tr th:only-of-type {\n",
       "        vertical-align: middle;\n",
       "    }\n",
       "\n",
       "    .dataframe tbody tr th {\n",
       "        vertical-align: top;\n",
       "    }\n",
       "\n",
       "    .dataframe thead th {\n",
       "        text-align: right;\n",
       "    }\n",
       "</style>\n",
       "<table border=\"1\" class=\"dataframe\">\n",
       "  <thead>\n",
       "    <tr style=\"text-align: right;\">\n",
       "      <th></th>\n",
       "      <th>start</th>\n",
       "      <th>end</th>\n",
       "      <th>text</th>\n",
       "      <th>language</th>\n",
       "      <th>created_at</th>\n",
       "      <th>speaker</th>\n",
       "      <th>absolute_start_time</th>\n",
       "      <th>absolute_end_time</th>\n",
       "    </tr>\n",
       "  </thead>\n",
       "  <tbody>\n",
       "    <tr>\n",
       "      <th>63</th>\n",
       "      <td>581.05</td>\n",
       "      <td>589.54</td>\n",
       "      <td>Yeah, actually, it's pretty good. It's pretty good. I'm not sure if it's going to work same way with</td>\n",
       "      <td>None</td>\n",
       "      <td>None</td>\n",
       "      <td>info vexa</td>\n",
       "      <td>2025-06-04T17:34:07.882625+00:00</td>\n",
       "      <td>2025-06-04T17:34:16.372625+00:00</td>\n",
       "    </tr>\n",
       "    <tr>\n",
       "      <th>64</th>\n",
       "      <td>589.54</td>\n",
       "      <td>598.52</td>\n",
       "      <td>with Mitri, yeah, but yeah, definitely, definitely,</td>\n",
       "      <td>None</td>\n",
       "      <td>None</td>\n",
       "      <td>info vexa</td>\n",
       "      <td>2025-06-04T17:34:16.372625+00:00</td>\n",
       "      <td>2025-06-04T17:34:25.352625+00:00</td>\n",
       "    </tr>\n",
       "    <tr>\n",
       "      <th>65</th>\n",
       "      <td>591.06</td>\n",
       "      <td>591.89</td>\n",
       "      <td>With me</td>\n",
       "      <td>None</td>\n",
       "      <td>2025-06-04T17:34:57.844579</td>\n",
       "      <td>Dmitriy Grankin</td>\n",
       "      <td>2025-06-04T17:34:17.892625+00:00</td>\n",
       "      <td>2025-06-04T17:34:18.724625+00:00</td>\n",
       "    </tr>\n",
       "    <tr>\n",
       "      <th>66</th>\n",
       "      <td>598.52</td>\n",
       "      <td>600.12</td>\n",
       "      <td>much much better now.</td>\n",
       "      <td>None</td>\n",
       "      <td>None</td>\n",
       "      <td>Dmitriy Grankin</td>\n",
       "      <td>2025-06-04T17:34:25.352625+00:00</td>\n",
       "      <td>2025-06-04T17:34:26.952625+00:00</td>\n",
       "    </tr>\n",
       "    <tr>\n",
       "      <th>67</th>\n",
       "      <td>605.10</td>\n",
       "      <td>611.10</td>\n",
       "      <td>and we just know this trailing mass thing at the end, and then...</td>\n",
       "      <td>None</td>\n",
       "      <td>None</td>\n",
       "      <td>Dmitriy Grankin</td>\n",
       "      <td>2025-06-04T17:34:31.934625+00:00</td>\n",
       "      <td>2025-06-04T17:34:37.934625+00:00</td>\n",
       "    </tr>\n",
       "    <tr>\n",
       "      <th>68</th>\n",
       "      <td>611.10</td>\n",
       "      <td>621.57</td>\n",
       "      <td>Probably the only thing I should fix now is I'll not be fixing anything</td>\n",
       "      <td>None</td>\n",
       "      <td>None</td>\n",
       "      <td>Dmitriy Grankin</td>\n",
       "      <td>2025-06-04T17:34:37.934625+00:00</td>\n",
       "      <td>2025-06-04T17:34:48.404625+00:00</td>\n",
       "    </tr>\n",
       "    <tr>\n",
       "      <th>69</th>\n",
       "      <td>621.57</td>\n",
       "      <td>629.94</td>\n",
       "      <td>Just because I feel like.</td>\n",
       "      <td>None</td>\n",
       "      <td>None</td>\n",
       "      <td>Dmitriy Grankin</td>\n",
       "      <td>2025-06-04T17:34:48.404625+00:00</td>\n",
       "      <td>2025-06-04T17:34:56.774625+00:00</td>\n",
       "    </tr>\n",
       "    <tr>\n",
       "      <th>70</th>\n",
       "      <td>641.12</td>\n",
       "      <td>641.62</td>\n",
       "      <td>Yeah.</td>\n",
       "      <td>None</td>\n",
       "      <td>None</td>\n",
       "      <td>Dmitriy Grankin</td>\n",
       "      <td>2025-06-04T17:35:07.948625+00:00</td>\n",
       "      <td>2025-06-04T17:35:08.448625+00:00</td>\n",
       "    </tr>\n",
       "    <tr>\n",
       "      <th>71</th>\n",
       "      <td>641.62</td>\n",
       "      <td>645.72</td>\n",
       "      <td>Thank you.</td>\n",
       "      <td>None</td>\n",
       "      <td>None</td>\n",
       "      <td>Dmitriy Grankin</td>\n",
       "      <td>2025-06-04T17:35:08.448625+00:00</td>\n",
       "      <td>2025-06-04T17:35:12.548625+00:00</td>\n",
       "    </tr>\n",
       "    <tr>\n",
       "      <th>72</th>\n",
       "      <td>645.72</td>\n",
       "      <td>645.74</td>\n",
       "      <td>Bye.</td>\n",
       "      <td>None</td>\n",
       "      <td>None</td>\n",
       "      <td>Dmitriy Grankin</td>\n",
       "      <td>2025-06-04T17:35:12.548625+00:00</td>\n",
       "      <td>2025-06-04T17:35:12.568625+00:00</td>\n",
       "    </tr>\n",
       "  </tbody>\n",
       "</table>\n",
       "</div>"
      ],
      "text/plain": [
       "                  start                  end                                                                                                   text language                  created_at          speaker               absolute_start_time                 absolute_end_time\n",
       "63               581.05               589.54   Yeah, actually, it's pretty good. It's pretty good. I'm not sure if it's going to work same way with     None                        None        info vexa  2025-06-04T17:34:07.882625+00:00  2025-06-04T17:34:16.372625+00:00\n",
       "64               589.54               598.52                                                    with Mitri, yeah, but yeah, definitely, definitely,     None                        None        info vexa  2025-06-04T17:34:16.372625+00:00  2025-06-04T17:34:25.352625+00:00\n",
       "65               591.06               591.89                                                                                                With me     None  2025-06-04T17:34:57.844579  Dmitriy Grankin  2025-06-04T17:34:17.892625+00:00  2025-06-04T17:34:18.724625+00:00\n",
       "66               598.52               600.12                                                                                  much much better now.     None                        None  Dmitriy Grankin  2025-06-04T17:34:25.352625+00:00  2025-06-04T17:34:26.952625+00:00\n",
       "67               605.10               611.10                                      and we just know this trailing mass thing at the end, and then...     None                        None  Dmitriy Grankin  2025-06-04T17:34:31.934625+00:00  2025-06-04T17:34:37.934625+00:00\n",
       "68               611.10               621.57                                Probably the only thing I should fix now is I'll not be fixing anything     None                        None  Dmitriy Grankin  2025-06-04T17:34:37.934625+00:00  2025-06-04T17:34:48.404625+00:00\n",
       "69               621.57               629.94                                                                              Just because I feel like.     None                        None  Dmitriy Grankin  2025-06-04T17:34:48.404625+00:00  2025-06-04T17:34:56.774625+00:00\n",
       "70               641.12               641.62                                                                                                  Yeah.     None                        None  Dmitriy Grankin  2025-06-04T17:35:07.948625+00:00  2025-06-04T17:35:08.448625+00:00\n",
       "71               641.62               645.72                                                                                             Thank you.     None                        None  Dmitriy Grankin  2025-06-04T17:35:08.448625+00:00  2025-06-04T17:35:12.548625+00:00\n",
       "72               645.72               645.74                                                                                                   Bye.     None                        None  Dmitriy Grankin  2025-06-04T17:35:12.548625+00:00  2025-06-04T17:35:12.568625+00:00"
      ]
     },
     "metadata": {},
     "output_type": "display_data"
    },
    {
     "ename": "KeyboardInterrupt",
     "evalue": "",
     "output_type": "error",
     "traceback": [
      "\u001b[0;31m---------------------------------------------------------------------------\u001b[0m",
      "\u001b[0;31mKeyboardInterrupt\u001b[0m                         Traceback (most recent call last)",
      "Cell \u001b[0;32mIn[39], line 6\u001b[0m\n\u001b[1;32m      4\u001b[0m clear_output()\n\u001b[1;32m      5\u001b[0m display(df\u001b[38;5;241m.\u001b[39msort_values(\u001b[38;5;124m'\u001b[39m\u001b[38;5;124mabsolute_start_time\u001b[39m\u001b[38;5;124m'\u001b[39m)\u001b[38;5;241m.\u001b[39mtail(\u001b[38;5;241m10\u001b[39m))\n\u001b[0;32m----> 6\u001b[0m \u001b[43mtime\u001b[49m\u001b[38;5;241;43m.\u001b[39;49m\u001b[43msleep\u001b[49m\u001b[43m(\u001b[49m\u001b[38;5;241;43m1\u001b[39;49m\u001b[43m)\u001b[49m\n",
      "\u001b[0;31mKeyboardInterrupt\u001b[0m: "
     ]
    }
   ],
   "source": [
    "while True:\n",
    "    transcript = client.get_transcript(native_meeting_id=native_meeting_id,platform='google_meet')\n",
    "    df = pd.DataFrame(transcript['segments'])#.sort_values(['created_at','start'])#.drop_duplicates('start',keep='last')\n",
    "    clear_output()\n",
    "    display(df.sort_values('absolute_start_time').tail(10))\n",
    "    time.sleep(1)"
   ]
  },
  {
   "cell_type": "code",
   "execution_count": null,
   "metadata": {},
   "outputs": [
    {
     "data": {
      "text/html": [
       "<div>\n",
       "<style scoped>\n",
       "    .dataframe tbody tr th:only-of-type {\n",
       "        vertical-align: middle;\n",
       "    }\n",
       "\n",
       "    .dataframe tbody tr th {\n",
       "        vertical-align: top;\n",
       "    }\n",
       "\n",
       "    .dataframe thead th {\n",
       "        text-align: right;\n",
       "    }\n",
       "</style>\n",
       "<table border=\"1\" class=\"dataframe\">\n",
       "  <thead>\n",
       "    <tr style=\"text-align: right;\">\n",
       "      <th></th>\n",
       "      <th>start</th>\n",
       "      <th>end</th>\n",
       "      <th>text</th>\n",
       "      <th>language</th>\n",
       "      <th>created_at</th>\n",
       "      <th>speaker</th>\n",
       "      <th>absolute_start_time</th>\n",
       "      <th>absolute_end_time</th>\n",
       "    </tr>\n",
       "  </thead>\n",
       "  <tbody>\n",
       "    <tr>\n",
       "      <th>92</th>\n",
       "      <td>1035.30</td>\n",
       "      <td>1045.34</td>\n",
       "      <td>It's very late to change from one speaker to another.</td>\n",
       "      <td>None</td>\n",
       "      <td>None</td>\n",
       "      <td>Dmitriy Grankin</td>\n",
       "      <td>2025-06-04T17:14:41.645472+00:00</td>\n",
       "      <td>2025-06-04T17:14:51.685472+00:00</td>\n",
       "    </tr>\n",
       "    <tr>\n",
       "      <th>93</th>\n",
       "      <td>1045.34</td>\n",
       "      <td>1047.34</td>\n",
       "      <td>other.</td>\n",
       "      <td>None</td>\n",
       "      <td>None</td>\n",
       "      <td>Dmitriy Grankin</td>\n",
       "      <td>2025-06-04T17:14:51.685472+00:00</td>\n",
       "      <td>2025-06-04T17:14:53.685472+00:00</td>\n",
       "    </tr>\n",
       "    <tr>\n",
       "      <th>94</th>\n",
       "      <td>1047.34</td>\n",
       "      <td>1050.93</td>\n",
       "      <td>I'm not excited about this one.</td>\n",
       "      <td>None</td>\n",
       "      <td>None</td>\n",
       "      <td>Dmitriy Grankin</td>\n",
       "      <td>2025-06-04T17:14:53.685472+00:00</td>\n",
       "      <td>2025-06-04T17:14:57.285472+00:00</td>\n",
       "    </tr>\n",
       "    <tr>\n",
       "      <th>95</th>\n",
       "      <td>1050.93</td>\n",
       "      <td>1054.82</td>\n",
       "      <td>So I'll now switch back to Infoboxum.</td>\n",
       "      <td>None</td>\n",
       "      <td>None</td>\n",
       "      <td>Dmitriy Grankin</td>\n",
       "      <td>2025-06-04T17:14:57.285472+00:00</td>\n",
       "      <td>2025-06-04T17:15:01.165472+00:00</td>\n",
       "    </tr>\n",
       "    <tr>\n",
       "      <th>96</th>\n",
       "      <td>1054.82</td>\n",
       "      <td>1059.82</td>\n",
       "      <td>And now, let's see which one is going to work.</td>\n",
       "      <td>None</td>\n",
       "      <td>None</td>\n",
       "      <td>info vexa</td>\n",
       "      <td>2025-06-04T17:15:01.165472+00:00</td>\n",
       "      <td>2025-06-04T17:15:06.165472+00:00</td>\n",
       "    </tr>\n",
       "    <tr>\n",
       "      <th>97</th>\n",
       "      <td>1060.80</td>\n",
       "      <td>1065.80</td>\n",
       "      <td>Yeah, this one switched to blue.</td>\n",
       "      <td>None</td>\n",
       "      <td>None</td>\n",
       "      <td>info vexa</td>\n",
       "      <td>2025-06-04T17:15:07.145472+00:00</td>\n",
       "      <td>2025-06-04T17:15:12.145472+00:00</td>\n",
       "    </tr>\n",
       "    <tr>\n",
       "      <th>98</th>\n",
       "      <td>1061.21</td>\n",
       "      <td>1062.30</td>\n",
       "      <td>Yeah, this one.</td>\n",
       "      <td>None</td>\n",
       "      <td>2025-06-04T17:15:44.098779</td>\n",
       "      <td>info vexa</td>\n",
       "      <td>2025-06-04T17:15:07.565472+00:00</td>\n",
       "      <td>2025-06-04T17:15:08.654472+00:00</td>\n",
       "    </tr>\n",
       "    <tr>\n",
       "      <th>99</th>\n",
       "      <td>1065.80</td>\n",
       "      <td>1081.10</td>\n",
       "      <td>Yeah, but also, also, I need to know what is the reason why you are so excited about this one.</td>\n",
       "      <td>None</td>\n",
       "      <td>None</td>\n",
       "      <td>info vexa</td>\n",
       "      <td>2025-06-04T17:15:12.145472+00:00</td>\n",
       "      <td>2025-06-04T17:15:27.445472+00:00</td>\n",
       "    </tr>\n",
       "    <tr>\n",
       "      <th>100</th>\n",
       "      <td>1081.10</td>\n",
       "      <td>1086.95</td>\n",
       "      <td>It's not me, it's not Vexus speaking.</td>\n",
       "      <td>None</td>\n",
       "      <td>None</td>\n",
       "      <td>Dmitriy Grankin</td>\n",
       "      <td>2025-06-04T17:15:27.445472+00:00</td>\n",
       "      <td>2025-06-04T17:15:33.305472+00:00</td>\n",
       "    </tr>\n",
       "    <tr>\n",
       "      <th>101</th>\n",
       "      <td>1083.95</td>\n",
       "      <td>1086.95</td>\n",
       "      <td>It's not me, it's not Vexus speaking.</td>\n",
       "      <td>None</td>\n",
       "      <td>None</td>\n",
       "      <td>Dmitriy Grankin</td>\n",
       "      <td>2025-06-04T17:15:30.305472+00:00</td>\n",
       "      <td>2025-06-04T17:15:33.305472+00:00</td>\n",
       "    </tr>\n",
       "  </tbody>\n",
       "</table>\n",
       "</div>"
      ],
      "text/plain": [
       "                   start                  end                                                                                             text language                  created_at          speaker               absolute_start_time                 absolute_end_time\n",
       "92               1035.30              1045.34                                            It's very late to change from one speaker to another.     None                        None  Dmitriy Grankin  2025-06-04T17:14:41.645472+00:00  2025-06-04T17:14:51.685472+00:00\n",
       "93               1045.34              1047.34                                                                                           other.     None                        None  Dmitriy Grankin  2025-06-04T17:14:51.685472+00:00  2025-06-04T17:14:53.685472+00:00\n",
       "94               1047.34              1050.93                                                                  I'm not excited about this one.     None                        None  Dmitriy Grankin  2025-06-04T17:14:53.685472+00:00  2025-06-04T17:14:57.285472+00:00\n",
       "95               1050.93              1054.82                                                            So I'll now switch back to Infoboxum.     None                        None  Dmitriy Grankin  2025-06-04T17:14:57.285472+00:00  2025-06-04T17:15:01.165472+00:00\n",
       "96               1054.82              1059.82                                                   And now, let's see which one is going to work.     None                        None        info vexa  2025-06-04T17:15:01.165472+00:00  2025-06-04T17:15:06.165472+00:00\n",
       "97               1060.80              1065.80                                                                 Yeah, this one switched to blue.     None                        None        info vexa  2025-06-04T17:15:07.145472+00:00  2025-06-04T17:15:12.145472+00:00\n",
       "98               1061.21              1062.30                                                                                  Yeah, this one.     None  2025-06-04T17:15:44.098779        info vexa  2025-06-04T17:15:07.565472+00:00  2025-06-04T17:15:08.654472+00:00\n",
       "99               1065.80              1081.10   Yeah, but also, also, I need to know what is the reason why you are so excited about this one.     None                        None        info vexa  2025-06-04T17:15:12.145472+00:00  2025-06-04T17:15:27.445472+00:00\n",
       "100              1081.10              1086.95                                                            It's not me, it's not Vexus speaking.     None                        None  Dmitriy Grankin  2025-06-04T17:15:27.445472+00:00  2025-06-04T17:15:33.305472+00:00\n",
       "101              1083.95              1086.95                                                            It's not me, it's not Vexus speaking.     None                        None  Dmitriy Grankin  2025-06-04T17:15:30.305472+00:00  2025-06-04T17:15:33.305472+00:00"
      ]
     },
     "metadata": {},
     "output_type": "display_data"
    },
    {
     "ename": "KeyboardInterrupt",
     "evalue": "",
     "output_type": "error",
     "traceback": [
      "\u001b[0;31m---------------------------------------------------------------------------\u001b[0m\n",
      "\u001b[0;31mKeyboardInterrupt\u001b[0m                         Traceback (most recent call last)\n",
      "Cell \u001b[0;32mIn[15], line 6\u001b[0m\n",
      "\u001b[1;32m      4\u001b[0m clear_output()\n",
      "\u001b[1;32m      5\u001b[0m display(df\u001b[38;5;241m.\u001b[39msort_values(\u001b[38;5;124m'\u001b[39m\u001b[38;5;124mabsolute_start_time\u001b[39m\u001b[38;5;124m'\u001b[39m)\u001b[38;5;241m.\u001b[39mtail(\u001b[38;5;241m10\u001b[39m))\n",
      "\u001b[0;32m----> 6\u001b[0m \u001b[43mtime\u001b[49m\u001b[38;5;241;43m.\u001b[39;49m\u001b[43msleep\u001b[49m\u001b[43m(\u001b[49m\u001b[38;5;241;43m1\u001b[39;49m\u001b[43m)\u001b[49m\n",
      "\n",
      "\u001b[0;31mKeyboardInterrupt\u001b[0m: "
     ]
    }
   ],
   "source": [
    "while True:\n",
    "    transcript = client.get_transcript(native_meeting_id=native_meeting_id,platform='google_meet')\n",
    "    df = pd.DataFrame(transcript['segments'])#.sort_values(['created_at','start'])#.drop_duplicates('start',keep='last')\n",
    "    clear_output()\n",
    "    display(df.sort_values('absolute_start_time').tail(10))\n",
    "    time.sleep(1)"
   ]
  },
  {
   "cell_type": "code",
   "execution_count": 22,
   "metadata": {},
   "outputs": [
    {
     "name": "stdout",
     "output_type": "stream",
     "text": [
      "\n",
      "DEBUG: Making DELETE request to http://localhost:18056/bots/google_meet/icj-aejh-tac\n",
      "DEBUG: Headers: {'Content-Type': 'application/json', 'X-API-Key': 'VLZbS0Vh3nNBNk8woojDWBG1r56cwP5PEIdPM74s'}\n",
      "DEBUG: Params: None\n",
      "DEBUG: JSON data: None\n",
      "DEBUG: Response status: 202\n",
      "DEBUG: Response headers: {'date': 'Wed, 04 Jun 2025 17:23:17 GMT, Wed, 04 Jun 2025 17:23:17 GMT', 'server': 'uvicorn, uvicorn', 'content-length': '59', 'content-type': 'application/json'}\n",
      "DEBUG: Response content: {\"message\":\"Stop request accepted and is being processed.\"}...\n"
     ]
    },
    {
     "data": {
      "text/plain": [
       "{'message': 'Stop request accepted and is being processed.'}"
      ]
     },
     "execution_count": 22,
     "metadata": {},
     "output_type": "execute_result"
    }
   ],
   "source": [
    "client.stop_bot(platform=\"google_meet\",native_meeting_id=native_meeting_id)"
   ]
  },
  {
   "cell_type": "code",
   "execution_count": 8,
   "metadata": {},
   "outputs": [
    {
     "data": {
      "text/plain": [
       "2"
      ]
     },
     "execution_count": 8,
     "metadata": {},
     "output_type": "execute_result"
    }
   ],
   "source": [
    "user_id"
   ]
  },
  {
   "cell_type": "code",
   "execution_count": 309,
   "metadata": {},
   "outputs": [
    {
     "name": "stdout",
     "output_type": "stream",
     "text": [
      "\n",
      "DEBUG: Making GET request to http://localhost:18056/bots/status\n",
      "DEBUG: Headers: {'Content-Type': 'application/json', 'X-API-Key': '5IRfzrEVsU2T8VBq0oNIFA1uIddTbAlUiiFaesTq'}\n",
      "DEBUG: Params: None\n",
      "DEBUG: JSON data: None\n",
      "DEBUG: Response status: 200\n",
      "DEBUG: Response headers: {'date': 'Tue, 27 May 2025 22:35:23 GMT, Tue, 27 May 2025 22:35:23 GMT', 'server': 'uvicorn, uvicorn', 'content-length': '19', 'content-type': 'application/json'}\n",
      "DEBUG: Response content: {\"running_bots\":[]}...\n"
     ]
    }
   ],
   "source": [
    "running_bots = client.get_running_bots_status()"
   ]
  },
  {
   "cell_type": "code",
   "execution_count": 32,
   "metadata": {},
   "outputs": [
    {
     "name": "stdout",
     "output_type": "stream",
     "text": [
      "\n",
      "DEBUG: Making PATCH request to http://localhost:8056/admin/users/2\n",
      "DEBUG: Headers: {'Content-Type': 'application/json', 'X-Admin-API-Key': 'lkwnekf68&IJBKb7'}\n",
      "DEBUG: Params: None\n",
      "DEBUG: JSON data: {'max_concurrent_bots': 3}\n",
      "DEBUG: Response status: 200\n",
      "DEBUG: Response headers: {'date': 'Tue, 22 Apr 2025 13:27:45 GMT, Tue, 22 Apr 2025 13:27:45 GMT', 'server': 'uvicorn, uvicorn', 'content-length': '134', 'content-type': 'application/json'}\n",
      "DEBUG: Response content: {\"email\":\"914545@example.com\",\"name\":\"test\",\"image_url\":null,\"max_concurrent_bots\":3,\"id\":2,\"created_at\":\"2025-04-22T13:17:30.891747\"}...\n"
     ]
    },
    {
     "data": {
      "text/plain": [
       "{'email': '914545@example.com',\n",
       " 'name': 'test',\n",
       " 'image_url': None,\n",
       " 'max_concurrent_bots': 3,\n",
       " 'id': 2,\n",
       " 'created_at': '2025-04-22T13:17:30.891747'}"
      ]
     },
     "execution_count": 32,
     "metadata": {},
     "output_type": "execute_result"
    }
   ],
   "source": [
    "admin_client.update_user(user_id,max_concurrent_bots=3)"
   ]
  },
  {
   "cell_type": "code",
   "execution_count": 35,
   "metadata": {},
   "outputs": [
    {
     "name": "stdout",
     "output_type": "stream",
     "text": [
      "\n",
      "DEBUG: Making PUT request to http://localhost:18056/bots/google_meet/icj-aejh-tac/config\n",
      "DEBUG: Headers: {'Content-Type': 'application/json', 'X-API-Key': 'VLZbS0Vh3nNBNk8woojDWBG1r56cwP5PEIdPM74s'}\n",
      "DEBUG: Params: None\n",
      "DEBUG: JSON data: {'language': 'en', 'task': 'transcribe'}\n",
      "DEBUG: Response status: 202\n",
      "DEBUG: Response headers: {'date': 'Wed, 04 Jun 2025 17:24:25 GMT, Wed, 04 Jun 2025 17:24:25 GMT', 'server': 'uvicorn, uvicorn', 'content-length': '67', 'content-type': 'application/json'}\n",
      "DEBUG: Response content: {\"message\":\"Reconfiguration request accepted and sent to the bot.\"}...\n"
     ]
    },
    {
     "data": {
      "text/plain": [
       "{'message': 'Reconfiguration request accepted and sent to the bot.'}"
      ]
     },
     "execution_count": 35,
     "metadata": {},
     "output_type": "execute_result"
    }
   ],
   "source": [
    "client.update_bot_config(\n",
    "    platform=\"google_meet\",\n",
    "    native_meeting_id=native_meeting_id,\n",
    "    language='en',\n",
    "    task = 'transcribe'\n",
    ")"
   ]
  },
  {
   "cell_type": "code",
   "execution_count": null,
   "metadata": {},
   "outputs": [
    {
     "name": "stdout",
     "output_type": "stream",
     "text": [
      "\n",
      "DEBUG: Making GET request to http://localhost:8056/bots/status\n",
      "DEBUG: Headers: {'Content-Type': 'application/json', 'X-API-Key': 'yl9x4xUZdXnLZsRxfj6A7IQJEyf2czFpQBjV1e93'}\n",
      "DEBUG: Params: None\n",
      "DEBUG: JSON data: None\n",
      "DEBUG: Response status: 200\n",
      "DEBUG: Response headers: {'date': 'Tue, 22 Apr 2025 13:58:29 GMT, Tue, 22 Apr 2025 13:58:29 GMT', 'server': 'uvicorn, uvicorn', 'content-length': '1202', 'content-type': 'application/json'}\n",
      "DEBUG: Response content: {\"running_bots\":[{\"container_id\":\"e9c6def1ea1468b67b5bb8c010eff03febadf40e8b1727d6dadf8a72ddeb9c9a\",\"container_name\":\"vexa-bot-11-4f4fd204\",\"platform\":\"google_meet\",\"native_meeting_id\":\"phu-przh-ove\",\"status\":\"Up 30 minutes\",\"created_at\":\"2025-04-22T13:27:49+00:00\",\"labels\":{\"org.opencontainers.image.ref.name\":\"ubuntu\",\"org.opencontainers.image.version\":\"22.04\",\"vexa.user_id\":\"2\"},\"meeting_id_from_name\":\"11\"},{\"container_id\":\"433f2e1fd9776f6ddae1262b530b62b66b5a3bca16be9b25bfe1a7b10f3c3967\",\"con...\n"
     ]
    }
   ],
   "source": [
    "running_bots = client.get_running_bots_status()"
   ]
  },
  {
   "cell_type": "code",
   "execution_count": null,
   "metadata": {},
   "outputs": [
    {
     "name": "stdout",
     "output_type": "stream",
     "text": [
      "\n",
      "DEBUG: Making GET request to http://localhost:8056/bots/status\n",
      "DEBUG: Headers: {'Content-Type': 'application/json', 'X-API-Key': 'yl9x4xUZdXnLZsRxfj6A7IQJEyf2czFpQBjV1e93'}\n",
      "DEBUG: Params: None\n",
      "DEBUG: JSON data: None\n",
      "DEBUG: Response status: 200\n",
      "DEBUG: Response headers: {'date': 'Tue, 22 Apr 2025 13:58:29 GMT, Tue, 22 Apr 2025 13:58:29 GMT', 'server': 'uvicorn, uvicorn', 'content-length': '1202', 'content-type': 'application/json'}\n",
      "DEBUG: Response content: {\"running_bots\":[{\"container_id\":\"e9c6def1ea1468b67b5bb8c010eff03febadf40e8b1727d6dadf8a72ddeb9c9a\",\"container_name\":\"vexa-bot-11-4f4fd204\",\"platform\":\"google_meet\",\"native_meeting_id\":\"phu-przh-ove\",\"status\":\"Up 30 minutes\",\"created_at\":\"2025-04-22T13:27:49+00:00\",\"labels\":{\"org.opencontainers.image.ref.name\":\"ubuntu\",\"org.opencontainers.image.version\":\"22.04\",\"vexa.user_id\":\"2\"},\"meeting_id_from_name\":\"11\"},{\"container_id\":\"433f2e1fd9776f6ddae1262b530b62b66b5a3bca16be9b25bfe1a7b10f3c3967\",\"con...\n"
     ]
    }
   ],
   "source": [
    "running_bots = client.get_running_bots_status()\n",
    "for running_bot in running_bots:\n",
    "    client.stop_bot(platform=running_bot['platform'],native_meeting_id=running_bot['native_meeting_id'])"
   ]
  },
  {
   "cell_type": "code",
   "execution_count": 298,
   "metadata": {},
   "outputs": [
    {
     "name": "stdout",
     "output_type": "stream",
     "text": [
      "\n",
      "DEBUG: Making GET request to http://localhost:8056/meetings\n",
      "DEBUG: Headers: {'Content-Type': 'application/json', 'X-API-Key': 'NvsJRMspflhJ8qRZ5IQiZDrfkdsXyqncuaVlvKoR'}\n",
      "DEBUG: Params: None\n",
      "DEBUG: JSON data: None\n",
      "DEBUG: Response status: 200\n",
      "DEBUG: Response headers: {'date': 'Mon, 21 Apr 2025 15:49:02 GMT, Mon, 21 Apr 2025 15:49:02 GMT', 'server': 'uvicorn, uvicorn', 'content-length': '406', 'content-type': 'application/json'}\n",
      "DEBUG: Response content: {\"meetings\":[{\"id\":6,\"user_id\":2,\"platform\":\"google_meet\",\"native_meeting_id\":\"fsn-apcm-nqf\",\"constructed_meeting_url\":\"https://meet.google.com/fsn-apcm-nqf\",\"status\":\"active\",\"bot_container_id\":\"71d0469f81097eb209f27ab3ecfad10f80c93bf010eb9a8ed982f01122eda6ac\",\"start_time\":\"2025-04-21T15:48:34.986970\",\"end_time\":null,\"created_at\":\"2025-04-21T15:48:34.750718\",\"updated_at\":\"2025-04-21T15:48:34.757661\"}]}...\n"
     ]
    }
   ],
   "source": [
    "meetings = client.get_meetings()"
   ]
  }
 ],
 "metadata": {
  "kernelspec": {
   "display_name": "Python 3",
   "language": "python",
   "name": "python3"
  },
  "language_info": {
   "codemirror_mode": {
    "name": "ipython",
    "version": 3
   },
   "file_extension": ".py",
   "mimetype": "text/x-python",
   "name": "python",
   "nbconvert_exporter": "python",
   "pygments_lexer": "ipython3",
   "version": "3.10.12"
  }
 },
 "nbformat": 4,
 "nbformat_minor": 2
}
