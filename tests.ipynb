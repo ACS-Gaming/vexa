{
 "cells": [
  {
   "cell_type": "code",
   "execution_count": 1,
   "metadata": {},
   "outputs": [],
   "source": [
    "# Load environment variables from .env file\n",
    "from dotenv import load_dotenv\n",
    "\n",
    "# Load .env file\n",
    "load_dotenv()\n",
    "\n",
    "import os\n",
    "from vexa_client import VexaClient\n",
    "\n",
    "import os\n",
    "TOKEN = os.getenv('ADMIN_API_TOKEN')"
   ]
  },
  {
   "cell_type": "code",
   "execution_count": 2,
   "metadata": {},
   "outputs": [],
   "source": [
    "url = \"http://localhost:8056\""
   ]
  },
  {
   "cell_type": "code",
   "execution_count": 3,
   "metadata": {},
   "outputs": [],
   "source": [
    "admin_client = VexaClient(\n",
    "    base_url=url,\n",
    "    admin_key=TOKEN  # From docker-compose.yml\n",
    ")"
   ]
  },
  {
   "cell_type": "code",
   "execution_count": 4,
   "metadata": {},
   "outputs": [],
   "source": [
    "import random"
   ]
  },
  {
   "cell_type": "code",
   "execution_count": null,
   "metadata": {},
   "outputs": [],
   "source": []
  },
  {
   "cell_type": "code",
   "execution_count": null,
   "metadata": {},
   "outputs": [
    {
     "name": "stdout",
     "output_type": "stream",
     "text": [
      "\n",
      "DEBUG: Making POST request to http://localhost:8056/admin/users\n",
      "DEBUG: Headers: {'Content-Type': 'application/json', 'X-Admin-API-Key': 'lkwnekf68&IJBKb7'}\n",
      "DEBUG: Params: None\n",
      "DEBUG: JSON data: {'email': '766274@example.com', 'name': 'test'}\n",
      "DEBUG: Response status: 201\n",
      "DEBUG: Response headers: {'date': 'Mon, 21 Apr 2025 14:51:07 GMT, Mon, 21 Apr 2025 14:51:07 GMT', 'server': 'uvicorn, uvicorn', 'content-length': '110', 'content-type': 'application/json'}\n",
      "DEBUG: Response content: {\"email\":\"766274@example.com\",\"name\":\"test\",\"image_url\":null,\"id\":3,\"created_at\":\"2025-04-21T14:51:07.961914\"}...\n"
     ]
    }
   ],
   "source": [
    "new_user = admin_client.create_user(email=f\"{random.randint(1, 1000000)}@example.com\", name=\"test\")\n"
   ]
  },
  {
   "cell_type": "code",
   "execution_count": 6,
   "metadata": {},
   "outputs": [],
   "source": [
    "\n",
    "user_id = new_user['id']"
   ]
  },
  {
   "cell_type": "code",
   "execution_count": 7,
   "metadata": {},
   "outputs": [
    {
     "data": {
      "text/plain": [
       "3"
      ]
     },
     "execution_count": 7,
     "metadata": {},
     "output_type": "execute_result"
    }
   ],
   "source": [
    "user_id"
   ]
  },
  {
   "cell_type": "code",
   "execution_count": null,
   "metadata": {},
   "outputs": [
    {
     "name": "stdout",
     "output_type": "stream",
     "text": [
      "\n",
      "DEBUG: Making POST request to http://localhost:8056/admin/users/3/tokens\n",
      "DEBUG: Headers: {'Content-Type': 'application/json', 'X-Admin-API-Key': 'lkwnekf68&IJBKb7'}\n",
      "DEBUG: Params: None\n",
      "DEBUG: JSON data: None\n",
      "DEBUG: Response status: 201\n",
      "DEBUG: Response headers: {'date': 'Mon, 21 Apr 2025 14:51:07 GMT, Mon, 21 Apr 2025 14:51:07 GMT', 'server': 'uvicorn, uvicorn', 'content-length': '113', 'content-type': 'application/json'}\n",
      "DEBUG: Response content: {\"user_id\":3,\"id\":2,\"token\":\"LEEm1VF8OBstkjSS5M84Evu1n1w28w2PwnVyvqMC\",\"created_at\":\"2025-04-21T14:51:07.992568\"}...\n"
     ]
    }
   ],
   "source": [
    "token_info = admin_client.create_token(user_id=user_id)\n",
    "user_api_key = token_info['token']"
   ]
  },
  {
   "cell_type": "code",
   "execution_count": 347,
   "metadata": {},
   "outputs": [],
   "source": [
    "user_api_key = ''"
   ]
  },
  {
   "cell_type": "code",
   "execution_count": 348,
   "metadata": {},
   "outputs": [],
   "source": [
    "client = VexaClient(\n",
    "    base_url=url,\n",
    "    api_key=user_api_key\n",
    ")"
   ]
  },
  {
   "cell_type": "code",
   "execution_count": 349,
   "metadata": {},
   "outputs": [],
   "source": [
    "meeting_url=\"https://meet.google.com/fsn-apcm-nqf\"\n",
    "native_meeting_id = meeting_url.split(\"/\")[-1]  # \"xyz-abcd-123\""
   ]
  },
  {
   "cell_type": "code",
   "execution_count": 350,
   "metadata": {},
   "outputs": [
    {
     "name": "stdout",
     "output_type": "stream",
     "text": [
      "\n",
      "DEBUG: Making POST request to http://localhost:8056/bots\n",
      "DEBUG: Headers: {'Content-Type': 'application/json', 'X-API-Key': 'b775UsimsV0kWBNPkFy4aoREWmhBGJDmo43S7TM2'}\n",
      "DEBUG: Params: None\n",
      "DEBUG: JSON data: {'platform': 'google_meet', 'native_meeting_id': 'fsn-apcm-nqf', 'bot_name': 'Vexa', 'task': 'transcribe'}\n",
      "DEBUG: Response status: 403\n",
      "DEBUG: Response headers: {'date': 'Mon, 21 Apr 2025 16:52:57 GMT, Mon, 21 Apr 2025 16:52:57 GMT', 'server': 'uvicorn, uvicorn', 'content-length': '30', 'content-type': 'application/json'}\n",
      "DEBUG: Response content: {\"detail\":\"Invalid API token\"}...\n"
     ]
    },
    {
     "ename": "VexaClientError",
     "evalue": "HTTP Error 403 for POST http://localhost:8056/bots: Invalid API token",
     "output_type": "error",
     "traceback": [
      "\u001b[0;31m---------------------------------------------------------------------------\u001b[0m",
      "\u001b[0;31mHTTPError\u001b[0m                                 Traceback (most recent call last)",
      "File \u001b[0;32m~/vexa/vexa_client.py:107\u001b[0m, in \u001b[0;36mVexaClient._request\u001b[0;34m(self, method, path, api_type, params, json_data)\u001b[0m\n\u001b[1;32m    105\u001b[0m     \u001b[38;5;28mprint\u001b[39m(\u001b[38;5;124mf\u001b[39m\u001b[38;5;124m\"\u001b[39m\u001b[38;5;124mDEBUG: Could not display response content\u001b[39m\u001b[38;5;124m\"\u001b[39m)\n\u001b[0;32m--> 107\u001b[0m \u001b[43mresponse\u001b[49m\u001b[38;5;241;43m.\u001b[39;49m\u001b[43mraise_for_status\u001b[49m\u001b[43m(\u001b[49m\u001b[43m)\u001b[49m \u001b[38;5;66;03m# Raise HTTPError for bad responses (4xx or 5xx)\u001b[39;00m\n\u001b[1;32m    109\u001b[0m \u001b[38;5;66;03m# Handle cases where response might be empty (e.g., 204 No Content)\u001b[39;00m\n",
      "File \u001b[0;32m~/anaconda3/envs/langchain/lib/python3.11/site-packages/requests/models.py:1024\u001b[0m, in \u001b[0;36mResponse.raise_for_status\u001b[0;34m(self)\u001b[0m\n\u001b[1;32m   1023\u001b[0m \u001b[38;5;28;01mif\u001b[39;00m http_error_msg:\n\u001b[0;32m-> 1024\u001b[0m     \u001b[38;5;28;01mraise\u001b[39;00m HTTPError(http_error_msg, response\u001b[38;5;241m=\u001b[39m\u001b[38;5;28mself\u001b[39m)\n",
      "\u001b[0;31mHTTPError\u001b[0m: 403 Client Error: Forbidden for url: http://localhost:8056/bots",
      "\nThe above exception was the direct cause of the following exception:\n",
      "\u001b[0;31mVexaClientError\u001b[0m                           Traceback (most recent call last)",
      "Cell \u001b[0;32mIn[350], line 1\u001b[0m\n\u001b[0;32m----> 1\u001b[0m meeting_info \u001b[38;5;241m=\u001b[39m \u001b[43mclient\u001b[49m\u001b[38;5;241;43m.\u001b[39;49m\u001b[43mrequest_bot\u001b[49m\u001b[43m(\u001b[49m\n\u001b[1;32m      2\u001b[0m \u001b[43m    \u001b[49m\u001b[43mplatform\u001b[49m\u001b[38;5;241;43m=\u001b[39;49m\u001b[38;5;124;43m\"\u001b[39;49m\u001b[38;5;124;43mgoogle_meet\u001b[39;49m\u001b[38;5;124;43m\"\u001b[39;49m\u001b[43m,\u001b[49m\n\u001b[1;32m      3\u001b[0m \u001b[43m    \u001b[49m\u001b[43mnative_meeting_id\u001b[49m\u001b[38;5;241;43m=\u001b[39;49m\u001b[43mnative_meeting_id\u001b[49m\u001b[43m,\u001b[49m\n\u001b[1;32m      4\u001b[0m \u001b[43m    \u001b[49m\u001b[43mbot_name\u001b[49m\u001b[38;5;241;43m=\u001b[39;49m\u001b[38;5;124;43m\"\u001b[39;49m\u001b[38;5;124;43mVexa\u001b[39;49m\u001b[38;5;124;43m\"\u001b[39;49m\u001b[43m,\u001b[49m\n\u001b[1;32m      5\u001b[0m \u001b[43m  \u001b[49m\u001b[38;5;66;43;03m#  language='es',\u001b[39;49;00m\n\u001b[1;32m      6\u001b[0m \u001b[43m    \u001b[49m\u001b[43mtask\u001b[49m\u001b[43m \u001b[49m\u001b[38;5;241;43m=\u001b[39;49m\u001b[43m \u001b[49m\u001b[38;5;124;43m'\u001b[39;49m\u001b[38;5;124;43mtranscribe\u001b[39;49m\u001b[38;5;124;43m'\u001b[39;49m\n\u001b[1;32m      7\u001b[0m \u001b[43m)\u001b[49m\n\u001b[1;32m      8\u001b[0m meeting_id \u001b[38;5;241m=\u001b[39m meeting_info[\u001b[38;5;124m'\u001b[39m\u001b[38;5;124mid\u001b[39m\u001b[38;5;124m'\u001b[39m]\n",
      "File \u001b[0;32m~/vexa/vexa_client.py:155\u001b[0m, in \u001b[0;36mVexaClient.request_bot\u001b[0;34m(self, platform, native_meeting_id, bot_name, language, task)\u001b[0m\n\u001b[1;32m    152\u001b[0m \u001b[38;5;28;01mif\u001b[39;00m task:\n\u001b[1;32m    153\u001b[0m     payload[\u001b[38;5;124m\"\u001b[39m\u001b[38;5;124mtask\u001b[39m\u001b[38;5;124m\"\u001b[39m] \u001b[38;5;241m=\u001b[39m task\n\u001b[0;32m--> 155\u001b[0m \u001b[38;5;28;01mreturn\u001b[39;00m \u001b[38;5;28;43mself\u001b[39;49m\u001b[38;5;241;43m.\u001b[39;49m\u001b[43m_request\u001b[49m\u001b[43m(\u001b[49m\u001b[38;5;124;43m\"\u001b[39;49m\u001b[38;5;124;43mPOST\u001b[39;49m\u001b[38;5;124;43m\"\u001b[39;49m\u001b[43m,\u001b[49m\u001b[43m \u001b[49m\u001b[38;5;124;43m\"\u001b[39;49m\u001b[38;5;124;43m/bots\u001b[39;49m\u001b[38;5;124;43m\"\u001b[39;49m\u001b[43m,\u001b[49m\u001b[43m \u001b[49m\u001b[43mapi_type\u001b[49m\u001b[38;5;241;43m=\u001b[39;49m\u001b[38;5;124;43m'\u001b[39;49m\u001b[38;5;124;43muser\u001b[39;49m\u001b[38;5;124;43m'\u001b[39;49m\u001b[43m,\u001b[49m\u001b[43m \u001b[49m\u001b[43mjson_data\u001b[49m\u001b[38;5;241;43m=\u001b[39;49m\u001b[43mpayload\u001b[49m\u001b[43m)\u001b[49m\n",
      "File \u001b[0;32m~/vexa/vexa_client.py:123\u001b[0m, in \u001b[0;36mVexaClient._request\u001b[0;34m(self, method, path, api_type, params, json_data)\u001b[0m\n\u001b[1;32m    121\u001b[0m     \u001b[38;5;28;01mexcept\u001b[39;00m requests\u001b[38;5;241m.\u001b[39mexceptions\u001b[38;5;241m.\u001b[39mJSONDecodeError:\n\u001b[1;32m    122\u001b[0m         detail_msg \u001b[38;5;241m=\u001b[39m e\u001b[38;5;241m.\u001b[39mresponse\u001b[38;5;241m.\u001b[39mtext\n\u001b[0;32m--> 123\u001b[0m     \u001b[38;5;28;01mraise\u001b[39;00m VexaClientError(\u001b[38;5;124mf\u001b[39m\u001b[38;5;124m\"\u001b[39m\u001b[38;5;124mHTTP Error \u001b[39m\u001b[38;5;132;01m{\u001b[39;00me\u001b[38;5;241m.\u001b[39mresponse\u001b[38;5;241m.\u001b[39mstatus_code\u001b[38;5;132;01m}\u001b[39;00m\u001b[38;5;124m for \u001b[39m\u001b[38;5;132;01m{\u001b[39;00mmethod\u001b[38;5;132;01m}\u001b[39;00m\u001b[38;5;124m \u001b[39m\u001b[38;5;132;01m{\u001b[39;00murl\u001b[38;5;132;01m}\u001b[39;00m\u001b[38;5;124m: \u001b[39m\u001b[38;5;132;01m{\u001b[39;00mdetail_msg\u001b[38;5;132;01m}\u001b[39;00m\u001b[38;5;124m\"\u001b[39m) \u001b[38;5;28;01mfrom\u001b[39;00m \u001b[38;5;21;01me\u001b[39;00m\n\u001b[1;32m    124\u001b[0m \u001b[38;5;28;01mexcept\u001b[39;00m requests\u001b[38;5;241m.\u001b[39mexceptions\u001b[38;5;241m.\u001b[39mRequestException \u001b[38;5;28;01mas\u001b[39;00m e:\n\u001b[1;32m    125\u001b[0m     \u001b[38;5;28;01mraise\u001b[39;00m VexaClientError(\u001b[38;5;124mf\u001b[39m\u001b[38;5;124m\"\u001b[39m\u001b[38;5;124mRequest failed for \u001b[39m\u001b[38;5;132;01m{\u001b[39;00mmethod\u001b[38;5;132;01m}\u001b[39;00m\u001b[38;5;124m \u001b[39m\u001b[38;5;132;01m{\u001b[39;00murl\u001b[38;5;132;01m}\u001b[39;00m\u001b[38;5;124m: \u001b[39m\u001b[38;5;132;01m{\u001b[39;00me\u001b[38;5;132;01m}\u001b[39;00m\u001b[38;5;124m\"\u001b[39m) \u001b[38;5;28;01mfrom\u001b[39;00m \u001b[38;5;21;01me\u001b[39;00m\n",
      "\u001b[0;31mVexaClientError\u001b[0m: HTTP Error 403 for POST http://localhost:8056/bots: Invalid API token"
     ]
    }
   ],
   "source": [
    "meeting_info = client.request_bot(\n",
    "    platform=\"google_meet\",\n",
    "    native_meeting_id=native_meeting_id,\n",
    "    bot_name=\"Vexa\",\n",
    "  #  language='es',\n",
    "    task = 'transcribe'\n",
    ")\n",
    "meeting_id = meeting_info['id']"
   ]
  },
  {
   "cell_type": "code",
   "execution_count": 345,
   "metadata": {},
   "outputs": [
    {
     "data": {
      "text/plain": [
       "13"
      ]
     },
     "execution_count": 345,
     "metadata": {},
     "output_type": "execute_result"
    }
   ],
   "source": [
    "meeting_id"
   ]
  },
  {
   "cell_type": "code",
   "execution_count": 297,
   "metadata": {},
   "outputs": [
    {
     "name": "stdout",
     "output_type": "stream",
     "text": [
      "\n",
      "DEBUG: Making PUT request to http://localhost:8056/bots/google_meet/fsn-apcm-nqf/config\n",
      "DEBUG: Headers: {'Content-Type': 'application/json', 'X-API-Key': 'NvsJRMspflhJ8qRZ5IQiZDrfkdsXyqncuaVlvKoR'}\n",
      "DEBUG: Params: None\n",
      "DEBUG: JSON data: {'language': 'en', 'task': 'transcribe'}\n",
      "DEBUG: Response status: 202\n",
      "DEBUG: Response headers: {'date': 'Mon, 21 Apr 2025 15:48:57 GMT, Mon, 21 Apr 2025 15:48:57 GMT', 'server': 'uvicorn, uvicorn', 'content-length': '67', 'content-type': 'application/json'}\n",
      "DEBUG: Response content: {\"message\":\"Reconfiguration request accepted and sent to the bot.\"}...\n"
     ]
    },
    {
     "data": {
      "text/plain": [
       "{'message': 'Reconfiguration request accepted and sent to the bot.'}"
      ]
     },
     "execution_count": 297,
     "metadata": {},
     "output_type": "execute_result"
    }
   ],
   "source": [
    "client.update_bot_config(\n",
    "    platform=\"google_meet\",\n",
    "    native_meeting_id=native_meeting_id,\n",
    "    language='en',\n",
    "    task = 'transcribe'\n",
    ")"
   ]
  },
  {
   "cell_type": "code",
   "execution_count": 346,
   "metadata": {},
   "outputs": [
    {
     "name": "stdout",
     "output_type": "stream",
     "text": [
      "\n",
      "DEBUG: Making DELETE request to http://localhost:8056/bots/google_meet/fsn-apcm-nqf\n",
      "DEBUG: Headers: {'Content-Type': 'application/json', 'X-API-Key': 'b775UsimsV0kWBNPkFy4aoREWmhBGJDmo43S7TM2'}\n",
      "DEBUG: Params: None\n",
      "DEBUG: JSON data: None\n",
      "DEBUG: Response status: 202\n",
      "DEBUG: Response headers: {'date': 'Mon, 21 Apr 2025 16:52:42 GMT, Mon, 21 Apr 2025 16:52:43 GMT', 'server': 'uvicorn, uvicorn', 'content-length': '59', 'content-type': 'application/json'}\n",
      "DEBUG: Response content: {\"message\":\"Stop request accepted and is being processed.\"}...\n"
     ]
    },
    {
     "data": {
      "text/plain": [
       "{'message': 'Stop request accepted and is being processed.'}"
      ]
     },
     "execution_count": 346,
     "metadata": {},
     "output_type": "execute_result"
    }
   ],
   "source": [
    "client.stop_bot(platform=\"google_meet\",native_meeting_id=native_meeting_id)"
   ]
  },
  {
   "cell_type": "code",
   "execution_count": 298,
   "metadata": {},
   "outputs": [
    {
     "name": "stdout",
     "output_type": "stream",
     "text": [
      "\n",
      "DEBUG: Making GET request to http://localhost:8056/meetings\n",
      "DEBUG: Headers: {'Content-Type': 'application/json', 'X-API-Key': 'NvsJRMspflhJ8qRZ5IQiZDrfkdsXyqncuaVlvKoR'}\n",
      "DEBUG: Params: None\n",
      "DEBUG: JSON data: None\n",
      "DEBUG: Response status: 200\n",
      "DEBUG: Response headers: {'date': 'Mon, 21 Apr 2025 15:49:02 GMT, Mon, 21 Apr 2025 15:49:02 GMT', 'server': 'uvicorn, uvicorn', 'content-length': '406', 'content-type': 'application/json'}\n",
      "DEBUG: Response content: {\"meetings\":[{\"id\":6,\"user_id\":2,\"platform\":\"google_meet\",\"native_meeting_id\":\"fsn-apcm-nqf\",\"constructed_meeting_url\":\"https://meet.google.com/fsn-apcm-nqf\",\"status\":\"active\",\"bot_container_id\":\"71d0469f81097eb209f27ab3ecfad10f80c93bf010eb9a8ed982f01122eda6ac\",\"start_time\":\"2025-04-21T15:48:34.986970\",\"end_time\":null,\"created_at\":\"2025-04-21T15:48:34.750718\",\"updated_at\":\"2025-04-21T15:48:34.757661\"}]}...\n"
     ]
    }
   ],
   "source": [
    "meetings = client.get_meetings()"
   ]
  },
  {
   "cell_type": "code",
   "execution_count": 299,
   "metadata": {},
   "outputs": [
    {
     "data": {
      "text/plain": [
       "6"
      ]
     },
     "execution_count": 299,
     "metadata": {},
     "output_type": "execute_result"
    }
   ],
   "source": [
    "meeting_id"
   ]
  },
  {
   "cell_type": "code",
   "execution_count": 313,
   "metadata": {},
   "outputs": [
    {
     "name": "stdout",
     "output_type": "stream",
     "text": [
      "\n",
      "DEBUG: Making GET request to http://localhost:8056/transcripts/google_meet/fsn-apcm-nqf\n",
      "DEBUG: Headers: {'Content-Type': 'application/json', 'X-API-Key': 'NvsJRMspflhJ8qRZ5IQiZDrfkdsXyqncuaVlvKoR'}\n",
      "DEBUG: Params: None\n",
      "DEBUG: JSON data: None\n",
      "DEBUG: Response status: 200\n",
      "DEBUG: Response headers: {'date': 'Mon, 21 Apr 2025 15:49:11 GMT, Mon, 21 Apr 2025 15:49:11 GMT', 'server': 'uvicorn, uvicorn', 'content-length': '854', 'content-type': 'application/json'}\n",
      "DEBUG: Response content: {\"id\":6,\"platform\":\"google_meet\",\"native_meeting_id\":\"fsn-apcm-nqf\",\"constructed_meeting_url\":\"https://meet.google.com/fsn-apcm-nqf\",\"status\":\"active\",\"start_time\":\"2025-04-21T15:48:34.986970\",\"end_time\":null,\"segments\":[{\"start\":0.0,\"end\":0.5,\"text\":\" Okay.\",\"language\":null,\"created_at\":null,\"speaker\":null,\"absolute_start_time\":\"2025-04-21T15:48:52.368028+00:00\",\"absolute_end_time\":\"2025-04-21T15:48:52.868028+00:00\"},{\"start\":3.115,\"end\":5.115,\"text\":\" And that's it.\",\"language\":null,\"created_a...\n"
     ]
    },
    {
     "data": {
      "text/html": [
       "<div>\n",
       "<style scoped>\n",
       "    .dataframe tbody tr th:only-of-type {\n",
       "        vertical-align: middle;\n",
       "    }\n",
       "\n",
       "    .dataframe tbody tr th {\n",
       "        vertical-align: top;\n",
       "    }\n",
       "\n",
       "    .dataframe thead th {\n",
       "        text-align: right;\n",
       "    }\n",
       "</style>\n",
       "<table border=\"1\" class=\"dataframe\">\n",
       "  <thead>\n",
       "    <tr style=\"text-align: right;\">\n",
       "      <th></th>\n",
       "      <th>start</th>\n",
       "      <th>end</th>\n",
       "      <th>text</th>\n",
       "      <th>language</th>\n",
       "      <th>created_at</th>\n",
       "      <th>speaker</th>\n",
       "      <th>absolute_start_time</th>\n",
       "      <th>absolute_end_time</th>\n",
       "    </tr>\n",
       "  </thead>\n",
       "  <tbody>\n",
       "    <tr>\n",
       "      <th>0</th>\n",
       "      <td>0.00</td>\n",
       "      <td>0.50</td>\n",
       "      <td>Okay.</td>\n",
       "      <td>None</td>\n",
       "      <td>None</td>\n",
       "      <td>None</td>\n",
       "      <td>2025-04-21T15:48:52.368028+00:00</td>\n",
       "      <td>2025-04-21T15:48:52.868028+00:00</td>\n",
       "    </tr>\n",
       "    <tr>\n",
       "      <th>1</th>\n",
       "      <td>3.12</td>\n",
       "      <td>5.12</td>\n",
       "      <td>And that's it.</td>\n",
       "      <td>None</td>\n",
       "      <td>None</td>\n",
       "      <td>None</td>\n",
       "      <td>2025-04-21T15:49:03.008391+00:00</td>\n",
       "      <td>2025-04-21T15:49:05.008391+00:00</td>\n",
       "    </tr>\n",
       "    <tr>\n",
       "      <th>2</th>\n",
       "      <td>5.12</td>\n",
       "      <td>9.01</td>\n",
       "      <td>It's really cool.</td>\n",
       "      <td>None</td>\n",
       "      <td>None</td>\n",
       "      <td>None</td>\n",
       "      <td>2025-04-21T15:49:05.008391+00:00</td>\n",
       "      <td>2025-04-21T15:49:08.898391+00:00</td>\n",
       "    </tr>\n",
       "  </tbody>\n",
       "</table>\n",
       "</div>"
      ],
      "text/plain": [
       "                 start                  end                text language created_at speaker               absolute_start_time                 absolute_end_time\n",
       "0                 0.00                 0.50               Okay.     None       None    None  2025-04-21T15:48:52.368028+00:00  2025-04-21T15:48:52.868028+00:00\n",
       "1                 3.12                 5.12      And that's it.     None       None    None  2025-04-21T15:49:03.008391+00:00  2025-04-21T15:49:05.008391+00:00\n",
       "2                 5.12                 9.01   It's really cool.     None       None    None  2025-04-21T15:49:05.008391+00:00  2025-04-21T15:49:08.898391+00:00"
      ]
     },
     "execution_count": 313,
     "metadata": {},
     "output_type": "execute_result"
    }
   ],
   "source": [
    "import pandas as pd\n",
    "pd.options.display.max_colwidth = 1000\n",
    "pd.set_option('display.max_colwidth', 1000)\n",
    "pd.set_option('display.max_rows', 1000)\n",
    "pd.set_option('display.max_columns', 1000)\n",
    "pd.set_option('display.width', 1000)\n",
    "pd.set_option('display.float_format', '{:20.2f}'.format)\n",
    "pd.set_option('display.max_colwidth', 1000)\n",
    "pd.set_option('display.max_rows', 1000)\n",
    "pd.set_option('display.max_columns', 1000)\n",
    "transcript = client.get_transcript(native_meeting_id=native_meeting_id,platform='google_meet')\n",
    "df = pd.DataFrame(transcript['segments'])#.sort_values(['created_at','start'])#.drop_duplicates('start',keep='last')\n",
    "df.sort_values('absolute_start_time').tail(5)"
   ]
  },
  {
   "cell_type": "code",
   "execution_count": 20,
   "metadata": {},
   "outputs": [
    {
     "data": {
      "text/html": [
       "<div>\n",
       "<style scoped>\n",
       "    .dataframe tbody tr th:only-of-type {\n",
       "        vertical-align: middle;\n",
       "    }\n",
       "\n",
       "    .dataframe tbody tr th {\n",
       "        vertical-align: top;\n",
       "    }\n",
       "\n",
       "    .dataframe thead th {\n",
       "        text-align: right;\n",
       "    }\n",
       "</style>\n",
       "<table border=\"1\" class=\"dataframe\">\n",
       "  <thead>\n",
       "    <tr style=\"text-align: right;\">\n",
       "      <th></th>\n",
       "    </tr>\n",
       "  </thead>\n",
       "  <tbody>\n",
       "  </tbody>\n",
       "</table>\n",
       "</div>"
      ],
      "text/plain": [
       "Empty DataFrame\n",
       "Columns: []\n",
       "Index: []"
      ]
     },
     "execution_count": 20,
     "metadata": {},
     "output_type": "execute_result"
    }
   ],
   "source": [
    "df"
   ]
  },
  {
   "cell_type": "code",
   "execution_count": null,
   "metadata": {},
   "outputs": [],
   "source": []
  }
 ],
 "metadata": {
  "kernelspec": {
   "display_name": "langchain",
   "language": "python",
   "name": "python3"
  },
  "language_info": {
   "codemirror_mode": {
    "name": "ipython",
    "version": 3
   },
   "file_extension": ".py",
   "mimetype": "text/x-python",
   "name": "python",
   "nbconvert_exporter": "python",
   "pygments_lexer": "ipython3",
   "version": "3.11.2"
  }
 },
 "nbformat": 4,
 "nbformat_minor": 2
}
