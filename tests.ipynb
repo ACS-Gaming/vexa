{
 "cells": [
  {
   "cell_type": "code",
   "execution_count": 1,
   "metadata": {},
   "outputs": [],
   "source": [
    "# Load environment variables from .env file\n",
    "from dotenv import load_dotenv\n",
    "\n",
    "# Load .env file\n",
    "load_dotenv()\n",
    "\n",
    "import os\n",
    "from vexa_client import VexaClient\n",
    "\n",
    "import os\n",
    "TOKEN = os.getenv('ADMIN_API_TOKEN')"
   ]
  },
  {
   "cell_type": "code",
   "execution_count": 2,
   "metadata": {},
   "outputs": [],
   "source": [
    "url = \"http://localhost:8056\""
   ]
  },
  {
   "cell_type": "code",
   "execution_count": 3,
   "metadata": {},
   "outputs": [],
   "source": [
    "admin_client = VexaClient(\n",
    "    base_url=url,\n",
    "    admin_key=TOKEN  # From docker-compose.yml\n",
    ")"
   ]
  },
  {
   "cell_type": "code",
   "execution_count": 4,
   "metadata": {},
   "outputs": [],
   "source": [
    "import random"
   ]
  },
  {
   "cell_type": "code",
   "execution_count": null,
   "metadata": {},
   "outputs": [],
   "source": []
  },
  {
   "cell_type": "code",
   "execution_count": 5,
   "metadata": {},
   "outputs": [
    {
     "name": "stdout",
     "output_type": "stream",
     "text": [
      "\n",
      "DEBUG: Making POST request to http://localhost:8056/admin/users\n",
      "DEBUG: Headers: {'Content-Type': 'application/json', 'X-Admin-API-Key': 'KJnl2jjk&'}\n",
      "DEBUG: Params: None\n",
      "DEBUG: JSON data: {'email': '628582@example.com', 'name': 'test'}\n",
      "DEBUG: Response status: 201\n",
      "DEBUG: Response headers: {'date': 'Thu, 17 Apr 2025 13:10:03 GMT, Thu, 17 Apr 2025 13:10:03 GMT', 'server': 'uvicorn, uvicorn', 'content-length': '110', 'content-type': 'application/json'}\n",
      "DEBUG: Response content: {\"email\":\"628582@example.com\",\"name\":\"test\",\"image_url\":null,\"id\":6,\"created_at\":\"2025-04-17T13:10:04.144889\"}...\n"
     ]
    }
   ],
   "source": [
    "new_user = admin_client.create_user(email=f\"{random.randint(1, 1000000)}@example.com\", name=\"test\")\n"
   ]
  },
  {
   "cell_type": "code",
   "execution_count": 6,
   "metadata": {},
   "outputs": [],
   "source": [
    "\n",
    "user_id = new_user['id']"
   ]
  },
  {
   "cell_type": "code",
   "execution_count": 7,
   "metadata": {},
   "outputs": [
    {
     "data": {
      "text/plain": [
       "6"
      ]
     },
     "execution_count": 7,
     "metadata": {},
     "output_type": "execute_result"
    }
   ],
   "source": [
    "user_id"
   ]
  },
  {
   "cell_type": "code",
   "execution_count": 8,
   "metadata": {},
   "outputs": [
    {
     "name": "stdout",
     "output_type": "stream",
     "text": [
      "\n",
      "DEBUG: Making POST request to http://localhost:8056/admin/users/6/tokens\n",
      "DEBUG: Headers: {'Content-Type': 'application/json', 'X-Admin-API-Key': 'KJnl2jjk&'}\n",
      "DEBUG: Params: None\n",
      "DEBUG: JSON data: None\n",
      "DEBUG: Response status: 201\n",
      "DEBUG: Response headers: {'date': 'Thu, 17 Apr 2025 13:10:03 GMT, Thu, 17 Apr 2025 13:10:03 GMT', 'server': 'uvicorn, uvicorn', 'content-length': '113', 'content-type': 'application/json'}\n",
      "DEBUG: Response content: {\"user_id\":6,\"id\":6,\"token\":\"XUI4Cqp83pGlde14ddUeCfhyazPJmJZKdDGn3dBw\",\"created_at\":\"2025-04-17T13:10:04.182095\"}...\n"
     ]
    }
   ],
   "source": [
    "token_info = admin_client.create_token(user_id=user_id)\n",
    "user_api_key = token_info['token']"
   ]
  },
  {
   "cell_type": "code",
   "execution_count": 9,
   "metadata": {},
   "outputs": [
    {
     "data": {
      "text/plain": [
       "'XUI4Cqp83pGlde14ddUeCfhyazPJmJZKdDGn3dBw'"
      ]
     },
     "execution_count": 9,
     "metadata": {},
     "output_type": "execute_result"
    }
   ],
   "source": [
    "user_api_key"
   ]
  },
  {
   "cell_type": "code",
   "execution_count": 10,
   "metadata": {},
   "outputs": [],
   "source": [
    "client = VexaClient(\n",
    "    base_url=url,\n",
    "    api_key=user_api_key\n",
    ")"
   ]
  },
  {
   "cell_type": "code",
   "execution_count": 11,
   "metadata": {},
   "outputs": [],
   "source": [
    "meeting_url=\"https://meet.google.com/qcm-yvzc-izx\"\n",
    "native_meeting_id = meeting_url.split(\"/\")[-1]  # \"xyz-abcd-123\""
   ]
  },
  {
   "cell_type": "code",
   "execution_count": 12,
   "metadata": {},
   "outputs": [
    {
     "name": "stdout",
     "output_type": "stream",
     "text": [
      "\n",
      "DEBUG: Making POST request to http://localhost:8056/bots\n",
      "DEBUG: Headers: {'Content-Type': 'application/json', 'X-API-Key': 'XUI4Cqp83pGlde14ddUeCfhyazPJmJZKdDGn3dBw'}\n",
      "DEBUG: Params: None\n",
      "DEBUG: JSON data: {'platform': 'google_meet', 'native_meeting_id': 'qcm-yvzc-izx', 'bot_name': 'MyBot'}\n"
     ]
    },
    {
     "name": "stdout",
     "output_type": "stream",
     "text": [
      "DEBUG: Response status: 201\n",
      "DEBUG: Response headers: {'date': 'Thu, 17 Apr 2025 13:10:03 GMT, Thu, 17 Apr 2025 13:10:03 GMT', 'server': 'uvicorn, uvicorn', 'content-length': '391', 'content-type': 'application/json'}\n",
      "DEBUG: Response content: {\"id\":6,\"user_id\":6,\"platform\":\"google_meet\",\"native_meeting_id\":\"qcm-yvzc-izx\",\"constructed_meeting_url\":\"https://meet.google.com/qcm-yvzc-izx\",\"status\":\"active\",\"bot_container_id\":\"3f8a61bbdfab0bb2582cb90598dc845034f8e1f48fff5d821b6ff435a3e971eb\",\"start_time\":\"2025-04-17T13:10:04.661610\",\"end_time\":null,\"created_at\":\"2025-04-17T13:10:04.300395\",\"updated_at\":\"2025-04-17T13:10:04.329552\"}...\n"
     ]
    }
   ],
   "source": [
    "meeting_info = client.request_bot(\n",
    "    platform=\"google_meet\",\n",
    "    native_meeting_id=native_meeting_id,\n",
    "    bot_name=\"MyBot\"\n",
    ")\n",
    "meeting_id = meeting_info['id']"
   ]
  },
  {
   "cell_type": "code",
   "execution_count": 13,
   "metadata": {},
   "outputs": [
    {
     "name": "stdout",
     "output_type": "stream",
     "text": [
      "\n",
      "DEBUG: Making GET request to http://localhost:8056/meetings\n",
      "DEBUG: Headers: {'Content-Type': 'application/json', 'X-API-Key': 'XUI4Cqp83pGlde14ddUeCfhyazPJmJZKdDGn3dBw'}\n",
      "DEBUG: Params: None\n",
      "DEBUG: JSON data: None\n",
      "DEBUG: Response status: 200\n",
      "DEBUG: Response headers: {'date': 'Thu, 17 Apr 2025 13:10:04 GMT, Thu, 17 Apr 2025 13:10:04 GMT', 'server': 'uvicorn, uvicorn', 'content-length': '406', 'content-type': 'application/json'}\n",
      "DEBUG: Response content: {\"meetings\":[{\"id\":6,\"user_id\":6,\"platform\":\"google_meet\",\"native_meeting_id\":\"qcm-yvzc-izx\",\"constructed_meeting_url\":\"https://meet.google.com/qcm-yvzc-izx\",\"status\":\"active\",\"bot_container_id\":\"3f8a61bbdfab0bb2582cb90598dc845034f8e1f48fff5d821b6ff435a3e971eb\",\"start_time\":\"2025-04-17T13:10:04.661610\",\"end_time\":null,\"created_at\":\"2025-04-17T13:10:04.300395\",\"updated_at\":\"2025-04-17T13:10:04.329552\"}]}...\n"
     ]
    }
   ],
   "source": [
    "meetings = client.get_meetings()"
   ]
  },
  {
   "cell_type": "code",
   "execution_count": 14,
   "metadata": {},
   "outputs": [
    {
     "data": {
      "text/plain": [
       "6"
      ]
     },
     "execution_count": 14,
     "metadata": {},
     "output_type": "execute_result"
    }
   ],
   "source": [
    "meeting_id"
   ]
  },
  {
   "cell_type": "code",
   "execution_count": 15,
   "metadata": {},
   "outputs": [],
   "source": [
    "import pandas as pd"
   ]
  },
  {
   "cell_type": "code",
   "execution_count": 16,
   "metadata": {},
   "outputs": [],
   "source": [
    "pd.options.display.max_colwidth = 1000\n",
    "pd.set_option('display.max_colwidth', 1000)\n",
    "pd.set_option('display.max_rows', 1000)\n",
    "pd.set_option('display.max_columns', 1000)\n",
    "pd.set_option('display.width', 1000)\n",
    "pd.set_option('display.float_format', '{:20.2f}'.format)\n",
    "pd.set_option('display.max_colwidth', 1000)\n",
    "pd.set_option('display.max_rows', 1000)\n",
    "pd.set_option('display.max_columns', 1000)"
   ]
  },
  {
   "cell_type": "code",
   "execution_count": 160,
   "metadata": {},
   "outputs": [
    {
     "name": "stdout",
     "output_type": "stream",
     "text": [
      "\n",
      "DEBUG: Making GET request to http://localhost:8056/transcripts/google_meet/qcm-yvzc-izx\n",
      "DEBUG: Headers: {'Content-Type': 'application/json', 'X-API-Key': 'XUI4Cqp83pGlde14ddUeCfhyazPJmJZKdDGn3dBw'}\n",
      "DEBUG: Params: None\n",
      "DEBUG: JSON data: None\n",
      "DEBUG: Response status: 200\n",
      "DEBUG: Response headers: {'date': 'Thu, 17 Apr 2025 13:14:47 GMT, Thu, 17 Apr 2025 13:14:47 GMT', 'server': 'uvicorn, uvicorn', 'content-length': '9098', 'content-type': 'application/json'}\n",
      "DEBUG: Response content: {\"id\":6,\"platform\":\"google_meet\",\"native_meeting_id\":\"qcm-yvzc-izx\",\"constructed_meeting_url\":\"https://meet.google.com/qcm-yvzc-izx\",\"status\":\"active\",\"start_time\":\"2025-04-17T13:10:04.661610\",\"end_time\":null,\"segments\":[{\"start\":0.0,\"end\":11.14,\"text\":\" загрузили сервер, и у нас по идее теперь будет новая\",\"language\":null,\"created_at\":null,\"speaker\":null,\"absolute_start_time\":\"2025-04-17T13:10:04.664985+00:00\",\"absolute_end_time\":\"2025-04-17T13:10:15.804985+00:00\"},{\"start\":1.022,\"end\":3.022,\"t...\n"
     ]
    }
   ],
   "source": [
    "\n",
    "\n",
    "transcript = client.get_transcript(native_meeting_id=native_meeting_id,platform='google_meet')\n",
    "df = pd.DataFrame(transcript['segments'])#.sort_values(['created_at','start'])#.drop_duplicates('start',keep='last')"
   ]
  },
  {
   "cell_type": "code",
   "execution_count": 161,
   "metadata": {},
   "outputs": [
    {
     "data": {
      "text/html": [
       "<div>\n",
       "<style scoped>\n",
       "    .dataframe tbody tr th:only-of-type {\n",
       "        vertical-align: middle;\n",
       "    }\n",
       "\n",
       "    .dataframe tbody tr th {\n",
       "        vertical-align: top;\n",
       "    }\n",
       "\n",
       "    .dataframe thead th {\n",
       "        text-align: right;\n",
       "    }\n",
       "</style>\n",
       "<table border=\"1\" class=\"dataframe\">\n",
       "  <thead>\n",
       "    <tr style=\"text-align: right;\">\n",
       "      <th></th>\n",
       "      <th>start</th>\n",
       "      <th>end</th>\n",
       "      <th>text</th>\n",
       "      <th>language</th>\n",
       "      <th>created_at</th>\n",
       "      <th>speaker</th>\n",
       "      <th>absolute_start_time</th>\n",
       "      <th>absolute_end_time</th>\n",
       "    </tr>\n",
       "  </thead>\n",
       "  <tbody>\n",
       "    <tr>\n",
       "      <th>0</th>\n",
       "      <td>0.00</td>\n",
       "      <td>11.14</td>\n",
       "      <td>загрузили сервер, и у нас по идее теперь будет новая</td>\n",
       "      <td>None</td>\n",
       "      <td>None</td>\n",
       "      <td>None</td>\n",
       "      <td>2025-04-17T13:10:04.664985+00:00</td>\n",
       "      <td>2025-04-17T13:10:15.804985+00:00</td>\n",
       "    </tr>\n",
       "    <tr>\n",
       "      <th>1</th>\n",
       "      <td>1.02</td>\n",
       "      <td>3.02</td>\n",
       "      <td>Ну пошли смотреть и что делать</td>\n",
       "      <td>None</td>\n",
       "      <td>2025-04-17T13:12:11.320183</td>\n",
       "      <td>None</td>\n",
       "      <td>2025-04-17T13:10:05.686985+00:00</td>\n",
       "      <td>2025-04-17T13:10:07.686985+00:00</td>\n",
       "    </tr>\n",
       "    <tr>\n",
       "      <th>2</th>\n",
       "      <td>3.02</td>\n",
       "      <td>8.84</td>\n",
       "      <td>Абсолютно таймстэмп.</td>\n",
       "      <td>None</td>\n",
       "      <td>2025-04-17T13:12:11.319743</td>\n",
       "      <td>None</td>\n",
       "      <td>2025-04-17T13:10:07.686985+00:00</td>\n",
       "      <td>2025-04-17T13:10:13.506985+00:00</td>\n",
       "    </tr>\n",
       "    <tr>\n",
       "      <th>3</th>\n",
       "      <td>5.62</td>\n",
       "      <td>7.52</td>\n",
       "      <td>Абсолютно таймстэм</td>\n",
       "      <td>None</td>\n",
       "      <td>2025-04-17T13:11:01.225746</td>\n",
       "      <td>None</td>\n",
       "      <td>2025-04-17T13:10:10.286985+00:00</td>\n",
       "      <td>2025-04-17T13:10:12.187985+00:00</td>\n",
       "    </tr>\n",
       "    <tr>\n",
       "      <th>4</th>\n",
       "      <td>8.84</td>\n",
       "      <td>10.77</td>\n",
       "      <td>Вот.</td>\n",
       "      <td>None</td>\n",
       "      <td>2025-04-17T13:11:11.243707</td>\n",
       "      <td>None</td>\n",
       "      <td>2025-04-17T13:10:13.506985+00:00</td>\n",
       "      <td>2025-04-17T13:10:15.438985+00:00</td>\n",
       "    </tr>\n",
       "    <tr>\n",
       "      <th>5</th>\n",
       "      <td>8.89</td>\n",
       "      <td>12.89</td>\n",
       "      <td>Вот. Ну окей, 12, 10.</td>\n",
       "      <td>None</td>\n",
       "      <td>2025-04-17T13:12:11.320019</td>\n",
       "      <td>None</td>\n",
       "      <td>2025-04-17T13:10:13.556985+00:00</td>\n",
       "      <td>2025-04-17T13:10:17.556985+00:00</td>\n",
       "    </tr>\n",
       "    <tr>\n",
       "      <th>6</th>\n",
       "      <td>11.14</td>\n",
       "      <td>13.37</td>\n",
       "      <td>история.</td>\n",
       "      <td>None</td>\n",
       "      <td>2025-04-17T13:12:31.342428</td>\n",
       "      <td>None</td>\n",
       "      <td>2025-04-17T13:10:15.804985+00:00</td>\n",
       "      <td>2025-04-17T13:10:18.038985+00:00</td>\n",
       "    </tr>\n",
       "    <tr>\n",
       "      <th>7</th>\n",
       "      <td>12.24</td>\n",
       "      <td>18.20</td>\n",
       "      <td>История. С нуля.</td>\n",
       "      <td>None</td>\n",
       "      <td>None</td>\n",
       "      <td>None</td>\n",
       "      <td>2025-04-17T13:10:16.904985+00:00</td>\n",
       "      <td>2025-04-17T13:10:22.864985+00:00</td>\n",
       "    </tr>\n",
       "    <tr>\n",
       "      <th>8</th>\n",
       "      <td>12.89</td>\n",
       "      <td>14.89</td>\n",
       "      <td>Окей, а вот...</td>\n",
       "      <td>None</td>\n",
       "      <td>2025-04-17T13:11:11.243941</td>\n",
       "      <td>None</td>\n",
       "      <td>2025-04-17T13:10:17.556985+00:00</td>\n",
       "      <td>2025-04-17T13:10:19.556985+00:00</td>\n",
       "    </tr>\n",
       "    <tr>\n",
       "      <th>9</th>\n",
       "      <td>13.58</td>\n",
       "      <td>15.90</td>\n",
       "      <td>Окей, ну хорошо.</td>\n",
       "      <td>None</td>\n",
       "      <td>2025-04-17T13:12:11.320311</td>\n",
       "      <td>None</td>\n",
       "      <td>2025-04-17T13:10:18.246985+00:00</td>\n",
       "      <td>2025-04-17T13:10:20.566985+00:00</td>\n",
       "    </tr>\n",
       "    <tr>\n",
       "      <th>10</th>\n",
       "      <td>18.89</td>\n",
       "      <td>39.49</td>\n",
       "      <td>уже делает sortValues, absoluteTimeValues, absoluteStartTime</td>\n",
       "      <td>None</td>\n",
       "      <td>None</td>\n",
       "      <td>None</td>\n",
       "      <td>2025-04-17T13:10:23.554985+00:00</td>\n",
       "      <td>2025-04-17T13:10:44.154985+00:00</td>\n",
       "    </tr>\n",
       "    <tr>\n",
       "      <th>11</th>\n",
       "      <td>19.20</td>\n",
       "      <td>21.20</td>\n",
       "      <td>О, можно сделать сортвель.</td>\n",
       "      <td>None</td>\n",
       "      <td>2025-04-17T13:12:41.356578</td>\n",
       "      <td>None</td>\n",
       "      <td>2025-04-17T13:10:23.864985+00:00</td>\n",
       "      <td>2025-04-17T13:10:25.864985+00:00</td>\n",
       "    </tr>\n",
       "    <tr>\n",
       "      <th>12</th>\n",
       "      <td>19.66</td>\n",
       "      <td>22.66</td>\n",
       "      <td>В чём причина этого база безобразия?</td>\n",
       "      <td>None</td>\n",
       "      <td>2025-04-17T13:12:11.320602</td>\n",
       "      <td>None</td>\n",
       "      <td>2025-04-17T13:10:24.326985+00:00</td>\n",
       "      <td>2025-04-17T13:10:27.326985+00:00</td>\n",
       "    </tr>\n",
       "    <tr>\n",
       "      <th>13</th>\n",
       "      <td>19.71</td>\n",
       "      <td>20.25</td>\n",
       "      <td>Чё?</td>\n",
       "      <td>None</td>\n",
       "      <td>2025-04-17T13:11:21.262427</td>\n",
       "      <td>None</td>\n",
       "      <td>2025-04-17T13:10:24.376985+00:00</td>\n",
       "      <td>2025-04-17T13:10:24.911985+00:00</td>\n",
       "    </tr>\n",
       "    <tr>\n",
       "      <th>14</th>\n",
       "      <td>22.66</td>\n",
       "      <td>25.91</td>\n",
       "      <td>В чём причина?</td>\n",
       "      <td>None</td>\n",
       "      <td>2025-04-17T13:11:21.262670</td>\n",
       "      <td>None</td>\n",
       "      <td>2025-04-17T13:10:27.326985+00:00</td>\n",
       "      <td>2025-04-17T13:10:30.576985+00:00</td>\n",
       "    </tr>\n",
       "    <tr>\n",
       "      <th>15</th>\n",
       "      <td>25.17</td>\n",
       "      <td>33.09</td>\n",
       "      <td>В чем причина? Это, конечно же, работа системы поросенка.</td>\n",
       "      <td>None</td>\n",
       "      <td>2025-04-17T13:12:11.320540</td>\n",
       "      <td>None</td>\n",
       "      <td>2025-04-17T13:10:29.836985+00:00</td>\n",
       "      <td>2025-04-17T13:10:37.756985+00:00</td>\n",
       "    </tr>\n",
       "    <tr>\n",
       "      <th>16</th>\n",
       "      <td>33.09</td>\n",
       "      <td>38.09</td>\n",
       "      <td>А поросёнки, они самые заботливые в мире слоны.</td>\n",
       "      <td>None</td>\n",
       "      <td>2025-04-17T13:12:11.320251</td>\n",
       "      <td>None</td>\n",
       "      <td>2025-04-17T13:10:37.756985+00:00</td>\n",
       "      <td>2025-04-17T13:10:42.756985+00:00</td>\n",
       "    </tr>\n",
       "    <tr>\n",
       "      <th>17</th>\n",
       "      <td>39.49</td>\n",
       "      <td>41.49</td>\n",
       "      <td>есть ничего нету</td>\n",
       "      <td>None</td>\n",
       "      <td>None</td>\n",
       "      <td>None</td>\n",
       "      <td>2025-04-17T13:10:44.154985+00:00</td>\n",
       "      <td>2025-04-17T13:10:46.154985+00:00</td>\n",
       "    </tr>\n",
       "    <tr>\n",
       "      <th>18</th>\n",
       "      <td>41.49</td>\n",
       "      <td>48.41</td>\n",
       "      <td>Да, но и оно не пошло вот тогда.</td>\n",
       "      <td>None</td>\n",
       "      <td>None</td>\n",
       "      <td>None</td>\n",
       "      <td>2025-04-17T13:10:46.154985+00:00</td>\n",
       "      <td>2025-04-17T13:10:53.074985+00:00</td>\n",
       "    </tr>\n",
       "    <tr>\n",
       "      <th>19</th>\n",
       "      <td>45.41</td>\n",
       "      <td>48.41</td>\n",
       "      <td>Да, но и оно не пошло вот тогда.</td>\n",
       "      <td>None</td>\n",
       "      <td>2025-04-17T13:13:11.404927</td>\n",
       "      <td>None</td>\n",
       "      <td>2025-04-17T13:10:50.074985+00:00</td>\n",
       "      <td>2025-04-17T13:10:53.074985+00:00</td>\n",
       "    </tr>\n",
       "    <tr>\n",
       "      <th>20</th>\n",
       "      <td>45.42</td>\n",
       "      <td>50.42</td>\n",
       "      <td>Но и здесь мы, конечно, видим результаты нашей работы</td>\n",
       "      <td>None</td>\n",
       "      <td>2025-04-17T13:12:11.319952</td>\n",
       "      <td>None</td>\n",
       "      <td>2025-04-17T13:10:50.080985+00:00</td>\n",
       "      <td>2025-04-17T13:10:55.080985+00:00</td>\n",
       "    </tr>\n",
       "    <tr>\n",
       "      <th>21</th>\n",
       "      <td>50.42</td>\n",
       "      <td>55.70</td>\n",
       "      <td>потому как именно эти результаты нашей работы выдают работу нашей работы.</td>\n",
       "      <td>None</td>\n",
       "      <td>2025-04-17T13:12:11.320392</td>\n",
       "      <td>None</td>\n",
       "      <td>2025-04-17T13:10:55.080985+00:00</td>\n",
       "      <td>2025-04-17T13:11:00.360985+00:00</td>\n",
       "    </tr>\n",
       "    <tr>\n",
       "      <th>22</th>\n",
       "      <td>55.70</td>\n",
       "      <td>57.95</td>\n",
       "      <td>Изобретательность</td>\n",
       "      <td>None</td>\n",
       "      <td>2025-04-17T13:12:01.302789</td>\n",
       "      <td>None</td>\n",
       "      <td>2025-04-17T13:11:00.360985+00:00</td>\n",
       "      <td>2025-04-17T13:11:02.618985+00:00</td>\n",
       "    </tr>\n",
       "    <tr>\n",
       "      <th>23</th>\n",
       "      <td>56.13</td>\n",
       "      <td>73.33</td>\n",
       "      <td>изобретательность нашей изобретательности ну и теперь мы попробуем сделать какую-нибудь бяку</td>\n",
       "      <td>None</td>\n",
       "      <td>2025-04-17T13:12:11.320463</td>\n",
       "      <td>None</td>\n",
       "      <td>2025-04-17T13:11:00.790985+00:00</td>\n",
       "      <td>2025-04-17T13:11:17.990985+00:00</td>\n",
       "    </tr>\n",
       "    <tr>\n",
       "      <th>24</th>\n",
       "      <td>57.95</td>\n",
       "      <td>59.95</td>\n",
       "      <td>Так, и что такое?</td>\n",
       "      <td>None</td>\n",
       "      <td>None</td>\n",
       "      <td>None</td>\n",
       "      <td>2025-04-17T13:11:02.618985+00:00</td>\n",
       "      <td>2025-04-17T13:11:04.618985+00:00</td>\n",
       "    </tr>\n",
       "    <tr>\n",
       "      <th>25</th>\n",
       "      <td>60.43</td>\n",
       "      <td>77.63</td>\n",
       "      <td>изобретательность нашей изобретательности ну и теперь мы попробуем сделать какую-нибудь бяку</td>\n",
       "      <td>None</td>\n",
       "      <td>2025-04-17T13:12:11.320092</td>\n",
       "      <td>None</td>\n",
       "      <td>2025-04-17T13:11:05.094985+00:00</td>\n",
       "      <td>2025-04-17T13:11:22.294985+00:00</td>\n",
       "    </tr>\n",
       "    <tr>\n",
       "      <th>26</th>\n",
       "      <td>61.81</td>\n",
       "      <td>80.58</td>\n",
       "      <td>После того, как я рестартировал сервер,</td>\n",
       "      <td>None</td>\n",
       "      <td>2025-04-17T13:13:41.438025</td>\n",
       "      <td>None</td>\n",
       "      <td>2025-04-17T13:11:06.474985+00:00</td>\n",
       "      <td>2025-04-17T13:11:25.244985+00:00</td>\n",
       "    </tr>\n",
       "    <tr>\n",
       "      <th>27</th>\n",
       "      <td>145.26</td>\n",
       "      <td>159.85</td>\n",
       "      <td>А это неправильно. Должно быть все здесь robust, а у нас оно все не robust.</td>\n",
       "      <td>None</td>\n",
       "      <td>None</td>\n",
       "      <td>None</td>\n",
       "      <td>2025-04-17T13:12:29.920985+00:00</td>\n",
       "      <td>2025-04-17T13:12:44.510985+00:00</td>\n",
       "    </tr>\n",
       "    <tr>\n",
       "      <th>28</th>\n",
       "      <td>159.85</td>\n",
       "      <td>163.55</td>\n",
       "      <td>А, смотри, robust.</td>\n",
       "      <td>None</td>\n",
       "      <td>None</td>\n",
       "      <td>None</td>\n",
       "      <td>2025-04-17T13:12:44.510985+00:00</td>\n",
       "      <td>2025-04-17T13:12:48.217985+00:00</td>\n",
       "    </tr>\n",
       "    <tr>\n",
       "      <th>29</th>\n",
       "      <td>161.75</td>\n",
       "      <td>163.75</td>\n",
       "      <td>А, смотри, Робаска.</td>\n",
       "      <td>None</td>\n",
       "      <td>None</td>\n",
       "      <td>None</td>\n",
       "      <td>2025-04-17T13:12:46.410985+00:00</td>\n",
       "      <td>2025-04-17T13:12:48.410985+00:00</td>\n",
       "    </tr>\n",
       "    <tr>\n",
       "      <th>30</th>\n",
       "      <td>163.75</td>\n",
       "      <td>176.95</td>\n",
       "      <td>Смотри, работает.</td>\n",
       "      <td>None</td>\n",
       "      <td>None</td>\n",
       "      <td>None</td>\n",
       "      <td>2025-04-17T13:12:48.410985+00:00</td>\n",
       "      <td>2025-04-17T13:13:01.610985+00:00</td>\n",
       "    </tr>\n",
       "    <tr>\n",
       "      <th>31</th>\n",
       "      <td>166.01</td>\n",
       "      <td>182.03</td>\n",
       "      <td>Смотри, работает. Там какие-то данные, видимо, потерялись. Почему?</td>\n",
       "      <td>None</td>\n",
       "      <td>None</td>\n",
       "      <td>None</td>\n",
       "      <td>2025-04-17T13:12:50.670985+00:00</td>\n",
       "      <td>2025-04-17T13:13:06.699985+00:00</td>\n",
       "    </tr>\n",
       "  </tbody>\n",
       "</table>\n",
       "</div>"
      ],
      "text/plain": [
       "                  start                  end                                                                                           text language                  created_at speaker               absolute_start_time                 absolute_end_time\n",
       "0                  0.00                11.14                                           загрузили сервер, и у нас по идее теперь будет новая     None                        None    None  2025-04-17T13:10:04.664985+00:00  2025-04-17T13:10:15.804985+00:00\n",
       "1                  1.02                 3.02                                                                 Ну пошли смотреть и что делать     None  2025-04-17T13:12:11.320183    None  2025-04-17T13:10:05.686985+00:00  2025-04-17T13:10:07.686985+00:00\n",
       "2                  3.02                 8.84                                                                           Абсолютно таймстэмп.     None  2025-04-17T13:12:11.319743    None  2025-04-17T13:10:07.686985+00:00  2025-04-17T13:10:13.506985+00:00\n",
       "3                  5.62                 7.52                                                                             Абсолютно таймстэм     None  2025-04-17T13:11:01.225746    None  2025-04-17T13:10:10.286985+00:00  2025-04-17T13:10:12.187985+00:00\n",
       "4                  8.84                10.77                                                                                           Вот.     None  2025-04-17T13:11:11.243707    None  2025-04-17T13:10:13.506985+00:00  2025-04-17T13:10:15.438985+00:00\n",
       "5                  8.89                12.89                                                                          Вот. Ну окей, 12, 10.     None  2025-04-17T13:12:11.320019    None  2025-04-17T13:10:13.556985+00:00  2025-04-17T13:10:17.556985+00:00\n",
       "6                 11.14                13.37                                                                                       история.     None  2025-04-17T13:12:31.342428    None  2025-04-17T13:10:15.804985+00:00  2025-04-17T13:10:18.038985+00:00\n",
       "7                 12.24                18.20                                                                               История. С нуля.     None                        None    None  2025-04-17T13:10:16.904985+00:00  2025-04-17T13:10:22.864985+00:00\n",
       "8                 12.89                14.89                                                                                 Окей, а вот...     None  2025-04-17T13:11:11.243941    None  2025-04-17T13:10:17.556985+00:00  2025-04-17T13:10:19.556985+00:00\n",
       "9                 13.58                15.90                                                                               Окей, ну хорошо.     None  2025-04-17T13:12:11.320311    None  2025-04-17T13:10:18.246985+00:00  2025-04-17T13:10:20.566985+00:00\n",
       "10                18.89                39.49                                   уже делает sortValues, absoluteTimeValues, absoluteStartTime     None                        None    None  2025-04-17T13:10:23.554985+00:00  2025-04-17T13:10:44.154985+00:00\n",
       "11                19.20                21.20                                                                     О, можно сделать сортвель.     None  2025-04-17T13:12:41.356578    None  2025-04-17T13:10:23.864985+00:00  2025-04-17T13:10:25.864985+00:00\n",
       "12                19.66                22.66                                                           В чём причина этого база безобразия?     None  2025-04-17T13:12:11.320602    None  2025-04-17T13:10:24.326985+00:00  2025-04-17T13:10:27.326985+00:00\n",
       "13                19.71                20.25                                                                                            Чё?     None  2025-04-17T13:11:21.262427    None  2025-04-17T13:10:24.376985+00:00  2025-04-17T13:10:24.911985+00:00\n",
       "14                22.66                25.91                                                                                 В чём причина?     None  2025-04-17T13:11:21.262670    None  2025-04-17T13:10:27.326985+00:00  2025-04-17T13:10:30.576985+00:00\n",
       "15                25.17                33.09                                      В чем причина? Это, конечно же, работа системы поросенка.     None  2025-04-17T13:12:11.320540    None  2025-04-17T13:10:29.836985+00:00  2025-04-17T13:10:37.756985+00:00\n",
       "16                33.09                38.09                                                А поросёнки, они самые заботливые в мире слоны.     None  2025-04-17T13:12:11.320251    None  2025-04-17T13:10:37.756985+00:00  2025-04-17T13:10:42.756985+00:00\n",
       "17                39.49                41.49                                                                               есть ничего нету     None                        None    None  2025-04-17T13:10:44.154985+00:00  2025-04-17T13:10:46.154985+00:00\n",
       "18                41.49                48.41                                                               Да, но и оно не пошло вот тогда.     None                        None    None  2025-04-17T13:10:46.154985+00:00  2025-04-17T13:10:53.074985+00:00\n",
       "19                45.41                48.41                                                               Да, но и оно не пошло вот тогда.     None  2025-04-17T13:13:11.404927    None  2025-04-17T13:10:50.074985+00:00  2025-04-17T13:10:53.074985+00:00\n",
       "20                45.42                50.42                                          Но и здесь мы, конечно, видим результаты нашей работы     None  2025-04-17T13:12:11.319952    None  2025-04-17T13:10:50.080985+00:00  2025-04-17T13:10:55.080985+00:00\n",
       "21                50.42                55.70                      потому как именно эти результаты нашей работы выдают работу нашей работы.     None  2025-04-17T13:12:11.320392    None  2025-04-17T13:10:55.080985+00:00  2025-04-17T13:11:00.360985+00:00\n",
       "22                55.70                57.95                                                                              Изобретательность     None  2025-04-17T13:12:01.302789    None  2025-04-17T13:11:00.360985+00:00  2025-04-17T13:11:02.618985+00:00\n",
       "23                56.13                73.33   изобретательность нашей изобретательности ну и теперь мы попробуем сделать какую-нибудь бяку     None  2025-04-17T13:12:11.320463    None  2025-04-17T13:11:00.790985+00:00  2025-04-17T13:11:17.990985+00:00\n",
       "24                57.95                59.95                                                                              Так, и что такое?     None                        None    None  2025-04-17T13:11:02.618985+00:00  2025-04-17T13:11:04.618985+00:00\n",
       "25                60.43                77.63   изобретательность нашей изобретательности ну и теперь мы попробуем сделать какую-нибудь бяку     None  2025-04-17T13:12:11.320092    None  2025-04-17T13:11:05.094985+00:00  2025-04-17T13:11:22.294985+00:00\n",
       "26                61.81                80.58                                                        После того, как я рестартировал сервер,     None  2025-04-17T13:13:41.438025    None  2025-04-17T13:11:06.474985+00:00  2025-04-17T13:11:25.244985+00:00\n",
       "27               145.26               159.85                    А это неправильно. Должно быть все здесь robust, а у нас оно все не robust.     None                        None    None  2025-04-17T13:12:29.920985+00:00  2025-04-17T13:12:44.510985+00:00\n",
       "28               159.85               163.55                                                                             А, смотри, robust.     None                        None    None  2025-04-17T13:12:44.510985+00:00  2025-04-17T13:12:48.217985+00:00\n",
       "29               161.75               163.75                                                                            А, смотри, Робаска.     None                        None    None  2025-04-17T13:12:46.410985+00:00  2025-04-17T13:12:48.410985+00:00\n",
       "30               163.75               176.95                                                                              Смотри, работает.     None                        None    None  2025-04-17T13:12:48.410985+00:00  2025-04-17T13:13:01.610985+00:00\n",
       "31               166.01               182.03                             Смотри, работает. Там какие-то данные, видимо, потерялись. Почему?     None                        None    None  2025-04-17T13:12:50.670985+00:00  2025-04-17T13:13:06.699985+00:00"
      ]
     },
     "execution_count": 161,
     "metadata": {},
     "output_type": "execute_result"
    }
   ],
   "source": [
    "df.sort_values('absolute_start_time')"
   ]
  },
  {
   "cell_type": "code",
   "execution_count": 20,
   "metadata": {},
   "outputs": [
    {
     "data": {
      "text/html": [
       "<div>\n",
       "<style scoped>\n",
       "    .dataframe tbody tr th:only-of-type {\n",
       "        vertical-align: middle;\n",
       "    }\n",
       "\n",
       "    .dataframe tbody tr th {\n",
       "        vertical-align: top;\n",
       "    }\n",
       "\n",
       "    .dataframe thead th {\n",
       "        text-align: right;\n",
       "    }\n",
       "</style>\n",
       "<table border=\"1\" class=\"dataframe\">\n",
       "  <thead>\n",
       "    <tr style=\"text-align: right;\">\n",
       "      <th></th>\n",
       "    </tr>\n",
       "  </thead>\n",
       "  <tbody>\n",
       "  </tbody>\n",
       "</table>\n",
       "</div>"
      ],
      "text/plain": [
       "Empty DataFrame\n",
       "Columns: []\n",
       "Index: []"
      ]
     },
     "execution_count": 20,
     "metadata": {},
     "output_type": "execute_result"
    }
   ],
   "source": [
    "df"
   ]
  },
  {
   "cell_type": "code",
   "execution_count": null,
   "metadata": {},
   "outputs": [],
   "source": []
  }
 ],
 "metadata": {
  "kernelspec": {
   "display_name": "langchain",
   "language": "python",
   "name": "langchain"
  },
  "language_info": {
   "codemirror_mode": {
    "name": "ipython",
    "version": 3
   },
   "file_extension": ".py",
   "mimetype": "text/x-python",
   "name": "python",
   "nbconvert_exporter": "python",
   "pygments_lexer": "ipython3",
   "version": "3.11.2"
  }
 },
 "nbformat": 4,
 "nbformat_minor": 2
}
