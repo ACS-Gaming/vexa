{
 "cells": [
  {
   "cell_type": "code",
   "execution_count": 1,
   "metadata": {},
   "outputs": [],
   "source": [
    "# Load environment variables from .env file\n",
    "from dotenv import load_dotenv\n",
    "\n",
    "# Load .env file\n",
    "load_dotenv()\n",
    "\n",
    "import os\n",
    "from vexa_client import VexaClient\n",
    "\n",
    "import os\n",
    "TOKEN = os.getenv('ADMIN_API_TOKEN')"
   ]
  },
  {
   "cell_type": "code",
   "execution_count": 2,
   "metadata": {},
   "outputs": [],
   "source": [
    "url = \"http://localhost:8056\""
   ]
  },
  {
   "cell_type": "code",
   "execution_count": 3,
   "metadata": {},
   "outputs": [],
   "source": [
    "admin_client = VexaClient(\n",
    "    base_url=url,\n",
    "    admin_key=TOKEN  # From docker-compose.yml\n",
    ")"
   ]
  },
  {
   "cell_type": "code",
   "execution_count": 4,
   "metadata": {},
   "outputs": [],
   "source": [
    "import random"
   ]
  },
  {
   "cell_type": "code",
   "execution_count": null,
   "metadata": {},
   "outputs": [],
   "source": []
  },
  {
   "cell_type": "code",
   "execution_count": 5,
   "metadata": {},
   "outputs": [
    {
     "name": "stdout",
     "output_type": "stream",
     "text": [
      "\n",
      "DEBUG: Making POST request to http://localhost:8056/admin/users\n",
      "DEBUG: Headers: {'Content-Type': 'application/json', 'X-Admin-API-Key': 'lkwnekf68&IJBKb7'}\n",
      "DEBUG: Params: None\n",
      "DEBUG: JSON data: {'email': '743471@example.com', 'name': 'test'}\n",
      "DEBUG: Response status: 201\n",
      "DEBUG: Response headers: {'date': 'Tue, 22 Apr 2025 11:41:17 GMT, Tue, 22 Apr 2025 11:41:17 GMT', 'server': 'uvicorn, uvicorn', 'content-length': '110', 'content-type': 'application/json'}\n",
      "DEBUG: Response content: {\"email\":\"743471@example.com\",\"name\":\"test\",\"image_url\":null,\"id\":8,\"created_at\":\"2025-04-22T11:41:17.849256\"}...\n"
     ]
    }
   ],
   "source": [
    "new_user = admin_client.create_user(email=f\"{random.randint(1, 1000000)}@example.com\", name=\"test\")\n"
   ]
  },
  {
   "cell_type": "code",
   "execution_count": 6,
   "metadata": {},
   "outputs": [],
   "source": [
    "\n",
    "user_id = new_user['id']"
   ]
  },
  {
   "cell_type": "code",
   "execution_count": 7,
   "metadata": {},
   "outputs": [
    {
     "data": {
      "text/plain": [
       "8"
      ]
     },
     "execution_count": 7,
     "metadata": {},
     "output_type": "execute_result"
    }
   ],
   "source": [
    "user_id"
   ]
  },
  {
   "cell_type": "code",
   "execution_count": 13,
   "metadata": {},
   "outputs": [
    {
     "name": "stdout",
     "output_type": "stream",
     "text": [
      "\n",
      "DEBUG: Making POST request to http://localhost:8056/admin/users/8/tokens\n",
      "DEBUG: Headers: {'Content-Type': 'application/json', 'X-Admin-API-Key': 'lkwnekf68&IJBKb7'}\n",
      "DEBUG: Params: None\n",
      "DEBUG: JSON data: None\n",
      "DEBUG: Response status: 201\n",
      "DEBUG: Response headers: {'date': 'Tue, 22 Apr 2025 11:41:36 GMT, Tue, 22 Apr 2025 11:41:36 GMT', 'server': 'uvicorn, uvicorn', 'content-length': '114', 'content-type': 'application/json'}\n",
      "DEBUG: Response content: {\"user_id\":8,\"id\":46,\"token\":\"iDwbpzUxW5QCmmKRsaN04yZUnz9LYow56lOTa4Rg\",\"created_at\":\"2025-04-22T11:41:36.623659\"}...\n"
     ]
    }
   ],
   "source": [
    "token_info = admin_client.create_token(user_id=user_id)\n",
    "user_api_key = token_info['token']"
   ]
  },
  {
   "cell_type": "code",
   "execution_count": 14,
   "metadata": {},
   "outputs": [],
   "source": [
    "#user_api_key = ''"
   ]
  },
  {
   "cell_type": "code",
   "execution_count": 15,
   "metadata": {},
   "outputs": [],
   "source": [
    "client = VexaClient(\n",
    "    base_url=url,\n",
    "    api_key=user_api_key\n",
    ")"
   ]
  },
  {
   "cell_type": "code",
   "execution_count": 16,
   "metadata": {},
   "outputs": [],
   "source": [
    "meeting_url=\"https://meet.google.com/hdn-ubcg-jkq\"\n",
    "native_meeting_id = meeting_url.split(\"/\")[-1]  # \"xyz-abcd-123\""
   ]
  },
  {
   "cell_type": "code",
   "execution_count": 17,
   "metadata": {},
   "outputs": [
    {
     "name": "stdout",
     "output_type": "stream",
     "text": [
      "\n",
      "DEBUG: Making POST request to http://localhost:8056/bots\n",
      "DEBUG: Headers: {'Content-Type': 'application/json', 'X-API-Key': 'iDwbpzUxW5QCmmKRsaN04yZUnz9LYow56lOTa4Rg'}\n",
      "DEBUG: Params: None\n",
      "DEBUG: JSON data: {'platform': 'google_meet', 'native_meeting_id': 'hdn-ubcg-jkq', 'bot_name': 'Vexa', 'task': 'transcribe'}\n",
      "DEBUG: Response status: 201\n",
      "DEBUG: Response headers: {'date': 'Tue, 22 Apr 2025 11:41:42 GMT, Tue, 22 Apr 2025 11:41:42 GMT', 'server': 'uvicorn, uvicorn', 'content-length': '392', 'content-type': 'application/json'}\n",
      "DEBUG: Response content: {\"id\":37,\"user_id\":8,\"platform\":\"google_meet\",\"native_meeting_id\":\"hdn-ubcg-jkq\",\"constructed_meeting_url\":\"https://meet.google.com/hdn-ubcg-jkq\",\"status\":\"active\",\"bot_container_id\":\"9c990e9579960f2c447d3f513e7282826fbb30ebf902ca06847f4696458f77b7\",\"start_time\":\"2025-04-22T11:41:43.084919\",\"end_time\":null,\"created_at\":\"2025-04-22T11:41:42.764842\",\"updated_at\":\"2025-04-22T11:41:42.794819\"}...\n"
     ]
    }
   ],
   "source": [
    "meeting_info = client.request_bot(\n",
    "    platform=\"google_meet\",\n",
    "    native_meeting_id=native_meeting_id,\n",
    "    bot_name=\"Vexa\",\n",
    "  #  language='es',\n",
    "    task = 'transcribe'\n",
    ")\n",
    "meeting_id = meeting_info['id']"
   ]
  },
  {
   "cell_type": "code",
   "execution_count": 18,
   "metadata": {},
   "outputs": [
    {
     "data": {
      "text/plain": [
       "37"
      ]
     },
     "execution_count": 18,
     "metadata": {},
     "output_type": "execute_result"
    }
   ],
   "source": [
    "meeting_id"
   ]
  },
  {
   "cell_type": "code",
   "execution_count": 30,
   "metadata": {},
   "outputs": [
    {
     "name": "stdout",
     "output_type": "stream",
     "text": [
      "\n",
      "DEBUG: Making PUT request to http://localhost:8056/bots/google_meet/hdn-ubcg-jkq/config\n",
      "DEBUG: Headers: {'Content-Type': 'application/json', 'X-API-Key': 'iDwbpzUxW5QCmmKRsaN04yZUnz9LYow56lOTa4Rg'}\n",
      "DEBUG: Params: None\n",
      "DEBUG: JSON data: {'language': 'en', 'task': 'transcribe'}\n",
      "DEBUG: Response status: 202\n",
      "DEBUG: Response headers: {'date': 'Tue, 22 Apr 2025 11:42:21 GMT, Tue, 22 Apr 2025 11:42:21 GMT', 'server': 'uvicorn, uvicorn', 'content-length': '67', 'content-type': 'application/json'}\n",
      "DEBUG: Response content: {\"message\":\"Reconfiguration request accepted and sent to the bot.\"}...\n"
     ]
    },
    {
     "data": {
      "text/plain": [
       "{'message': 'Reconfiguration request accepted and sent to the bot.'}"
      ]
     },
     "execution_count": 30,
     "metadata": {},
     "output_type": "execute_result"
    }
   ],
   "source": [
    "client.update_bot_config(\n",
    "    platform=\"google_meet\",\n",
    "    native_meeting_id=native_meeting_id,\n",
    "    language='en',\n",
    "    task = 'transcribe'\n",
    ")"
   ]
  },
  {
   "cell_type": "code",
   "execution_count": 36,
   "metadata": {},
   "outputs": [
    {
     "name": "stdout",
     "output_type": "stream",
     "text": [
      "\n",
      "DEBUG: Making DELETE request to http://localhost:8056/bots/google_meet/hdn-ubcg-jkq\n",
      "DEBUG: Headers: {'Content-Type': 'application/json', 'X-API-Key': 'iDwbpzUxW5QCmmKRsaN04yZUnz9LYow56lOTa4Rg'}\n",
      "DEBUG: Params: None\n",
      "DEBUG: JSON data: None\n",
      "DEBUG: Response status: 202\n",
      "DEBUG: Response headers: {'date': 'Tue, 22 Apr 2025 11:42:43 GMT, Tue, 22 Apr 2025 11:42:43 GMT', 'server': 'uvicorn, uvicorn', 'content-length': '59', 'content-type': 'application/json'}\n",
      "DEBUG: Response content: {\"message\":\"Stop request accepted and is being processed.\"}...\n"
     ]
    },
    {
     "data": {
      "text/plain": [
       "{'message': 'Stop request accepted and is being processed.'}"
      ]
     },
     "execution_count": 36,
     "metadata": {},
     "output_type": "execute_result"
    }
   ],
   "source": [
    "client.stop_bot(platform=\"google_meet\",native_meeting_id=native_meeting_id)"
   ]
  },
  {
   "cell_type": "code",
   "execution_count": 298,
   "metadata": {},
   "outputs": [
    {
     "name": "stdout",
     "output_type": "stream",
     "text": [
      "\n",
      "DEBUG: Making GET request to http://localhost:8056/meetings\n",
      "DEBUG: Headers: {'Content-Type': 'application/json', 'X-API-Key': 'NvsJRMspflhJ8qRZ5IQiZDrfkdsXyqncuaVlvKoR'}\n",
      "DEBUG: Params: None\n",
      "DEBUG: JSON data: None\n",
      "DEBUG: Response status: 200\n",
      "DEBUG: Response headers: {'date': 'Mon, 21 Apr 2025 15:49:02 GMT, Mon, 21 Apr 2025 15:49:02 GMT', 'server': 'uvicorn, uvicorn', 'content-length': '406', 'content-type': 'application/json'}\n",
      "DEBUG: Response content: {\"meetings\":[{\"id\":6,\"user_id\":2,\"platform\":\"google_meet\",\"native_meeting_id\":\"fsn-apcm-nqf\",\"constructed_meeting_url\":\"https://meet.google.com/fsn-apcm-nqf\",\"status\":\"active\",\"bot_container_id\":\"71d0469f81097eb209f27ab3ecfad10f80c93bf010eb9a8ed982f01122eda6ac\",\"start_time\":\"2025-04-21T15:48:34.986970\",\"end_time\":null,\"created_at\":\"2025-04-21T15:48:34.750718\",\"updated_at\":\"2025-04-21T15:48:34.757661\"}]}...\n"
     ]
    }
   ],
   "source": [
    "meetings = client.get_meetings()"
   ]
  },
  {
   "cell_type": "code",
   "execution_count": 299,
   "metadata": {},
   "outputs": [
    {
     "data": {
      "text/plain": [
       "6"
      ]
     },
     "execution_count": 299,
     "metadata": {},
     "output_type": "execute_result"
    }
   ],
   "source": [
    "meeting_id"
   ]
  },
  {
   "cell_type": "code",
   "execution_count": 35,
   "metadata": {},
   "outputs": [
    {
     "name": "stdout",
     "output_type": "stream",
     "text": [
      "\n",
      "DEBUG: Making GET request to http://localhost:8056/transcripts/google_meet/hdn-ubcg-jkq\n",
      "DEBUG: Headers: {'Content-Type': 'application/json', 'X-API-Key': 'iDwbpzUxW5QCmmKRsaN04yZUnz9LYow56lOTa4Rg'}\n",
      "DEBUG: Params: None\n",
      "DEBUG: JSON data: None\n",
      "DEBUG: Response status: 200\n",
      "DEBUG: Response headers: {'date': 'Tue, 22 Apr 2025 11:42:36 GMT, Tue, 22 Apr 2025 11:42:36 GMT', 'server': 'uvicorn, uvicorn', 'content-length': '2992', 'content-type': 'application/json'}\n",
      "DEBUG: Response content: {\"id\":37,\"platform\":\"google_meet\",\"native_meeting_id\":\"hdn-ubcg-jkq\",\"constructed_meeting_url\":\"https://meet.google.com/hdn-ubcg-jkq\",\"status\":\"active\",\"start_time\":\"2025-04-22T11:41:43.084919\",\"end_time\":null,\"segments\":[{\"start\":3.66,\"end\":5.66,\"text\":\" пока ничего не появляется\",\"language\":null,\"created_at\":null,\"speaker\":null,\"absolute_start_time\":\"2025-04-22T11:42:04.801113+00:00\",\"absolute_end_time\":\"2025-04-22T11:42:06.801113+00:00\"},{\"start\":5.66,\"end\":8.66,\"text\":\" Уже сейчас полюбовать...\n"
     ]
    },
    {
     "data": {
      "text/html": [
       "<div>\n",
       "<style scoped>\n",
       "    .dataframe tbody tr th:only-of-type {\n",
       "        vertical-align: middle;\n",
       "    }\n",
       "\n",
       "    .dataframe tbody tr th {\n",
       "        vertical-align: top;\n",
       "    }\n",
       "\n",
       "    .dataframe thead th {\n",
       "        text-align: right;\n",
       "    }\n",
       "</style>\n",
       "<table border=\"1\" class=\"dataframe\">\n",
       "  <thead>\n",
       "    <tr style=\"text-align: right;\">\n",
       "      <th></th>\n",
       "      <th>start</th>\n",
       "      <th>end</th>\n",
       "      <th>text</th>\n",
       "      <th>language</th>\n",
       "      <th>created_at</th>\n",
       "      <th>speaker</th>\n",
       "      <th>absolute_start_time</th>\n",
       "      <th>absolute_end_time</th>\n",
       "    </tr>\n",
       "  </thead>\n",
       "  <tbody>\n",
       "    <tr>\n",
       "      <th>7</th>\n",
       "      <td>0.00</td>\n",
       "      <td>2.00</td>\n",
       "      <td>in Spanish.</td>\n",
       "      <td>None</td>\n",
       "      <td>None</td>\n",
       "      <td>None</td>\n",
       "      <td>2025-04-22T11:42:24.202512+00:00</td>\n",
       "      <td>2025-04-22T11:42:26.202512+00:00</td>\n",
       "    </tr>\n",
       "    <tr>\n",
       "      <th>8</th>\n",
       "      <td>2.00</td>\n",
       "      <td>4.00</td>\n",
       "      <td>So</td>\n",
       "      <td>None</td>\n",
       "      <td>None</td>\n",
       "      <td>None</td>\n",
       "      <td>2025-04-22T11:42:26.202512+00:00</td>\n",
       "      <td>2025-04-22T11:42:28.202512+00:00</td>\n",
       "    </tr>\n",
       "    <tr>\n",
       "      <th>9</th>\n",
       "      <td>4.00</td>\n",
       "      <td>6.00</td>\n",
       "      <td>we</td>\n",
       "      <td>None</td>\n",
       "      <td>None</td>\n",
       "      <td>None</td>\n",
       "      <td>2025-04-22T11:42:28.202512+00:00</td>\n",
       "      <td>2025-04-22T11:42:30.202512+00:00</td>\n",
       "    </tr>\n",
       "    <tr>\n",
       "      <th>10</th>\n",
       "      <td>6.00</td>\n",
       "      <td>7.06</td>\n",
       "      <td>watch</td>\n",
       "      <td>None</td>\n",
       "      <td>None</td>\n",
       "      <td>None</td>\n",
       "      <td>2025-04-22T11:42:30.202512+00:00</td>\n",
       "      <td>2025-04-22T11:42:31.261512+00:00</td>\n",
       "    </tr>\n",
       "    <tr>\n",
       "      <th>11</th>\n",
       "      <td>6.24</td>\n",
       "      <td>10.24</td>\n",
       "      <td>Now I'm looking at the Spanish language.</td>\n",
       "      <td>None</td>\n",
       "      <td>None</td>\n",
       "      <td>None</td>\n",
       "      <td>2025-04-22T11:42:30.442512+00:00</td>\n",
       "      <td>2025-04-22T11:42:34.442512+00:00</td>\n",
       "    </tr>\n",
       "  </tbody>\n",
       "</table>\n",
       "</div>"
      ],
      "text/plain": [
       "                  start                  end                                       text language created_at speaker               absolute_start_time                 absolute_end_time\n",
       "7                  0.00                 2.00                                in Spanish.     None       None    None  2025-04-22T11:42:24.202512+00:00  2025-04-22T11:42:26.202512+00:00\n",
       "8                  2.00                 4.00                                         So     None       None    None  2025-04-22T11:42:26.202512+00:00  2025-04-22T11:42:28.202512+00:00\n",
       "9                  4.00                 6.00                                         we     None       None    None  2025-04-22T11:42:28.202512+00:00  2025-04-22T11:42:30.202512+00:00\n",
       "10                 6.00                 7.06                                      watch     None       None    None  2025-04-22T11:42:30.202512+00:00  2025-04-22T11:42:31.261512+00:00\n",
       "11                 6.24                10.24   Now I'm looking at the Spanish language.     None       None    None  2025-04-22T11:42:30.442512+00:00  2025-04-22T11:42:34.442512+00:00"
      ]
     },
     "execution_count": 35,
     "metadata": {},
     "output_type": "execute_result"
    }
   ],
   "source": [
    "import pandas as pd\n",
    "pd.options.display.max_colwidth = 1000\n",
    "pd.set_option('display.max_colwidth', 1000)\n",
    "pd.set_option('display.max_rows', 1000)\n",
    "pd.set_option('display.max_columns', 1000)\n",
    "pd.set_option('display.width', 1000)\n",
    "pd.set_option('display.float_format', '{:20.2f}'.format)\n",
    "pd.set_option('display.max_colwidth', 1000)\n",
    "pd.set_option('display.max_rows', 1000)\n",
    "pd.set_option('display.max_columns', 1000)\n",
    "transcript = client.get_transcript(native_meeting_id=native_meeting_id,platform='google_meet')\n",
    "df = pd.DataFrame(transcript['segments'])#.sort_values(['created_at','start'])#.drop_duplicates('start',keep='last')\n",
    "df.sort_values('absolute_start_time').tail(5)"
   ]
  },
  {
   "cell_type": "code",
   "execution_count": 20,
   "metadata": {},
   "outputs": [
    {
     "data": {
      "text/html": [
       "<div>\n",
       "<style scoped>\n",
       "    .dataframe tbody tr th:only-of-type {\n",
       "        vertical-align: middle;\n",
       "    }\n",
       "\n",
       "    .dataframe tbody tr th {\n",
       "        vertical-align: top;\n",
       "    }\n",
       "\n",
       "    .dataframe thead th {\n",
       "        text-align: right;\n",
       "    }\n",
       "</style>\n",
       "<table border=\"1\" class=\"dataframe\">\n",
       "  <thead>\n",
       "    <tr style=\"text-align: right;\">\n",
       "      <th></th>\n",
       "    </tr>\n",
       "  </thead>\n",
       "  <tbody>\n",
       "  </tbody>\n",
       "</table>\n",
       "</div>"
      ],
      "text/plain": [
       "Empty DataFrame\n",
       "Columns: []\n",
       "Index: []"
      ]
     },
     "execution_count": 20,
     "metadata": {},
     "output_type": "execute_result"
    }
   ],
   "source": [
    "df"
   ]
  },
  {
   "cell_type": "code",
   "execution_count": null,
   "metadata": {},
   "outputs": [],
   "source": []
  }
 ],
 "metadata": {
  "kernelspec": {
   "display_name": "langchain",
   "language": "python",
   "name": "python3"
  },
  "language_info": {
   "codemirror_mode": {
    "name": "ipython",
    "version": 3
   },
   "file_extension": ".py",
   "mimetype": "text/x-python",
   "name": "python",
   "nbconvert_exporter": "python",
   "pygments_lexer": "ipython3",
   "version": "3.11.2"
  }
 },
 "nbformat": 4,
 "nbformat_minor": 2
}
