{
 "cells": [
  {
   "cell_type": "code",
   "execution_count": 1,
   "metadata": {},
   "outputs": [],
   "source": [
    "import pandas as pd\n",
    "pd.options.display.max_colwidth = 1000\n",
    "pd.set_option('display.max_colwidth', 1000)\n",
    "pd.set_option('display.max_rows', 1000)\n",
    "pd.set_option('display.max_columns', 1000)\n",
    "pd.set_option('display.width', 1000)\n",
    "pd.set_option('display.float_format', '{:20.2f}'.format)\n",
    "pd.set_option('display.max_colwidth', 1000)\n",
    "pd.set_option('display.max_rows', 1000)\n",
    "pd.set_option('display.max_columns', 1000)\n",
    "from IPython.display import clear_output,display"
   ]
  },
  {
   "cell_type": "code",
   "execution_count": 2,
   "metadata": {},
   "outputs": [],
   "source": [
    "# Load environment variables from .env file\n",
    "from dotenv import load_dotenv\n",
    "\n",
    "# Load .env file\n",
    "load_dotenv()\n",
    "import random\n",
    "\n",
    "import os\n",
    "from vexa_client import VexaClient\n",
    "\n",
    "import os\n",
    "TOKEN = os.getenv('ADMIN_API_TOKEN')\n",
    "url = \"http://localhost:18056\"\n",
    "admin_client = VexaClient(\n",
    "    base_url=url,\n",
    "    admin_key=TOKEN  # From docker-compose.yml\n",
    ")\n",
    "\n",
    "import time"
   ]
  },
  {
   "cell_type": "code",
   "execution_count": 3,
   "metadata": {},
   "outputs": [
    {
     "name": "stdout",
     "output_type": "stream",
     "text": [
      "\n",
      "DEBUG: Making POST request to http://localhost:18056/admin/users\n",
      "DEBUG: Headers: {'Content-Type': 'application/json', 'X-Admin-API-Key': 'token'}\n",
      "DEBUG: Params: None\n",
      "DEBUG: JSON data: {'email': '630437@example.com', 'name': 'test'}\n",
      "DEBUG: Response status: 201\n",
      "DEBUG: Response headers: {'date': 'Sat, 19 Jul 2025 08:40:52 GMT, Sat, 19 Jul 2025 08:40:52 GMT', 'server': 'uvicorn, uvicorn', 'content-length': '144', 'content-type': 'application/json'}\n",
      "DEBUG: Response content: {\"email\":\"630437@example.com\",\"name\":\"test\",\"image_url\":null,\"max_concurrent_bots\":1,\"data\":{},\"id\":1,\"created_at\":\"2025-07-19T08:40:53.150490\"}...\n"
     ]
    }
   ],
   "source": [
    "new_user = admin_client.create_user(email=f\"{random.randint(1, 1000000)}@example.com\", name=\"test\")\n"
   ]
  },
  {
   "cell_type": "code",
   "execution_count": 4,
   "metadata": {},
   "outputs": [
    {
     "name": "stdout",
     "output_type": "stream",
     "text": [
      "\n",
      "DEBUG: Making POST request to http://localhost:18056/admin/users/1/tokens\n",
      "DEBUG: Headers: {'Content-Type': 'application/json', 'X-Admin-API-Key': 'token'}\n",
      "DEBUG: Params: None\n",
      "DEBUG: JSON data: None\n",
      "DEBUG: Response status: 201\n",
      "DEBUG: Response headers: {'date': 'Sat, 19 Jul 2025 08:40:53 GMT, Sat, 19 Jul 2025 08:40:53 GMT', 'server': 'uvicorn, uvicorn', 'content-length': '113', 'content-type': 'application/json'}\n",
      "DEBUG: Response content: {\"user_id\":1,\"id\":1,\"token\":\"FSxlmlKt5rCjcXFfbwxgSXqKmfAU5BNvO2DRzFO8\",\"created_at\":\"2025-07-19T08:40:54.059278\"}...\n"
     ]
    }
   ],
   "source": [
    "\n",
    "user_id = new_user['id']\n",
    "user_id\n",
    "token_info = admin_client.create_token(user_id=user_id)\n",
    "user_api_key = token_info['token']\n",
    "client = VexaClient(\n",
    "    base_url=url,\n",
    "    api_key=user_api_key\n",
    ")"
   ]
  },
  {
   "cell_type": "code",
   "execution_count": 6,
   "metadata": {},
   "outputs": [
    {
     "name": "stdout",
     "output_type": "stream",
     "text": [
      "\n",
      "DEBUG: Making PUT request to http://localhost:18056/user/webhook\n",
      "DEBUG: Headers: {'Content-Type': 'application/json', 'X-API-Key': '3aJg0hQM7syxHGmHraHRmMq87czOuEo1br55EkaI'}\n",
      "DEBUG: Params: None\n",
      "DEBUG: JSON data: {'webhook_url': 'https://f04fa70d34b9.ngrok-free.app/webhooks/meeting-ended'}\n",
      "DEBUG: Response status: 200\n",
      "DEBUG: Response headers: {'date': 'Wed, 09 Jul 2025 15:35:05 GMT, Wed, 09 Jul 2025 15:35:06 GMT', 'server': 'uvicorn, uvicorn', 'content-length': '218', 'content-type': 'application/json'}\n",
      "DEBUG: Response content: {\"email\":\"370374@example.com\",\"name\":\"test\",\"image_url\":null,\"max_concurrent_bots\":1,\"data\":{\"webhook_url\":\"https://f04fa70d34b9.ngrok-free.app/webhooks/meeting-ended\"},\"id\":5,\"created_at\":\"2025-07-09T15:34:55.264151\"}...\n"
     ]
    },
    {
     "data": {
      "text/plain": [
       "{'email': '370374@example.com',\n",
       " 'name': 'test',\n",
       " 'image_url': None,\n",
       " 'max_concurrent_bots': 1,\n",
       " 'data': {'webhook_url': 'https://f04fa70d34b9.ngrok-free.app/webhooks/meeting-ended'},\n",
       " 'id': 5,\n",
       " 'created_at': '2025-07-09T15:34:55.264151'}"
      ]
     },
     "execution_count": 6,
     "metadata": {},
     "output_type": "execute_result"
    }
   ],
   "source": [
    "client.set_webhook_url(\"https://f04fa70d34b9.ngrok-free.app/webhooks/meeting-ended\")"
   ]
  },
  {
   "cell_type": "code",
   "execution_count": 14,
   "metadata": {},
   "outputs": [
    {
     "name": "stdout",
     "output_type": "stream",
     "text": [
      "\n",
      "DEBUG: Making POST request to http://localhost:18056/bots\n",
      "DEBUG: Headers: {'Content-Type': 'application/json', 'X-API-Key': '3aJg0hQM7syxHGmHraHRmMq87czOuEo1br55EkaI'}\n",
      "DEBUG: Params: None\n",
      "DEBUG: JSON data: {'platform': 'google_meet', 'native_meeting_id': 'pyp-fwjo-pob', 'bot_name': 'Himesh Manager', 'task': 'transcribe'}\n",
      "DEBUG: Response status: 201\n",
      "DEBUG: Response headers: {'date': 'Wed, 09 Jul 2025 17:01:23 GMT, Wed, 09 Jul 2025 17:01:23 GMT', 'server': 'uvicorn, uvicorn', 'content-length': '401', 'content-type': 'application/json'}\n",
      "DEBUG: Response content: {\"id\":8,\"user_id\":5,\"platform\":\"google_meet\",\"native_meeting_id\":\"pyp-fwjo-pob\",\"constructed_meeting_url\":\"https://meet.google.com/pyp-fwjo-pob\",\"status\":\"active\",\"bot_container_id\":\"9d097dba941319ff376c9a811bcd91657f86bd42bdf6f892606e209e69968909\",\"start_time\":\"2025-07-09T17:01:23.951324\",\"end_time\":null,\"data\":{},\"created_at\":\"2025-07-09T17:01:23.711340\",\"updated_at\":\"2025-07-09T17:01:23.726082\"}...\n"
     ]
    }
   ],
   "source": [
    "\n",
    "meeting_url=\"https://meet.google.com/pyp-fwjo-pob\"\n",
    "native_meeting_id = meeting_url.split(\"/\")[-1]  # \"xyz-abcd-123\"\n",
    "meeting_info = client.request_bot(\n",
    "    platform=\"google_meet\",\n",
    "    native_meeting_id=native_meeting_id,\n",
    "    bot_name=\"Himesh Manager\",\n",
    "  #  language='es',\n",
    "    task = 'transcribe'\n",
    ")\n",
    "meeting_id = meeting_info['id']"
   ]
  },
  {
   "cell_type": "code",
   "execution_count": 8,
   "metadata": {},
   "outputs": [
    {
     "data": {
      "text/plain": [
       "4"
      ]
     },
     "execution_count": 8,
     "metadata": {},
     "output_type": "execute_result"
    }
   ],
   "source": [
    "user_id"
   ]
  },
  {
   "cell_type": "code",
   "execution_count": null,
   "metadata": {},
   "outputs": [
    {
     "data": {
      "text/html": [
       "<div>\n",
       "<style scoped>\n",
       "    .dataframe tbody tr th:only-of-type {\n",
       "        vertical-align: middle;\n",
       "    }\n",
       "\n",
       "    .dataframe tbody tr th {\n",
       "        vertical-align: top;\n",
       "    }\n",
       "\n",
       "    .dataframe thead th {\n",
       "        text-align: right;\n",
       "    }\n",
       "</style>\n",
       "<table border=\"1\" class=\"dataframe\">\n",
       "  <thead>\n",
       "    <tr style=\"text-align: right;\">\n",
       "      <th></th>\n",
       "      <th>start</th>\n",
       "      <th>end</th>\n",
       "      <th>text</th>\n",
       "      <th>language</th>\n",
       "      <th>created_at</th>\n",
       "      <th>speaker</th>\n",
       "      <th>absolute_start_time</th>\n",
       "      <th>absolute_end_time</th>\n",
       "    </tr>\n",
       "  </thead>\n",
       "  <tbody>\n",
       "    <tr>\n",
       "      <th>0</th>\n",
       "      <td>21.64</td>\n",
       "      <td>26.60</td>\n",
       "      <td>Hello today we will discuss the implementation of AI in English gaming.</td>\n",
       "      <td>en</td>\n",
       "      <td>2025-07-09T17:03:06.051374</td>\n",
       "      <td>Himesh Parashar</td>\n",
       "      <td>2025-07-09T17:02:03.783912+00:00</td>\n",
       "      <td>2025-07-09T17:02:08.743912+00:00</td>\n",
       "    </tr>\n",
       "    <tr>\n",
       "      <th>1</th>\n",
       "      <td>31.70</td>\n",
       "      <td>39.14</td>\n",
       "      <td>So, we are making an AI meeting some riser bot.</td>\n",
       "      <td>en</td>\n",
       "      <td>2025-07-09T17:03:06.051487</td>\n",
       "      <td>Himesh Parashar</td>\n",
       "      <td>2025-07-09T17:02:13.843912+00:00</td>\n",
       "      <td>2025-07-09T17:02:21.283912+00:00</td>\n",
       "    </tr>\n",
       "    <tr>\n",
       "      <th>2</th>\n",
       "      <td>39.14</td>\n",
       "      <td>41.14</td>\n",
       "      <td>Thank you.</td>\n",
       "      <td>en</td>\n",
       "      <td>2025-07-09T17:03:06.051543</td>\n",
       "      <td>Himesh Parashar</td>\n",
       "      <td>2025-07-09T17:02:21.283912+00:00</td>\n",
       "      <td>2025-07-09T17:02:23.283912+00:00</td>\n",
       "    </tr>\n",
       "  </tbody>\n",
       "</table>\n",
       "</div>"
      ],
      "text/plain": [
       "                 start                  end                                                                      text language                  created_at          speaker               absolute_start_time                 absolute_end_time\n",
       "0                21.64                26.60   Hello today we will discuss the implementation of AI in English gaming.       en  2025-07-09T17:03:06.051374  Himesh Parashar  2025-07-09T17:02:03.783912+00:00  2025-07-09T17:02:08.743912+00:00\n",
       "1                31.70                39.14                           So, we are making an AI meeting some riser bot.       en  2025-07-09T17:03:06.051487  Himesh Parashar  2025-07-09T17:02:13.843912+00:00  2025-07-09T17:02:21.283912+00:00\n",
       "2                39.14                41.14                                                                Thank you.       en  2025-07-09T17:03:06.051543  Himesh Parashar  2025-07-09T17:02:21.283912+00:00  2025-07-09T17:02:23.283912+00:00"
      ]
     },
     "metadata": {},
     "output_type": "display_data"
    }
   ],
   "source": [
    "while True:\n",
    "    transcript = client.get_transcript(native_meeting_id=native_meeting_id,platform='google_meet')\n",
    "    df = pd.DataFrame(transcript['segments'])#.sort_values(['created_at','start'])#.drop_duplicates('start',keep='last')\n",
    "    clear_output()\n",
    "    display(df.sort_values('absolute_start_time').tail(10))\n",
    "    time.sleep(1)"
   ]
  },
  {
   "cell_type": "code",
   "execution_count": 20,
   "metadata": {},
   "outputs": [
    {
     "name": "stdout",
     "output_type": "stream",
     "text": [
      "\n",
      "DEBUG: Making DELETE request to http://localhost:18056/bots/google_meet/xdy-txjo-fyh\n",
      "DEBUG: Headers: {'Content-Type': 'application/json', 'X-API-Key': 'ByWb1qpsR1Kq3hTg3Rhg6cXcxaAFpA2e5FeFvCVJ'}\n",
      "DEBUG: Params: None\n",
      "DEBUG: JSON data: None\n",
      "DEBUG: Response status: 202\n",
      "DEBUG: Response headers: {'date': 'Sun, 08 Jun 2025 17:12:06 GMT, Sun, 08 Jun 2025 17:12:06 GMT', 'server': 'uvicorn, uvicorn', 'content-length': '59', 'content-type': 'application/json'}\n",
      "DEBUG: Response content: {\"message\":\"Stop request accepted and is being processed.\"}...\n"
     ]
    },
    {
     "data": {
      "text/plain": [
       "{'message': 'Stop request accepted and is being processed.'}"
      ]
     },
     "execution_count": 20,
     "metadata": {},
     "output_type": "execute_result"
    }
   ],
   "source": [
    "client.stop_bot(platform=\"google_meet\",native_meeting_id=native_meeting_id)"
   ]
  },
  {
   "cell_type": "code",
   "execution_count": 21,
   "metadata": {},
   "outputs": [
    {
     "data": {
      "text/plain": [
       "1"
      ]
     },
     "execution_count": 21,
     "metadata": {},
     "output_type": "execute_result"
    }
   ],
   "source": [
    "user_id"
   ]
  },
  {
   "cell_type": "code",
   "execution_count": 13,
   "metadata": {},
   "outputs": [
    {
     "name": "stdout",
     "output_type": "stream",
     "text": [
      "\n",
      "DEBUG: Making GET request to http://localhost:18056/bots/status\n",
      "DEBUG: Headers: {'Content-Type': 'application/json', 'X-API-Key': '3aJg0hQM7syxHGmHraHRmMq87czOuEo1br55EkaI'}\n",
      "DEBUG: Params: None\n",
      "DEBUG: JSON data: None\n",
      "DEBUG: Response status: 200\n",
      "DEBUG: Response headers: {'date': 'Wed, 09 Jul 2025 16:11:46 GMT, Wed, 09 Jul 2025 16:11:46 GMT', 'server': 'uvicorn, uvicorn', 'content-length': '19', 'content-type': 'application/json'}\n",
      "DEBUG: Response content: {\"running_bots\":[]}...\n"
     ]
    }
   ],
   "source": [
    "running_bots = client.get_running_bots_status()"
   ]
  },
  {
   "cell_type": "code",
   "execution_count": 23,
   "metadata": {},
   "outputs": [
    {
     "name": "stdout",
     "output_type": "stream",
     "text": [
      "\n",
      "DEBUG: Making PUT request to http://localhost:18056/bots/google_meet/xdy-txjo-fyh/config\n",
      "DEBUG: Headers: {'Content-Type': 'application/json', 'X-API-Key': 'ByWb1qpsR1Kq3hTg3Rhg6cXcxaAFpA2e5FeFvCVJ'}\n",
      "DEBUG: Params: None\n",
      "DEBUG: JSON data: {'language': 'en', 'task': 'transcribe'}\n",
      "DEBUG: Response status: 409\n",
      "DEBUG: Response headers: {'date': 'Sun, 08 Jun 2025 17:12:10 GMT, Sun, 08 Jun 2025 17:12:09 GMT', 'server': 'uvicorn, uvicorn', 'content-length': '87', 'content-type': 'application/json'}\n",
      "DEBUG: Response content: {\"detail\":\"Meeting found but is not active (status: 'completed'). Cannot reconfigure.\"}...\n"
     ]
    },
    {
     "ename": "VexaClientError",
     "evalue": "HTTP Error 409 for PUT http://localhost:18056/bots/google_meet/xdy-txjo-fyh/config: Meeting found but is not active (status: 'completed'). Cannot reconfigure.",
     "output_type": "error",
     "traceback": [
      "\u001b[0;31m---------------------------------------------------------------------------\u001b[0m",
      "\u001b[0;31mHTTPError\u001b[0m                                 Traceback (most recent call last)",
      "File \u001b[0;32m~/vexa_dev/vexa_client.py:107\u001b[0m, in \u001b[0;36mVexaClient._request\u001b[0;34m(self, method, path, api_type, params, json_data)\u001b[0m\n\u001b[1;32m    105\u001b[0m     \u001b[38;5;28mprint\u001b[39m(\u001b[38;5;124mf\u001b[39m\u001b[38;5;124m\"\u001b[39m\u001b[38;5;124mDEBUG: Could not display response content\u001b[39m\u001b[38;5;124m\"\u001b[39m)\n\u001b[0;32m--> 107\u001b[0m \u001b[43mresponse\u001b[49m\u001b[38;5;241;43m.\u001b[39;49m\u001b[43mraise_for_status\u001b[49m\u001b[43m(\u001b[49m\u001b[43m)\u001b[49m \u001b[38;5;66;03m# Raise HTTPError for bad responses (4xx or 5xx)\u001b[39;00m\n\u001b[1;32m    109\u001b[0m \u001b[38;5;66;03m# Handle cases where response might be empty (e.g., 204 No Content)\u001b[39;00m\n",
      "File \u001b[0;32m~/.local/lib/python3.10/site-packages/requests/models.py:1024\u001b[0m, in \u001b[0;36mResponse.raise_for_status\u001b[0;34m(self)\u001b[0m\n\u001b[1;32m   1023\u001b[0m \u001b[38;5;28;01mif\u001b[39;00m http_error_msg:\n\u001b[0;32m-> 1024\u001b[0m     \u001b[38;5;28;01mraise\u001b[39;00m HTTPError(http_error_msg, response\u001b[38;5;241m=\u001b[39m\u001b[38;5;28mself\u001b[39m)\n",
      "\u001b[0;31mHTTPError\u001b[0m: 409 Client Error: Conflict for url: http://localhost:18056/bots/google_meet/xdy-txjo-fyh/config",
      "\nThe above exception was the direct cause of the following exception:\n",
      "\u001b[0;31mVexaClientError\u001b[0m                           Traceback (most recent call last)",
      "Cell \u001b[0;32mIn[23], line 1\u001b[0m\n\u001b[0;32m----> 1\u001b[0m \u001b[43mclient\u001b[49m\u001b[38;5;241;43m.\u001b[39;49m\u001b[43mupdate_bot_config\u001b[49m\u001b[43m(\u001b[49m\n\u001b[1;32m      2\u001b[0m \u001b[43m    \u001b[49m\u001b[43mplatform\u001b[49m\u001b[38;5;241;43m=\u001b[39;49m\u001b[38;5;124;43m\"\u001b[39;49m\u001b[38;5;124;43mgoogle_meet\u001b[39;49m\u001b[38;5;124;43m\"\u001b[39;49m\u001b[43m,\u001b[49m\n\u001b[1;32m      3\u001b[0m \u001b[43m    \u001b[49m\u001b[43mnative_meeting_id\u001b[49m\u001b[38;5;241;43m=\u001b[39;49m\u001b[43mnative_meeting_id\u001b[49m\u001b[43m,\u001b[49m\n\u001b[1;32m      4\u001b[0m \u001b[43m    \u001b[49m\u001b[43mlanguage\u001b[49m\u001b[38;5;241;43m=\u001b[39;49m\u001b[38;5;124;43m'\u001b[39;49m\u001b[38;5;124;43men\u001b[39;49m\u001b[38;5;124;43m'\u001b[39;49m\u001b[43m,\u001b[49m\n\u001b[1;32m      5\u001b[0m \u001b[43m    \u001b[49m\u001b[43mtask\u001b[49m\u001b[43m \u001b[49m\u001b[38;5;241;43m=\u001b[39;49m\u001b[43m \u001b[49m\u001b[38;5;124;43m'\u001b[39;49m\u001b[38;5;124;43mtranscribe\u001b[39;49m\u001b[38;5;124;43m'\u001b[39;49m\n\u001b[1;32m      6\u001b[0m \u001b[43m)\u001b[49m\n",
      "File \u001b[0;32m~/vexa_dev/vexa_client.py:198\u001b[0m, in \u001b[0;36mVexaClient.update_bot_config\u001b[0;34m(self, platform, native_meeting_id, language, task)\u001b[0m\n\u001b[1;32m    195\u001b[0m     \u001b[38;5;28;01mraise\u001b[39;00m VexaClientError(\u001b[38;5;124m\"\u001b[39m\u001b[38;5;124mNo configuration updates provided (language or task must be specified).\u001b[39m\u001b[38;5;124m\"\u001b[39m)\n\u001b[1;32m    197\u001b[0m \u001b[38;5;66;03m# _request handles 202 status and returns the JSON body\u001b[39;00m\n\u001b[0;32m--> 198\u001b[0m \u001b[38;5;28;01mreturn\u001b[39;00m \u001b[38;5;28;43mself\u001b[39;49m\u001b[38;5;241;43m.\u001b[39;49m\u001b[43m_request\u001b[49m\u001b[43m(\u001b[49m\u001b[38;5;124;43m\"\u001b[39;49m\u001b[38;5;124;43mPUT\u001b[39;49m\u001b[38;5;124;43m\"\u001b[39;49m\u001b[43m,\u001b[49m\u001b[43m \u001b[49m\u001b[43mpath\u001b[49m\u001b[43m,\u001b[49m\u001b[43m \u001b[49m\u001b[43mapi_type\u001b[49m\u001b[38;5;241;43m=\u001b[39;49m\u001b[38;5;124;43m'\u001b[39;49m\u001b[38;5;124;43muser\u001b[39;49m\u001b[38;5;124;43m'\u001b[39;49m\u001b[43m,\u001b[49m\u001b[43m \u001b[49m\u001b[43mjson_data\u001b[49m\u001b[38;5;241;43m=\u001b[39;49m\u001b[43mpayload\u001b[49m\u001b[43m)\u001b[49m\n",
      "File \u001b[0;32m~/vexa_dev/vexa_client.py:123\u001b[0m, in \u001b[0;36mVexaClient._request\u001b[0;34m(self, method, path, api_type, params, json_data)\u001b[0m\n\u001b[1;32m    121\u001b[0m     \u001b[38;5;28;01mexcept\u001b[39;00m requests\u001b[38;5;241m.\u001b[39mexceptions\u001b[38;5;241m.\u001b[39mJSONDecodeError:\n\u001b[1;32m    122\u001b[0m         detail_msg \u001b[38;5;241m=\u001b[39m e\u001b[38;5;241m.\u001b[39mresponse\u001b[38;5;241m.\u001b[39mtext\n\u001b[0;32m--> 123\u001b[0m     \u001b[38;5;28;01mraise\u001b[39;00m VexaClientError(\u001b[38;5;124mf\u001b[39m\u001b[38;5;124m\"\u001b[39m\u001b[38;5;124mHTTP Error \u001b[39m\u001b[38;5;132;01m{\u001b[39;00me\u001b[38;5;241m.\u001b[39mresponse\u001b[38;5;241m.\u001b[39mstatus_code\u001b[38;5;132;01m}\u001b[39;00m\u001b[38;5;124m for \u001b[39m\u001b[38;5;132;01m{\u001b[39;00mmethod\u001b[38;5;132;01m}\u001b[39;00m\u001b[38;5;124m \u001b[39m\u001b[38;5;132;01m{\u001b[39;00murl\u001b[38;5;132;01m}\u001b[39;00m\u001b[38;5;124m: \u001b[39m\u001b[38;5;132;01m{\u001b[39;00mdetail_msg\u001b[38;5;132;01m}\u001b[39;00m\u001b[38;5;124m\"\u001b[39m) \u001b[38;5;28;01mfrom\u001b[39;00m \u001b[38;5;21;01me\u001b[39;00m\n\u001b[1;32m    124\u001b[0m \u001b[38;5;28;01mexcept\u001b[39;00m requests\u001b[38;5;241m.\u001b[39mexceptions\u001b[38;5;241m.\u001b[39mRequestException \u001b[38;5;28;01mas\u001b[39;00m e:\n\u001b[1;32m    125\u001b[0m     \u001b[38;5;28;01mraise\u001b[39;00m VexaClientError(\u001b[38;5;124mf\u001b[39m\u001b[38;5;124m\"\u001b[39m\u001b[38;5;124mRequest failed for \u001b[39m\u001b[38;5;132;01m{\u001b[39;00mmethod\u001b[38;5;132;01m}\u001b[39;00m\u001b[38;5;124m \u001b[39m\u001b[38;5;132;01m{\u001b[39;00murl\u001b[38;5;132;01m}\u001b[39;00m\u001b[38;5;124m: \u001b[39m\u001b[38;5;132;01m{\u001b[39;00me\u001b[38;5;132;01m}\u001b[39;00m\u001b[38;5;124m\"\u001b[39m) \u001b[38;5;28;01mfrom\u001b[39;00m \u001b[38;5;21;01me\u001b[39;00m\n",
      "\u001b[0;31mVexaClientError\u001b[0m: HTTP Error 409 for PUT http://localhost:18056/bots/google_meet/xdy-txjo-fyh/config: Meeting found but is not active (status: 'completed'). Cannot reconfigure."
     ]
    }
   ],
   "source": [
    "client.update_bot_config(\n",
    "    platform=\"google_meet\",\n",
    "    native_meeting_id=native_meeting_id,\n",
    "    language='en',\n",
    "    task = 'transcribe'\n",
    ")"
   ]
  },
  {
   "cell_type": "code",
   "execution_count": 24,
   "metadata": {},
   "outputs": [
    {
     "name": "stdout",
     "output_type": "stream",
     "text": [
      "\n",
      "DEBUG: Making GET request to http://localhost:18056/bots/status\n",
      "DEBUG: Headers: {'Content-Type': 'application/json', 'X-API-Key': 'ByWb1qpsR1Kq3hTg3Rhg6cXcxaAFpA2e5FeFvCVJ'}\n",
      "DEBUG: Params: None\n",
      "DEBUG: JSON data: None\n",
      "DEBUG: Response status: 200\n",
      "DEBUG: Response headers: {'date': 'Sun, 08 Jun 2025 17:12:10 GMT, Sun, 08 Jun 2025 17:12:10 GMT', 'server': 'uvicorn, uvicorn', 'content-length': '19', 'content-type': 'application/json'}\n",
      "DEBUG: Response content: {\"running_bots\":[]}...\n"
     ]
    }
   ],
   "source": [
    "running_bots = client.get_running_bots_status()"
   ]
  },
  {
   "cell_type": "code",
   "execution_count": 11,
   "metadata": {},
   "outputs": [
    {
     "name": "stdout",
     "output_type": "stream",
     "text": [
      "\n",
      "DEBUG: Making GET request to http://localhost:18056/meetings\n",
      "DEBUG: Headers: {'Content-Type': 'application/json', 'X-API-Key': 'sIgydLWUlFYKTV1QznMSqtXlhwJT5HYKqMpjxXk8'}\n",
      "DEBUG: Params: None\n",
      "DEBUG: JSON data: None\n",
      "DEBUG: Response status: 200\n",
      "DEBUG: Response headers: {'date': 'Wed, 09 Jul 2025 09:19:28 GMT, Wed, 09 Jul 2025 09:19:28 GMT', 'server': 'uvicorn, uvicorn', 'content-length': '496', 'content-type': 'application/json'}\n",
      "DEBUG: Response content: {\"meetings\":[{\"id\":5,\"user_id\":4,\"platform\":\"google_meet\",\"native_meeting_id\":\"sgm-vvfm-oxk\",\"constructed_meeting_url\":\"https://meet.google.com/sgm-vvfm-oxk\",\"status\":\"completed\",\"bot_container_id\":\"0642c709c4655ca827664031a0fd99b766e146717dbbb95dc14d4f0a2a3866b7\",\"start_time\":\"2025-07-09T09:16:28.153444\",\"end_time\":\"2025-07-09T09:17:44.569745\",\"data\":{\"languages\":[\"en\"],\"participants\":[\"Himesh Parashar\"]},\"created_at\":\"2025-07-09T09:16:27.866719\",\"updated_at\":\"2025-07-09T09:17:44.576037\"}]}...\n"
     ]
    }
   ],
   "source": [
    "meetings = client.get_meetings()"
   ]
  },
  {
   "cell_type": "code",
   "execution_count": 12,
   "metadata": {},
   "outputs": [
    {
     "data": {
      "text/plain": [
       "[{'id': 5,\n",
       "  'user_id': 4,\n",
       "  'platform': 'google_meet',\n",
       "  'native_meeting_id': 'sgm-vvfm-oxk',\n",
       "  'constructed_meeting_url': 'https://meet.google.com/sgm-vvfm-oxk',\n",
       "  'status': 'completed',\n",
       "  'bot_container_id': '0642c709c4655ca827664031a0fd99b766e146717dbbb95dc14d4f0a2a3866b7',\n",
       "  'start_time': '2025-07-09T09:16:28.153444',\n",
       "  'end_time': '2025-07-09T09:17:44.569745',\n",
       "  'data': {'languages': ['en'], 'participants': ['Himesh Parashar']},\n",
       "  'created_at': '2025-07-09T09:16:27.866719',\n",
       "  'updated_at': '2025-07-09T09:17:44.576037'}]"
      ]
     },
     "execution_count": 12,
     "metadata": {},
     "output_type": "execute_result"
    }
   ],
   "source": [
    "meetings"
   ]
  },
  {
   "cell_type": "markdown",
   "metadata": {},
   "source": []
  },
  {
   "cell_type": "code",
   "execution_count": 33,
   "metadata": {},
   "outputs": [
    {
     "name": "stdout",
     "output_type": "stream",
     "text": [
      "\n",
      "DEBUG: Making PATCH request to http://localhost:18056/meetings/google_meet/xdy-txjo-fyh\n",
      "DEBUG: Headers: {'Content-Type': 'application/json', 'X-API-Key': 'aQGEy4cX1XN9l60QOEsWKcWWKNNc0prjYUu7pkhw'}\n",
      "DEBUG: Params: None\n",
      "DEBUG: JSON data: {'data': {'name': 'Test Meeting'}}\n",
      "DEBUG: Response status: 200\n",
      "DEBUG: Response headers: {'date': 'Sun, 08 Jun 2025 15:06:06 GMT, Sun, 08 Jun 2025 15:06:06 GMT', 'server': 'uvicorn, uvicorn', 'content-length': '449', 'content-type': 'application/json'}\n",
      "DEBUG: Response content: {\"id\":5,\"user_id\":6,\"platform\":\"google_meet\",\"native_meeting_id\":\"xdy-txjo-fyh\",\"constructed_meeting_url\":\"https://meet.google.com/xdy-txjo-fyh\",\"status\":\"completed\",\"bot_container_id\":\"7edd0e3d1b1aa9f8f668a0c84447889c36a8c4cb974ca15b80654d00c9a083bf\",\"start_time\":\"2025-06-08T15:01:10.681410\",\"end_time\":\"2025-06-08T15:02:05.246022\",\"data\":{\"name\":\"Test Meeting\"},\"created_at\":\"2025-06-08T15:01:10.280791\",\"updated_at\":\"2025-06-08T15:06:07.017651\"}...\n"
     ]
    },
    {
     "data": {
      "text/plain": [
       "{'id': 5,\n",
       " 'user_id': 6,\n",
       " 'platform': 'google_meet',\n",
       " 'native_meeting_id': 'xdy-txjo-fyh',\n",
       " 'constructed_meeting_url': 'https://meet.google.com/xdy-txjo-fyh',\n",
       " 'status': 'completed',\n",
       " 'bot_container_id': '7edd0e3d1b1aa9f8f668a0c84447889c36a8c4cb974ca15b80654d00c9a083bf',\n",
       " 'start_time': '2025-06-08T15:01:10.681410',\n",
       " 'end_time': '2025-06-08T15:02:05.246022',\n",
       " 'data': {'name': 'Test Meeting'},\n",
       " 'created_at': '2025-06-08T15:01:10.280791',\n",
       " 'updated_at': '2025-06-08T15:06:07.017651'}"
      ]
     },
     "execution_count": 33,
     "metadata": {},
     "output_type": "execute_result"
    }
   ],
   "source": [
    "client.update_meeting_data(\n",
    "    platform=\"google_meet\",\n",
    "    native_meeting_id=native_meeting_id,\n",
    "    name=\"Test Meeting\",\n",
    ")"
   ]
  },
  {
   "cell_type": "code",
   "execution_count": 32,
   "metadata": {},
   "outputs": [
    {
     "name": "stdout",
     "output_type": "stream",
     "text": [
      "\n",
      "DEBUG: Making DELETE request to http://localhost:18056/meetings/google_meet/xdy-txjo-fyh\n",
      "DEBUG: Headers: {'Content-Type': 'application/json', 'X-API-Key': 'aQGEy4cX1XN9l60QOEsWKcWWKNNc0prjYUu7pkhw'}\n",
      "DEBUG: Params: None\n",
      "DEBUG: JSON data: None\n",
      "DEBUG: Response status: 200\n",
      "DEBUG: Response headers: {'date': 'Sun, 08 Jun 2025 15:06:02 GMT, Sun, 08 Jun 2025 15:06:02 GMT', 'server': 'uvicorn, uvicorn', 'content-length': '88', 'content-type': 'application/json'}\n",
      "DEBUG: Response content: {\"message\":\"Meeting google_meet/xdy-txjo-fyh and all its transcripts have been deleted\"}...\n"
     ]
    },
    {
     "data": {
      "text/plain": [
       "{'message': 'Meeting google_meet/xdy-txjo-fyh and all its transcripts have been deleted'}"
      ]
     },
     "execution_count": 32,
     "metadata": {},
     "output_type": "execute_result"
    }
   ],
   "source": [
    "client.delete_meeting(\n",
    "    platform=\"google_meet\",\n",
    "    native_meeting_id=native_meeting_id,\n",
    ")"
   ]
  },
  {
   "cell_type": "code",
   "execution_count": null,
   "metadata": {},
   "outputs": [],
   "source": []
  }
 ],
 "metadata": {
  "kernelspec": {
   "display_name": ".venv (3.12.3)",
   "language": "python",
   "name": "python3"
  },
  "language_info": {
   "codemirror_mode": {
    "name": "ipython",
    "version": 3
   },
   "file_extension": ".py",
   "mimetype": "text/x-python",
   "name": "python",
   "nbconvert_exporter": "python",
   "pygments_lexer": "ipython3",
   "version": "3.12.3"
  }
 },
 "nbformat": 4,
 "nbformat_minor": 2
}
