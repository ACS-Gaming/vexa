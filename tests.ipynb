{
 "cells": [
  {
   "cell_type": "code",
   "execution_count": 1,
   "metadata": {},
   "outputs": [],
   "source": [
    "import pandas as pd\n",
    "pd.options.display.max_colwidth = 1000\n",
    "pd.set_option('display.max_colwidth', 1000)\n",
    "pd.set_option('display.max_rows', 1000)\n",
    "pd.set_option('display.max_columns', 1000)\n",
    "pd.set_option('display.width', 1000)\n",
    "pd.set_option('display.float_format', '{:20.2f}'.format)\n",
    "pd.set_option('display.max_colwidth', 1000)\n",
    "pd.set_option('display.max_rows', 1000)\n",
    "pd.set_option('display.max_columns', 1000)\n",
    "from IPython.display import clear_output,display"
   ]
  },
  {
   "cell_type": "code",
   "execution_count": 2,
   "metadata": {},
   "outputs": [],
   "source": [
    "# Load environment variables from .env file\n",
    "from dotenv import load_dotenv\n",
    "\n",
    "# Load .env file\n",
    "load_dotenv()\n",
    "import random\n",
    "\n",
    "import os\n",
    "from vexa_client import VexaClient\n",
    "\n",
    "import os\n",
    "TOKEN = os.getenv('ADMIN_API_TOKEN')\n",
    "TOKEN = 'your-secret-token-goes-here'\n",
    "#TOKEN='token'\n",
    "url = \"http://localhost:8926\"\n",
    "#url =  \"http://localhost:18056\"\n",
    "admin_client = VexaClient(\n",
    "    base_url=url,\n",
    "    admin_key=TOKEN  # From docker-compose.yml\n",
    ")\n",
    "\n",
    "import time"
   ]
  },
  {
   "cell_type": "code",
   "execution_count": 3,
   "metadata": {},
   "outputs": [],
   "source": [
    "meeting_url=\"https://meet.google.com/rks-kevd-nhp\""
   ]
  },
  {
   "cell_type": "code",
   "execution_count": 4,
   "metadata": {},
   "outputs": [],
   "source": [
    "tokens = []"
   ]
  },
  {
   "cell_type": "code",
   "execution_count": 28,
   "metadata": {},
   "outputs": [
    {
     "name": "stdout",
     "output_type": "stream",
     "text": [
      "\n",
      "DEBUG: Making POST request to http://localhost:8926/admin/users\n",
      "DEBUG: Headers: {'Content-Type': 'application/json', 'X-Admin-API-Key': 'your-secret-token-goes-here'}\n",
      "DEBUG: Params: None\n",
      "DEBUG: JSON data: {'email': '935077@example.com', 'name': 'test'}\n",
      "DEBUG: Response status: 201\n",
      "DEBUG: Response headers: {'date': 'Thu, 26 Jun 2025 19:41:45 GMT, Thu, 26 Jun 2025 19:41:45 GMT', 'server': 'uvicorn, uvicorn', 'content-length': '146', 'content-type': 'application/json'}\n",
      "DEBUG: Response content: {\"email\":\"935077@example.com\",\"name\":\"test\",\"image_url\":null,\"max_concurrent_bots\":1,\"data\":{},\"id\":188,\"created_at\":\"2025-06-26T19:41:46.381598\"}...\n",
      "\n",
      "DEBUG: Making POST request to http://localhost:8926/admin/users/188/tokens\n",
      "DEBUG: Headers: {'Content-Type': 'application/json', 'X-Admin-API-Key': 'your-secret-token-goes-here'}\n",
      "DEBUG: Params: None\n",
      "DEBUG: JSON data: None\n",
      "DEBUG: Response status: 201\n",
      "DEBUG: Response headers: {'date': 'Thu, 26 Jun 2025 19:41:45 GMT, Thu, 26 Jun 2025 19:41:45 GMT', 'server': 'uvicorn, uvicorn', 'content-length': '117', 'content-type': 'application/json'}\n",
      "DEBUG: Response content: {\"user_id\":188,\"id\":188,\"token\":\"xe7GpFT9jrWNAnnfr9Dd7hyzhDFohdzsFJg8zRsb\",\"created_at\":\"2025-06-26T19:41:46.393433\"}...\n",
      "\n",
      "DEBUG: Making PUT request to http://localhost:8926/user/webhook\n",
      "DEBUG: Headers: {'Content-Type': 'application/json', 'X-API-Key': 'xe7GpFT9jrWNAnnfr9Dd7hyzhDFohdzsFJg8zRsb'}\n",
      "DEBUG: Params: None\n",
      "DEBUG: JSON data: {'webhook_url': 'https://webhook-test.com/e79be735cf3e9bc0c98ca068beaac1f3'}\n",
      "DEBUG: Response status: 200\n",
      "DEBUG: Response headers: {'date': 'Thu, 26 Jun 2025 19:41:45 GMT, Thu, 26 Jun 2025 19:41:45 GMT', 'server': 'uvicorn, uvicorn', 'content-length': '219', 'content-type': 'application/json'}\n",
      "DEBUG: Response content: {\"email\":\"935077@example.com\",\"name\":\"test\",\"image_url\":null,\"max_concurrent_bots\":1,\"data\":{\"webhook_url\":\"https://webhook-test.com/e79be735cf3e9bc0c98ca068beaac1f3\"},\"id\":188,\"created_at\":\"2025-06-26T19:41:46.381598\"}...\n",
      "\n",
      "DEBUG: Making POST request to http://localhost:8926/bots\n",
      "DEBUG: Headers: {'Content-Type': 'application/json', 'X-API-Key': 'xe7GpFT9jrWNAnnfr9Dd7hyzhDFohdzsFJg8zRsb'}\n",
      "DEBUG: Params: None\n",
      "DEBUG: JSON data: {'platform': 'google_meet', 'native_meeting_id': 'rks-kevd-nhp', 'bot_name': 'Vexa', 'task': 'transcribe'}\n",
      "DEBUG: Response status: 201\n",
      "DEBUG: Response headers: {'date': 'Thu, 26 Jun 2025 19:41:45 GMT, Thu, 26 Jun 2025 19:41:45 GMT', 'server': 'uvicorn, uvicorn', 'content-length': '378', 'content-type': 'application/json'}\n",
      "DEBUG: Response content: {\"id\":250,\"user_id\":188,\"platform\":\"google_meet\",\"native_meeting_id\":\"rks-kevd-nhp\",\"constructed_meeting_url\":\"https://meet.google.com/rks-kevd-nhp\",\"status\":\"active\",\"bot_container_id\":\"vexa-bot/dispatch-1750966906-18380de1\",\"start_time\":\"2025-06-26T19:41:46.477096\",\"end_time\":null,\"data\":{},\"created_at\":\"2025-06-26T19:41:46.417150\",\"updated_at\":\"2025-06-26T19:41:46.424088\"}...\n"
     ]
    }
   ],
   "source": [
    "for i in range(1):\n",
    "    new_user = admin_client.create_user(email=f\"{random.randint(1, 1000000)}@example.com\", name=\"test\")\n",
    "\n",
    "\n",
    "    user_id = new_user['id']\n",
    "    user_id\n",
    "    token_info = admin_client.create_token(user_id=user_id)\n",
    "    user_api_key = token_info['token']\n",
    "    tokens.append(user_api_key)\n",
    "    client = VexaClient(\n",
    "        base_url=url,\n",
    "        api_key=user_api_key\n",
    "    )\n",
    "    client.set_webhook_url(\"https://webhook-test.com/e79be735cf3e9bc0c98ca068beaac1f3\")\n",
    "\n",
    "    \n",
    "    native_meeting_id = meeting_url.split(\"/\")[-1]  # \"xyz-abcd-123\"\n",
    "    meeting_info = client.request_bot(\n",
    "        platform=\"google_meet\",\n",
    "        native_meeting_id=native_meeting_id,\n",
    "        bot_name=\"Vexa\",\n",
    "    #  language='es',\n",
    "        task = 'transcribe'\n",
    "    )\n",
    "    meeting_id = meeting_info['id']"
   ]
  },
  {
   "cell_type": "code",
   "execution_count": 29,
   "metadata": {},
   "outputs": [
    {
     "data": {
      "text/plain": [
       "188"
      ]
     },
     "execution_count": 29,
     "metadata": {},
     "output_type": "execute_result"
    }
   ],
   "source": [
    "user_id"
   ]
  },
  {
   "cell_type": "code",
   "execution_count": 30,
   "metadata": {},
   "outputs": [],
   "source": [
    "import random"
   ]
  },
  {
   "cell_type": "code",
   "execution_count": 32,
   "metadata": {},
   "outputs": [
    {
     "data": {
      "text/html": [
       "<div>\n",
       "<style scoped>\n",
       "    .dataframe tbody tr th:only-of-type {\n",
       "        vertical-align: middle;\n",
       "    }\n",
       "\n",
       "    .dataframe tbody tr th {\n",
       "        vertical-align: top;\n",
       "    }\n",
       "\n",
       "    .dataframe thead th {\n",
       "        text-align: right;\n",
       "    }\n",
       "</style>\n",
       "<table border=\"1\" class=\"dataframe\">\n",
       "  <thead>\n",
       "    <tr style=\"text-align: right;\">\n",
       "      <th></th>\n",
       "      <th>start</th>\n",
       "      <th>end</th>\n",
       "      <th>text</th>\n",
       "      <th>language</th>\n",
       "      <th>created_at</th>\n",
       "      <th>speaker</th>\n",
       "      <th>absolute_start_time</th>\n",
       "      <th>absolute_end_time</th>\n",
       "    </tr>\n",
       "  </thead>\n",
       "  <tbody>\n",
       "    <tr>\n",
       "      <th>73</th>\n",
       "      <td>275.47</td>\n",
       "      <td>277.47</td>\n",
       "      <td>Thanks for watching!</td>\n",
       "      <td>en</td>\n",
       "      <td>None</td>\n",
       "      <td>Dmitriy Grankin</td>\n",
       "      <td>2025-06-26T19:46:40.297123+00:00</td>\n",
       "      <td>2025-06-26T19:46:42.297123+00:00</td>\n",
       "    </tr>\n",
       "    <tr>\n",
       "      <th>74</th>\n",
       "      <td>277.47</td>\n",
       "      <td>279.47</td>\n",
       "      <td>Thanks for watching!</td>\n",
       "      <td>en</td>\n",
       "      <td>2025-06-26T19:47:19.734376</td>\n",
       "      <td>None</td>\n",
       "      <td>2025-06-26T19:46:42.297123+00:00</td>\n",
       "      <td>2025-06-26T19:46:44.297123+00:00</td>\n",
       "    </tr>\n",
       "    <tr>\n",
       "      <th>75</th>\n",
       "      <td>285.78</td>\n",
       "      <td>287.15</td>\n",
       "      <td>Thank you.</td>\n",
       "      <td>en</td>\n",
       "      <td>None</td>\n",
       "      <td>None</td>\n",
       "      <td>2025-06-26T19:46:50.606123+00:00</td>\n",
       "      <td>2025-06-26T19:46:51.976123+00:00</td>\n",
       "    </tr>\n",
       "    <tr>\n",
       "      <th>76</th>\n",
       "      <td>286.15</td>\n",
       "      <td>288.15</td>\n",
       "      <td>Thank you.</td>\n",
       "      <td>en</td>\n",
       "      <td>2025-06-26T19:47:29.749053</td>\n",
       "      <td>None</td>\n",
       "      <td>2025-06-26T19:46:50.976123+00:00</td>\n",
       "      <td>2025-06-26T19:46:52.976123+00:00</td>\n",
       "    </tr>\n",
       "    <tr>\n",
       "      <th>77</th>\n",
       "      <td>287.15</td>\n",
       "      <td>290.64</td>\n",
       "      <td>Okay</td>\n",
       "      <td>en</td>\n",
       "      <td>None</td>\n",
       "      <td>Dmitriy Grankin</td>\n",
       "      <td>2025-06-26T19:46:51.976123+00:00</td>\n",
       "      <td>2025-06-26T19:46:55.466123+00:00</td>\n",
       "    </tr>\n",
       "    <tr>\n",
       "      <th>78</th>\n",
       "      <td>288.64</td>\n",
       "      <td>290.64</td>\n",
       "      <td>Okay</td>\n",
       "      <td>en</td>\n",
       "      <td>2025-06-26T19:47:29.749241</td>\n",
       "      <td>Dmitriy Grankin</td>\n",
       "      <td>2025-06-26T19:46:53.466123+00:00</td>\n",
       "      <td>2025-06-26T19:46:55.466123+00:00</td>\n",
       "    </tr>\n",
       "    <tr>\n",
       "      <th>79</th>\n",
       "      <td>290.64</td>\n",
       "      <td>300.31</td>\n",
       "      <td>At least he can see here, right?</td>\n",
       "      <td>en</td>\n",
       "      <td>None</td>\n",
       "      <td>Dmitriy Grankin</td>\n",
       "      <td>2025-06-26T19:46:55.466123+00:00</td>\n",
       "      <td>2025-06-26T19:47:05.136123+00:00</td>\n",
       "    </tr>\n",
       "    <tr>\n",
       "      <th>80</th>\n",
       "      <td>302.77</td>\n",
       "      <td>304.77</td>\n",
       "      <td>I can hide them here</td>\n",
       "      <td>en</td>\n",
       "      <td>None</td>\n",
       "      <td>Dmitriy Grankin</td>\n",
       "      <td>2025-06-26T19:47:07.603123+00:00</td>\n",
       "      <td>2025-06-26T19:47:09.603123+00:00</td>\n",
       "    </tr>\n",
       "    <tr>\n",
       "      <th>81</th>\n",
       "      <td>304.77</td>\n",
       "      <td>305.77</td>\n",
       "      <td>Thank you.</td>\n",
       "      <td>en</td>\n",
       "      <td>None</td>\n",
       "      <td>None</td>\n",
       "      <td>2025-06-26T19:47:09.603123+00:00</td>\n",
       "      <td>2025-06-26T19:47:10.603123+00:00</td>\n",
       "    </tr>\n",
       "    <tr>\n",
       "      <th>82</th>\n",
       "      <td>331.84</td>\n",
       "      <td>336.84</td>\n",
       "      <td>So, this is how the comrade feels, he feels himself.</td>\n",
       "      <td>en</td>\n",
       "      <td>None</td>\n",
       "      <td>Dmitriy Grankin</td>\n",
       "      <td>2025-06-26T19:47:36.672123+00:00</td>\n",
       "      <td>2025-06-26T19:47:41.672123+00:00</td>\n",
       "    </tr>\n",
       "  </tbody>\n",
       "</table>\n",
       "</div>"
      ],
      "text/plain": [
       "                  start                  end                                                   text language                  created_at          speaker               absolute_start_time                 absolute_end_time\n",
       "73               275.47               277.47                                   Thanks for watching!       en                        None  Dmitriy Grankin  2025-06-26T19:46:40.297123+00:00  2025-06-26T19:46:42.297123+00:00\n",
       "74               277.47               279.47                                   Thanks for watching!       en  2025-06-26T19:47:19.734376             None  2025-06-26T19:46:42.297123+00:00  2025-06-26T19:46:44.297123+00:00\n",
       "75               285.78               287.15                                             Thank you.       en                        None             None  2025-06-26T19:46:50.606123+00:00  2025-06-26T19:46:51.976123+00:00\n",
       "76               286.15               288.15                                             Thank you.       en  2025-06-26T19:47:29.749053             None  2025-06-26T19:46:50.976123+00:00  2025-06-26T19:46:52.976123+00:00\n",
       "77               287.15               290.64                                                   Okay       en                        None  Dmitriy Grankin  2025-06-26T19:46:51.976123+00:00  2025-06-26T19:46:55.466123+00:00\n",
       "78               288.64               290.64                                                   Okay       en  2025-06-26T19:47:29.749241  Dmitriy Grankin  2025-06-26T19:46:53.466123+00:00  2025-06-26T19:46:55.466123+00:00\n",
       "79               290.64               300.31                       At least he can see here, right?       en                        None  Dmitriy Grankin  2025-06-26T19:46:55.466123+00:00  2025-06-26T19:47:05.136123+00:00\n",
       "80               302.77               304.77                                   I can hide them here       en                        None  Dmitriy Grankin  2025-06-26T19:47:07.603123+00:00  2025-06-26T19:47:09.603123+00:00\n",
       "81               304.77               305.77                                             Thank you.       en                        None             None  2025-06-26T19:47:09.603123+00:00  2025-06-26T19:47:10.603123+00:00\n",
       "82               331.84               336.84   So, this is how the comrade feels, he feels himself.       en                        None  Dmitriy Grankin  2025-06-26T19:47:36.672123+00:00  2025-06-26T19:47:41.672123+00:00"
      ]
     },
     "metadata": {},
     "output_type": "display_data"
    },
    {
     "ename": "KeyboardInterrupt",
     "evalue": "",
     "output_type": "error",
     "traceback": [
      "\u001b[0;31m---------------------------------------------------------------------------\u001b[0m",
      "\u001b[0;31mKeyboardInterrupt\u001b[0m                         Traceback (most recent call last)",
      "Cell \u001b[0;32mIn[32], line 11\u001b[0m\n\u001b[1;32m      9\u001b[0m clear_output()\n\u001b[1;32m     10\u001b[0m display(df\u001b[38;5;241m.\u001b[39msort_values(\u001b[38;5;124m'\u001b[39m\u001b[38;5;124mabsolute_start_time\u001b[39m\u001b[38;5;124m'\u001b[39m)\u001b[38;5;241m.\u001b[39mtail(\u001b[38;5;241m10\u001b[39m))\n\u001b[0;32m---> 11\u001b[0m \u001b[43mtime\u001b[49m\u001b[38;5;241;43m.\u001b[39;49m\u001b[43msleep\u001b[49m\u001b[43m(\u001b[49m\u001b[38;5;241;43m1\u001b[39;49m\u001b[43m)\u001b[49m\n",
      "\u001b[0;31mKeyboardInterrupt\u001b[0m: "
     ]
    }
   ],
   "source": [
    "user_api_key = random.choice(tokens)\n",
    "client = VexaClient(\n",
    "        base_url=url,\n",
    "        api_key=user_api_key\n",
    "    )\n",
    "while True:\n",
    "    transcript = client.get_transcript(native_meeting_id=native_meeting_id,platform='google_meet')\n",
    "    df = pd.DataFrame(transcript['segments'])#.sort_values(['created_at','start'])#.drop_duplicates('start',keep='last')\n",
    "    clear_output()\n",
    "    display(df.sort_values('absolute_start_time').tail(10))\n",
    "    time.sleep(1)"
   ]
  },
  {
   "cell_type": "code",
   "execution_count": 18,
   "metadata": {},
   "outputs": [
    {
     "data": {
      "text/plain": [
       "9"
      ]
     },
     "execution_count": 18,
     "metadata": {},
     "output_type": "execute_result"
    }
   ],
   "source": [
    "len(tokens)"
   ]
  },
  {
   "cell_type": "code",
   "execution_count": 33,
   "metadata": {},
   "outputs": [
    {
     "name": "stdout",
     "output_type": "stream",
     "text": [
      "\n",
      "DEBUG: Making DELETE request to http://localhost:8926/bots/google_meet/rks-kevd-nhp\n",
      "DEBUG: Headers: {'Content-Type': 'application/json', 'X-API-Key': 'xe7GpFT9jrWNAnnfr9Dd7hyzhDFohdzsFJg8zRsb'}\n",
      "DEBUG: Params: None\n",
      "DEBUG: JSON data: None\n",
      "DEBUG: Response status: 202\n",
      "DEBUG: Response headers: {'date': 'Thu, 26 Jun 2025 19:47:48 GMT, Thu, 26 Jun 2025 19:47:48 GMT', 'server': 'uvicorn, uvicorn', 'content-length': '59', 'content-type': 'application/json'}\n",
      "DEBUG: Response content: {\"message\":\"Stop request accepted and is being processed.\"}...\n"
     ]
    }
   ],
   "source": [
    "for user_api_key in tokens:\n",
    "    client = VexaClient(\n",
    "            base_url=url,\n",
    "            api_key=user_api_key\n",
    "        )\n",
    "    client.stop_bot(platform=\"google_meet\",native_meeting_id=native_meeting_id)\n",
    "tokens = []"
   ]
  },
  {
   "cell_type": "code",
   "execution_count": 21,
   "metadata": {},
   "outputs": [
    {
     "data": {
      "text/plain": [
       "5"
      ]
     },
     "execution_count": 21,
     "metadata": {},
     "output_type": "execute_result"
    }
   ],
   "source": [
    "user_id"
   ]
  },
  {
   "cell_type": "code",
   "execution_count": 22,
   "metadata": {},
   "outputs": [
    {
     "name": "stdout",
     "output_type": "stream",
     "text": [
      "\n",
      "DEBUG: Making GET request to http://localhost:18056/bots/status\n",
      "DEBUG: Headers: {'Content-Type': 'application/json', 'X-API-Key': '2GNtUTbWl2vyqtXkFhvAAawQeQ4EDQRzymqqX1dl'}\n",
      "DEBUG: Params: None\n",
      "DEBUG: JSON data: None\n",
      "DEBUG: Response status: 200\n",
      "DEBUG: Response headers: {'date': 'Thu, 19 Jun 2025 08:38:20 GMT, Thu, 19 Jun 2025 08:38:20 GMT', 'server': 'uvicorn, uvicorn', 'content-length': '19', 'content-type': 'application/json'}\n",
      "DEBUG: Response content: {\"running_bots\":[]}...\n"
     ]
    }
   ],
   "source": [
    "running_bots = client.get_running_bots_status()"
   ]
  },
  {
   "cell_type": "code",
   "execution_count": 17,
   "metadata": {},
   "outputs": [
    {
     "name": "stdout",
     "output_type": "stream",
     "text": [
      "\n",
      "DEBUG: Making PUT request to http://localhost:8926/bots/google_meet/kgq-mbwy-mya/config\n",
      "DEBUG: Headers: {'Content-Type': 'application/json', 'X-API-Key': 'SAevPG4z3UmNI2a929psoJ3OHPvwkyDi8x8XEwqS'}\n",
      "DEBUG: Params: None\n",
      "DEBUG: JSON data: {'language': 'en', 'task': 'transcribe'}\n",
      "DEBUG: Response status: 202\n",
      "DEBUG: Response headers: {'date': 'Mon, 23 Jun 2025 15:04:16 GMT, Mon, 23 Jun 2025 15:04:15 GMT', 'server': 'uvicorn, uvicorn', 'content-length': '67', 'content-type': 'application/json'}\n",
      "DEBUG: Response content: {\"message\":\"Reconfiguration request accepted and sent to the bot.\"}...\n"
     ]
    },
    {
     "data": {
      "text/plain": [
       "{'message': 'Reconfiguration request accepted and sent to the bot.'}"
      ]
     },
     "execution_count": 17,
     "metadata": {},
     "output_type": "execute_result"
    }
   ],
   "source": [
    "client.update_bot_config(\n",
    "    platform=\"google_meet\",\n",
    "    native_meeting_id=native_meeting_id,\n",
    "    language='en',\n",
    "    task = 'transcribe'\n",
    ")"
   ]
  },
  {
   "cell_type": "code",
   "execution_count": 23,
   "metadata": {},
   "outputs": [
    {
     "name": "stdout",
     "output_type": "stream",
     "text": [
      "\n",
      "DEBUG: Making GET request to http://localhost:18056/bots/status\n",
      "DEBUG: Headers: {'Content-Type': 'application/json', 'X-API-Key': '2GNtUTbWl2vyqtXkFhvAAawQeQ4EDQRzymqqX1dl'}\n",
      "DEBUG: Params: None\n",
      "DEBUG: JSON data: None\n",
      "DEBUG: Response status: 200\n",
      "DEBUG: Response headers: {'date': 'Thu, 19 Jun 2025 08:38:26 GMT, Thu, 19 Jun 2025 08:38:25 GMT', 'server': 'uvicorn, uvicorn', 'content-length': '19', 'content-type': 'application/json'}\n",
      "DEBUG: Response content: {\"running_bots\":[]}...\n"
     ]
    }
   ],
   "source": [
    "running_bots = client.get_running_bots_status()"
   ]
  },
  {
   "cell_type": "code",
   "execution_count": 24,
   "metadata": {},
   "outputs": [
    {
     "name": "stdout",
     "output_type": "stream",
     "text": [
      "\n",
      "DEBUG: Making GET request to http://localhost:18056/meetings\n",
      "DEBUG: Headers: {'Content-Type': 'application/json', 'X-API-Key': '2GNtUTbWl2vyqtXkFhvAAawQeQ4EDQRzymqqX1dl'}\n",
      "DEBUG: Params: None\n",
      "DEBUG: JSON data: None\n",
      "DEBUG: Response status: 200\n",
      "DEBUG: Response headers: {'date': 'Thu, 19 Jun 2025 08:38:26 GMT, Thu, 19 Jun 2025 08:38:26 GMT', 'server': 'uvicorn, uvicorn', 'content-length': '496', 'content-type': 'application/json'}\n",
      "DEBUG: Response content: {\"meetings\":[{\"id\":9,\"user_id\":5,\"platform\":\"google_meet\",\"native_meeting_id\":\"xdy-txjo-fyh\",\"constructed_meeting_url\":\"https://meet.google.com/xdy-txjo-fyh\",\"status\":\"completed\",\"bot_container_id\":\"2bc15a0debc37f24ef42a5bd6a1763d2a9d9d7e43b0daae6091107e66477d44c\",\"start_time\":\"2025-06-19T08:37:33.371658\",\"end_time\":\"2025-06-19T08:38:19.097013\",\"data\":{\"languages\":[\"en\"],\"participants\":[\"Dmitriy Grankin\"]},\"created_at\":\"2025-06-19T08:37:33.143631\",\"updated_at\":\"2025-06-19T08:38:19.108524\"}]}...\n"
     ]
    }
   ],
   "source": [
    "meetings = client.get_meetings()"
   ]
  },
  {
   "cell_type": "markdown",
   "metadata": {},
   "source": []
  },
  {
   "cell_type": "code",
   "execution_count": 25,
   "metadata": {},
   "outputs": [
    {
     "data": {
      "text/plain": [
       "[{'id': 9,\n",
       "  'user_id': 5,\n",
       "  'platform': 'google_meet',\n",
       "  'native_meeting_id': 'xdy-txjo-fyh',\n",
       "  'constructed_meeting_url': 'https://meet.google.com/xdy-txjo-fyh',\n",
       "  'status': 'completed',\n",
       "  'bot_container_id': '2bc15a0debc37f24ef42a5bd6a1763d2a9d9d7e43b0daae6091107e66477d44c',\n",
       "  'start_time': '2025-06-19T08:37:33.371658',\n",
       "  'end_time': '2025-06-19T08:38:19.097013',\n",
       "  'data': {'languages': ['en'], 'participants': ['Dmitriy Grankin']},\n",
       "  'created_at': '2025-06-19T08:37:33.143631',\n",
       "  'updated_at': '2025-06-19T08:38:19.108524'}]"
      ]
     },
     "execution_count": 25,
     "metadata": {},
     "output_type": "execute_result"
    }
   ],
   "source": [
    "meetings"
   ]
  },
  {
   "cell_type": "code",
   "execution_count": 26,
   "metadata": {},
   "outputs": [
    {
     "name": "stdout",
     "output_type": "stream",
     "text": [
      "\n",
      "DEBUG: Making PATCH request to http://localhost:18056/meetings/google_meet/xdy-txjo-fyh\n",
      "DEBUG: Headers: {'Content-Type': 'application/json', 'X-API-Key': '2GNtUTbWl2vyqtXkFhvAAawQeQ4EDQRzymqqX1dl'}\n",
      "DEBUG: Params: None\n",
      "DEBUG: JSON data: {'data': {'name': 'Test Meeting'}}\n",
      "DEBUG: Response status: 200\n",
      "DEBUG: Response headers: {'date': 'Thu, 19 Jun 2025 08:38:34 GMT, Thu, 19 Jun 2025 08:38:34 GMT', 'server': 'uvicorn, uvicorn', 'content-length': '503', 'content-type': 'application/json'}\n",
      "DEBUG: Response content: {\"id\":9,\"user_id\":5,\"platform\":\"google_meet\",\"native_meeting_id\":\"xdy-txjo-fyh\",\"constructed_meeting_url\":\"https://meet.google.com/xdy-txjo-fyh\",\"status\":\"completed\",\"bot_container_id\":\"2bc15a0debc37f24ef42a5bd6a1763d2a9d9d7e43b0daae6091107e66477d44c\",\"start_time\":\"2025-06-19T08:37:33.371658\",\"end_time\":\"2025-06-19T08:38:19.097013\",\"data\":{\"name\":\"Test Meeting\",\"languages\":[\"en\"],\"participants\":[\"Dmitriy Grankin\"]},\"created_at\":\"2025-06-19T08:37:33.143631\",\"updated_at\":\"2025-06-19T08:38:34.30479...\n"
     ]
    },
    {
     "data": {
      "text/plain": [
       "{'id': 9,\n",
       " 'user_id': 5,\n",
       " 'platform': 'google_meet',\n",
       " 'native_meeting_id': 'xdy-txjo-fyh',\n",
       " 'constructed_meeting_url': 'https://meet.google.com/xdy-txjo-fyh',\n",
       " 'status': 'completed',\n",
       " 'bot_container_id': '2bc15a0debc37f24ef42a5bd6a1763d2a9d9d7e43b0daae6091107e66477d44c',\n",
       " 'start_time': '2025-06-19T08:37:33.371658',\n",
       " 'end_time': '2025-06-19T08:38:19.097013',\n",
       " 'data': {'name': 'Test Meeting',\n",
       "  'languages': ['en'],\n",
       "  'participants': ['Dmitriy Grankin']},\n",
       " 'created_at': '2025-06-19T08:37:33.143631',\n",
       " 'updated_at': '2025-06-19T08:38:34.304795'}"
      ]
     },
     "execution_count": 26,
     "metadata": {},
     "output_type": "execute_result"
    }
   ],
   "source": [
    "client.update_meeting_data(\n",
    "    platform=\"google_meet\",\n",
    "    native_meeting_id=native_meeting_id,\n",
    "    name=\"Test Meeting\",\n",
    ")"
   ]
  },
  {
   "cell_type": "code",
   "execution_count": 27,
   "metadata": {},
   "outputs": [
    {
     "name": "stdout",
     "output_type": "stream",
     "text": [
      "\n",
      "DEBUG: Making DELETE request to http://localhost:18056/meetings/google_meet/xdy-txjo-fyh\n",
      "DEBUG: Headers: {'Content-Type': 'application/json', 'X-API-Key': '2GNtUTbWl2vyqtXkFhvAAawQeQ4EDQRzymqqX1dl'}\n",
      "DEBUG: Params: None\n",
      "DEBUG: JSON data: None\n",
      "DEBUG: Response status: 200\n",
      "DEBUG: Response headers: {'date': 'Thu, 19 Jun 2025 08:38:35 GMT, Thu, 19 Jun 2025 08:38:35 GMT', 'server': 'uvicorn, uvicorn', 'content-length': '88', 'content-type': 'application/json'}\n",
      "DEBUG: Response content: {\"message\":\"Meeting google_meet/xdy-txjo-fyh and all its transcripts have been deleted\"}...\n"
     ]
    },
    {
     "data": {
      "text/plain": [
       "{'message': 'Meeting google_meet/xdy-txjo-fyh and all its transcripts have been deleted'}"
      ]
     },
     "execution_count": 27,
     "metadata": {},
     "output_type": "execute_result"
    }
   ],
   "source": [
    "client.delete_meeting(\n",
    "    platform=\"google_meet\",\n",
    "    native_meeting_id=native_meeting_id,\n",
    ")"
   ]
  },
  {
   "cell_type": "code",
   "execution_count": null,
   "metadata": {},
   "outputs": [],
   "source": []
  }
 ],
 "metadata": {
  "kernelspec": {
   "display_name": "Python 3",
   "language": "python",
   "name": "python3"
  },
  "language_info": {
   "codemirror_mode": {
    "name": "ipython",
    "version": 3
   },
   "file_extension": ".py",
   "mimetype": "text/x-python",
   "name": "python",
   "nbconvert_exporter": "python",
   "pygments_lexer": "ipython3",
   "version": "3.10.12"
  }
 },
 "nbformat": 4,
 "nbformat_minor": 2
}
