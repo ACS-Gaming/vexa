{
 "cells": [
  {
   "cell_type": "code",
   "execution_count": 1,
   "metadata": {},
   "outputs": [],
   "source": [
    "import pandas as pd\n",
    "pd.options.display.max_colwidth = 1000\n",
    "pd.set_option('display.max_colwidth', 1000)\n",
    "pd.set_option('display.max_rows', 1000)\n",
    "pd.set_option('display.max_columns', 1000)\n",
    "pd.set_option('display.width', 1000)\n",
    "pd.set_option('display.float_format', '{:20.2f}'.format)\n",
    "pd.set_option('display.max_colwidth', 1000)\n",
    "pd.set_option('display.max_rows', 1000)\n",
    "pd.set_option('display.max_columns', 1000)\n",
    "from IPython.display import clear_output,display"
   ]
  },
  {
   "cell_type": "code",
   "execution_count": 2,
   "metadata": {},
   "outputs": [],
   "source": [
    "# Load environment variables from .env file\n",
    "from dotenv import load_dotenv\n",
    "\n",
    "# Load .env file\n",
    "load_dotenv()\n",
    "import random\n",
    "\n",
    "import os\n",
    "from vexa_client import VexaClient\n",
    "\n",
    "import os\n",
    "TOKEN = os.getenv('ADMIN_API_TOKEN')\n",
    "\n",
    "TOKEN ='token'\n",
    "url = \"http://localhost:18056\"\n",
    "\n",
    "admin_client = VexaClient(\n",
    "    base_url=url,\n",
    "    admin_key=TOKEN  # From docker-compose.yml\n",
    ")\n",
    "\n",
    "import time"
   ]
  },
  {
   "cell_type": "code",
   "execution_count": 3,
   "metadata": {},
   "outputs": [],
   "source": [
    "meeting_url=\"https://meet.google.com/rks-kevd-nhp\""
   ]
  },
  {
   "cell_type": "code",
   "execution_count": 4,
   "metadata": {},
   "outputs": [],
   "source": [
    "tokens = []"
   ]
  },
  {
   "cell_type": "code",
   "execution_count": 41,
   "metadata": {},
   "outputs": [
    {
     "name": "stdout",
     "output_type": "stream",
     "text": [
      "\n",
      "DEBUG: Making POST request to http://localhost:18056/admin/users\n",
      "DEBUG: Headers: {'Content-Type': 'application/json', 'X-Admin-API-Key': 'token'}\n",
      "DEBUG: Params: None\n",
      "DEBUG: JSON data: {'email': '73409@example.com', 'name': 'test'}\n",
      "DEBUG: Response status: 201\n",
      "DEBUG: Response headers: {'date': 'Fri, 15 Aug 2025 11:59:24 GMT, Fri, 15 Aug 2025 11:59:24 GMT', 'server': 'uvicorn, uvicorn', 'content-length': '144', 'content-type': 'application/json'}\n",
      "DEBUG: Response content: {\"email\":\"73409@example.com\",\"name\":\"test\",\"image_url\":null,\"max_concurrent_bots\":1,\"data\":{},\"id\":24,\"created_at\":\"2025-08-15T11:59:25.053212\"}...\n",
      "\n",
      "DEBUG: Making POST request to http://localhost:18056/admin/users/24/tokens\n",
      "DEBUG: Headers: {'Content-Type': 'application/json', 'X-Admin-API-Key': 'token'}\n",
      "DEBUG: Params: None\n",
      "DEBUG: JSON data: None\n",
      "DEBUG: Response status: 201\n",
      "DEBUG: Response headers: {'date': 'Fri, 15 Aug 2025 11:59:24 GMT, Fri, 15 Aug 2025 11:59:24 GMT', 'server': 'uvicorn, uvicorn', 'content-length': '115', 'content-type': 'application/json'}\n",
      "DEBUG: Response content: {\"user_id\":24,\"id\":55,\"token\":\"TxMifuLeqda7p4GCcUw76kclclr5AaOPlIhIgHLQ\",\"created_at\":\"2025-08-15T11:59:25.065556\"}...\n",
      "\n",
      "DEBUG: Making POST request to http://localhost:18056/bots\n",
      "DEBUG: Headers: {'Content-Type': 'application/json', 'X-API-Key': 'TxMifuLeqda7p4GCcUw76kclclr5AaOPlIhIgHLQ'}\n",
      "DEBUG: Params: None\n",
      "DEBUG: JSON data: {'platform': 'google_meet', 'native_meeting_id': 'rks-kevd-nhp', 'bot_name': 'Vexa', 'task': 'transcribe'}\n",
      "DEBUG: Response status: 201\n",
      "DEBUG: Response headers: {'date': 'Fri, 15 Aug 2025 11:59:24 GMT, Fri, 15 Aug 2025 11:59:24 GMT', 'server': 'uvicorn, uvicorn', 'content-length': '403', 'content-type': 'application/json'}\n",
      "DEBUG: Response content: {\"id\":20,\"user_id\":24,\"platform\":\"google_meet\",\"native_meeting_id\":\"rks-kevd-nhp\",\"constructed_meeting_url\":\"https://meet.google.com/rks-kevd-nhp\",\"status\":\"active\",\"bot_container_id\":\"1b262ea3cbe2c77ec3a6bfa6eb1f5ff1b86720802e70b7baca02f45ea799b9b8\",\"start_time\":\"2025-08-15T11:59:25.443291\",\"end_time\":null,\"data\":{},\"created_at\":\"2025-08-15T11:59:25.079137\",\"updated_at\":\"2025-08-15T11:59:25.086559\"}...\n",
      "\n",
      "DEBUG: Making POST request to http://localhost:18056/admin/users\n",
      "DEBUG: Headers: {'Content-Type': 'application/json', 'X-Admin-API-Key': 'token'}\n",
      "DEBUG: Params: None\n",
      "DEBUG: JSON data: {'email': '389862@example.com', 'name': 'test'}\n",
      "DEBUG: Response status: 201\n",
      "DEBUG: Response headers: {'date': 'Fri, 15 Aug 2025 11:59:25 GMT, Fri, 15 Aug 2025 11:59:25 GMT', 'server': 'uvicorn, uvicorn', 'content-length': '145', 'content-type': 'application/json'}\n",
      "DEBUG: Response content: {\"email\":\"389862@example.com\",\"name\":\"test\",\"image_url\":null,\"max_concurrent_bots\":1,\"data\":{},\"id\":25,\"created_at\":\"2025-08-15T11:59:25.460476\"}...\n",
      "\n",
      "DEBUG: Making POST request to http://localhost:18056/admin/users/25/tokens\n",
      "DEBUG: Headers: {'Content-Type': 'application/json', 'X-Admin-API-Key': 'token'}\n",
      "DEBUG: Params: None\n",
      "DEBUG: JSON data: None\n",
      "DEBUG: Response status: 201\n",
      "DEBUG: Response headers: {'date': 'Fri, 15 Aug 2025 11:59:25 GMT, Fri, 15 Aug 2025 11:59:25 GMT', 'server': 'uvicorn, uvicorn', 'content-length': '115', 'content-type': 'application/json'}\n",
      "DEBUG: Response content: {\"user_id\":25,\"id\":56,\"token\":\"23zprLj9y6Lqy8pgJJC5x62UBt3dk9gSJLYiaezk\",\"created_at\":\"2025-08-15T11:59:25.475112\"}...\n",
      "\n",
      "DEBUG: Making POST request to http://localhost:18056/bots\n",
      "DEBUG: Headers: {'Content-Type': 'application/json', 'X-API-Key': '23zprLj9y6Lqy8pgJJC5x62UBt3dk9gSJLYiaezk'}\n",
      "DEBUG: Params: None\n",
      "DEBUG: JSON data: {'platform': 'google_meet', 'native_meeting_id': 'rks-kevd-nhp', 'bot_name': 'Vexa', 'task': 'transcribe'}\n",
      "DEBUG: Response status: 201\n",
      "DEBUG: Response headers: {'date': 'Fri, 15 Aug 2025 11:59:25 GMT, Fri, 15 Aug 2025 11:59:24 GMT', 'server': 'uvicorn, uvicorn', 'content-length': '403', 'content-type': 'application/json'}\n",
      "DEBUG: Response content: {\"id\":21,\"user_id\":25,\"platform\":\"google_meet\",\"native_meeting_id\":\"rks-kevd-nhp\",\"constructed_meeting_url\":\"https://meet.google.com/rks-kevd-nhp\",\"status\":\"active\",\"bot_container_id\":\"3435e4df3c13448b1fdd4735074a8c149c27e4749c786b7cceb663e4d0269608\",\"start_time\":\"2025-08-15T11:59:25.785105\",\"end_time\":null,\"data\":{},\"created_at\":\"2025-08-15T11:59:25.487646\",\"updated_at\":\"2025-08-15T11:59:25.493451\"}...\n"
     ]
    }
   ],
   "source": [
    "for i in range(2):\n",
    "    new_user = admin_client.create_user(email=f\"{random.randint(1, 1000000)}@example.com\", name=\"test\")\n",
    "\n",
    "\n",
    "    user_id = new_user['id']\n",
    "    user_id\n",
    "    token_info = admin_client.create_token(user_id=user_id)\n",
    "    user_api_key = token_info['token']\n",
    "    tokens.append(user_api_key)\n",
    "    client = VexaClient(\n",
    "        base_url=url,\n",
    "        api_key=user_api_key\n",
    "    )\n",
    "    #client.set_webhook_url(\"https://webhook-test.com/e79be735cf3e9bc0c98ca068beaac1f3\")\n",
    "\n",
    "    \n",
    "    native_meeting_id = meeting_url.split(\"/\")[-1]  # \"xyz-abcd-123\"\n",
    "    meeting_info = client.request_bot(\n",
    "        platform=\"google_meet\",\n",
    "        native_meeting_id=native_meeting_id,\n",
    "        bot_name=\"Vexa\",\n",
    "    #  language='es',\n",
    "        task = 'transcribe'\n",
    "    )\n",
    "    meeting_id = meeting_info['id']"
   ]
  },
  {
   "cell_type": "code",
   "execution_count": 42,
   "metadata": {},
   "outputs": [
    {
     "data": {
      "text/plain": [
       "25"
      ]
     },
     "execution_count": 42,
     "metadata": {},
     "output_type": "execute_result"
    }
   ],
   "source": [
    "user_id"
   ]
  },
  {
   "cell_type": "code",
   "execution_count": 43,
   "metadata": {},
   "outputs": [
    {
     "data": {
      "text/plain": [
       "6"
      ]
     },
     "execution_count": 43,
     "metadata": {},
     "output_type": "execute_result"
    }
   ],
   "source": [
    "len(tokens)"
   ]
  },
  {
   "cell_type": "code",
   "execution_count": 53,
   "metadata": {},
   "outputs": [],
   "source": [
    "i=0"
   ]
  },
  {
   "cell_type": "code",
   "execution_count": 58,
   "metadata": {},
   "outputs": [],
   "source": [
    "i=len(tokens)-1"
   ]
  },
  {
   "cell_type": "code",
   "execution_count": 59,
   "metadata": {},
   "outputs": [
    {
     "data": {
      "text/plain": [
       "5"
      ]
     },
     "execution_count": 59,
     "metadata": {},
     "output_type": "execute_result"
    }
   ],
   "source": [
    "i"
   ]
  },
  {
   "cell_type": "code",
   "execution_count": 60,
   "metadata": {},
   "outputs": [
    {
     "data": {
      "text/plain": [
       "6"
      ]
     },
     "execution_count": 60,
     "metadata": {},
     "output_type": "execute_result"
    }
   ],
   "source": [
    "len(tokens)"
   ]
  },
  {
   "cell_type": "code",
   "execution_count": 61,
   "metadata": {},
   "outputs": [
    {
     "ename": "KeyError",
     "evalue": "'absolute_start_time'",
     "output_type": "error",
     "traceback": [
      "\u001b[0;31m---------------------------------------------------------------------------\u001b[0m",
      "\u001b[0;31mKeyError\u001b[0m                                  Traceback (most recent call last)",
      "\u001b[0;32m/tmp/ipykernel_602365/1879826918.py\u001b[0m in \u001b[0;36m?\u001b[0;34m()\u001b[0m\n\u001b[1;32m      6\u001b[0m \u001b[0;32mwhile\u001b[0m \u001b[0;32mTrue\u001b[0m\u001b[0;34m:\u001b[0m\u001b[0;34m\u001b[0m\u001b[0;34m\u001b[0m\u001b[0m\n\u001b[1;32m      7\u001b[0m     \u001b[0mtranscript\u001b[0m \u001b[0;34m=\u001b[0m \u001b[0mclient\u001b[0m\u001b[0;34m.\u001b[0m\u001b[0mget_transcript\u001b[0m\u001b[0;34m(\u001b[0m\u001b[0mnative_meeting_id\u001b[0m\u001b[0;34m=\u001b[0m\u001b[0mnative_meeting_id\u001b[0m\u001b[0;34m,\u001b[0m\u001b[0mplatform\u001b[0m\u001b[0;34m=\u001b[0m\u001b[0;34m'google_meet'\u001b[0m\u001b[0;34m)\u001b[0m\u001b[0;34m\u001b[0m\u001b[0;34m\u001b[0m\u001b[0m\n\u001b[1;32m      8\u001b[0m     \u001b[0mdf\u001b[0m \u001b[0;34m=\u001b[0m \u001b[0mpd\u001b[0m\u001b[0;34m.\u001b[0m\u001b[0mDataFrame\u001b[0m\u001b[0;34m(\u001b[0m\u001b[0mtranscript\u001b[0m\u001b[0;34m[\u001b[0m\u001b[0;34m'segments'\u001b[0m\u001b[0;34m]\u001b[0m\u001b[0;34m)\u001b[0m\u001b[0;31m#.sort_values(['created_at','start'])#.drop_duplicates('start',keep='last')\u001b[0m\u001b[0;34m\u001b[0m\u001b[0;34m\u001b[0m\u001b[0m\n\u001b[1;32m      9\u001b[0m     \u001b[0mclear_output\u001b[0m\u001b[0;34m(\u001b[0m\u001b[0;34m)\u001b[0m\u001b[0;34m\u001b[0m\u001b[0;34m\u001b[0m\u001b[0m\n\u001b[0;32m---> 10\u001b[0;31m     \u001b[0mdisplay\u001b[0m\u001b[0;34m(\u001b[0m\u001b[0mdf\u001b[0m\u001b[0;34m.\u001b[0m\u001b[0msort_values\u001b[0m\u001b[0;34m(\u001b[0m\u001b[0;34m'absolute_start_time'\u001b[0m\u001b[0;34m)\u001b[0m\u001b[0;34m.\u001b[0m\u001b[0mtail\u001b[0m\u001b[0;34m(\u001b[0m\u001b[0;36m2\u001b[0m\u001b[0;34m)\u001b[0m\u001b[0;34m)\u001b[0m\u001b[0;34m\u001b[0m\u001b[0;34m\u001b[0m\u001b[0m\n\u001b[0m\u001b[1;32m     11\u001b[0m     \u001b[0mtime\u001b[0m\u001b[0;34m.\u001b[0m\u001b[0msleep\u001b[0m\u001b[0;34m(\u001b[0m\u001b[0;36m1\u001b[0m\u001b[0;34m)\u001b[0m\u001b[0;34m\u001b[0m\u001b[0;34m\u001b[0m\u001b[0m\n",
      "\u001b[0;32m~/anaconda3/envs/vexa/lib/python3.11/site-packages/pandas/core/frame.py\u001b[0m in \u001b[0;36m?\u001b[0;34m(self, by, axis, ascending, inplace, kind, na_position, ignore_index, key)\u001b[0m\n\u001b[1;32m   7192\u001b[0m             )\n\u001b[1;32m   7193\u001b[0m         \u001b[0;32melif\u001b[0m \u001b[0mlen\u001b[0m\u001b[0;34m(\u001b[0m\u001b[0mby\u001b[0m\u001b[0;34m)\u001b[0m\u001b[0;34m:\u001b[0m\u001b[0;34m\u001b[0m\u001b[0;34m\u001b[0m\u001b[0m\n\u001b[1;32m   7194\u001b[0m             \u001b[0;31m# len(by) == 1\u001b[0m\u001b[0;34m\u001b[0m\u001b[0;34m\u001b[0m\u001b[0m\n\u001b[1;32m   7195\u001b[0m \u001b[0;34m\u001b[0m\u001b[0m\n\u001b[0;32m-> 7196\u001b[0;31m             \u001b[0mk\u001b[0m \u001b[0;34m=\u001b[0m \u001b[0mself\u001b[0m\u001b[0;34m.\u001b[0m\u001b[0m_get_label_or_level_values\u001b[0m\u001b[0;34m(\u001b[0m\u001b[0mby\u001b[0m\u001b[0;34m[\u001b[0m\u001b[0;36m0\u001b[0m\u001b[0;34m]\u001b[0m\u001b[0;34m,\u001b[0m \u001b[0maxis\u001b[0m\u001b[0;34m=\u001b[0m\u001b[0maxis\u001b[0m\u001b[0;34m)\u001b[0m\u001b[0;34m\u001b[0m\u001b[0;34m\u001b[0m\u001b[0m\n\u001b[0m\u001b[1;32m   7197\u001b[0m \u001b[0;34m\u001b[0m\u001b[0m\n\u001b[1;32m   7198\u001b[0m             \u001b[0;31m# need to rewrap column in Series to apply key function\u001b[0m\u001b[0;34m\u001b[0m\u001b[0;34m\u001b[0m\u001b[0m\n\u001b[1;32m   7199\u001b[0m             \u001b[0;32mif\u001b[0m \u001b[0mkey\u001b[0m \u001b[0;32mis\u001b[0m \u001b[0;32mnot\u001b[0m \u001b[0;32mNone\u001b[0m\u001b[0;34m:\u001b[0m\u001b[0;34m\u001b[0m\u001b[0;34m\u001b[0m\u001b[0m\n",
      "\u001b[0;32m~/anaconda3/envs/vexa/lib/python3.11/site-packages/pandas/core/generic.py\u001b[0m in \u001b[0;36m?\u001b[0;34m(self, key, axis)\u001b[0m\n\u001b[1;32m   1907\u001b[0m             \u001b[0mvalues\u001b[0m \u001b[0;34m=\u001b[0m \u001b[0mself\u001b[0m\u001b[0;34m.\u001b[0m\u001b[0mxs\u001b[0m\u001b[0;34m(\u001b[0m\u001b[0mkey\u001b[0m\u001b[0;34m,\u001b[0m \u001b[0maxis\u001b[0m\u001b[0;34m=\u001b[0m\u001b[0mother_axes\u001b[0m\u001b[0;34m[\u001b[0m\u001b[0;36m0\u001b[0m\u001b[0;34m]\u001b[0m\u001b[0;34m)\u001b[0m\u001b[0;34m.\u001b[0m\u001b[0m_values\u001b[0m\u001b[0;34m\u001b[0m\u001b[0;34m\u001b[0m\u001b[0m\n\u001b[1;32m   1908\u001b[0m         \u001b[0;32melif\u001b[0m \u001b[0mself\u001b[0m\u001b[0;34m.\u001b[0m\u001b[0m_is_level_reference\u001b[0m\u001b[0;34m(\u001b[0m\u001b[0mkey\u001b[0m\u001b[0;34m,\u001b[0m \u001b[0maxis\u001b[0m\u001b[0;34m=\u001b[0m\u001b[0maxis\u001b[0m\u001b[0;34m)\u001b[0m\u001b[0;34m:\u001b[0m\u001b[0;34m\u001b[0m\u001b[0;34m\u001b[0m\u001b[0m\n\u001b[1;32m   1909\u001b[0m             \u001b[0mvalues\u001b[0m \u001b[0;34m=\u001b[0m \u001b[0mself\u001b[0m\u001b[0;34m.\u001b[0m\u001b[0maxes\u001b[0m\u001b[0;34m[\u001b[0m\u001b[0maxis\u001b[0m\u001b[0;34m]\u001b[0m\u001b[0;34m.\u001b[0m\u001b[0mget_level_values\u001b[0m\u001b[0;34m(\u001b[0m\u001b[0mkey\u001b[0m\u001b[0;34m)\u001b[0m\u001b[0;34m.\u001b[0m\u001b[0m_values\u001b[0m\u001b[0;34m\u001b[0m\u001b[0;34m\u001b[0m\u001b[0m\n\u001b[1;32m   1910\u001b[0m         \u001b[0;32melse\u001b[0m\u001b[0;34m:\u001b[0m\u001b[0;34m\u001b[0m\u001b[0;34m\u001b[0m\u001b[0m\n\u001b[0;32m-> 1911\u001b[0;31m             \u001b[0;32mraise\u001b[0m \u001b[0mKeyError\u001b[0m\u001b[0;34m(\u001b[0m\u001b[0mkey\u001b[0m\u001b[0;34m)\u001b[0m\u001b[0;34m\u001b[0m\u001b[0;34m\u001b[0m\u001b[0m\n\u001b[0m\u001b[1;32m   1912\u001b[0m \u001b[0;34m\u001b[0m\u001b[0m\n\u001b[1;32m   1913\u001b[0m         \u001b[0;31m# Check for duplicates\u001b[0m\u001b[0;34m\u001b[0m\u001b[0;34m\u001b[0m\u001b[0m\n\u001b[1;32m   1914\u001b[0m         \u001b[0;32mif\u001b[0m \u001b[0mvalues\u001b[0m\u001b[0;34m.\u001b[0m\u001b[0mndim\u001b[0m \u001b[0;34m>\u001b[0m \u001b[0;36m1\u001b[0m\u001b[0;34m:\u001b[0m\u001b[0;34m\u001b[0m\u001b[0;34m\u001b[0m\u001b[0m\n",
      "\u001b[0;31mKeyError\u001b[0m: 'absolute_start_time'"
     ]
    }
   ],
   "source": [
    "user_api_key = tokens[i]\n",
    "client = VexaClient(\n",
    "        base_url=url,\n",
    "        api_key=user_api_key\n",
    "    )\n",
    "while True:\n",
    "    transcript = client.get_transcript(native_meeting_id=native_meeting_id,platform='google_meet')\n",
    "    df = pd.DataFrame(transcript['segments'])#.sort_values(['created_at','start'])#.drop_duplicates('start',keep='last')\n",
    "    clear_output()\n",
    "    display(df.sort_values('absolute_start_time').tail(2))\n",
    "    time.sleep(1)"
   ]
  },
  {
   "cell_type": "code",
   "execution_count": null,
   "metadata": {},
   "outputs": [
    {
     "data": {
      "text/plain": [
       "1"
      ]
     },
     "execution_count": 19,
     "metadata": {},
     "output_type": "execute_result"
    }
   ],
   "source": [
    "len(tokens)"
   ]
  },
  {
   "cell_type": "code",
   "execution_count": 63,
   "metadata": {},
   "outputs": [
    {
     "name": "stdout",
     "output_type": "stream",
     "text": [
      "\n",
      "DEBUG: Making DELETE request to http://localhost:18056/bots/google_meet/rks-kevd-nhp\n",
      "DEBUG: Headers: {'Content-Type': 'application/json', 'X-API-Key': 'WoVbUbL0X6SHzV5zSmzVDwHDmByFBpuGinV4LhUC'}\n",
      "DEBUG: Params: None\n",
      "DEBUG: JSON data: None\n",
      "DEBUG: Response status: 404\n",
      "DEBUG: Response headers: {'date': 'Fri, 15 Aug 2025 12:02:07 GMT, Fri, 15 Aug 2025 12:02:07 GMT', 'server': 'uvicorn, uvicorn', 'content-length': '38', 'content-type': 'application/json'}\n",
      "DEBUG: Response content: {\"detail\":\"Active meeting not found.\"}...\n",
      "\n",
      "DEBUG: Making DELETE request to http://localhost:18056/bots/google_meet/rks-kevd-nhp\n",
      "DEBUG: Headers: {'Content-Type': 'application/json', 'X-API-Key': '1CxOlhW4zheu6idZyNndLUF5sNJLMP16cwzL7Pm4'}\n",
      "DEBUG: Params: None\n",
      "DEBUG: JSON data: None\n",
      "DEBUG: Response status: 404\n",
      "DEBUG: Response headers: {'date': 'Fri, 15 Aug 2025 12:02:07 GMT, Fri, 15 Aug 2025 12:02:07 GMT', 'server': 'uvicorn, uvicorn', 'content-length': '38', 'content-type': 'application/json'}\n",
      "DEBUG: Response content: {\"detail\":\"Active meeting not found.\"}...\n",
      "\n",
      "DEBUG: Making DELETE request to http://localhost:18056/bots/google_meet/rks-kevd-nhp\n",
      "DEBUG: Headers: {'Content-Type': 'application/json', 'X-API-Key': 'QtgowLNwFJRMp6MomseqM3QPsogDqhhhgkmHrDCz'}\n",
      "DEBUG: Params: None\n",
      "DEBUG: JSON data: None\n",
      "DEBUG: Response status: 404\n",
      "DEBUG: Response headers: {'date': 'Fri, 15 Aug 2025 12:02:07 GMT, Fri, 15 Aug 2025 12:02:07 GMT', 'server': 'uvicorn, uvicorn', 'content-length': '38', 'content-type': 'application/json'}\n",
      "DEBUG: Response content: {\"detail\":\"Active meeting not found.\"}...\n",
      "\n",
      "DEBUG: Making DELETE request to http://localhost:18056/bots/google_meet/rks-kevd-nhp\n",
      "DEBUG: Headers: {'Content-Type': 'application/json', 'X-API-Key': '0HnU45HN4sM3ROudmn8hWpawTICD0ykWWh5QNPKR'}\n",
      "DEBUG: Params: None\n",
      "DEBUG: JSON data: None\n",
      "DEBUG: Response status: 404\n",
      "DEBUG: Response headers: {'date': 'Fri, 15 Aug 2025 12:02:07 GMT, Fri, 15 Aug 2025 12:02:07 GMT', 'server': 'uvicorn, uvicorn', 'content-length': '38', 'content-type': 'application/json'}\n",
      "DEBUG: Response content: {\"detail\":\"Active meeting not found.\"}...\n",
      "\n",
      "DEBUG: Making DELETE request to http://localhost:18056/bots/google_meet/rks-kevd-nhp\n",
      "DEBUG: Headers: {'Content-Type': 'application/json', 'X-API-Key': 'TxMifuLeqda7p4GCcUw76kclclr5AaOPlIhIgHLQ'}\n",
      "DEBUG: Params: None\n",
      "DEBUG: JSON data: None\n",
      "DEBUG: Response status: 202\n",
      "DEBUG: Response headers: {'date': 'Fri, 15 Aug 2025 12:02:07 GMT, Fri, 15 Aug 2025 12:02:07 GMT', 'server': 'uvicorn, uvicorn', 'content-length': '59', 'content-type': 'application/json'}\n",
      "DEBUG: Response content: {\"message\":\"Stop request accepted and is being processed.\"}...\n",
      "\n",
      "DEBUG: Making DELETE request to http://localhost:18056/bots/google_meet/rks-kevd-nhp\n",
      "DEBUG: Headers: {'Content-Type': 'application/json', 'X-API-Key': '23zprLj9y6Lqy8pgJJC5x62UBt3dk9gSJLYiaezk'}\n",
      "DEBUG: Params: None\n",
      "DEBUG: JSON data: None\n",
      "DEBUG: Response status: 202\n",
      "DEBUG: Response headers: {'date': 'Fri, 15 Aug 2025 12:02:07 GMT, Fri, 15 Aug 2025 12:02:07 GMT', 'server': 'uvicorn, uvicorn', 'content-length': '59', 'content-type': 'application/json'}\n",
      "DEBUG: Response content: {\"message\":\"Stop request accepted and is being processed.\"}...\n"
     ]
    }
   ],
   "source": [
    "for user_api_key in tokens:\n",
    "    try:\n",
    "        client = VexaClient(\n",
    "                base_url=url,\n",
    "                api_key=user_api_key\n",
    "            )\n",
    "        client.stop_bot(platform=\"google_meet\",native_meeting_id=native_meeting_id)\n",
    "    except :\n",
    "        pass\n",
    "\n",
    "tokens = []"
   ]
  },
  {
   "cell_type": "code",
   "execution_count": 21,
   "metadata": {},
   "outputs": [
    {
     "data": {
      "text/plain": [
       "5"
      ]
     },
     "execution_count": 21,
     "metadata": {},
     "output_type": "execute_result"
    }
   ],
   "source": [
    "user_id"
   ]
  },
  {
   "cell_type": "code",
   "execution_count": 22,
   "metadata": {},
   "outputs": [
    {
     "name": "stdout",
     "output_type": "stream",
     "text": [
      "\n",
      "DEBUG: Making GET request to http://localhost:18056/bots/status\n",
      "DEBUG: Headers: {'Content-Type': 'application/json', 'X-API-Key': '2GNtUTbWl2vyqtXkFhvAAawQeQ4EDQRzymqqX1dl'}\n",
      "DEBUG: Params: None\n",
      "DEBUG: JSON data: None\n",
      "DEBUG: Response status: 200\n",
      "DEBUG: Response headers: {'date': 'Thu, 19 Jun 2025 08:38:20 GMT, Thu, 19 Jun 2025 08:38:20 GMT', 'server': 'uvicorn, uvicorn', 'content-length': '19', 'content-type': 'application/json'}\n",
      "DEBUG: Response content: {\"running_bots\":[]}...\n"
     ]
    }
   ],
   "source": [
    "running_bots = client.get_running_bots_status()"
   ]
  },
  {
   "cell_type": "code",
   "execution_count": 17,
   "metadata": {},
   "outputs": [
    {
     "name": "stdout",
     "output_type": "stream",
     "text": [
      "\n",
      "DEBUG: Making PUT request to http://localhost:8926/bots/google_meet/kgq-mbwy-mya/config\n",
      "DEBUG: Headers: {'Content-Type': 'application/json', 'X-API-Key': 'SAevPG4z3UmNI2a929psoJ3OHPvwkyDi8x8XEwqS'}\n",
      "DEBUG: Params: None\n",
      "DEBUG: JSON data: {'language': 'en', 'task': 'transcribe'}\n",
      "DEBUG: Response status: 202\n",
      "DEBUG: Response headers: {'date': 'Mon, 23 Jun 2025 15:04:16 GMT, Mon, 23 Jun 2025 15:04:15 GMT', 'server': 'uvicorn, uvicorn', 'content-length': '67', 'content-type': 'application/json'}\n",
      "DEBUG: Response content: {\"message\":\"Reconfiguration request accepted and sent to the bot.\"}...\n"
     ]
    },
    {
     "data": {
      "text/plain": [
       "{'message': 'Reconfiguration request accepted and sent to the bot.'}"
      ]
     },
     "execution_count": 17,
     "metadata": {},
     "output_type": "execute_result"
    }
   ],
   "source": [
    "client.update_bot_config(\n",
    "    platform=\"google_meet\",\n",
    "    native_meeting_id=native_meeting_id,\n",
    "    language='en',\n",
    "    task = 'transcribe'\n",
    ")"
   ]
  },
  {
   "cell_type": "code",
   "execution_count": 23,
   "metadata": {},
   "outputs": [
    {
     "name": "stdout",
     "output_type": "stream",
     "text": [
      "\n",
      "DEBUG: Making GET request to http://localhost:18056/bots/status\n",
      "DEBUG: Headers: {'Content-Type': 'application/json', 'X-API-Key': '2GNtUTbWl2vyqtXkFhvAAawQeQ4EDQRzymqqX1dl'}\n",
      "DEBUG: Params: None\n",
      "DEBUG: JSON data: None\n",
      "DEBUG: Response status: 200\n",
      "DEBUG: Response headers: {'date': 'Thu, 19 Jun 2025 08:38:26 GMT, Thu, 19 Jun 2025 08:38:25 GMT', 'server': 'uvicorn, uvicorn', 'content-length': '19', 'content-type': 'application/json'}\n",
      "DEBUG: Response content: {\"running_bots\":[]}...\n"
     ]
    }
   ],
   "source": [
    "running_bots = client.get_running_bots_status()"
   ]
  },
  {
   "cell_type": "code",
   "execution_count": 24,
   "metadata": {},
   "outputs": [
    {
     "name": "stdout",
     "output_type": "stream",
     "text": [
      "\n",
      "DEBUG: Making GET request to http://localhost:18056/meetings\n",
      "DEBUG: Headers: {'Content-Type': 'application/json', 'X-API-Key': '2GNtUTbWl2vyqtXkFhvAAawQeQ4EDQRzymqqX1dl'}\n",
      "DEBUG: Params: None\n",
      "DEBUG: JSON data: None\n",
      "DEBUG: Response status: 200\n",
      "DEBUG: Response headers: {'date': 'Thu, 19 Jun 2025 08:38:26 GMT, Thu, 19 Jun 2025 08:38:26 GMT', 'server': 'uvicorn, uvicorn', 'content-length': '496', 'content-type': 'application/json'}\n",
      "DEBUG: Response content: {\"meetings\":[{\"id\":9,\"user_id\":5,\"platform\":\"google_meet\",\"native_meeting_id\":\"xdy-txjo-fyh\",\"constructed_meeting_url\":\"https://meet.google.com/xdy-txjo-fyh\",\"status\":\"completed\",\"bot_container_id\":\"2bc15a0debc37f24ef42a5bd6a1763d2a9d9d7e43b0daae6091107e66477d44c\",\"start_time\":\"2025-06-19T08:37:33.371658\",\"end_time\":\"2025-06-19T08:38:19.097013\",\"data\":{\"languages\":[\"en\"],\"participants\":[\"Dmitriy Grankin\"]},\"created_at\":\"2025-06-19T08:37:33.143631\",\"updated_at\":\"2025-06-19T08:38:19.108524\"}]}...\n"
     ]
    }
   ],
   "source": [
    "meetings = client.get_meetings()"
   ]
  },
  {
   "cell_type": "markdown",
   "metadata": {},
   "source": []
  },
  {
   "cell_type": "code",
   "execution_count": 25,
   "metadata": {},
   "outputs": [
    {
     "data": {
      "text/plain": [
       "[{'id': 9,\n",
       "  'user_id': 5,\n",
       "  'platform': 'google_meet',\n",
       "  'native_meeting_id': 'xdy-txjo-fyh',\n",
       "  'constructed_meeting_url': 'https://meet.google.com/xdy-txjo-fyh',\n",
       "  'status': 'completed',\n",
       "  'bot_container_id': '2bc15a0debc37f24ef42a5bd6a1763d2a9d9d7e43b0daae6091107e66477d44c',\n",
       "  'start_time': '2025-06-19T08:37:33.371658',\n",
       "  'end_time': '2025-06-19T08:38:19.097013',\n",
       "  'data': {'languages': ['en'], 'participants': ['Dmitriy Grankin']},\n",
       "  'created_at': '2025-06-19T08:37:33.143631',\n",
       "  'updated_at': '2025-06-19T08:38:19.108524'}]"
      ]
     },
     "execution_count": 25,
     "metadata": {},
     "output_type": "execute_result"
    }
   ],
   "source": [
    "meetings"
   ]
  },
  {
   "cell_type": "code",
   "execution_count": 26,
   "metadata": {},
   "outputs": [
    {
     "name": "stdout",
     "output_type": "stream",
     "text": [
      "\n",
      "DEBUG: Making PATCH request to http://localhost:18056/meetings/google_meet/xdy-txjo-fyh\n",
      "DEBUG: Headers: {'Content-Type': 'application/json', 'X-API-Key': '2GNtUTbWl2vyqtXkFhvAAawQeQ4EDQRzymqqX1dl'}\n",
      "DEBUG: Params: None\n",
      "DEBUG: JSON data: {'data': {'name': 'Test Meeting'}}\n",
      "DEBUG: Response status: 200\n",
      "DEBUG: Response headers: {'date': 'Thu, 19 Jun 2025 08:38:34 GMT, Thu, 19 Jun 2025 08:38:34 GMT', 'server': 'uvicorn, uvicorn', 'content-length': '503', 'content-type': 'application/json'}\n",
      "DEBUG: Response content: {\"id\":9,\"user_id\":5,\"platform\":\"google_meet\",\"native_meeting_id\":\"xdy-txjo-fyh\",\"constructed_meeting_url\":\"https://meet.google.com/xdy-txjo-fyh\",\"status\":\"completed\",\"bot_container_id\":\"2bc15a0debc37f24ef42a5bd6a1763d2a9d9d7e43b0daae6091107e66477d44c\",\"start_time\":\"2025-06-19T08:37:33.371658\",\"end_time\":\"2025-06-19T08:38:19.097013\",\"data\":{\"name\":\"Test Meeting\",\"languages\":[\"en\"],\"participants\":[\"Dmitriy Grankin\"]},\"created_at\":\"2025-06-19T08:37:33.143631\",\"updated_at\":\"2025-06-19T08:38:34.30479...\n"
     ]
    },
    {
     "data": {
      "text/plain": [
       "{'id': 9,\n",
       " 'user_id': 5,\n",
       " 'platform': 'google_meet',\n",
       " 'native_meeting_id': 'xdy-txjo-fyh',\n",
       " 'constructed_meeting_url': 'https://meet.google.com/xdy-txjo-fyh',\n",
       " 'status': 'completed',\n",
       " 'bot_container_id': '2bc15a0debc37f24ef42a5bd6a1763d2a9d9d7e43b0daae6091107e66477d44c',\n",
       " 'start_time': '2025-06-19T08:37:33.371658',\n",
       " 'end_time': '2025-06-19T08:38:19.097013',\n",
       " 'data': {'name': 'Test Meeting',\n",
       "  'languages': ['en'],\n",
       "  'participants': ['Dmitriy Grankin']},\n",
       " 'created_at': '2025-06-19T08:37:33.143631',\n",
       " 'updated_at': '2025-06-19T08:38:34.304795'}"
      ]
     },
     "execution_count": 26,
     "metadata": {},
     "output_type": "execute_result"
    }
   ],
   "source": [
    "client.update_meeting_data(\n",
    "    platform=\"google_meet\",\n",
    "    native_meeting_id=native_meeting_id,\n",
    "    name=\"Test Meeting\",\n",
    ")"
   ]
  },
  {
   "cell_type": "code",
   "execution_count": 27,
   "metadata": {},
   "outputs": [
    {
     "name": "stdout",
     "output_type": "stream",
     "text": [
      "\n",
      "DEBUG: Making DELETE request to http://localhost:18056/meetings/google_meet/xdy-txjo-fyh\n",
      "DEBUG: Headers: {'Content-Type': 'application/json', 'X-API-Key': '2GNtUTbWl2vyqtXkFhvAAawQeQ4EDQRzymqqX1dl'}\n",
      "DEBUG: Params: None\n",
      "DEBUG: JSON data: None\n",
      "DEBUG: Response status: 200\n",
      "DEBUG: Response headers: {'date': 'Thu, 19 Jun 2025 08:38:35 GMT, Thu, 19 Jun 2025 08:38:35 GMT', 'server': 'uvicorn, uvicorn', 'content-length': '88', 'content-type': 'application/json'}\n",
      "DEBUG: Response content: {\"message\":\"Meeting google_meet/xdy-txjo-fyh and all its transcripts have been deleted\"}...\n"
     ]
    },
    {
     "data": {
      "text/plain": [
       "{'message': 'Meeting google_meet/xdy-txjo-fyh and all its transcripts have been deleted'}"
      ]
     },
     "execution_count": 27,
     "metadata": {},
     "output_type": "execute_result"
    }
   ],
   "source": [
    "client.delete_meeting(\n",
    "    platform=\"google_meet\",\n",
    "    native_meeting_id=native_meeting_id,\n",
    ")"
   ]
  },
  {
   "cell_type": "code",
   "execution_count": null,
   "metadata": {},
   "outputs": [],
   "source": []
  }
 ],
 "metadata": {
  "kernelspec": {
   "display_name": "vexa",
   "language": "python",
   "name": "python3"
  },
  "language_info": {
   "codemirror_mode": {
    "name": "ipython",
    "version": 3
   },
   "file_extension": ".py",
   "mimetype": "text/x-python",
   "name": "python",
   "nbconvert_exporter": "python",
   "pygments_lexer": "ipython3",
   "version": "3.11.10"
  }
 },
 "nbformat": 4,
 "nbformat_minor": 2
}
