{
 "cells": [
  {
   "cell_type": "code",
   "execution_count": 328,
   "metadata": {},
   "outputs": [],
   "source": [
    "# Load environment variables from .env file\n",
    "from dotenv import load_dotenv\n",
    "\n",
    "# Load .env file\n",
    "load_dotenv()\n",
    "\n",
    "import os\n",
    "from vexa_client import VexaClient\n",
    "\n",
    "import os\n",
    "TOKEN = os.getenv('ADMIN_API_TOKEN')"
   ]
  },
  {
   "cell_type": "code",
   "execution_count": 329,
   "metadata": {},
   "outputs": [],
   "source": [
    "url = \"http://localhost:8056\""
   ]
  },
  {
   "cell_type": "code",
   "execution_count": 330,
   "metadata": {},
   "outputs": [],
   "source": [
    "admin_client = VexaClient(\n",
    "    base_url=url,\n",
    "    admin_key=TOKEN  # From docker-compose.yml\n",
    ")"
   ]
  },
  {
   "cell_type": "code",
   "execution_count": 331,
   "metadata": {},
   "outputs": [],
   "source": [
    "import random"
   ]
  },
  {
   "cell_type": "code",
   "execution_count": null,
   "metadata": {},
   "outputs": [],
   "source": []
  },
  {
   "cell_type": "code",
   "execution_count": 332,
   "metadata": {},
   "outputs": [
    {
     "name": "stdout",
     "output_type": "stream",
     "text": [
      "\n",
      "DEBUG: Making POST request to http://localhost:8056/admin/users\n",
      "DEBUG: Headers: {'Content-Type': 'application/json', 'X-Admin-API-Key': 'KJnl2jjk&'}\n",
      "DEBUG: Params: None\n",
      "DEBUG: JSON data: {'email': '628927@example.com', 'name': 'test'}\n",
      "DEBUG: Response status: 201\n",
      "DEBUG: Response headers: {'date': 'Thu, 17 Apr 2025 11:03:54 GMT, Thu, 17 Apr 2025 11:03:53 GMT', 'server': 'uvicorn, uvicorn', 'content-length': '111', 'content-type': 'application/json'}\n",
      "DEBUG: Response content: {\"email\":\"628927@example.com\",\"name\":\"test\",\"image_url\":null,\"id\":74,\"created_at\":\"2025-04-17T11:03:54.192833\"}...\n"
     ]
    }
   ],
   "source": [
    "new_user = admin_client.create_user(email=f\"{random.randint(1, 1000000)}@example.com\", name=\"test\")\n"
   ]
  },
  {
   "cell_type": "code",
   "execution_count": 333,
   "metadata": {},
   "outputs": [],
   "source": [
    "\n",
    "user_id = new_user['id']"
   ]
  },
  {
   "cell_type": "code",
   "execution_count": 334,
   "metadata": {},
   "outputs": [
    {
     "data": {
      "text/plain": [
       "74"
      ]
     },
     "execution_count": 334,
     "metadata": {},
     "output_type": "execute_result"
    }
   ],
   "source": [
    "user_id"
   ]
  },
  {
   "cell_type": "code",
   "execution_count": 335,
   "metadata": {},
   "outputs": [
    {
     "name": "stdout",
     "output_type": "stream",
     "text": [
      "\n",
      "DEBUG: Making POST request to http://localhost:8056/admin/users/74/tokens\n",
      "DEBUG: Headers: {'Content-Type': 'application/json', 'X-Admin-API-Key': 'KJnl2jjk&'}\n",
      "DEBUG: Params: None\n",
      "DEBUG: JSON data: None\n",
      "DEBUG: Response status: 201\n",
      "DEBUG: Response headers: {'date': 'Thu, 17 Apr 2025 11:03:54 GMT, Thu, 17 Apr 2025 11:03:53 GMT', 'server': 'uvicorn, uvicorn', 'content-length': '115', 'content-type': 'application/json'}\n",
      "DEBUG: Response content: {\"user_id\":74,\"id\":76,\"token\":\"9JsOBRwmvXKr6HRvbB81Uax7BAGsBzopCj9fQogo\",\"created_at\":\"2025-04-17T11:03:54.224363\"}...\n"
     ]
    }
   ],
   "source": [
    "token_info = admin_client.create_token(user_id=user_id)\n",
    "user_api_key = token_info['token']"
   ]
  },
  {
   "cell_type": "code",
   "execution_count": 336,
   "metadata": {},
   "outputs": [
    {
     "data": {
      "text/plain": [
       "'9JsOBRwmvXKr6HRvbB81Uax7BAGsBzopCj9fQogo'"
      ]
     },
     "execution_count": 336,
     "metadata": {},
     "output_type": "execute_result"
    }
   ],
   "source": [
    "user_api_key"
   ]
  },
  {
   "cell_type": "code",
   "execution_count": 337,
   "metadata": {},
   "outputs": [],
   "source": [
    "client = VexaClient(\n",
    "    base_url=url,\n",
    "    api_key=user_api_key\n",
    ")"
   ]
  },
  {
   "cell_type": "code",
   "execution_count": 338,
   "metadata": {},
   "outputs": [],
   "source": [
    "meeting_url=\"https://meet.google.com/qcm-yvzc-izx\"\n",
    "native_meeting_id = meeting_url.split(\"/\")[-1]  # \"xyz-abcd-123\""
   ]
  },
  {
   "cell_type": "code",
   "execution_count": 339,
   "metadata": {},
   "outputs": [
    {
     "name": "stdout",
     "output_type": "stream",
     "text": [
      "\n",
      "DEBUG: Making POST request to http://localhost:8056/bots\n",
      "DEBUG: Headers: {'Content-Type': 'application/json', 'X-API-Key': '9JsOBRwmvXKr6HRvbB81Uax7BAGsBzopCj9fQogo'}\n",
      "DEBUG: Params: None\n",
      "DEBUG: JSON data: {'platform': 'google_meet', 'native_meeting_id': 'qcm-yvzc-izx', 'bot_name': 'MyBot'}\n"
     ]
    },
    {
     "name": "stdout",
     "output_type": "stream",
     "text": [
      "DEBUG: Response status: 201\n",
      "DEBUG: Response headers: {'date': 'Thu, 17 Apr 2025 11:03:54 GMT, Thu, 17 Apr 2025 11:03:53 GMT', 'server': 'uvicorn, uvicorn', 'content-length': '394', 'content-type': 'application/json'}\n",
      "DEBUG: Response content: {\"id\":101,\"user_id\":74,\"platform\":\"google_meet\",\"native_meeting_id\":\"qcm-yvzc-izx\",\"constructed_meeting_url\":\"https://meet.google.com/qcm-yvzc-izx\",\"status\":\"active\",\"bot_container_id\":\"99decb692a305b5302876e7814d59e6606b1c119012385430cb61d8d3b6e726a\",\"start_time\":\"2025-04-17T11:03:54.495853\",\"end_time\":null,\"created_at\":\"2025-04-17T11:03:54.262304\",\"updated_at\":\"2025-04-17T11:03:54.267841\"}...\n"
     ]
    }
   ],
   "source": [
    "meeting_info = client.request_bot(\n",
    "    platform=\"google_meet\",\n",
    "    native_meeting_id=native_meeting_id,\n",
    "    bot_name=\"MyBot\"\n",
    ")\n",
    "meeting_id = meeting_info['id']"
   ]
  },
  {
   "cell_type": "code",
   "execution_count": 340,
   "metadata": {},
   "outputs": [
    {
     "name": "stdout",
     "output_type": "stream",
     "text": [
      "\n",
      "DEBUG: Making GET request to http://localhost:8056/meetings\n",
      "DEBUG: Headers: {'Content-Type': 'application/json', 'X-API-Key': '9JsOBRwmvXKr6HRvbB81Uax7BAGsBzopCj9fQogo'}\n",
      "DEBUG: Params: None\n",
      "DEBUG: JSON data: None\n",
      "DEBUG: Response status: 200\n",
      "DEBUG: Response headers: {'date': 'Thu, 17 Apr 2025 11:03:54 GMT, Thu, 17 Apr 2025 11:03:54 GMT', 'server': 'uvicorn, uvicorn', 'content-length': '409', 'content-type': 'application/json'}\n",
      "DEBUG: Response content: {\"meetings\":[{\"id\":101,\"user_id\":74,\"platform\":\"google_meet\",\"native_meeting_id\":\"qcm-yvzc-izx\",\"constructed_meeting_url\":\"https://meet.google.com/qcm-yvzc-izx\",\"status\":\"active\",\"bot_container_id\":\"99decb692a305b5302876e7814d59e6606b1c119012385430cb61d8d3b6e726a\",\"start_time\":\"2025-04-17T11:03:54.495853\",\"end_time\":null,\"created_at\":\"2025-04-17T11:03:54.262304\",\"updated_at\":\"2025-04-17T11:03:54.267841\"}]}...\n"
     ]
    }
   ],
   "source": [
    "meetings = client.get_meetings()"
   ]
  },
  {
   "cell_type": "code",
   "execution_count": 341,
   "metadata": {},
   "outputs": [
    {
     "data": {
      "text/plain": [
       "101"
      ]
     },
     "execution_count": 341,
     "metadata": {},
     "output_type": "execute_result"
    }
   ],
   "source": [
    "meeting_id"
   ]
  },
  {
   "cell_type": "code",
   "execution_count": 342,
   "metadata": {},
   "outputs": [],
   "source": [
    "import pandas as pd"
   ]
  },
  {
   "cell_type": "code",
   "execution_count": 343,
   "metadata": {},
   "outputs": [],
   "source": [
    "pd.options.display.max_colwidth = 1000\n",
    "pd.set_option('display.max_colwidth', 1000)\n",
    "pd.set_option('display.max_rows', 1000)\n",
    "pd.set_option('display.max_columns', 1000)\n",
    "pd.set_option('display.width', 1000)\n",
    "pd.set_option('display.float_format', '{:20.2f}'.format)\n",
    "pd.set_option('display.max_colwidth', 1000)\n",
    "pd.set_option('display.max_rows', 1000)\n",
    "pd.set_option('display.max_columns', 1000)"
   ]
  },
  {
   "cell_type": "code",
   "execution_count": 375,
   "metadata": {},
   "outputs": [
    {
     "name": "stdout",
     "output_type": "stream",
     "text": [
      "\n",
      "DEBUG: Making GET request to http://localhost:8056/transcripts/google_meet/qcm-yvzc-izx\n",
      "DEBUG: Headers: {'Content-Type': 'application/json', 'X-API-Key': '9JsOBRwmvXKr6HRvbB81Uax7BAGsBzopCj9fQogo'}\n",
      "DEBUG: Params: None\n",
      "DEBUG: JSON data: None\n",
      "DEBUG: Response status: 200\n",
      "DEBUG: Response headers: {'date': 'Thu, 17 Apr 2025 11:05:11 GMT, Thu, 17 Apr 2025 11:05:11 GMT', 'server': 'uvicorn, uvicorn', 'content-length': '1794', 'content-type': 'application/json'}\n",
      "DEBUG: Response content: {\"id\":101,\"platform\":\"google_meet\",\"native_meeting_id\":\"qcm-yvzc-izx\",\"constructed_meeting_url\":\"https://meet.google.com/qcm-yvzc-izx\",\"status\":\"active\",\"start_time\":\"2025-04-17T11:03:54.495853\",\"end_time\":null,\"segments\":[{\"start\":0.0,\"end\":3.0,\"text\":\" Четыре, пять, раз, два, три, четыре, пять.\",\"language\":\"en\",\"created_at\":null,\"speaker\":null},{\"start\":4.0,\"end\":5.0,\"text\":\" Ну-ка, ну-ка, ну-ка, ну-ка, ну-ка, ну-ка, ну-ка.\",\"language\":\"en\",\"created_at\":null,\"speaker\":null},{\"start\":4.1,\"end\":...\n"
     ]
    },
    {
     "data": {
      "text/html": [
       "<div>\n",
       "<style scoped>\n",
       "    .dataframe tbody tr th:only-of-type {\n",
       "        vertical-align: middle;\n",
       "    }\n",
       "\n",
       "    .dataframe tbody tr th {\n",
       "        vertical-align: top;\n",
       "    }\n",
       "\n",
       "    .dataframe thead th {\n",
       "        text-align: right;\n",
       "    }\n",
       "</style>\n",
       "<table border=\"1\" class=\"dataframe\">\n",
       "  <thead>\n",
       "    <tr style=\"text-align: right;\">\n",
       "      <th></th>\n",
       "      <th>start</th>\n",
       "      <th>end</th>\n",
       "      <th>text</th>\n",
       "      <th>language</th>\n",
       "      <th>created_at</th>\n",
       "      <th>speaker</th>\n",
       "    </tr>\n",
       "  </thead>\n",
       "  <tbody>\n",
       "    <tr>\n",
       "      <th>2</th>\n",
       "      <td>4.10</td>\n",
       "      <td>6.10</td>\n",
       "      <td>Ну-ка, ну-ка, ну-ка, ну-ка, ну-ка.</td>\n",
       "      <td>en</td>\n",
       "      <td>None</td>\n",
       "      <td>None</td>\n",
       "    </tr>\n",
       "    <tr>\n",
       "      <th>3</th>\n",
       "      <td>6.10</td>\n",
       "      <td>8.10</td>\n",
       "      <td>Пап, смотри. Не надо.</td>\n",
       "      <td>en</td>\n",
       "      <td>None</td>\n",
       "      <td>None</td>\n",
       "    </tr>\n",
       "    <tr>\n",
       "      <th>4</th>\n",
       "      <td>8.10</td>\n",
       "      <td>10.10</td>\n",
       "      <td>5-6-7, 5-6-7.</td>\n",
       "      <td>en</td>\n",
       "      <td>None</td>\n",
       "      <td>None</td>\n",
       "    </tr>\n",
       "    <tr>\n",
       "      <th>5</th>\n",
       "      <td>10.10</td>\n",
       "      <td>14.63</td>\n",
       "      <td>А ну-ка, ну-ка, ну-ка,</td>\n",
       "      <td>en</td>\n",
       "      <td>None</td>\n",
       "      <td>None</td>\n",
       "    </tr>\n",
       "    <tr>\n",
       "      <th>6</th>\n",
       "      <td>14.63</td>\n",
       "      <td>16.63</td>\n",
       "      <td>ну-ка, ну-ка, ну-ка.</td>\n",
       "      <td>en</td>\n",
       "      <td>None</td>\n",
       "      <td>None</td>\n",
       "    </tr>\n",
       "    <tr>\n",
       "      <th>7</th>\n",
       "      <td>16.63</td>\n",
       "      <td>18.63</td>\n",
       "      <td>12 копченых гусей</td>\n",
       "      <td>en</td>\n",
       "      <td>None</td>\n",
       "      <td>None</td>\n",
       "    </tr>\n",
       "    <tr>\n",
       "      <th>8</th>\n",
       "      <td>18.63</td>\n",
       "      <td>20.63</td>\n",
       "      <td>пришли, поругали</td>\n",
       "      <td>en</td>\n",
       "      <td>None</td>\n",
       "      <td>None</td>\n",
       "    </tr>\n",
       "    <tr>\n",
       "      <th>9</th>\n",
       "      <td>20.63</td>\n",
       "      <td>27.29</td>\n",
       "      <td>поругали и присели. 12 копченых поросят.</td>\n",
       "      <td>en</td>\n",
       "      <td>None</td>\n",
       "      <td>None</td>\n",
       "    </tr>\n",
       "    <tr>\n",
       "      <th>10</th>\n",
       "      <td>31.21</td>\n",
       "      <td>40.15</td>\n",
       "      <td>И чтобы это не значило.</td>\n",
       "      <td>en</td>\n",
       "      <td>None</td>\n",
       "      <td>None</td>\n",
       "    </tr>\n",
       "    <tr>\n",
       "      <th>11</th>\n",
       "      <td>31.71</td>\n",
       "      <td>40.15</td>\n",
       "      <td>И чтобы это не значило.</td>\n",
       "      <td>en</td>\n",
       "      <td>None</td>\n",
       "      <td>None</td>\n",
       "    </tr>\n",
       "  </tbody>\n",
       "</table>\n",
       "</div>"
      ],
      "text/plain": [
       "                  start                  end                                       text language created_at speaker\n",
       "2                  4.10                 6.10         Ну-ка, ну-ка, ну-ка, ну-ка, ну-ка.       en       None    None\n",
       "3                  6.10                 8.10                      Пап, смотри. Не надо.       en       None    None\n",
       "4                  8.10                10.10                              5-6-7, 5-6-7.       en       None    None\n",
       "5                 10.10                14.63                     А ну-ка, ну-ка, ну-ка,       en       None    None\n",
       "6                 14.63                16.63                       ну-ка, ну-ка, ну-ка.       en       None    None\n",
       "7                 16.63                18.63                          12 копченых гусей       en       None    None\n",
       "8                 18.63                20.63                           пришли, поругали       en       None    None\n",
       "9                 20.63                27.29   поругали и присели. 12 копченых поросят.       en       None    None\n",
       "10                31.21                40.15                    И чтобы это не значило.       en       None    None\n",
       "11                31.71                40.15                    И чтобы это не значило.       en       None    None"
      ]
     },
     "execution_count": 375,
     "metadata": {},
     "output_type": "execute_result"
    }
   ],
   "source": [
    "\n",
    "\n",
    "transcript = client.get_transcript(native_meeting_id=native_meeting_id,platform='google_meet')\n",
    "df = pd.DataFrame(transcript['segments'])#.sort_values(['created_at','start'])#.drop_duplicates('start',keep='last')\n",
    "df.tail(10)"
   ]
  },
  {
   "cell_type": "code",
   "execution_count": 376,
   "metadata": {},
   "outputs": [
    {
     "data": {
      "text/html": [
       "<div>\n",
       "<style scoped>\n",
       "    .dataframe tbody tr th:only-of-type {\n",
       "        vertical-align: middle;\n",
       "    }\n",
       "\n",
       "    .dataframe tbody tr th {\n",
       "        vertical-align: top;\n",
       "    }\n",
       "\n",
       "    .dataframe thead th {\n",
       "        text-align: right;\n",
       "    }\n",
       "</style>\n",
       "<table border=\"1\" class=\"dataframe\">\n",
       "  <thead>\n",
       "    <tr style=\"text-align: right;\">\n",
       "      <th></th>\n",
       "      <th>start</th>\n",
       "      <th>end</th>\n",
       "      <th>text</th>\n",
       "      <th>language</th>\n",
       "      <th>created_at</th>\n",
       "      <th>speaker</th>\n",
       "    </tr>\n",
       "  </thead>\n",
       "  <tbody>\n",
       "    <tr>\n",
       "      <th>0</th>\n",
       "      <td>0.00</td>\n",
       "      <td>3.00</td>\n",
       "      <td>Четыре, пять, раз, два, три, четыре, пять.</td>\n",
       "      <td>en</td>\n",
       "      <td>None</td>\n",
       "      <td>None</td>\n",
       "    </tr>\n",
       "    <tr>\n",
       "      <th>1</th>\n",
       "      <td>4.00</td>\n",
       "      <td>5.00</td>\n",
       "      <td>Ну-ка, ну-ка, ну-ка, ну-ка, ну-ка, ну-ка, ну-ка.</td>\n",
       "      <td>en</td>\n",
       "      <td>None</td>\n",
       "      <td>None</td>\n",
       "    </tr>\n",
       "    <tr>\n",
       "      <th>2</th>\n",
       "      <td>4.10</td>\n",
       "      <td>6.10</td>\n",
       "      <td>Ну-ка, ну-ка, ну-ка, ну-ка, ну-ка.</td>\n",
       "      <td>en</td>\n",
       "      <td>None</td>\n",
       "      <td>None</td>\n",
       "    </tr>\n",
       "    <tr>\n",
       "      <th>3</th>\n",
       "      <td>6.10</td>\n",
       "      <td>8.10</td>\n",
       "      <td>Пап, смотри. Не надо.</td>\n",
       "      <td>en</td>\n",
       "      <td>None</td>\n",
       "      <td>None</td>\n",
       "    </tr>\n",
       "    <tr>\n",
       "      <th>4</th>\n",
       "      <td>8.10</td>\n",
       "      <td>10.10</td>\n",
       "      <td>5-6-7, 5-6-7.</td>\n",
       "      <td>en</td>\n",
       "      <td>None</td>\n",
       "      <td>None</td>\n",
       "    </tr>\n",
       "    <tr>\n",
       "      <th>5</th>\n",
       "      <td>10.10</td>\n",
       "      <td>14.63</td>\n",
       "      <td>А ну-ка, ну-ка, ну-ка,</td>\n",
       "      <td>en</td>\n",
       "      <td>None</td>\n",
       "      <td>None</td>\n",
       "    </tr>\n",
       "    <tr>\n",
       "      <th>6</th>\n",
       "      <td>14.63</td>\n",
       "      <td>16.63</td>\n",
       "      <td>ну-ка, ну-ка, ну-ка.</td>\n",
       "      <td>en</td>\n",
       "      <td>None</td>\n",
       "      <td>None</td>\n",
       "    </tr>\n",
       "    <tr>\n",
       "      <th>7</th>\n",
       "      <td>16.63</td>\n",
       "      <td>18.63</td>\n",
       "      <td>12 копченых гусей</td>\n",
       "      <td>en</td>\n",
       "      <td>None</td>\n",
       "      <td>None</td>\n",
       "    </tr>\n",
       "    <tr>\n",
       "      <th>8</th>\n",
       "      <td>18.63</td>\n",
       "      <td>20.63</td>\n",
       "      <td>пришли, поругали</td>\n",
       "      <td>en</td>\n",
       "      <td>None</td>\n",
       "      <td>None</td>\n",
       "    </tr>\n",
       "    <tr>\n",
       "      <th>9</th>\n",
       "      <td>20.63</td>\n",
       "      <td>27.29</td>\n",
       "      <td>поругали и присели. 12 копченых поросят.</td>\n",
       "      <td>en</td>\n",
       "      <td>None</td>\n",
       "      <td>None</td>\n",
       "    </tr>\n",
       "    <tr>\n",
       "      <th>10</th>\n",
       "      <td>31.21</td>\n",
       "      <td>40.15</td>\n",
       "      <td>И чтобы это не значило.</td>\n",
       "      <td>en</td>\n",
       "      <td>None</td>\n",
       "      <td>None</td>\n",
       "    </tr>\n",
       "    <tr>\n",
       "      <th>11</th>\n",
       "      <td>31.71</td>\n",
       "      <td>40.15</td>\n",
       "      <td>И чтобы это не значило.</td>\n",
       "      <td>en</td>\n",
       "      <td>None</td>\n",
       "      <td>None</td>\n",
       "    </tr>\n",
       "  </tbody>\n",
       "</table>\n",
       "</div>"
      ],
      "text/plain": [
       "                  start                  end                                               text language created_at speaker\n",
       "0                  0.00                 3.00         Четыре, пять, раз, два, три, четыре, пять.       en       None    None\n",
       "1                  4.00                 5.00   Ну-ка, ну-ка, ну-ка, ну-ка, ну-ка, ну-ка, ну-ка.       en       None    None\n",
       "2                  4.10                 6.10                 Ну-ка, ну-ка, ну-ка, ну-ка, ну-ка.       en       None    None\n",
       "3                  6.10                 8.10                              Пап, смотри. Не надо.       en       None    None\n",
       "4                  8.10                10.10                                      5-6-7, 5-6-7.       en       None    None\n",
       "5                 10.10                14.63                             А ну-ка, ну-ка, ну-ка,       en       None    None\n",
       "6                 14.63                16.63                               ну-ка, ну-ка, ну-ка.       en       None    None\n",
       "7                 16.63                18.63                                  12 копченых гусей       en       None    None\n",
       "8                 18.63                20.63                                   пришли, поругали       en       None    None\n",
       "9                 20.63                27.29           поругали и присели. 12 копченых поросят.       en       None    None\n",
       "10                31.21                40.15                            И чтобы это не значило.       en       None    None\n",
       "11                31.71                40.15                            И чтобы это не значило.       en       None    None"
      ]
     },
     "execution_count": 376,
     "metadata": {},
     "output_type": "execute_result"
    }
   ],
   "source": [
    "df"
   ]
  }
 ],
 "metadata": {
  "kernelspec": {
   "display_name": "langchain",
   "language": "python",
   "name": "langchain"
  },
  "language_info": {
   "codemirror_mode": {
    "name": "ipython",
    "version": 3
   },
   "file_extension": ".py",
   "mimetype": "text/x-python",
   "name": "python",
   "nbconvert_exporter": "python",
   "pygments_lexer": "ipython3",
   "version": "3.11.2"
  }
 },
 "nbformat": 4,
 "nbformat_minor": 2
}
