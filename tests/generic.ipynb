{
 "cells": [
  {
   "cell_type": "code",
   "execution_count": 1,
   "metadata": {},
   "outputs": [],
   "source": [
    "import pandas as pd\n",
    "pd.options.display.max_colwidth = 1000\n",
    "pd.set_option('display.max_colwidth', 1000)\n",
    "pd.set_option('display.max_rows', 1000)\n",
    "pd.set_option('display.max_columns', 1000)\n",
    "pd.set_option('display.width', 1000)\n",
    "pd.set_option('display.float_format', '{:20.2f}'.format)\n",
    "pd.set_option('display.max_colwidth', 1000)\n",
    "pd.set_option('display.max_rows', 1000)\n",
    "pd.set_option('display.max_columns', 1000)\n",
    "from IPython.display import clear_output,display"
   ]
  },
  {
   "cell_type": "code",
   "execution_count": 2,
   "metadata": {},
   "outputs": [],
   "source": [
    "# Load environment variables from .env file\n",
    "from dotenv import load_dotenv\n",
    "\n",
    "# Load .env file\n",
    "load_dotenv()\n",
    "import random\n",
    "\n",
    "import os\n",
    "from vexa_client import VexaClient\n",
    "\n",
    "import os\n",
    "TOKEN = os.getenv('ADMIN_API_TOKEN')\n",
    "url = \"http://localhost:18056\"\n",
    "admin_client = VexaClient(\n",
    "    base_url=url,\n",
    "    admin_key=TOKEN  # From docker-compose.yml\n",
    ")\n",
    "\n",
    "import time"
   ]
  },
  {
   "cell_type": "code",
   "execution_count": 3,
   "metadata": {},
   "outputs": [
    {
     "name": "stdout",
     "output_type": "stream",
     "text": [
      "\n",
      "DEBUG: Making POST request to http://localhost:18056/admin/users\n",
      "DEBUG: Headers: {'Content-Type': 'application/json', 'X-Admin-API-Key': 'token'}\n",
      "DEBUG: Params: None\n",
      "DEBUG: JSON data: {'email': '8493@example.com', 'name': 'test', 'max_concurrent_bots': 1}\n",
      "DEBUG: Response status: 201\n",
      "DEBUG: Response headers: {'date': 'Fri, 05 Sep 2025 20:11:01 GMT, Fri, 05 Sep 2025 20:11:01 GMT', 'server': 'uvicorn, uvicorn', 'content-length': '144', 'content-type': 'application/json'}\n",
      "DEBUG: Response content: {\"email\":\"8493@example.com\",\"name\":\"test\",\"image_url\":null,\"max_concurrent_bots\":1,\"data\":{},\"id\":124,\"created_at\":\"2025-09-05T20:11:01.978499\"}...\n"
     ]
    }
   ],
   "source": [
    "new_user = admin_client.create_user(email=f\"{random.randint(1, 1000000)}@example.com\", \n",
    "                                    name=\"test\",\n",
    "                                    max_concurrent_bots=1)\n"
   ]
  },
  {
   "cell_type": "code",
   "execution_count": 4,
   "metadata": {},
   "outputs": [
    {
     "name": "stdout",
     "output_type": "stream",
     "text": [
      "\n",
      "DEBUG: Making POST request to http://localhost:18056/admin/users/124/tokens\n",
      "DEBUG: Headers: {'Content-Type': 'application/json', 'X-Admin-API-Key': 'token'}\n",
      "DEBUG: Params: None\n",
      "DEBUG: JSON data: None\n",
      "DEBUG: Response status: 201\n",
      "DEBUG: Response headers: {'date': 'Fri, 05 Sep 2025 20:11:02 GMT, Fri, 05 Sep 2025 20:11:02 GMT', 'server': 'uvicorn, uvicorn', 'content-length': '117', 'content-type': 'application/json'}\n",
      "DEBUG: Response content: {\"user_id\":124,\"id\":165,\"token\":\"wqMBd1xmEDFNXDZOeXNG9poGYtYS1j0ft3ZgkZvF\",\"created_at\":\"2025-09-05T20:11:02.672460\"}...\n"
     ]
    }
   ],
   "source": [
    "\n",
    "user_id = new_user['id']\n",
    "user_id\n",
    "token_info = admin_client.create_token(user_id=user_id)\n",
    "user_api_key = token_info['token']\n",
    "client = VexaClient(\n",
    "    base_url=url,\n",
    "    api_key=user_api_key\n",
    ")"
   ]
  },
  {
   "cell_type": "code",
   "execution_count": 5,
   "metadata": {},
   "outputs": [
    {
     "name": "stdout",
     "output_type": "stream",
     "text": [
      "\n",
      "DEBUG: Making PUT request to http://localhost:18056/user/webhook\n",
      "DEBUG: Headers: {'Content-Type': 'application/json', 'X-API-Key': 'wqMBd1xmEDFNXDZOeXNG9poGYtYS1j0ft3ZgkZvF'}\n",
      "DEBUG: Params: None\n",
      "DEBUG: JSON data: {'webhook_url': 'https://webhook-test.com/e79be735cf3e9bc0c98ca068beaac1f3'}\n",
      "DEBUG: Response status: 200\n",
      "DEBUG: Response headers: {'date': 'Fri, 05 Sep 2025 20:11:02 GMT, Fri, 05 Sep 2025 20:11:02 GMT', 'server': 'uvicorn, uvicorn', 'content-length': '217', 'content-type': 'application/json'}\n",
      "DEBUG: Response content: {\"email\":\"8493@example.com\",\"name\":\"test\",\"image_url\":null,\"max_concurrent_bots\":1,\"data\":{\"webhook_url\":\"https://webhook-test.com/e79be735cf3e9bc0c98ca068beaac1f3\"},\"id\":124,\"created_at\":\"2025-09-05T20:11:01.978499\"}...\n"
     ]
    },
    {
     "data": {
      "text/plain": [
       "{'email': '8493@example.com',\n",
       " 'name': 'test',\n",
       " 'image_url': None,\n",
       " 'max_concurrent_bots': 1,\n",
       " 'data': {'webhook_url': 'https://webhook-test.com/e79be735cf3e9bc0c98ca068beaac1f3'},\n",
       " 'id': 124,\n",
       " 'created_at': '2025-09-05T20:11:01.978499'}"
      ]
     },
     "execution_count": 5,
     "metadata": {},
     "output_type": "execute_result"
    }
   ],
   "source": [
    "client.set_webhook_url(\"https://webhook-test.com/e79be735cf3e9bc0c98ca068beaac1f3\")"
   ]
  },
  {
   "cell_type": "code",
   "execution_count": 6,
   "metadata": {},
   "outputs": [
    {
     "data": {
      "text/plain": [
       "'wqMBd1xmEDFNXDZOeXNG9poGYtYS1j0ft3ZgkZvF'"
      ]
     },
     "execution_count": 6,
     "metadata": {},
     "output_type": "execute_result"
    }
   ],
   "source": [
    "user_api_key"
   ]
  },
  {
   "cell_type": "code",
   "execution_count": 7,
   "metadata": {},
   "outputs": [
    {
     "name": "stdout",
     "output_type": "stream",
     "text": [
      "\n",
      "DEBUG: Making POST request to http://localhost:18056/bots\n",
      "DEBUG: Headers: {'Content-Type': 'application/json', 'X-API-Key': 'wqMBd1xmEDFNXDZOeXNG9poGYtYS1j0ft3ZgkZvF'}\n",
      "DEBUG: Params: None\n",
      "DEBUG: JSON data: {'platform': 'google_meet', 'native_meeting_id': 'xdy-txjo-fyh', 'bot_name': \"Vexa's bot Fanu&y***982@#\", 'language': 'es', 'task': 'transcribe'}\n",
      "DEBUG: Response status: 201\n",
      "DEBUG: Response headers: {'date': 'Fri, 05 Sep 2025 20:11:03 GMT, Fri, 05 Sep 2025 20:11:04 GMT', 'server': 'uvicorn, uvicorn', 'content-length': '384', 'content-type': 'application/json'}\n",
      "DEBUG: Response content: {\"id\":249,\"user_id\":124,\"platform\":\"google_meet\",\"native_meeting_id\":\"xdy-txjo-fyh\",\"constructed_meeting_url\":\"https://meet.google.com/xdy-txjo-fyh\",\"status\":\"requested\",\"bot_container_id\":\"212e60bdd17e8ae596e912bc1c3017bea1c4dfd91fb78d229791d1a73a4bf05f\",\"start_time\":null,\"end_time\":null,\"data\":{},\"created_at\":\"2025-09-05T20:11:04.527105\",\"updated_at\":\"2025-09-05T20:11:04.559696\"}...\n"
     ]
    }
   ],
   "source": [
    "\n",
    "meeting_url=\"https://meet.google.com/xdy-txjo-fyh\"\n",
    "#meeting_url=\"https://meet.google.com/fjp-cbnn-hug\"\n",
    "native_meeting_id = meeting_url.split(\"/\")[-1]  # \"xyz-abcd-123\"\n",
    "meeting_info = client.request_bot(\n",
    "    platform=\"google_meet\",\n",
    "    native_meeting_id=native_meeting_id,\n",
    "    bot_name=\"Vexa's bot Fanu&y***982@#\",\n",
    "    language='es',\n",
    "    task = 'transcribe'\n",
    ")\n",
    "meeting_id = meeting_info['id']"
   ]
  },
  {
   "cell_type": "code",
   "execution_count": 8,
   "metadata": {},
   "outputs": [
    {
     "data": {
      "text/plain": [
       "124"
      ]
     },
     "execution_count": 8,
     "metadata": {},
     "output_type": "execute_result"
    }
   ],
   "source": [
    "user_id"
   ]
  },
  {
   "cell_type": "code",
   "execution_count": 77,
   "metadata": {},
   "outputs": [
    {
     "data": {
      "text/html": [
       "<div>\n",
       "<style scoped>\n",
       "    .dataframe tbody tr th:only-of-type {\n",
       "        vertical-align: middle;\n",
       "    }\n",
       "\n",
       "    .dataframe tbody tr th {\n",
       "        vertical-align: top;\n",
       "    }\n",
       "\n",
       "    .dataframe thead th {\n",
       "        text-align: right;\n",
       "    }\n",
       "</style>\n",
       "<table border=\"1\" class=\"dataframe\">\n",
       "  <thead>\n",
       "    <tr style=\"text-align: right;\">\n",
       "      <th></th>\n",
       "      <th>start</th>\n",
       "      <th>end</th>\n",
       "      <th>text</th>\n",
       "      <th>language</th>\n",
       "      <th>created_at</th>\n",
       "      <th>speaker</th>\n",
       "      <th>absolute_start_time</th>\n",
       "      <th>absolute_end_time</th>\n",
       "    </tr>\n",
       "  </thead>\n",
       "  <tbody>\n",
       "    <tr>\n",
       "      <th>47</th>\n",
       "      <td>174.97</td>\n",
       "      <td>178.99</td>\n",
       "      <td>But Black also knows that when he hits a queen on</td>\n",
       "      <td>en</td>\n",
       "      <td>None</td>\n",
       "      <td>Participant (spaces/YM1me_QafFMB/devices/69)</td>\n",
       "      <td>2025-09-05T20:14:45.590967+00:00</td>\n",
       "      <td>2025-09-05T20:14:49.610967+00:00</td>\n",
       "    </tr>\n",
       "    <tr>\n",
       "      <th>48</th>\n",
       "      <td>199.23</td>\n",
       "      <td>208.63</td>\n",
       "      <td>So, we.</td>\n",
       "      <td>en</td>\n",
       "      <td>2025-09-05T20:15:55.034169</td>\n",
       "      <td>Dmitriy Grankin</td>\n",
       "      <td>2025-09-05T20:15:09.857967+00:00</td>\n",
       "      <td>2025-09-05T20:15:19.257967+00:00</td>\n",
       "    </tr>\n",
       "    <tr>\n",
       "      <th>49</th>\n",
       "      <td>202.12</td>\n",
       "      <td>202.15</td>\n",
       "      <td>Have a good one.</td>\n",
       "      <td>en</td>\n",
       "      <td>2025-09-05T20:15:55.035075</td>\n",
       "      <td>None</td>\n",
       "      <td>2025-09-05T20:15:12.750967+00:00</td>\n",
       "      <td>2025-09-05T20:15:12.770967+00:00</td>\n",
       "    </tr>\n",
       "  </tbody>\n",
       "</table>\n",
       "</div>"
      ],
      "text/plain": [
       "                  start                  end                                                text language                  created_at                                       speaker               absolute_start_time                 absolute_end_time\n",
       "47               174.97               178.99   But Black also knows that when he hits a queen on       en                        None  Participant (spaces/YM1me_QafFMB/devices/69)  2025-09-05T20:14:45.590967+00:00  2025-09-05T20:14:49.610967+00:00\n",
       "48               199.23               208.63                                             So, we.       en  2025-09-05T20:15:55.034169                               Dmitriy Grankin  2025-09-05T20:15:09.857967+00:00  2025-09-05T20:15:19.257967+00:00\n",
       "49               202.12               202.15                                    Have a good one.       en  2025-09-05T20:15:55.035075                                          None  2025-09-05T20:15:12.750967+00:00  2025-09-05T20:15:12.770967+00:00"
      ]
     },
     "metadata": {},
     "output_type": "display_data"
    }
   ],
   "source": [
    "transcript = client.get_transcript(native_meeting_id=native_meeting_id,platform='google_meet')\n",
    "df = pd.DataFrame(transcript['segments'])#.sort_values(['created_at','start'])#.drop_duplicates('start',keep='last')\n",
    "clear_output()\n",
    "display(df.sort_values('absolute_start_time').tail(3))"
   ]
  },
  {
   "cell_type": "code",
   "execution_count": 78,
   "metadata": {},
   "outputs": [
    {
     "data": {
      "text/plain": [
       "[{'start': 174.965,\n",
       "  'end': 178.985,\n",
       "  'text': ' But Black also knows that when he hits a queen on',\n",
       "  'language': 'en',\n",
       "  'created_at': None,\n",
       "  'speaker': 'Participant (spaces/YM1me_QafFMB/devices/69)',\n",
       "  'absolute_start_time': '2025-09-05T20:14:45.590967+00:00',\n",
       "  'absolute_end_time': '2025-09-05T20:14:49.610967+00:00'},\n",
       " {'start': 199.232,\n",
       "  'end': 208.632,\n",
       "  'text': ' So, we.',\n",
       "  'language': 'en',\n",
       "  'created_at': '2025-09-05T20:15:55.034169',\n",
       "  'speaker': 'Dmitriy Grankin',\n",
       "  'absolute_start_time': '2025-09-05T20:15:09.857967+00:00',\n",
       "  'absolute_end_time': '2025-09-05T20:15:19.257967+00:00'},\n",
       " {'start': 202.125,\n",
       "  'end': 202.145,\n",
       "  'text': ' Have a good one.',\n",
       "  'language': 'en',\n",
       "  'created_at': '2025-09-05T20:15:55.035075',\n",
       "  'speaker': None,\n",
       "  'absolute_start_time': '2025-09-05T20:15:12.750967+00:00',\n",
       "  'absolute_end_time': '2025-09-05T20:15:12.770967+00:00'}]"
      ]
     },
     "execution_count": 78,
     "metadata": {},
     "output_type": "execute_result"
    }
   ],
   "source": [
    "transcript['segments'][-3:]"
   ]
  },
  {
   "cell_type": "code",
   "execution_count": null,
   "metadata": {},
   "outputs": [
    {
     "data": {
      "text/html": [
       "<div>\n",
       "<style scoped>\n",
       "    .dataframe tbody tr th:only-of-type {\n",
       "        vertical-align: middle;\n",
       "    }\n",
       "\n",
       "    .dataframe tbody tr th {\n",
       "        vertical-align: top;\n",
       "    }\n",
       "\n",
       "    .dataframe thead th {\n",
       "        text-align: right;\n",
       "    }\n",
       "</style>\n",
       "<table border=\"1\" class=\"dataframe\">\n",
       "  <thead>\n",
       "    <tr style=\"text-align: right;\">\n",
       "      <th></th>\n",
       "      <th>start</th>\n",
       "      <th>end</th>\n",
       "      <th>text</th>\n",
       "      <th>language</th>\n",
       "      <th>created_at</th>\n",
       "      <th>speaker</th>\n",
       "      <th>absolute_start_time</th>\n",
       "      <th>absolute_end_time</th>\n",
       "    </tr>\n",
       "  </thead>\n",
       "  <tbody>\n",
       "    <tr>\n",
       "      <th>302</th>\n",
       "      <td>1397.96</td>\n",
       "      <td>1399.96</td>\n",
       "      <td>Thank you!</td>\n",
       "      <td>en</td>\n",
       "      <td>None</td>\n",
       "      <td>Dmitriy Grankin</td>\n",
       "      <td>2025-09-05T20:35:08.586967+00:00</td>\n",
       "      <td>2025-09-05T20:35:10.586967+00:00</td>\n",
       "    </tr>\n",
       "    <tr>\n",
       "      <th>303</th>\n",
       "      <td>1399.96</td>\n",
       "      <td>1401.96</td>\n",
       "      <td>What was it all about?</td>\n",
       "      <td>en</td>\n",
       "      <td>None</td>\n",
       "      <td>Dmitriy Grankin</td>\n",
       "      <td>2025-09-05T20:35:10.586967+00:00</td>\n",
       "      <td>2025-09-05T20:35:12.586967+00:00</td>\n",
       "    </tr>\n",
       "    <tr>\n",
       "      <th>304</th>\n",
       "      <td>1401.96</td>\n",
       "      <td>1405.49</td>\n",
       "      <td>It was a good day.</td>\n",
       "      <td>en</td>\n",
       "      <td>None</td>\n",
       "      <td>Dmitriy Grankin</td>\n",
       "      <td>2025-09-05T20:35:12.586967+00:00</td>\n",
       "      <td>2025-09-05T20:35:16.116967+00:00</td>\n",
       "    </tr>\n",
       "    <tr>\n",
       "      <th>305</th>\n",
       "      <td>1405.57</td>\n",
       "      <td>1407.49</td>\n",
       "      <td>If you did, please like and subscribe.</td>\n",
       "      <td>en</td>\n",
       "      <td>None</td>\n",
       "      <td>Dmitriy Grankin</td>\n",
       "      <td>2025-09-05T20:35:16.195967+00:00</td>\n",
       "      <td>2025-09-05T20:35:18.116967+00:00</td>\n",
       "    </tr>\n",
       "    <tr>\n",
       "      <th>306</th>\n",
       "      <td>1405.57</td>\n",
       "      <td>1409.57</td>\n",
       "      <td>Guys, I've been working on this for a long time.</td>\n",
       "      <td>en</td>\n",
       "      <td>None</td>\n",
       "      <td>Dmitriy Grankin</td>\n",
       "      <td>2025-09-05T20:35:16.196967+00:00</td>\n",
       "      <td>2025-09-05T20:35:20.196967+00:00</td>\n",
       "    </tr>\n",
       "  </tbody>\n",
       "</table>\n",
       "</div>"
      ],
      "text/plain": [
       "                   start                  end                                               text language created_at          speaker               absolute_start_time                 absolute_end_time\n",
       "302              1397.96              1399.96                                         Thank you!       en       None  Dmitriy Grankin  2025-09-05T20:35:08.586967+00:00  2025-09-05T20:35:10.586967+00:00\n",
       "303              1399.96              1401.96                             What was it all about?       en       None  Dmitriy Grankin  2025-09-05T20:35:10.586967+00:00  2025-09-05T20:35:12.586967+00:00\n",
       "304              1401.96              1405.49                                 It was a good day.       en       None  Dmitriy Grankin  2025-09-05T20:35:12.586967+00:00  2025-09-05T20:35:16.116967+00:00\n",
       "305              1405.57              1407.49             If you did, please like and subscribe.       en       None  Dmitriy Grankin  2025-09-05T20:35:16.195967+00:00  2025-09-05T20:35:18.116967+00:00\n",
       "306              1405.57              1409.57   Guys, I've been working on this for a long time.       en       None  Dmitriy Grankin  2025-09-05T20:35:16.196967+00:00  2025-09-05T20:35:20.196967+00:00"
      ]
     },
     "metadata": {},
     "output_type": "display_data"
    }
   ],
   "source": [
    "while True:\n",
    "    transcript = client.get_transcript(native_meeting_id=native_meeting_id,platform='google_meet')\n",
    "    df = pd.DataFrame(transcript['segments'])#.sort_values(['created_at','start'])#.drop_duplicates('start',keep='last')\n",
    "    clear_output()\n",
    "    display(df.sort_values('absolute_start_time').tail(5))\n",
    "    time.sleep(1)"
   ]
  },
  {
   "cell_type": "code",
   "execution_count": 81,
   "metadata": {},
   "outputs": [
    {
     "data": {
      "text/plain": [
       "[{'start': 202.125,\n",
       "  'end': 202.145,\n",
       "  'text': ' Have a good one.',\n",
       "  'language': 'en',\n",
       "  'created_at': '2025-09-05T20:15:55.035075',\n",
       "  'speaker': None,\n",
       "  'absolute_start_time': '2025-09-05T20:15:12.750967+00:00',\n",
       "  'absolute_end_time': '2025-09-05T20:15:12.770967+00:00'},\n",
       " {'start': 342.26,\n",
       "  'end': 348.5,\n",
       "  'text': \" What's going on guys?\",\n",
       "  'language': 'en',\n",
       "  'created_at': None,\n",
       "  'speaker': 'Dmitriy Grankin',\n",
       "  'absolute_start_time': '2025-09-05T20:17:32.885967+00:00',\n",
       "  'absolute_end_time': '2025-09-05T20:17:39.125967+00:00'},\n",
       " {'start': 346.5,\n",
       "  'end': 348.5,\n",
       "  'text': \" What's going on guys?\",\n",
       "  'language': 'en',\n",
       "  'created_at': None,\n",
       "  'speaker': 'Dmitriy Grankin',\n",
       "  'absolute_start_time': '2025-09-05T20:17:37.125967+00:00',\n",
       "  'absolute_end_time': '2025-09-05T20:17:39.125967+00:00'}]"
      ]
     },
     "execution_count": 81,
     "metadata": {},
     "output_type": "execute_result"
    }
   ],
   "source": [
    "transcript['segments'][-3:]"
   ]
  },
  {
   "cell_type": "code",
   "execution_count": 8,
   "metadata": {},
   "outputs": [
    {
     "name": "stdout",
     "output_type": "stream",
     "text": [
      "\n",
      "DEBUG: Making DELETE request to http://localhost:18056/bots/google_meet/xdy-txjo-fyh\n",
      "DEBUG: Headers: {'Content-Type': 'application/json', 'X-API-Key': 'gCrHjHXa915wA44dnii8F2s7w6OSRWeZdnryabdO'}\n",
      "DEBUG: Params: None\n",
      "DEBUG: JSON data: None\n",
      "DEBUG: Response status: 202\n",
      "DEBUG: Response headers: {'date': 'Wed, 03 Sep 2025 13:02:26 GMT, Wed, 03 Sep 2025 13:02:25 GMT', 'server': 'uvicorn, uvicorn', 'content-length': '59', 'content-type': 'application/json'}\n",
      "DEBUG: Response content: {\"message\":\"Stop request accepted and is being processed.\"}...\n"
     ]
    },
    {
     "data": {
      "text/plain": [
       "{'message': 'Stop request accepted and is being processed.'}"
      ]
     },
     "execution_count": 8,
     "metadata": {},
     "output_type": "execute_result"
    }
   ],
   "source": [
    "client.stop_bot(platform=\"google_meet\",native_meeting_id=native_meeting_id)"
   ]
  },
  {
   "cell_type": "code",
   "execution_count": 21,
   "metadata": {},
   "outputs": [
    {
     "data": {
      "text/plain": [
       "1"
      ]
     },
     "execution_count": 21,
     "metadata": {},
     "output_type": "execute_result"
    }
   ],
   "source": [
    "user_id"
   ]
  },
  {
   "cell_type": "code",
   "execution_count": 22,
   "metadata": {},
   "outputs": [
    {
     "name": "stdout",
     "output_type": "stream",
     "text": [
      "\n",
      "DEBUG: Making GET request to http://localhost:18056/bots/status\n",
      "DEBUG: Headers: {'Content-Type': 'application/json', 'X-API-Key': 'ByWb1qpsR1Kq3hTg3Rhg6cXcxaAFpA2e5FeFvCVJ'}\n",
      "DEBUG: Params: None\n",
      "DEBUG: JSON data: None\n",
      "DEBUG: Response status: 200\n",
      "DEBUG: Response headers: {'date': 'Sun, 08 Jun 2025 17:12:08 GMT, Sun, 08 Jun 2025 17:12:08 GMT', 'server': 'uvicorn, uvicorn', 'content-length': '412', 'content-type': 'application/json'}\n",
      "DEBUG: Response content: {\"running_bots\":[{\"container_id\":\"aed61e62a52154f979a7e1fe47b7e83dd6b0a0e114105b3335f36b14fe77fda8\",\"container_name\":\"vexa-bot-2-3ccb0141\",\"platform\":\"google_meet\",\"native_meeting_id\":\"xdy-txjo-fyh\",\"status\":\"Up 37 seconds\",\"created_at\":\"2025-06-08T17:11:31+00:00\",\"labels\":{\"org.opencontainers.image.ref.name\":\"ubuntu\",\"org.opencontainers.image.version\":\"22.04\",\"vexa.user_id\":\"1\"},\"meeting_id_from_name\":\"2\"}]}...\n"
     ]
    }
   ],
   "source": [
    "running_bots = client.get_running_bots_status()"
   ]
  },
  {
   "cell_type": "code",
   "execution_count": 11,
   "metadata": {},
   "outputs": [
    {
     "name": "stdout",
     "output_type": "stream",
     "text": [
      "\n",
      "DEBUG: Making PUT request to http://localhost:18056/bots/google_meet/xdy-txjo-fyh/config\n",
      "DEBUG: Headers: {'Content-Type': 'application/json', 'X-API-Key': 'wqMBd1xmEDFNXDZOeXNG9poGYtYS1j0ft3ZgkZvF'}\n",
      "DEBUG: Params: None\n",
      "DEBUG: JSON data: {'language': 'en', 'task': 'transcribe'}\n",
      "DEBUG: Response status: 202\n",
      "DEBUG: Response headers: {'date': 'Fri, 05 Sep 2025 20:11:44 GMT, Fri, 05 Sep 2025 20:11:45 GMT', 'server': 'uvicorn, uvicorn', 'content-length': '67', 'content-type': 'application/json'}\n",
      "DEBUG: Response content: {\"message\":\"Reconfiguration request accepted and sent to the bot.\"}...\n"
     ]
    },
    {
     "data": {
      "text/plain": [
       "{'message': 'Reconfiguration request accepted and sent to the bot.'}"
      ]
     },
     "execution_count": 11,
     "metadata": {},
     "output_type": "execute_result"
    }
   ],
   "source": [
    "client.update_bot_config(\n",
    "    platform=\"google_meet\",\n",
    "    native_meeting_id=native_meeting_id,\n",
    "    language='en',\n",
    "    task = 'transcribe'\n",
    ")"
   ]
  },
  {
   "cell_type": "code",
   "execution_count": 24,
   "metadata": {},
   "outputs": [
    {
     "name": "stdout",
     "output_type": "stream",
     "text": [
      "\n",
      "DEBUG: Making GET request to http://localhost:18056/bots/status\n",
      "DEBUG: Headers: {'Content-Type': 'application/json', 'X-API-Key': 'ByWb1qpsR1Kq3hTg3Rhg6cXcxaAFpA2e5FeFvCVJ'}\n",
      "DEBUG: Params: None\n",
      "DEBUG: JSON data: None\n",
      "DEBUG: Response status: 200\n",
      "DEBUG: Response headers: {'date': 'Sun, 08 Jun 2025 17:12:10 GMT, Sun, 08 Jun 2025 17:12:10 GMT', 'server': 'uvicorn, uvicorn', 'content-length': '19', 'content-type': 'application/json'}\n",
      "DEBUG: Response content: {\"running_bots\":[]}...\n"
     ]
    }
   ],
   "source": [
    "running_bots = client.get_running_bots_status()"
   ]
  },
  {
   "cell_type": "code",
   "execution_count": 25,
   "metadata": {},
   "outputs": [
    {
     "name": "stdout",
     "output_type": "stream",
     "text": [
      "\n",
      "DEBUG: Making GET request to http://localhost:18056/meetings\n",
      "DEBUG: Headers: {'Content-Type': 'application/json', 'X-API-Key': 'ByWb1qpsR1Kq3hTg3Rhg6cXcxaAFpA2e5FeFvCVJ'}\n",
      "DEBUG: Params: None\n",
      "DEBUG: JSON data: None\n",
      "DEBUG: Response status: 200\n",
      "DEBUG: Response headers: {'date': 'Sun, 08 Jun 2025 17:12:11 GMT, Sun, 08 Jun 2025 17:12:11 GMT', 'server': 'uvicorn, uvicorn', 'content-length': '922', 'content-type': 'application/json'}\n",
      "DEBUG: Response content: {\"meetings\":[{\"id\":2,\"user_id\":1,\"platform\":\"google_meet\",\"native_meeting_id\":\"xdy-txjo-fyh\",\"constructed_meeting_url\":\"https://meet.google.com/xdy-txjo-fyh\",\"status\":\"completed\",\"bot_container_id\":\"aed61e62a52154f979a7e1fe47b7e83dd6b0a0e114105b3335f36b14fe77fda8\",\"start_time\":\"2025-06-08T17:11:32.049728\",\"end_time\":\"2025-06-08T17:12:08.590536\",\"data\":{\"languages\":[\"ru\"],\"participants\":[\"Dmitriy Grankin\"]},\"created_at\":\"2025-06-08T17:11:31.794491\",\"updated_at\":\"2025-06-08T17:12:08.603105\"},{\"id\"...\n"
     ]
    }
   ],
   "source": [
    "meetings = client.get_meetings()"
   ]
  },
  {
   "cell_type": "code",
   "execution_count": 27,
   "metadata": {},
   "outputs": [
    {
     "data": {
      "text/plain": [
       "[{'id': 2,\n",
       "  'user_id': 1,\n",
       "  'platform': 'google_meet',\n",
       "  'native_meeting_id': 'xdy-txjo-fyh',\n",
       "  'constructed_meeting_url': 'https://meet.google.com/xdy-txjo-fyh',\n",
       "  'status': 'completed',\n",
       "  'bot_container_id': 'aed61e62a52154f979a7e1fe47b7e83dd6b0a0e114105b3335f36b14fe77fda8',\n",
       "  'start_time': '2025-06-08T17:11:32.049728',\n",
       "  'end_time': '2025-06-08T17:12:08.590536',\n",
       "  'data': {'languages': ['ru'], 'participants': ['Dmitriy Grankin']},\n",
       "  'created_at': '2025-06-08T17:11:31.794491',\n",
       "  'updated_at': '2025-06-08T17:12:08.603105'},\n",
       " {'id': 1,\n",
       "  'user_id': 1,\n",
       "  'platform': 'google_meet',\n",
       "  'native_meeting_id': 'xdy-txjo-fyh',\n",
       "  'constructed_meeting_url': 'https://meet.google.com/xdy-txjo-fyh',\n",
       "  'status': 'failed',\n",
       "  'bot_container_id': '2ebcbb321eff482824f97662bb1ee30ffc6435a7cdf83b6466619c8e8e24ffeb',\n",
       "  'start_time': '2025-06-08T17:10:46.487857',\n",
       "  'end_time': '2025-06-08T17:11:25.613669',\n",
       "  'data': {},\n",
       "  'created_at': '2025-06-08T17:10:46.190058',\n",
       "  'updated_at': '2025-06-08T17:11:25.608988'}]"
      ]
     },
     "execution_count": 27,
     "metadata": {},
     "output_type": "execute_result"
    }
   ],
   "source": [
    "meetings"
   ]
  },
  {
   "cell_type": "markdown",
   "metadata": {},
   "source": []
  },
  {
   "cell_type": "code",
   "execution_count": 33,
   "metadata": {},
   "outputs": [
    {
     "name": "stdout",
     "output_type": "stream",
     "text": [
      "\n",
      "DEBUG: Making PATCH request to http://localhost:18056/meetings/google_meet/xdy-txjo-fyh\n",
      "DEBUG: Headers: {'Content-Type': 'application/json', 'X-API-Key': 'aQGEy4cX1XN9l60QOEsWKcWWKNNc0prjYUu7pkhw'}\n",
      "DEBUG: Params: None\n",
      "DEBUG: JSON data: {'data': {'name': 'Test Meeting'}}\n",
      "DEBUG: Response status: 200\n",
      "DEBUG: Response headers: {'date': 'Sun, 08 Jun 2025 15:06:06 GMT, Sun, 08 Jun 2025 15:06:06 GMT', 'server': 'uvicorn, uvicorn', 'content-length': '449', 'content-type': 'application/json'}\n",
      "DEBUG: Response content: {\"id\":5,\"user_id\":6,\"platform\":\"google_meet\",\"native_meeting_id\":\"xdy-txjo-fyh\",\"constructed_meeting_url\":\"https://meet.google.com/xdy-txjo-fyh\",\"status\":\"completed\",\"bot_container_id\":\"7edd0e3d1b1aa9f8f668a0c84447889c36a8c4cb974ca15b80654d00c9a083bf\",\"start_time\":\"2025-06-08T15:01:10.681410\",\"end_time\":\"2025-06-08T15:02:05.246022\",\"data\":{\"name\":\"Test Meeting\"},\"created_at\":\"2025-06-08T15:01:10.280791\",\"updated_at\":\"2025-06-08T15:06:07.017651\"}...\n"
     ]
    },
    {
     "data": {
      "text/plain": [
       "{'id': 5,\n",
       " 'user_id': 6,\n",
       " 'platform': 'google_meet',\n",
       " 'native_meeting_id': 'xdy-txjo-fyh',\n",
       " 'constructed_meeting_url': 'https://meet.google.com/xdy-txjo-fyh',\n",
       " 'status': 'completed',\n",
       " 'bot_container_id': '7edd0e3d1b1aa9f8f668a0c84447889c36a8c4cb974ca15b80654d00c9a083bf',\n",
       " 'start_time': '2025-06-08T15:01:10.681410',\n",
       " 'end_time': '2025-06-08T15:02:05.246022',\n",
       " 'data': {'name': 'Test Meeting'},\n",
       " 'created_at': '2025-06-08T15:01:10.280791',\n",
       " 'updated_at': '2025-06-08T15:06:07.017651'}"
      ]
     },
     "execution_count": 33,
     "metadata": {},
     "output_type": "execute_result"
    }
   ],
   "source": [
    "client.update_meeting_data(\n",
    "    platform=\"google_meet\",\n",
    "    native_meeting_id=native_meeting_id,\n",
    "    name=\"Test Meeting\",\n",
    ")"
   ]
  },
  {
   "cell_type": "code",
   "execution_count": 32,
   "metadata": {},
   "outputs": [
    {
     "name": "stdout",
     "output_type": "stream",
     "text": [
      "\n",
      "DEBUG: Making DELETE request to http://localhost:18056/meetings/google_meet/xdy-txjo-fyh\n",
      "DEBUG: Headers: {'Content-Type': 'application/json', 'X-API-Key': 'aQGEy4cX1XN9l60QOEsWKcWWKNNc0prjYUu7pkhw'}\n",
      "DEBUG: Params: None\n",
      "DEBUG: JSON data: None\n",
      "DEBUG: Response status: 200\n",
      "DEBUG: Response headers: {'date': 'Sun, 08 Jun 2025 15:06:02 GMT, Sun, 08 Jun 2025 15:06:02 GMT', 'server': 'uvicorn, uvicorn', 'content-length': '88', 'content-type': 'application/json'}\n",
      "DEBUG: Response content: {\"message\":\"Meeting google_meet/xdy-txjo-fyh and all its transcripts have been deleted\"}...\n"
     ]
    },
    {
     "data": {
      "text/plain": [
       "{'message': 'Meeting google_meet/xdy-txjo-fyh and all its transcripts have been deleted'}"
      ]
     },
     "execution_count": 32,
     "metadata": {},
     "output_type": "execute_result"
    }
   ],
   "source": [
    "client.delete_meeting(\n",
    "    platform=\"google_meet\",\n",
    "    native_meeting_id=native_meeting_id,\n",
    ")"
   ]
  },
  {
   "cell_type": "code",
   "execution_count": null,
   "metadata": {},
   "outputs": [],
   "source": []
  }
 ],
 "metadata": {
  "kernelspec": {
   "display_name": "vexa",
   "language": "python",
   "name": "python3"
  },
  "language_info": {
   "codemirror_mode": {
    "name": "ipython",
    "version": 3
   },
   "file_extension": ".py",
   "mimetype": "text/x-python",
   "name": "python",
   "nbconvert_exporter": "python",
   "pygments_lexer": "ipython3",
   "version": "3.11.10"
  }
 },
 "nbformat": 4,
 "nbformat_minor": 2
}
