{
 "cells": [
  {
   "cell_type": "markdown",
   "metadata": {},
   "source": [
    "#### imports "
   ]
  },
  {
   "cell_type": "code",
   "execution_count": 1,
   "metadata": {},
   "outputs": [],
   "source": [
    "import pandas as pd\n",
    "pd.options.display.max_colwidth = 1000\n",
    "pd.set_option('display.max_colwidth', 1000)\n",
    "pd.set_option('display.max_rows', 1000)\n",
    "pd.set_option('display.max_columns', 1000)\n",
    "pd.set_option('display.width', 1000)\n",
    "pd.set_option('display.float_format', '{:20.2f}'.format)\n",
    "pd.set_option('display.max_colwidth', 1000)\n",
    "pd.set_option('display.max_rows', 1000)\n",
    "pd.set_option('display.max_columns', 1000)\n",
    "from IPython.display import clear_output,display"
   ]
  },
  {
   "cell_type": "code",
   "execution_count": 2,
   "metadata": {},
   "outputs": [],
   "source": [
    "# Load environment variables from .env file\n",
    "from dotenv import load_dotenv\n",
    "\n",
    "# Load .env file\n",
    "load_dotenv()\n",
    "import random\n",
    "\n",
    "import os\n",
    "from vexa_client import VexaClient\n",
    "\n",
    "import os\n",
    "TOKEN = os.getenv('ADMIN_API_TOKEN')\n",
    "url = \"http://localhost:18056\"\n",
    "admin_client = VexaClient(\n",
    "    base_url=url,\n",
    "    admin_key=TOKEN  # From docker-compose.yml\n",
    ")\n",
    "\n",
    "import time\n",
    "\n",
    "def request_bot(meeting_url,language=None):\n",
    "    native_meeting_id = meeting_url.split(\"/\")[-1]  # \"xyz-abcd-123\"\n",
    "    meeting_info = client.request_bot(\n",
    "        platform=\"google_meet\",\n",
    "        native_meeting_id=native_meeting_id,\n",
    "        bot_name=\"Vexa\",\n",
    "        language=language,\n",
    "        task = 'transcribe'\n",
    "    )\n",
    "    return meeting_info\n",
    "def get_transcript(meeting_url):\n",
    "    native_meeting_id = meeting_url.split(\"/\")[-1]\n",
    "    try:\n",
    "        for _ in range(10):\n",
    "            \n",
    "                transcript = client.get_transcript(native_meeting_id=native_meeting_id,platform='google_meet')\n",
    "                df = pd.DataFrame(transcript['segments'])#.sort_values(['created_at','start'])#.drop_duplicates('start',keep='last')\n",
    "                clear_output()\n",
    "                display(df.sort_values('absolute_start_time').tail(10))\n",
    "                time.sleep(1)\n",
    "\n",
    "    except Exception as e:\n",
    "        print(e)\n",
    "\n",
    "def stop_bot(meeting_url):\n",
    "    native_meeting_id = meeting_url.split(\"/\")[-1]\n",
    "    client.stop_bot(platform=\"google_meet\",native_meeting_id=native_meeting_id)\n"
   ]
  },
  {
   "cell_type": "markdown",
   "metadata": {},
   "source": [
    "#### agenda"
   ]
  },
  {
   "cell_type": "markdown",
   "metadata": {},
   "source": [
    "#### single bot per user/meeting\n",
    "#### concurrent_bots\n",
    "1. create user with 2 concurrency\n",
    "2. start 1 bot\n",
    "3. request another bot for the same meeting immediately -> must fail\n",
    "4. first bot -> must come, admit the bot\n",
    "5. speak and test transcription\n",
    "6. launch bot for another meeting, admit the bot, check trnascription\n",
    "7. launch another bot for the third meeting -> must fail\n",
    "8. stop bot meeting 2 and and launch bot 3, but come\n",
    "\n",
    "#### stop bot works for requested and active meetings\n",
    "1 start meeting 1, stop immediately, start meeting 2 ->bot must come\n"
   ]
  },
  {
   "cell_type": "markdown",
   "metadata": {},
   "source": [
    "#### tests"
   ]
  },
  {
   "cell_type": "code",
   "execution_count": 3,
   "metadata": {},
   "outputs": [],
   "source": [
    "meeting_urls = [\"https://meet.google.com/xdy-txjo-fyh\", \n",
    "            \"https://meet.google.com/fjp-cbnn-hug\",\n",
    "            \"https://meet.google.com/wjf-bhmw-bix\"]"
   ]
  },
  {
   "cell_type": "markdown",
   "metadata": {},
   "source": [
    "##### 1. create user with 2 concurrency"
   ]
  },
  {
   "cell_type": "code",
   "execution_count": 4,
   "metadata": {},
   "outputs": [
    {
     "name": "stdout",
     "output_type": "stream",
     "text": [
      "\n",
      "DEBUG: Making POST request to http://localhost:18056/admin/users\n",
      "DEBUG: Headers: {'Content-Type': 'application/json', 'X-Admin-API-Key': 'token'}\n",
      "DEBUG: Params: None\n",
      "DEBUG: JSON data: {'email': '59748@example.com', 'name': 'test', 'max_concurrent_bots': 2}\n",
      "DEBUG: Response status: 201\n",
      "DEBUG: Response headers: {'date': 'Wed, 03 Sep 2025 11:08:31 GMT, Wed, 03 Sep 2025 11:08:31 GMT', 'server': 'uvicorn, uvicorn', 'content-length': '145', 'content-type': 'application/json'}\n",
      "DEBUG: Response content: {\"email\":\"59748@example.com\",\"name\":\"test\",\"image_url\":null,\"max_concurrent_bots\":2,\"data\":{},\"id\":111,\"created_at\":\"2025-09-03T11:08:31.943329\"}...\n",
      "\n",
      "DEBUG: Making POST request to http://localhost:18056/admin/users/111/tokens\n",
      "DEBUG: Headers: {'Content-Type': 'application/json', 'X-Admin-API-Key': 'token'}\n",
      "DEBUG: Params: None\n",
      "DEBUG: JSON data: None\n",
      "DEBUG: Response status: 201\n",
      "DEBUG: Response headers: {'date': 'Wed, 03 Sep 2025 11:08:31 GMT, Wed, 03 Sep 2025 11:08:31 GMT', 'server': 'uvicorn, uvicorn', 'content-length': '117', 'content-type': 'application/json'}\n",
      "DEBUG: Response content: {\"user_id\":111,\"id\":152,\"token\":\"s6SWLYY0wuniAHVIoHpJoYy9ccvdZbdI5xyolkVu\",\"created_at\":\"2025-09-03T11:08:31.955755\"}...\n"
     ]
    }
   ],
   "source": [
    "\n",
    "new_user = admin_client.create_user(email=f\"{random.randint(1, 1000000)}@example.com\", \n",
    "                                    name=\"test\",\n",
    "                                    max_concurrent_bots=2)\n",
    "user_id = new_user['id']\n",
    "user_id\n",
    "token_info = admin_client.create_token(user_id=user_id)\n",
    "user_api_key = token_info['token']\n",
    "client = VexaClient(\n",
    "    base_url=url,\n",
    "    api_key=user_api_key)"
   ]
  },
  {
   "cell_type": "code",
   "execution_count": 5,
   "metadata": {},
   "outputs": [
    {
     "name": "stdout",
     "output_type": "stream",
     "text": [
      "\n",
      "DEBUG: Making POST request to http://localhost:18056/bots\n",
      "DEBUG: Headers: {'Content-Type': 'application/json', 'X-API-Key': 's6SWLYY0wuniAHVIoHpJoYy9ccvdZbdI5xyolkVu'}\n",
      "DEBUG: Params: None\n",
      "DEBUG: JSON data: {'platform': 'google_meet', 'native_meeting_id': 'xdy-txjo-fyh', 'bot_name': 'Vexa', 'task': 'transcribe'}\n",
      "DEBUG: Response status: 201\n",
      "DEBUG: Response headers: {'date': 'Wed, 03 Sep 2025 11:08:51 GMT, Wed, 03 Sep 2025 11:08:51 GMT', 'server': 'uvicorn, uvicorn', 'content-length': '384', 'content-type': 'application/json'}\n",
      "DEBUG: Response content: {\"id\":236,\"user_id\":111,\"platform\":\"google_meet\",\"native_meeting_id\":\"xdy-txjo-fyh\",\"constructed_meeting_url\":\"https://meet.google.com/xdy-txjo-fyh\",\"status\":\"requested\",\"bot_container_id\":\"63e19181b1aa060c797e9d55cb198e703c91277719488aa426d57d6ee1a646a5\",\"start_time\":null,\"end_time\":null,\"data\":{},\"created_at\":\"2025-09-03T11:08:52.486350\",\"updated_at\":\"2025-09-03T11:08:52.494181\"}...\n",
      "\n",
      "DEBUG: Making POST request to http://localhost:18056/bots\n",
      "DEBUG: Headers: {'Content-Type': 'application/json', 'X-API-Key': 's6SWLYY0wuniAHVIoHpJoYy9ccvdZbdI5xyolkVu'}\n",
      "DEBUG: Params: None\n",
      "DEBUG: JSON data: {'platform': 'google_meet', 'native_meeting_id': 'xdy-txjo-fyh', 'bot_name': 'Vexa', 'task': 'transcribe'}\n",
      "DEBUG: Response status: 409\n",
      "DEBUG: Response headers: {'date': 'Wed, 03 Sep 2025 11:08:51 GMT, Wed, 03 Sep 2025 11:08:51 GMT', 'server': 'uvicorn, uvicorn', 'content-length': '108', 'content-type': 'application/json'}\n",
      "DEBUG: Response content: {\"detail\":\"An active or requested meeting already exists for this platform and meeting ID. Meeting ID: 236\"}...\n",
      "HTTP Error 409 for POST http://localhost:18056/bots: An active or requested meeting already exists for this platform and meeting ID. Meeting ID: 236\n"
     ]
    }
   ],
   "source": [
    "#2. start 1 bot\n",
    "request_bot(meeting_urls[0])\n",
    "#3. request another bot for the same meeting immediately (must fail)\n",
    "try:request_bot(meeting_urls[0])\n",
    "except Exception as e:\n",
    "    print(e) #An active or requested meeting already exists for this platform and meeting ID"
   ]
  },
  {
   "cell_type": "markdown",
   "metadata": {},
   "source": [
    "4. first bot must come, admit the bot and speak"
   ]
  },
  {
   "cell_type": "code",
   "execution_count": 6,
   "metadata": {},
   "outputs": [
    {
     "data": {
      "text/html": [
       "<div>\n",
       "<style scoped>\n",
       "    .dataframe tbody tr th:only-of-type {\n",
       "        vertical-align: middle;\n",
       "    }\n",
       "\n",
       "    .dataframe tbody tr th {\n",
       "        vertical-align: top;\n",
       "    }\n",
       "\n",
       "    .dataframe thead th {\n",
       "        text-align: right;\n",
       "    }\n",
       "</style>\n",
       "<table border=\"1\" class=\"dataframe\">\n",
       "  <thead>\n",
       "    <tr style=\"text-align: right;\">\n",
       "      <th></th>\n",
       "      <th>start</th>\n",
       "      <th>end</th>\n",
       "      <th>text</th>\n",
       "      <th>language</th>\n",
       "      <th>created_at</th>\n",
       "      <th>speaker</th>\n",
       "      <th>absolute_start_time</th>\n",
       "      <th>absolute_end_time</th>\n",
       "    </tr>\n",
       "  </thead>\n",
       "  <tbody>\n",
       "    <tr>\n",
       "      <th>0</th>\n",
       "      <td>0.00</td>\n",
       "      <td>4.26</td>\n",
       "      <td>seven, eight, nine, 10, 11, 12, 13, 14, 15, 17,</td>\n",
       "      <td>en</td>\n",
       "      <td>None</td>\n",
       "      <td>Dmitriy Grankin</td>\n",
       "      <td>2025-09-03T11:09:11.414078+00:00</td>\n",
       "      <td>2025-09-03T11:09:15.674078+00:00</td>\n",
       "    </tr>\n",
       "    <tr>\n",
       "      <th>1</th>\n",
       "      <td>4.26</td>\n",
       "      <td>10.26</td>\n",
       "      <td>first bot is here, first bot is here, we are picking up the first bot</td>\n",
       "      <td>en</td>\n",
       "      <td>None</td>\n",
       "      <td>Dmitriy Grankin</td>\n",
       "      <td>2025-09-03T11:09:15.674078+00:00</td>\n",
       "      <td>2025-09-03T11:09:21.674078+00:00</td>\n",
       "    </tr>\n",
       "  </tbody>\n",
       "</table>\n",
       "</div>"
      ],
      "text/plain": [
       "                 start                  end                                                                    text language created_at          speaker               absolute_start_time                 absolute_end_time\n",
       "0                 0.00                 4.26                         seven, eight, nine, 10, 11, 12, 13, 14, 15, 17,       en       None  Dmitriy Grankin  2025-09-03T11:09:11.414078+00:00  2025-09-03T11:09:15.674078+00:00\n",
       "1                 4.26                10.26   first bot is here, first bot is here, we are picking up the first bot       en       None  Dmitriy Grankin  2025-09-03T11:09:15.674078+00:00  2025-09-03T11:09:21.674078+00:00"
      ]
     },
     "metadata": {},
     "output_type": "display_data"
    }
   ],
   "source": [
    "time.sleep(15)\n",
    "#5. speak and test transcription\n",
    "get_transcript(meeting_urls[0])"
   ]
  },
  {
   "cell_type": "code",
   "execution_count": 7,
   "metadata": {},
   "outputs": [
    {
     "name": "stdout",
     "output_type": "stream",
     "text": [
      "\n",
      "DEBUG: Making POST request to http://localhost:18056/bots\n",
      "DEBUG: Headers: {'Content-Type': 'application/json', 'X-API-Key': 's6SWLYY0wuniAHVIoHpJoYy9ccvdZbdI5xyolkVu'}\n",
      "DEBUG: Params: None\n",
      "DEBUG: JSON data: {'platform': 'google_meet', 'native_meeting_id': 'fjp-cbnn-hug', 'bot_name': 'Vexa', 'task': 'transcribe'}\n",
      "DEBUG: Response status: 201\n",
      "DEBUG: Response headers: {'date': 'Wed, 03 Sep 2025 11:09:25 GMT, Wed, 03 Sep 2025 11:09:25 GMT', 'server': 'uvicorn, uvicorn', 'content-length': '384', 'content-type': 'application/json'}\n",
      "DEBUG: Response content: {\"id\":237,\"user_id\":111,\"platform\":\"google_meet\",\"native_meeting_id\":\"fjp-cbnn-hug\",\"constructed_meeting_url\":\"https://meet.google.com/fjp-cbnn-hug\",\"status\":\"requested\",\"bot_container_id\":\"93002c8c4d4d94908954a6ee9b07061eb0481a2cf4c887531fd623fba32f840a\",\"start_time\":null,\"end_time\":null,\"data\":{},\"created_at\":\"2025-09-03T11:09:25.662632\",\"updated_at\":\"2025-09-03T11:09:25.670266\"}...\n"
     ]
    },
    {
     "data": {
      "text/plain": [
       "{'id': 237,\n",
       " 'user_id': 111,\n",
       " 'platform': 'google_meet',\n",
       " 'native_meeting_id': 'fjp-cbnn-hug',\n",
       " 'constructed_meeting_url': 'https://meet.google.com/fjp-cbnn-hug',\n",
       " 'status': 'requested',\n",
       " 'bot_container_id': '93002c8c4d4d94908954a6ee9b07061eb0481a2cf4c887531fd623fba32f840a',\n",
       " 'start_time': None,\n",
       " 'end_time': None,\n",
       " 'data': {},\n",
       " 'created_at': '2025-09-03T11:09:25.662632',\n",
       " 'updated_at': '2025-09-03T11:09:25.670266'}"
      ]
     },
     "execution_count": 7,
     "metadata": {},
     "output_type": "execute_result"
    }
   ],
   "source": [
    "#6. launch bot for another meeting, admit the bot, check trnascription\n",
    "request_bot(meeting_urls[1])\n"
   ]
  },
  {
   "cell_type": "code",
   "execution_count": 8,
   "metadata": {},
   "outputs": [
    {
     "data": {
      "text/html": [
       "<div>\n",
       "<style scoped>\n",
       "    .dataframe tbody tr th:only-of-type {\n",
       "        vertical-align: middle;\n",
       "    }\n",
       "\n",
       "    .dataframe tbody tr th {\n",
       "        vertical-align: top;\n",
       "    }\n",
       "\n",
       "    .dataframe thead th {\n",
       "        text-align: right;\n",
       "    }\n",
       "</style>\n",
       "<table border=\"1\" class=\"dataframe\">\n",
       "  <thead>\n",
       "    <tr style=\"text-align: right;\">\n",
       "      <th></th>\n",
       "      <th>start</th>\n",
       "      <th>end</th>\n",
       "      <th>text</th>\n",
       "      <th>language</th>\n",
       "      <th>created_at</th>\n",
       "      <th>speaker</th>\n",
       "      <th>absolute_start_time</th>\n",
       "      <th>absolute_end_time</th>\n",
       "    </tr>\n",
       "  </thead>\n",
       "  <tbody>\n",
       "    <tr>\n",
       "      <th>0</th>\n",
       "      <td>0.00</td>\n",
       "      <td>1.00</td>\n",
       "      <td>code.</td>\n",
       "      <td>en</td>\n",
       "      <td>None</td>\n",
       "      <td>Dmitriy Grankin</td>\n",
       "      <td>2025-09-03T11:09:49.662618+00:00</td>\n",
       "      <td>2025-09-03T11:09:50.662618+00:00</td>\n",
       "    </tr>\n",
       "    <tr>\n",
       "      <th>1</th>\n",
       "      <td>1.00</td>\n",
       "      <td>10.92</td>\n",
       "      <td>transcript for the book number two for the book number two and we delete the transcripts right here</td>\n",
       "      <td>en</td>\n",
       "      <td>None</td>\n",
       "      <td>Dmitriy Grankin</td>\n",
       "      <td>2025-09-03T11:09:50.662618+00:00</td>\n",
       "      <td>2025-09-03T11:10:00.582618+00:00</td>\n",
       "    </tr>\n",
       "  </tbody>\n",
       "</table>\n",
       "</div>"
      ],
      "text/plain": [
       "                 start                  end                                                                                                  text language created_at          speaker               absolute_start_time                 absolute_end_time\n",
       "0                 0.00                 1.00                                                                                                 code.       en       None  Dmitriy Grankin  2025-09-03T11:09:49.662618+00:00  2025-09-03T11:09:50.662618+00:00\n",
       "1                 1.00                10.92   transcript for the book number two for the book number two and we delete the transcripts right here       en       None  Dmitriy Grankin  2025-09-03T11:09:50.662618+00:00  2025-09-03T11:10:00.582618+00:00"
      ]
     },
     "metadata": {},
     "output_type": "display_data"
    }
   ],
   "source": [
    "time.sleep(15)\n",
    "get_transcript(meeting_urls[1])"
   ]
  },
  {
   "cell_type": "code",
   "execution_count": 9,
   "metadata": {},
   "outputs": [
    {
     "name": "stdout",
     "output_type": "stream",
     "text": [
      "\n",
      "DEBUG: Making POST request to http://localhost:18056/bots\n",
      "DEBUG: Headers: {'Content-Type': 'application/json', 'X-API-Key': 's6SWLYY0wuniAHVIoHpJoYy9ccvdZbdI5xyolkVu'}\n",
      "DEBUG: Params: None\n",
      "DEBUG: JSON data: {'platform': 'google_meet', 'native_meeting_id': 'wjf-bhmw-bix', 'bot_name': 'Vexa', 'task': 'transcribe'}\n",
      "DEBUG: Response status: 403\n",
      "DEBUG: Response headers: {'date': 'Wed, 03 Sep 2025 11:10:04 GMT, Wed, 03 Sep 2025 11:10:04 GMT', 'server': 'uvicorn, uvicorn', 'content-length': '67', 'content-type': 'application/json'}\n",
      "DEBUG: Response content: {\"detail\":\"User has reached the maximum concurrent bot limit (2).\"}...\n",
      "HTTP Error 403 for POST http://localhost:18056/bots: User has reached the maximum concurrent bot limit (2).\n"
     ]
    }
   ],
   "source": [
    "#7. launch another bot for the third meeting -> must fail\n",
    "try:request_bot(meeting_urls[2])\n",
    "except Exception as e:\n",
    "    print(e) #User has reached the maximum concurrent bot limit (2)."
   ]
  },
  {
   "cell_type": "code",
   "execution_count": 10,
   "metadata": {},
   "outputs": [
    {
     "name": "stdout",
     "output_type": "stream",
     "text": [
      "\n",
      "DEBUG: Making DELETE request to http://localhost:18056/bots/google_meet/fjp-cbnn-hug\n",
      "DEBUG: Headers: {'Content-Type': 'application/json', 'X-API-Key': 's6SWLYY0wuniAHVIoHpJoYy9ccvdZbdI5xyolkVu'}\n",
      "DEBUG: Params: None\n",
      "DEBUG: JSON data: None\n",
      "DEBUG: Response status: 202\n",
      "DEBUG: Response headers: {'date': 'Wed, 03 Sep 2025 11:10:13 GMT, Wed, 03 Sep 2025 11:10:13 GMT', 'server': 'uvicorn, uvicorn', 'content-length': '59', 'content-type': 'application/json'}\n",
      "DEBUG: Response content: {\"message\":\"Stop request accepted and is being processed.\"}...\n",
      "\n",
      "DEBUG: Making POST request to http://localhost:18056/bots\n",
      "DEBUG: Headers: {'Content-Type': 'application/json', 'X-API-Key': 's6SWLYY0wuniAHVIoHpJoYy9ccvdZbdI5xyolkVu'}\n",
      "DEBUG: Params: None\n",
      "DEBUG: JSON data: {'platform': 'google_meet', 'native_meeting_id': 'wjf-bhmw-bix', 'bot_name': 'Vexa', 'task': 'transcribe'}\n",
      "DEBUG: Response status: 201\n",
      "DEBUG: Response headers: {'date': 'Wed, 03 Sep 2025 11:10:13 GMT, Wed, 03 Sep 2025 11:10:13 GMT', 'server': 'uvicorn, uvicorn', 'content-length': '384', 'content-type': 'application/json'}\n",
      "DEBUG: Response content: {\"id\":238,\"user_id\":111,\"platform\":\"google_meet\",\"native_meeting_id\":\"wjf-bhmw-bix\",\"constructed_meeting_url\":\"https://meet.google.com/wjf-bhmw-bix\",\"status\":\"requested\",\"bot_container_id\":\"3c933c2b88656d9412d38a4fa5d1f122291a053de955e1a0fa016d70aa3addfb\",\"start_time\":null,\"end_time\":null,\"data\":{},\"created_at\":\"2025-09-03T11:10:13.968080\",\"updated_at\":\"2025-09-03T11:10:13.975518\"}...\n"
     ]
    },
    {
     "data": {
      "text/plain": [
       "{'id': 238,\n",
       " 'user_id': 111,\n",
       " 'platform': 'google_meet',\n",
       " 'native_meeting_id': 'wjf-bhmw-bix',\n",
       " 'constructed_meeting_url': 'https://meet.google.com/wjf-bhmw-bix',\n",
       " 'status': 'requested',\n",
       " 'bot_container_id': '3c933c2b88656d9412d38a4fa5d1f122291a053de955e1a0fa016d70aa3addfb',\n",
       " 'start_time': None,\n",
       " 'end_time': None,\n",
       " 'data': {},\n",
       " 'created_at': '2025-09-03T11:10:13.968080',\n",
       " 'updated_at': '2025-09-03T11:10:13.975518'}"
      ]
     },
     "execution_count": 10,
     "metadata": {},
     "output_type": "execute_result"
    }
   ],
   "source": [
    "#8. stop bot meeting 2 and and launch bot 3, but come\n",
    "stop_bot(meeting_urls[1])\n",
    "request_bot(meeting_urls[2])"
   ]
  },
  {
   "cell_type": "code",
   "execution_count": 13,
   "metadata": {},
   "outputs": [
    {
     "data": {
      "text/html": [
       "<div>\n",
       "<style scoped>\n",
       "    .dataframe tbody tr th:only-of-type {\n",
       "        vertical-align: middle;\n",
       "    }\n",
       "\n",
       "    .dataframe tbody tr th {\n",
       "        vertical-align: top;\n",
       "    }\n",
       "\n",
       "    .dataframe thead th {\n",
       "        text-align: right;\n",
       "    }\n",
       "</style>\n",
       "<table border=\"1\" class=\"dataframe\">\n",
       "  <thead>\n",
       "    <tr style=\"text-align: right;\">\n",
       "      <th></th>\n",
       "      <th>start</th>\n",
       "      <th>end</th>\n",
       "      <th>text</th>\n",
       "      <th>language</th>\n",
       "      <th>created_at</th>\n",
       "      <th>speaker</th>\n",
       "      <th>absolute_start_time</th>\n",
       "      <th>absolute_end_time</th>\n",
       "    </tr>\n",
       "  </thead>\n",
       "  <tbody>\n",
       "    <tr>\n",
       "      <th>0</th>\n",
       "      <td>1.02</td>\n",
       "      <td>6.02</td>\n",
       "      <td>And this number of thoughts here must be,</td>\n",
       "      <td>en</td>\n",
       "      <td>None</td>\n",
       "      <td>Dmitriy Grankin</td>\n",
       "      <td>2025-09-03T11:10:49.219371+00:00</td>\n",
       "      <td>2025-09-03T11:10:54.219371+00:00</td>\n",
       "    </tr>\n",
       "    <tr>\n",
       "      <th>1</th>\n",
       "      <td>8.15</td>\n",
       "      <td>14.15</td>\n",
       "      <td>Um, yeah, the thing is that we need to speak a little bit</td>\n",
       "      <td>en</td>\n",
       "      <td>None</td>\n",
       "      <td>Dmitriy Grankin</td>\n",
       "      <td>2025-09-03T11:10:56.349371+00:00</td>\n",
       "      <td>2025-09-03T11:11:02.349371+00:00</td>\n",
       "    </tr>\n",
       "    <tr>\n",
       "      <th>2</th>\n",
       "      <td>10.19</td>\n",
       "      <td>11.63</td>\n",
       "      <td>yeah, the thing is that.</td>\n",
       "      <td>en</td>\n",
       "      <td>None</td>\n",
       "      <td>Dmitriy Grankin</td>\n",
       "      <td>2025-09-03T11:10:58.389371+00:00</td>\n",
       "      <td>2025-09-03T11:10:59.829371+00:00</td>\n",
       "    </tr>\n",
       "    <tr>\n",
       "      <th>3</th>\n",
       "      <td>14.15</td>\n",
       "      <td>23.55</td>\n",
       "      <td>and wait for the third bot to output something, because it did not output anything for now,</td>\n",
       "      <td>en</td>\n",
       "      <td>None</td>\n",
       "      <td>Dmitriy Grankin</td>\n",
       "      <td>2025-09-03T11:11:02.349371+00:00</td>\n",
       "      <td>2025-09-03T11:11:11.749371+00:00</td>\n",
       "    </tr>\n",
       "    <tr>\n",
       "      <th>4</th>\n",
       "      <td>23.55</td>\n",
       "      <td>31.55</td>\n",
       "      <td>we are speaking. And it should be fine right now. And it's good.</td>\n",
       "      <td>en</td>\n",
       "      <td>None</td>\n",
       "      <td>Dmitriy Grankin</td>\n",
       "      <td>2025-09-03T11:11:11.749371+00:00</td>\n",
       "      <td>2025-09-03T11:11:19.749371+00:00</td>\n",
       "    </tr>\n",
       "  </tbody>\n",
       "</table>\n",
       "</div>"
      ],
      "text/plain": [
       "                 start                  end                                                                                          text language created_at          speaker               absolute_start_time                 absolute_end_time\n",
       "0                 1.02                 6.02                                                     And this number of thoughts here must be,       en       None  Dmitriy Grankin  2025-09-03T11:10:49.219371+00:00  2025-09-03T11:10:54.219371+00:00\n",
       "1                 8.15                14.15                                     Um, yeah, the thing is that we need to speak a little bit       en       None  Dmitriy Grankin  2025-09-03T11:10:56.349371+00:00  2025-09-03T11:11:02.349371+00:00\n",
       "2                10.19                11.63                                                                      yeah, the thing is that.       en       None  Dmitriy Grankin  2025-09-03T11:10:58.389371+00:00  2025-09-03T11:10:59.829371+00:00\n",
       "3                14.15                23.55   and wait for the third bot to output something, because it did not output anything for now,       en       None  Dmitriy Grankin  2025-09-03T11:11:02.349371+00:00  2025-09-03T11:11:11.749371+00:00\n",
       "4                23.55                31.55                              we are speaking. And it should be fine right now. And it's good.       en       None  Dmitriy Grankin  2025-09-03T11:11:11.749371+00:00  2025-09-03T11:11:19.749371+00:00"
      ]
     },
     "metadata": {},
     "output_type": "display_data"
    }
   ],
   "source": [
    "time.sleep(15)\n",
    "get_transcript(meeting_urls[2])"
   ]
  },
  {
   "cell_type": "code",
   "execution_count": 15,
   "metadata": {},
   "outputs": [
    {
     "name": "stdout",
     "output_type": "stream",
     "text": [
      "\n",
      "DEBUG: Making GET request to http://localhost:18056/bots/status\n",
      "DEBUG: Headers: {'Content-Type': 'application/json', 'X-API-Key': 's6SWLYY0wuniAHVIoHpJoYy9ccvdZbdI5xyolkVu'}\n",
      "DEBUG: Params: None\n",
      "DEBUG: JSON data: None\n",
      "DEBUG: Response status: 200\n",
      "DEBUG: Response headers: {'date': 'Wed, 03 Sep 2025 11:11:27 GMT, Wed, 03 Sep 2025 11:11:27 GMT', 'server': 'uvicorn, uvicorn', 'content-length': '871', 'content-type': 'application/json'}\n",
      "DEBUG: Response content: {\"running_bots\":[{\"container_id\":\"3c933c2b88656d9412d38a4fa5d1f122291a053de955e1a0fa016d70aa3addfb\",\"container_name\":\"vexa-bot-238-33ad9e50\",\"platform\":\"google_meet\",\"native_meeting_id\":\"wjf-bhmw-bix\",\"status\":\"Up About a minute\",\"normalized_status\":\"Up\",\"created_at\":\"2025-09-03T11:10:13+00:00\",\"labels\":{\"org.opencontainers.image.ref.name\":\"ubuntu\",\"org.opencontainers.image.version\":\"22.04\",\"vexa.user_id\":\"111\"},\"meeting_id_from_name\":\"238\"},{\"container_id\":\"63e19181b1aa060c797e9d55cb198e703c912...\n"
     ]
    },
    {
     "data": {
      "text/plain": [
       "2"
      ]
     },
     "execution_count": 15,
     "metadata": {},
     "output_type": "execute_result"
    }
   ],
   "source": [
    "running_bots = client.get_running_bots_status()\n",
    "len(running_bots) #should be 2\n"
   ]
  },
  {
   "cell_type": "code",
   "execution_count": 19,
   "metadata": {},
   "outputs": [
    {
     "data": {
      "text/plain": [
       "['active', 'completed', 'active']"
      ]
     },
     "execution_count": 19,
     "metadata": {},
     "output_type": "execute_result"
    }
   ],
   "source": [
    "[m['status'] for m in meetings]"
   ]
  },
  {
   "cell_type": "code",
   "execution_count": 21,
   "metadata": {},
   "outputs": [
    {
     "name": "stdout",
     "output_type": "stream",
     "text": [
      "\n",
      "DEBUG: Making GET request to http://localhost:18056/meetings\n",
      "DEBUG: Headers: {'Content-Type': 'application/json', 'X-API-Key': 's6SWLYY0wuniAHVIoHpJoYy9ccvdZbdI5xyolkVu'}\n",
      "DEBUG: Params: None\n",
      "DEBUG: JSON data: None\n",
      "DEBUG: Response status: 200\n",
      "DEBUG: Response headers: {'date': 'Wed, 03 Sep 2025 11:12:52 GMT, Wed, 03 Sep 2025 11:12:52 GMT', 'server': 'uvicorn, uvicorn', 'content-length': '1183', 'content-type': 'application/json'}\n",
      "DEBUG: Response content: {\"meetings\":[{\"id\":238,\"user_id\":111,\"platform\":\"google_meet\",\"native_meeting_id\":\"wjf-bhmw-bix\",\"constructed_meeting_url\":\"https://meet.google.com/wjf-bhmw-bix\",\"status\":\"active\",\"bot_container_id\":\"vexa-bot-238-33ad9e50\",\"start_time\":\"2025-09-03T11:10:46.871812\",\"end_time\":null,\"data\":{},\"created_at\":\"2025-09-03T11:10:13.968080\",\"updated_at\":\"2025-09-03T11:10:46.869764\"},{\"id\":237,\"user_id\":111,\"platform\":\"google_meet\",\"native_meeting_id\":\"fjp-cbnn-hug\",\"constructed_meeting_url\":\"https://meet....\n"
     ]
    },
    {
     "data": {
      "text/plain": [
       "True"
      ]
     },
     "execution_count": 21,
     "metadata": {},
     "output_type": "execute_result"
    }
   ],
   "source": [
    "meetings = client.get_meetings()\n",
    "[m['status'] for m in meetings] == ['active', 'completed', 'active']"
   ]
  },
  {
   "cell_type": "code",
   "execution_count": 22,
   "metadata": {},
   "outputs": [
    {
     "name": "stdout",
     "output_type": "stream",
     "text": [
      "\n",
      "DEBUG: Making DELETE request to http://localhost:18056/bots/google_meet/xdy-txjo-fyh\n",
      "DEBUG: Headers: {'Content-Type': 'application/json', 'X-API-Key': 's6SWLYY0wuniAHVIoHpJoYy9ccvdZbdI5xyolkVu'}\n",
      "DEBUG: Params: None\n",
      "DEBUG: JSON data: None\n",
      "DEBUG: Response status: 202\n",
      "DEBUG: Response headers: {'date': 'Wed, 03 Sep 2025 11:13:03 GMT, Wed, 03 Sep 2025 11:13:02 GMT', 'server': 'uvicorn, uvicorn', 'content-length': '59', 'content-type': 'application/json'}\n",
      "DEBUG: Response content: {\"message\":\"Stop request accepted and is being processed.\"}...\n",
      "\n",
      "DEBUG: Making DELETE request to http://localhost:18056/bots/google_meet/fjp-cbnn-hug\n",
      "DEBUG: Headers: {'Content-Type': 'application/json', 'X-API-Key': 's6SWLYY0wuniAHVIoHpJoYy9ccvdZbdI5xyolkVu'}\n",
      "DEBUG: Params: None\n",
      "DEBUG: JSON data: None\n",
      "DEBUG: Response status: 404\n",
      "DEBUG: Response headers: {'date': 'Wed, 03 Sep 2025 11:13:03 GMT, Wed, 03 Sep 2025 11:13:02 GMT', 'server': 'uvicorn, uvicorn', 'content-length': '38', 'content-type': 'application/json'}\n",
      "DEBUG: Response content: {\"detail\":\"No meeting found to stop.\"}...\n",
      "HTTP Error 404 for DELETE http://localhost:18056/bots/google_meet/fjp-cbnn-hug: No meeting found to stop.\n",
      "\n",
      "DEBUG: Making DELETE request to http://localhost:18056/bots/google_meet/wjf-bhmw-bix\n",
      "DEBUG: Headers: {'Content-Type': 'application/json', 'X-API-Key': 's6SWLYY0wuniAHVIoHpJoYy9ccvdZbdI5xyolkVu'}\n",
      "DEBUG: Params: None\n",
      "DEBUG: JSON data: None\n",
      "DEBUG: Response status: 202\n",
      "DEBUG: Response headers: {'date': 'Wed, 03 Sep 2025 11:13:03 GMT, Wed, 03 Sep 2025 11:13:02 GMT', 'server': 'uvicorn, uvicorn', 'content-length': '59', 'content-type': 'application/json'}\n",
      "DEBUG: Response content: {\"message\":\"Stop request accepted and is being processed.\"}...\n"
     ]
    }
   ],
   "source": [
    "for m in meeting_urls:\n",
    "    try:stop_bot(m)\n",
    "    except Exception as e:\n",
    "        print(e)"
   ]
  },
  {
   "cell_type": "code",
   "execution_count": 23,
   "metadata": {},
   "outputs": [
    {
     "name": "stdout",
     "output_type": "stream",
     "text": [
      "\n",
      "DEBUG: Making GET request to http://localhost:18056/meetings\n",
      "DEBUG: Headers: {'Content-Type': 'application/json', 'X-API-Key': 's6SWLYY0wuniAHVIoHpJoYy9ccvdZbdI5xyolkVu'}\n",
      "DEBUG: Params: None\n",
      "DEBUG: JSON data: None\n",
      "DEBUG: Response status: 200\n",
      "DEBUG: Response headers: {'date': 'Wed, 03 Sep 2025 11:13:14 GMT, Wed, 03 Sep 2025 11:13:14 GMT', 'server': 'uvicorn, uvicorn', 'content-length': '1343', 'content-type': 'application/json'}\n",
      "DEBUG: Response content: {\"meetings\":[{\"id\":238,\"user_id\":111,\"platform\":\"google_meet\",\"native_meeting_id\":\"wjf-bhmw-bix\",\"constructed_meeting_url\":\"https://meet.google.com/wjf-bhmw-bix\",\"status\":\"completed\",\"bot_container_id\":\"vexa-bot-238-33ad9e50\",\"start_time\":\"2025-09-03T11:10:46.871812\",\"end_time\":\"2025-09-03T11:13:05.385445\",\"data\":{\"languages\":[\"en\"],\"participants\":[\"Dmitriy Grankin\"]},\"created_at\":\"2025-09-03T11:10:13.968080\",\"updated_at\":\"2025-09-03T11:13:05.390777\"},{\"id\":237,\"user_id\":111,\"platform\":\"google_m...\n"
     ]
    },
    {
     "data": {
      "text/plain": [
       "True"
      ]
     },
     "execution_count": 23,
     "metadata": {},
     "output_type": "execute_result"
    }
   ],
   "source": [
    "meetings = client.get_meetings()\n",
    "[m['status'] for m in meetings] == ['completed', 'completed', 'completed']"
   ]
  }
 ],
 "metadata": {
  "kernelspec": {
   "display_name": "vexa",
   "language": "python",
   "name": "python3"
  },
  "language_info": {
   "codemirror_mode": {
    "name": "ipython",
    "version": 3
   },
   "file_extension": ".py",
   "mimetype": "text/x-python",
   "name": "python",
   "nbconvert_exporter": "python",
   "pygments_lexer": "ipython3",
   "version": "3.11.10"
  }
 },
 "nbformat": 4,
 "nbformat_minor": 2
}
