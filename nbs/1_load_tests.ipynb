{
  "cells": [
    {
      "cell_type": "markdown",
      "metadata": {},
      "source": [
        "## Load testing scenarios.\n",
        "\n",
        "- Create multiple users with individual API keys\n",
        "- Random mapping of users to meetings\n",
        "- Bot lifecycle management\n",
        "- Background monitoring with timestamps\n",
        "- Pandas integration for data analysis\n"
      ]
    },
    {
      "cell_type": "code",
      "execution_count": null,
      "metadata": {},
      "outputs": [],
      "source": [
        "# !pip install pandas\n",
        "# !pip install vexa-client --upgrade"
      ]
    },
    {
      "cell_type": "code",
      "execution_count": null,
      "metadata": {},
      "outputs": [],
      "source": [
        "# Import required libraries\n",
        "import os\n",
        "import sys\n",
        "import pandas as pd\n",
        "from IPython.display import clear_output, display\n",
        "import time\n",
        "\n",
        "# Add the new_tests directory to the path\n",
        "sys.path.append('../testing')\n",
        "\n",
        "# Import our test library\n",
        "from load import TestSuite\n",
        "from vexa_client.vexa import parse_url\n",
        "\n",
        "\n",
        "# Patch your existing TestSuite\n"
      ]
    },
    {
      "cell_type": "code",
      "execution_count": null,
      "metadata": {},
      "outputs": [],
      "source": [
        "# Configuration\n",
        "BASE_URL = \"https://devapi.cloud.vexa.ai\"  # Change to your Vexa API URL\n",
        "ADMIN_API_KEY = 'vexa-admin-token-2024'  # Set this environment variable\n",
        "\n",
        "# Test parameters\n",
        "NUM_USERS = 12\n",
        "MEETING_URLS = [\n",
        "    \"https://meet.google.com/egp-zbeu-zsd\",\n",
        "]\n",
        "\n"
      ]
    },
    {
      "cell_type": "code",
      "execution_count": null,
      "metadata": {},
      "outputs": [],
      "source": [
        "# Initialize TestSuite\n",
        "test_suite = TestSuite(\n",
        "    base_url=BASE_URL,\n",
        "    admin_api_key=ADMIN_API_KEY,\n",
        "    \n",
        ")\n",
        "\n",
        "print(\"TestSuite initialized\")\n"
      ]
    },
    {
      "cell_type": "code",
      "execution_count": null,
      "metadata": {},
      "outputs": [],
      "source": [
        "# Step 1: Create users\n",
        "test_suite.cleanup()\n",
        "users = test_suite.create_users(NUM_USERS)\n",
        "print(f\"Created {len(users)} users\")\n",
        "# Step 2: Create random user-meeting mapping\n",
        "mapping = test_suite.create_random_mapping(MEETING_URLS)\n",
        "bots = test_suite.create_bots(bot_name_prefix=\"DemoBot\")\n",
        "results = test_suite.start_all_bots(language='en', task='transcribe')\n",
        "#test_suite.start_monitoring()"
      ]
    },
    {
      "cell_type": "markdown",
      "metadata": {},
      "source": [
        "add_metrics\n",
        "\n",
        "- time between statuses. Available from meetings"
      ]
    },
    {
      "cell_type": "code",
      "execution_count": null,
      "metadata": {},
      "outputs": [],
      "source": [
        "# new_users = test_suite.add_users(4)\n",
        "# new_bots = test_suite.add_bots(MEETING_URLS, \"Plus4\")\n",
        "# test_suite.start_new_bots(new_bots)\n"
      ]
    },
    {
      "cell_type": "code",
      "execution_count": null,
      "metadata": {},
      "outputs": [],
      "source": [
        "pd.options.display.max_columns = None"
      ]
    },
    {
      "cell_type": "code",
      "execution_count": null,
      "metadata": {},
      "outputs": [],
      "source": [
        "df = test_suite.get_latest_dataframe()"
      ]
    },
    {
      "cell_type": "code",
      "execution_count": null,
      "metadata": {},
      "outputs": [],
      "source": [
        "df[['bot_id','meeting_status','segments_count','detected_languages','time_requested_to_joining','time_joining_to_awaiting_admission','time_awaiting_admission_to_active','transcription_latency']]"
      ]
    },
    {
      "cell_type": "code",
      "execution_count": null,
      "metadata": {},
      "outputs": [],
      "source": [
        "bot = bots[0]\n",
        "print(bot.bot_id)\n",
        "#bot.user_client.get_meetings()\n",
        "bot.get_transcript_display()"
      ]
    },
    {
      "cell_type": "code",
      "execution_count": null,
      "metadata": {},
      "outputs": [],
      "source": [
        "bot.user_client.get_meetings()"
      ]
    },
    {
      "cell_type": "code",
      "execution_count": null,
      "metadata": {},
      "outputs": [],
      "source": [
        "test_suite.cleanup()"
      ]
    },
    {
      "cell_type": "markdown",
      "metadata": {},
      "source": []
    }
  ],
  "metadata": {
    "kernelspec": {
      "display_name": "api_tests",
      "language": "python",
      "name": "python3"
    },
    "language_info": {
      "codemirror_mode": {
        "name": "ipython",
        "version": 3
      },
      "file_extension": ".py",
      "mimetype": "text/x-python",
      "name": "python",
      "nbconvert_exporter": "python",
      "pygments_lexer": "ipython3",
      "version": "3.13.2"
    }
  },
  "nbformat": 4,
  "nbformat_minor": 2
}
