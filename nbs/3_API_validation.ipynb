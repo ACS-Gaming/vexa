{
 "cells": [
  {
   "cell_type": "code",
   "execution_count": 1,
   "metadata": {},
   "outputs": [],
   "source": [
    "# !pip install pandas\n",
    "# !pip install vexa-client"
   ]
  },
  {
   "cell_type": "code",
   "execution_count": 2,
   "metadata": {},
   "outputs": [],
   "source": [
    "import os\n",
    "import sys\n",
    "import pandas as pd\n",
    "from IPython.display import clear_output, display\n",
    "import time\n",
    "\n",
    "# Add the testing directory to the path\n",
    "sys.path.append('../testing')\n",
    "\n",
    "from core import create_user_client, request_bot,get_transcript\n",
    "\n",
    "from vexa_client.vexa import parse_url\n"
   ]
  },
  {
   "cell_type": "code",
   "execution_count": 3,
   "metadata": {},
   "outputs": [],
   "source": [
    "# creates test user and returns client\n",
    "client = create_user_client(base_url=\"http://localhost:18056\",admin_api_key='token')"
   ]
  },
  {
   "cell_type": "code",
   "execution_count": 4,
   "metadata": {},
   "outputs": [],
   "source": [
    "### API endpoints validate against the schemas"
   ]
  },
  {
   "cell_type": "code",
   "execution_count": 5,
   "metadata": {},
   "outputs": [],
   "source": [
    "#Google Meet:\n",
    "meeting_url=\"https://meet.google.com/fjp-cbnn-hug\"\n",
    "platform, native_meeting_id, passcode = parse_url(meeting_url)"
   ]
  },
  {
   "cell_type": "code",
   "execution_count": 7,
   "metadata": {},
   "outputs": [],
   "source": [
    "#MS Teams:\n",
    "\n",
    "meeting_url=\"https://teams.live.com/meet/9399697580372?p=A5AU2r3RVJDzsCajcA\"\n",
    "platform, native_meeting_id, passcode = parse_url(meeting_url)\n"
   ]
  },
  {
   "cell_type": "markdown",
   "metadata": {},
   "source": [
    "### request bot"
   ]
  },
  {
   "cell_type": "code",
   "execution_count": 6,
   "metadata": {},
   "outputs": [
    {
     "name": "stdout",
     "output_type": "stream",
     "text": [
      "HTTP Error 422 for POST http://localhost:18056/bots: [{'loc': ['body', 'native_meeting_id'], 'msg': \"Google Meet ID must be in format 'abc-defg-hij' (lowercase letters only)\", 'type': 'value_error'}]\n"
     ]
    }
   ],
   "source": [
    "# invalid native_meeting_id\n",
    "try:\n",
    "    meeting_info = client.request_bot(\n",
    "        platform=platform,\n",
    "        native_meeting_id=meeting_url, # invalid native_meeting_id\n",
    "        bot_name=\"Vexa's bot\",\n",
    "        language='es',\n",
    "        task = 'transcribe'\n",
    "    )\n",
    "except Exception as e:\n",
    "    print(e)\n",
    "#'msg': msg': \"Google Meet ID must be in format 'abc-defg-hij' "
   ]
  },
  {
   "cell_type": "code",
   "execution_count": 7,
   "metadata": {},
   "outputs": [
    {
     "name": "stdout",
     "output_type": "stream",
     "text": [
      "HTTP Error 422 for POST http://localhost:18056/bots: [{'loc': ['body', 'platform'], 'msg': \"value is not a valid enumeration member; permitted: 'google_meet', 'zoom', 'teams'\", 'type': 'type_error.enum', 'ctx': {'enum_values': ['google_meet', 'zoom', 'teams']}}]\n"
     ]
    }
   ],
   "source": [
    "# invalid platform\n",
    "try:\n",
    "    meeting_info = client.request_bot(\n",
    "        platform=\"invalid platform\",\n",
    "        native_meeting_id=native_meeting_id,\n",
    "        bot_name=\"Vexa's bot\",\n",
    "        language='es',\n",
    "        task = 'transcribe'\n",
    "    )\n",
    "except Exception as e:\n",
    "    print(e)\n",
    "#'msg': \"value is not a valid enumeration member; permitted: 'google_meet', 'zoom', 'teams'\""
   ]
  },
  {
   "cell_type": "code",
   "execution_count": 8,
   "metadata": {},
   "outputs": [
    {
     "name": "stdout",
     "output_type": "stream",
     "text": [
      "HTTP Error 422 for POST http://localhost:18056/bots: Invalid platform/native_meeting_id combination: cannot construct meeting URL\n"
     ]
    }
   ],
   "source": [
    "# invalid platform\n",
    "try:\n",
    "    meeting_info = client.request_bot(\n",
    "        platform=\"zoom\",\n",
    "        native_meeting_id=native_meeting_id,\n",
    "        bot_name=\"Vexa's bot\",\n",
    "        language='es',\n",
    "        task = 'transcribe'\n",
    "    )\n",
    "except Exception as e:\n",
    "    print(e)\n",
    "#'msg': \"HTTP Error 422 for POST http://localhost:18056/bots: Invalid platform/native_meeting_id combination: cannot construct meeting URL\""
   ]
  },
  {
   "cell_type": "code",
   "execution_count": 9,
   "metadata": {},
   "outputs": [
    {
     "name": "stdout",
     "output_type": "stream",
     "text": [
      "HTTP Error 422 for POST http://localhost:18056/bots: [{'loc': ['body', 'language'], 'msg': \"Invalid language code 'invalid language'. Must be one of: ['af', 'am', 'ar', 'as', 'az', 'ba', 'be', 'bg', 'bn', 'bo', 'br', 'bs', 'ca', 'cs', 'cy', 'da', 'de', 'el', 'en', 'es', 'et', 'eu', 'fa', 'fi', 'fo', 'fr', 'gl', 'gu', 'ha', 'haw', 'he', 'hi', 'hr', 'ht', 'hu', 'hy', 'id', 'is', 'it', 'ja', 'jw', 'ka', 'kk', 'km', 'kn', 'ko', 'la', 'lb', 'ln', 'lo', 'lt', 'lv', 'mg', 'mi', 'mk', 'ml', 'mn', 'mr', 'ms', 'mt', 'my', 'ne', 'nl', 'nn', 'no', 'oc', 'pa', 'pl', 'ps', 'pt', 'ro', 'ru', 'sa', 'sd', 'si', 'sk', 'sl', 'sn', 'so', 'sq', 'sr', 'su', 'sv', 'sw', 'ta', 'te', 'tg', 'th', 'tk', 'tl', 'tr', 'tt', 'uk', 'ur', 'uz', 'vi', 'yi', 'yo', 'yue', 'zh']\", 'type': 'value_error'}]\n"
     ]
    }
   ],
   "source": [
    "# invalid language\n",
    "try:\n",
    "    meeting_info = client.request_bot(\n",
    "        platform=platform,\n",
    "        native_meeting_id=native_meeting_id,\n",
    "        bot_name=\"Vexa's bot\",\n",
    "        language='invalid language',\n",
    "        task = 'transcribe'\n",
    "    )\n",
    "except Exception as e:\n",
    "    print(e)\n",
    "#'msg':'loc': ['body', 'language'], 'msg': \"Invalid language code 'invalid language"
   ]
  },
  {
   "cell_type": "code",
   "execution_count": 10,
   "metadata": {},
   "outputs": [
    {
     "name": "stdout",
     "output_type": "stream",
     "text": [
      "HTTP Error 422 for POST http://localhost:18056/bots: [{'loc': ['body', 'task'], 'msg': \"Invalid task 'invalid task'. Must be one of: ['transcribe', 'translate']\", 'type': 'value_error'}]\n"
     ]
    }
   ],
   "source": [
    "# invalid task\n",
    "try:\n",
    "    meeting_info = client.request_bot(\n",
    "        platform=platform,\n",
    "        native_meeting_id=native_meeting_id,\n",
    "        bot_name=\"Vexa's bot\",\n",
    "        language='en',\n",
    "        task = 'invalid task'\n",
    "    )\n",
    "except Exception as e:\n",
    "    print(e)\n",
    "#'msg':[{'loc': ['body', 'language'], 'msg': \"Invalid language code 'invalid language'."
   ]
  },
  {
   "cell_type": "code",
   "execution_count": null,
   "metadata": {},
   "outputs": [],
   "source": [
    "# OK\n",
    "meeting_info = client.request_bot(\n",
    "    platform=platform,\n",
    "    native_meeting_id=native_meeting_id,\n",
    "    bot_name=\"Vexa's bot\",\n",
    "    language='en',\n",
    "    task = 'transcribe'\n",
    ")\n"
   ]
  },
  {
   "cell_type": "code",
   "execution_count": 12,
   "metadata": {},
   "outputs": [
    {
     "data": {
      "text/html": [
       "<div>\n",
       "<style scoped>\n",
       "    .dataframe tbody tr th:only-of-type {\n",
       "        vertical-align: middle;\n",
       "    }\n",
       "\n",
       "    .dataframe tbody tr th {\n",
       "        vertical-align: top;\n",
       "    }\n",
       "\n",
       "    .dataframe thead th {\n",
       "        text-align: right;\n",
       "    }\n",
       "</style>\n",
       "<table border=\"1\" class=\"dataframe\">\n",
       "  <thead>\n",
       "    <tr style=\"text-align: right;\">\n",
       "      <th></th>\n",
       "      <th>start</th>\n",
       "      <th>end</th>\n",
       "      <th>text</th>\n",
       "      <th>language</th>\n",
       "      <th>created_at</th>\n",
       "      <th>speaker</th>\n",
       "      <th>absolute_start_time</th>\n",
       "      <th>absolute_end_time</th>\n",
       "    </tr>\n",
       "  </thead>\n",
       "  <tbody>\n",
       "    <tr>\n",
       "      <th>0</th>\n",
       "      <td>0.0</td>\n",
       "      <td>1.393</td>\n",
       "      <td>Então, isso é sinhoso, isso é sinhoso, isso é...</td>\n",
       "      <td>pt</td>\n",
       "      <td>None</td>\n",
       "      <td>Dmitriy Grankin</td>\n",
       "      <td>2025-10-03T11:07:39.722458+00:00</td>\n",
       "      <td>2025-10-03T11:07:41.115458+00:00</td>\n",
       "    </tr>\n",
       "  </tbody>\n",
       "</table>\n",
       "</div>"
      ],
      "text/plain": [
       "   start    end                                               text language  \\\n",
       "0    0.0  1.393   Então, isso é sinhoso, isso é sinhoso, isso é...       pt   \n",
       "\n",
       "  created_at          speaker               absolute_start_time  \\\n",
       "0       None  Dmitriy Grankin  2025-10-03T11:07:39.722458+00:00   \n",
       "\n",
       "                  absolute_end_time  \n",
       "0  2025-10-03T11:07:41.115458+00:00  "
      ]
     },
     "metadata": {},
     "output_type": "display_data"
    },
    {
     "ename": "KeyboardInterrupt",
     "evalue": "",
     "output_type": "error",
     "traceback": [
      "\u001b[31m---------------------------------------------------------------------------\u001b[39m",
      "\u001b[31mKeyboardInterrupt\u001b[39m                         Traceback (most recent call last)",
      "\u001b[36mCell\u001b[39m\u001b[36m \u001b[39m\u001b[32mIn[12]\u001b[39m\u001b[32m, line 6\u001b[39m\n\u001b[32m      4\u001b[39m clear_output()\n\u001b[32m      5\u001b[39m display(df.sort_values(\u001b[33m'\u001b[39m\u001b[33mabsolute_start_time\u001b[39m\u001b[33m'\u001b[39m).tail(\u001b[32m10\u001b[39m))\n\u001b[32m----> \u001b[39m\u001b[32m6\u001b[39m \u001b[43mtime\u001b[49m\u001b[43m.\u001b[49m\u001b[43msleep\u001b[49m\u001b[43m(\u001b[49m\u001b[32;43m1\u001b[39;49m\u001b[43m)\u001b[49m\n",
      "\u001b[31mKeyboardInterrupt\u001b[39m: "
     ]
    }
   ],
   "source": [
    "while True:\n",
    "    transcript = client.get_transcript(native_meeting_id=native_meeting_id,platform='google_meet')\n",
    "    df = pd.DataFrame(transcript['segments'])#.sort_values(['created_at','start'])#.drop_duplicates('start',keep='last')\n",
    "    clear_output()\n",
    "    display(df.sort_values('absolute_start_time').tail(10))\n",
    "    time.sleep(1)"
   ]
  },
  {
   "cell_type": "code",
   "execution_count": 13,
   "metadata": {},
   "outputs": [
    {
     "name": "stdout",
     "output_type": "stream",
     "text": [
      "HTTP Error 422 for DELETE http://localhost:18056/bots/invalid platform/fjp-cbnn-hug: [{'loc': ['path', 'platform'], 'msg': \"value is not a valid enumeration member; permitted: 'google_meet', 'zoom', 'teams'\", 'type': 'type_error.enum', 'ctx': {'enum_values': ['google_meet', 'zoom', 'teams']}}]\n"
     ]
    }
   ],
   "source": [
    "# invalid platform\n",
    "try:\n",
    "    client.stop_bot(platform=\"invalid platform\",native_meeting_id=native_meeting_id)\n",
    "except Exception as e:\n",
    "    print(e)\n",
    "#'msg':  'msg': \"value is not a valid enumeration member; permitted"
   ]
  },
  {
   "cell_type": "code",
   "execution_count": null,
   "metadata": {},
   "outputs": [
    {
     "name": "stdout",
     "output_type": "stream",
     "text": [
      "HTTP Error 404 for DELETE http://localhost:18056/bots/google_meet/invalid meeting id: No meeting found to stop.\n"
     ]
    }
   ],
   "source": [
    "# invalid meeting id\n",
    "try:\n",
    "    client.stop_bot(platform=platform,native_meeting_id='invalid meeting id')\n",
    "except Exception as e:\n",
    "    print(e)\n",
    "#'msg':  'msg': \"value is not a valid enumeration member; permitted"
   ]
  },
  {
   "cell_type": "code",
   "execution_count": 15,
   "metadata": {},
   "outputs": [],
   "source": [
    "running_bots = client.get_running_bots_status()"
   ]
  },
  {
   "cell_type": "code",
   "execution_count": 16,
   "metadata": {},
   "outputs": [
    {
     "name": "stdout",
     "output_type": "stream",
     "text": [
      "HTTP Error 422 for PUT http://localhost:18056/bots/invalid platform/fjp-cbnn-hug/config: [{'loc': ['path', 'platform'], 'msg': \"value is not a valid enumeration member; permitted: 'google_meet', 'zoom', 'teams'\", 'type': 'type_error.enum', 'ctx': {'enum_values': ['google_meet', 'zoom', 'teams']}}]\n"
     ]
    }
   ],
   "source": [
    "# invalid meeting id\n",
    "try:\n",
    "    client.update_bot_config(\n",
    "        platform=\"invalid platform\",\n",
    "        native_meeting_id=native_meeting_id,\n",
    "        language='en',\n",
    "        task = 'transcribe'\n",
    "    )\n",
    "except Exception as e:\n",
    "    print(e)\n",
    "#'msg':  'msg': \"value is not a valid enumeration member; permitted"
   ]
  },
  {
   "cell_type": "code",
   "execution_count": null,
   "metadata": {},
   "outputs": [
    {
     "name": "stdout",
     "output_type": "stream",
     "text": [
      "HTTP Error 404 for PUT http://localhost:18056/bots/google_meet/invalid meeting id/config: No active meeting found for platform google_meet and meeting ID invalid meeting id.\n"
     ]
    }
   ],
   "source": [
    "# native_meeting_id\n",
    "try:\n",
    "    client.update_bot_config(\n",
    "        platform=platform,\n",
    "        native_meeting_id='invalid meeting id',\n",
    "        language='en',\n",
    "        task = 'transcribe'\n",
    "    )\n",
    "except Exception as e:\n",
    "    print(e)\n",
    "#'msg':  'msg': \"o active meeting found "
   ]
  },
  {
   "cell_type": "code",
   "execution_count": null,
   "metadata": {},
   "outputs": [
    {
     "name": "stdout",
     "output_type": "stream",
     "text": [
      "HTTP Error 422 for PUT http://localhost:18056/bots/google_meet/fjp-cbnn-hug/config: [{'loc': ['body', 'task'], 'msg': \"Invalid task 'invalid task'. Must be one of: ['transcribe', 'translate']\", 'type': 'value_error'}]\n"
     ]
    }
   ],
   "source": [
    "# invalid task\n",
    "try:\n",
    "    client.update_bot_config(\n",
    "        platform=platform,\n",
    "        native_meeting_id=native_meeting_id,\n",
    "        language='en',\n",
    "        task = 'invalid task'\n",
    "    )\n",
    "except Exception as e:\n",
    "    print(e)\n",
    "#'msg':  'msg': 'msg': \"Invalid task 'invalid task'. Must be one of: ['transcribe', 'translate']\","
   ]
  },
  {
   "cell_type": "code",
   "execution_count": null,
   "metadata": {},
   "outputs": [],
   "source": [
    "# OK\n",
    "\n",
    "client.update_bot_config(\n",
    "    platform=platform,\n",
    "    native_meeting_id=native_meeting_id,\n",
    "    language='en'\n",
    ")"
   ]
  },
  {
   "cell_type": "code",
   "execution_count": 21,
   "metadata": {},
   "outputs": [
    {
     "data": {
      "text/html": [
       "<div>\n",
       "<style scoped>\n",
       "    .dataframe tbody tr th:only-of-type {\n",
       "        vertical-align: middle;\n",
       "    }\n",
       "\n",
       "    .dataframe tbody tr th {\n",
       "        vertical-align: top;\n",
       "    }\n",
       "\n",
       "    .dataframe thead th {\n",
       "        text-align: right;\n",
       "    }\n",
       "</style>\n",
       "<table border=\"1\" class=\"dataframe\">\n",
       "  <thead>\n",
       "    <tr style=\"text-align: right;\">\n",
       "      <th></th>\n",
       "      <th>start</th>\n",
       "      <th>end</th>\n",
       "      <th>text</th>\n",
       "      <th>language</th>\n",
       "      <th>created_at</th>\n",
       "      <th>speaker</th>\n",
       "      <th>absolute_start_time</th>\n",
       "      <th>absolute_end_time</th>\n",
       "    </tr>\n",
       "  </thead>\n",
       "  <tbody>\n",
       "    <tr>\n",
       "      <th>0</th>\n",
       "      <td>0.0</td>\n",
       "      <td>22.72</td>\n",
       "      <td>Estaba adaptando phase 4, phase 6, 9, 9, 8, 9...</td>\n",
       "      <td>es</td>\n",
       "      <td>None</td>\n",
       "      <td>Teams Participant (participant-avatar)</td>\n",
       "      <td>2025-10-03T10:28:05.100406+00:00</td>\n",
       "      <td>2025-10-03T10:28:27.820406+00:00</td>\n",
       "    </tr>\n",
       "  </tbody>\n",
       "</table>\n",
       "</div>"
      ],
      "text/plain": [
       "   start    end                                               text language  \\\n",
       "0    0.0  22.72   Estaba adaptando phase 4, phase 6, 9, 9, 8, 9...       es   \n",
       "\n",
       "  created_at                                 speaker  \\\n",
       "0       None  Teams Participant (participant-avatar)   \n",
       "\n",
       "                absolute_start_time                 absolute_end_time  \n",
       "0  2025-10-03T10:28:05.100406+00:00  2025-10-03T10:28:27.820406+00:00  "
      ]
     },
     "metadata": {},
     "output_type": "display_data"
    },
    {
     "ename": "KeyboardInterrupt",
     "evalue": "",
     "output_type": "error",
     "traceback": [
      "\u001b[31m---------------------------------------------------------------------------\u001b[39m",
      "\u001b[31mKeyboardInterrupt\u001b[39m                         Traceback (most recent call last)",
      "\u001b[36mCell\u001b[39m\u001b[36m \u001b[39m\u001b[32mIn[21]\u001b[39m\u001b[32m, line 6\u001b[39m\n\u001b[32m      4\u001b[39m clear_output()\n\u001b[32m      5\u001b[39m display(df.sort_values(\u001b[33m'\u001b[39m\u001b[33mabsolute_start_time\u001b[39m\u001b[33m'\u001b[39m).tail(\u001b[32m10\u001b[39m))\n\u001b[32m----> \u001b[39m\u001b[32m6\u001b[39m \u001b[43mtime\u001b[49m\u001b[43m.\u001b[49m\u001b[43msleep\u001b[49m\u001b[43m(\u001b[49m\u001b[32;43m1\u001b[39;49m\u001b[43m)\u001b[49m\n",
      "\u001b[31mKeyboardInterrupt\u001b[39m: "
     ]
    }
   ],
   "source": [
    "while True:\n",
    "    transcript = client.get_transcript(native_meeting_id=native_meeting_id,platform=platform)\n",
    "    df = pd.DataFrame(transcript['segments'])#.sort_values(['created_at','start'])#.drop_duplicates('start',keep='last')\n",
    "    clear_output()\n",
    "    display(df.sort_values('absolute_start_time').tail(10))\n",
    "    time.sleep(1)"
   ]
  },
  {
   "cell_type": "code",
   "execution_count": 43,
   "metadata": {},
   "outputs": [],
   "source": [
    "running_bots = client.get_running_bots_status()"
   ]
  },
  {
   "cell_type": "code",
   "execution_count": 44,
   "metadata": {},
   "outputs": [
    {
     "data": {
      "text/plain": [
       "[{'container_id': 'b8297a8146595238403ffe5623fb1d348749f571ea5ce712afbec92a73d370a3',\n",
       "  'container_name': 'vexa-bot-98-c947eddd',\n",
       "  'platform': 'teams',\n",
       "  'native_meeting_id': 'https://teams.live.com/meet/9399697580372?p=A5AU2r3RVJDzsCajcA',\n",
       "  'status': 'Up 3 minutes',\n",
       "  'normalized_status': 'Up',\n",
       "  'created_at': '2025-10-03T10:29:17+00:00',\n",
       "  'labels': {'desktop.docker.io/ports.scheme': 'v2',\n",
       "   'org.opencontainers.image.ref.name': 'ubuntu',\n",
       "   'org.opencontainers.image.version': '22.04',\n",
       "   'vexa.user_id': '115'},\n",
       "  'meeting_id_from_name': '98'}]"
      ]
     },
     "execution_count": 44,
     "metadata": {},
     "output_type": "execute_result"
    }
   ],
   "source": [
    "running_bots"
   ]
  },
  {
   "cell_type": "code",
   "execution_count": 19,
   "metadata": {},
   "outputs": [
    {
     "data": {
      "text/plain": [
       "{'message': 'Stop request accepted and is being processed.'}"
      ]
     },
     "execution_count": 19,
     "metadata": {},
     "output_type": "execute_result"
    }
   ],
   "source": [
    "client.stop_bot(platform=platform,native_meeting_id=native_meeting_id)\n"
   ]
  },
  {
   "cell_type": "code",
   "execution_count": 37,
   "metadata": {},
   "outputs": [],
   "source": [
    "meetings = client.get_meetings()"
   ]
  },
  {
   "cell_type": "markdown",
   "metadata": {},
   "source": []
  },
  {
   "cell_type": "code",
   "execution_count": null,
   "metadata": {},
   "outputs": [],
   "source": [
    "client.update_meeting_data(\n",
    "    platform=platform,\n",
    "    native_meeting_id=native_meeting_id,\n",
    "    name=\"Test Meeting\",\n",
    ")"
   ]
  },
  {
   "cell_type": "code",
   "execution_count": null,
   "metadata": {},
   "outputs": [],
   "source": [
    "client.delete_meeting(\n",
    "    platform=platform,\n",
    "    native_meeting_id=native_meeting_id,\n",
    ")"
   ]
  },
  {
   "cell_type": "code",
   "execution_count": null,
   "metadata": {},
   "outputs": [],
   "source": []
  }
 ],
 "metadata": {
  "kernelspec": {
   "display_name": "api_tests",
   "language": "python",
   "name": "python3"
  },
  "language_info": {
   "codemirror_mode": {
    "name": "ipython",
    "version": 3
   },
   "file_extension": ".py",
   "mimetype": "text/x-python",
   "name": "python",
   "nbconvert_exporter": "python",
   "pygments_lexer": "ipython3",
   "version": "3.13.2"
  }
 },
 "nbformat": 4,
 "nbformat_minor": 2
}
