{
 "cells": [
  {
   "cell_type": "code",
   "execution_count": null,
   "metadata": {},
   "outputs": [],
   "source": [
    "!pip install pandas\n",
    "!pip install vexa-client"
   ]
  },
  {
   "cell_type": "code",
   "execution_count": null,
   "metadata": {},
   "outputs": [],
   "source": [
    "import os\n",
    "import sys\n",
    "import pandas as pd\n",
    "from IPython.display import clear_output, display\n",
    "import time\n",
    "\n",
    "# Add the testing directory to the path\n",
    "sys.path.append('../testing')\n",
    "\n",
    "from core import create_user_client, request_bot,get_transcript\n"
   ]
  },
  {
   "cell_type": "code",
   "execution_count": null,
   "metadata": {},
   "outputs": [],
   "source": [
    "# creates test user and returns client\n",
    "client = create_user_client()"
   ]
  },
  {
   "cell_type": "code",
   "execution_count": null,
   "metadata": {},
   "outputs": [],
   "source": [
    "### API endpoints validate against the schemas"
   ]
  },
  {
   "cell_type": "code",
   "execution_count": null,
   "metadata": {},
   "outputs": [],
   "source": [
    "\n",
    "meeting_url=\"https://meet.google.com/fjp-cbnn-hug\"\n",
    "native_meeting_id = meeting_url.split(\"/\")[-1]  # \"xyz-abcd-123\""
   ]
  },
  {
   "cell_type": "markdown",
   "metadata": {},
   "source": [
    "### request bot"
   ]
  },
  {
   "cell_type": "code",
   "execution_count": null,
   "metadata": {},
   "outputs": [],
   "source": [
    "# wrong platform\n",
    "try:\n",
    "    meeting_info = client.request_bot(\n",
    "        platform=\"wrong platform\",\n",
    "        native_meeting_id=native_meeting_id,\n",
    "        bot_name=\"Vexa's bot\",\n",
    "        language='es',\n",
    "        task = 'transcribe'\n",
    "    )\n",
    "except Exception as e:\n",
    "    print(e)\n",
    "#'msg': \"value is not a valid enumeration member; permitted: 'google_meet', 'zoom', 'teams'\""
   ]
  },
  {
   "cell_type": "code",
   "execution_count": null,
   "metadata": {},
   "outputs": [],
   "source": [
    "# wrong platform\n",
    "try:\n",
    "    meeting_info = client.request_bot(\n",
    "        platform=\"zoom\",\n",
    "        native_meeting_id=native_meeting_id,\n",
    "        bot_name=\"Vexa's bot\",\n",
    "        language='es',\n",
    "        task = 'transcribe'\n",
    "    )\n",
    "except Exception as e:\n",
    "    print(e)\n",
    "#'msg': \"HTTP Error 422 for POST http://localhost:18056/bots: Invalid platform/native_meeting_id combination: cannot construct meeting URL\""
   ]
  },
  {
   "cell_type": "code",
   "execution_count": null,
   "metadata": {},
   "outputs": [],
   "source": [
    "# wrong language\n",
    "try:\n",
    "    meeting_info = client.request_bot(\n",
    "        platform=\"google_meet\",\n",
    "        native_meeting_id=native_meeting_id,\n",
    "        bot_name=\"Vexa's bot\",\n",
    "        language='wrong language',\n",
    "        task = 'transcribe'\n",
    "    )\n",
    "except Exception as e:\n",
    "    print(e)\n",
    "#'msg':'loc': ['body', 'language'], 'msg': \"Invalid language code 'wrong language"
   ]
  },
  {
   "cell_type": "code",
   "execution_count": null,
   "metadata": {},
   "outputs": [],
   "source": [
    "# wrong task\n",
    "try:\n",
    "    meeting_info = client.request_bot(\n",
    "        platform=\"google_meet\",\n",
    "        native_meeting_id=native_meeting_id,\n",
    "        bot_name=\"Vexa's bot\",\n",
    "        language='en',\n",
    "        task = 'wrong task'\n",
    "    )\n",
    "except Exception as e:\n",
    "    print(e)\n",
    "#'msg':[{'loc': ['body', 'language'], 'msg': \"Invalid language code 'wrong language'."
   ]
  },
  {
   "cell_type": "code",
   "execution_count": null,
   "metadata": {},
   "outputs": [],
   "source": [
    "# OK\n",
    "meeting_info = client.request_bot(\n",
    "    platform=\"google_meet\",\n",
    "    native_meeting_id=native_meeting_id,\n",
    "    bot_name=\"Vexa's bot\",\n",
    "    language='pt',\n",
    "    task = 'transcribe'\n",
    ")\n"
   ]
  },
  {
   "cell_type": "code",
   "execution_count": null,
   "metadata": {},
   "outputs": [],
   "source": [
    "while True:\n",
    "    transcript = client.get_transcript(native_meeting_id=native_meeting_id,platform='google_meet')\n",
    "    df = pd.DataFrame(transcript['segments'])#.sort_values(['created_at','start'])#.drop_duplicates('start',keep='last')\n",
    "    clear_output()\n",
    "    display(df.sort_values('absolute_start_time').tail(10))\n",
    "    time.sleep(1)"
   ]
  },
  {
   "cell_type": "code",
   "execution_count": null,
   "metadata": {},
   "outputs": [],
   "source": [
    "# wrong platform\n",
    "try:\n",
    "    client.stop_bot(platform=\"wrong platform\",native_meeting_id=native_meeting_id)\n",
    "except Exception as e:\n",
    "    print(e)\n",
    "#'msg':  'msg': \"value is not a valid enumeration member; permitted"
   ]
  },
  {
   "cell_type": "code",
   "execution_count": null,
   "metadata": {},
   "outputs": [],
   "source": [
    "# wrong meeting id\n",
    "try:\n",
    "    client.stop_bot(platform=\"google_meet\",native_meeting_id='wrong meeting id')\n",
    "except Exception as e:\n",
    "    print(e)\n",
    "#'msg':  'msg': \"value is not a valid enumeration member; permitted"
   ]
  },
  {
   "cell_type": "code",
   "execution_count": null,
   "metadata": {},
   "outputs": [],
   "source": [
    "running_bots = client.get_running_bots_status()"
   ]
  },
  {
   "cell_type": "code",
   "execution_count": null,
   "metadata": {},
   "outputs": [],
   "source": [
    "# wrong meeting id\n",
    "try:\n",
    "    client.update_bot_config(\n",
    "        platform=\"wrong platform\",\n",
    "        native_meeting_id=native_meeting_id,\n",
    "        language='en',\n",
    "        task = 'transcribe'\n",
    "    )\n",
    "except Exception as e:\n",
    "    print(e)\n",
    "#'msg':  'msg': \"value is not a valid enumeration member; permitted"
   ]
  },
  {
   "cell_type": "code",
   "execution_count": null,
   "metadata": {},
   "outputs": [],
   "source": [
    "# wrong meeting id\n",
    "try:\n",
    "    client.update_bot_config(\n",
    "        platform=\"google_meet\",\n",
    "        native_meeting_id='wrong meeting id',\n",
    "        language='en',\n",
    "        task = 'transcribe'\n",
    "    )\n",
    "except Exception as e:\n",
    "    print(e)\n",
    "#'msg':  'msg': \"o active meeting found "
   ]
  },
  {
   "cell_type": "code",
   "execution_count": null,
   "metadata": {},
   "outputs": [],
   "source": [
    "# wrong meeting id\n",
    "try:\n",
    "    client.update_bot_config(\n",
    "        platform=\"google_meet\",\n",
    "        native_meeting_id=native_meeting_id,\n",
    "        language='en',\n",
    "        task = 'wrong task'\n",
    "    )\n",
    "except Exception as e:\n",
    "    print(e)\n",
    "#'msg':  'msg': 'msg': \"Invalid task 'wrong task'. Must be one of: ['transcribe', 'translate']\","
   ]
  },
  {
   "cell_type": "code",
   "execution_count": null,
   "metadata": {},
   "outputs": [],
   "source": [
    "# OK\n",
    "\n",
    "client.update_bot_config(\n",
    "    platform=\"google_meet\",\n",
    "    native_meeting_id=native_meeting_id,\n",
    "    language='en'\n",
    ")"
   ]
  },
  {
   "cell_type": "code",
   "execution_count": null,
   "metadata": {},
   "outputs": [],
   "source": [
    "while True:\n",
    "    transcript = client.get_transcript(native_meeting_id=native_meeting_id,platform='google_meet')\n",
    "    df = pd.DataFrame(transcript['segments'])#.sort_values(['created_at','start'])#.drop_duplicates('start',keep='last')\n",
    "    clear_output()\n",
    "    display(df.sort_values('absolute_start_time').tail(10))\n",
    "    time.sleep(1)"
   ]
  },
  {
   "cell_type": "code",
   "execution_count": null,
   "metadata": {},
   "outputs": [],
   "source": [
    "running_bots = client.get_running_bots_status()"
   ]
  },
  {
   "cell_type": "code",
   "execution_count": null,
   "metadata": {},
   "outputs": [],
   "source": [
    "client.stop_bot(platform=\"google_meet\",native_meeting_id=native_meeting_id)\n"
   ]
  },
  {
   "cell_type": "code",
   "execution_count": null,
   "metadata": {},
   "outputs": [],
   "source": [
    "meetings = client.get_meetings()"
   ]
  },
  {
   "cell_type": "code",
   "execution_count": null,
   "metadata": {},
   "outputs": [],
   "source": [
    "meetings"
   ]
  },
  {
   "cell_type": "markdown",
   "metadata": {},
   "source": []
  },
  {
   "cell_type": "code",
   "execution_count": null,
   "metadata": {},
   "outputs": [],
   "source": [
    "client.update_meeting_data(\n",
    "    platform=\"google_meet\",\n",
    "    native_meeting_id=native_meeting_id,\n",
    "    name=\"Test Meeting\",\n",
    ")"
   ]
  },
  {
   "cell_type": "code",
   "execution_count": null,
   "metadata": {},
   "outputs": [],
   "source": [
    "client.delete_meeting(\n",
    "    platform=\"google_meet\",\n",
    "    native_meeting_id=native_meeting_id,\n",
    ")"
   ]
  },
  {
   "cell_type": "code",
   "execution_count": null,
   "metadata": {},
   "outputs": [],
   "source": []
  }
 ],
 "metadata": {
  "kernelspec": {
   "display_name": "vexa",
   "language": "python",
   "name": "python3"
  },
  "language_info": {
   "codemirror_mode": {
    "name": "ipython",
    "version": 3
   },
   "file_extension": ".py",
   "mimetype": "text/x-python",
   "name": "python",
   "nbconvert_exporter": "python",
   "pygments_lexer": "ipython3",
   "version": "3.11.10"
  }
 },
 "nbformat": 4,
 "nbformat_minor": 2
}
