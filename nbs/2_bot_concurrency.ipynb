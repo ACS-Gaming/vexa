{
 "cells": [
  {
   "cell_type": "markdown",
   "metadata": {},
   "source": [
    "#### imports "
   ]
  },
  {
   "cell_type": "code",
   "execution_count": null,
   "metadata": {},
   "outputs": [],
   "source": [
    "!pip install pandas\n",
    "!pip install vexa-client"
   ]
  },
  {
   "cell_type": "code",
   "execution_count": null,
   "metadata": {},
   "outputs": [],
   "source": [
    "import os\n",
    "import sys\n",
    "import pandas as pd\n",
    "from IPython.display import clear_output, display\n",
    "import time\n",
    "\n",
    "# Add the testing directory to the path\n",
    "sys.path.append('../testing')\n",
    "\n",
    "from core import create_user_client, request_bot,get_transcript\n",
    "\n",
    "from vexa_client.vexa import parse_url\n"
   ]
  },
  {
   "cell_type": "markdown",
   "metadata": {},
   "source": [
    "#### single bot per user/meeting\n",
    "#### concurrent_bots\n",
    "1. create user with 2 concurrency\n",
    "2. start 1 bot\n",
    "3. request another bot for the same meeting immediately -> must fail\n",
    "4. first bot -> must come, admit the bot\n",
    "5. speak and test transcription\n",
    "6. launch bot for another meeting, admit the bot, check trnascription\n",
    "7. launch another bot for the third meeting -> must fail\n",
    "8. stop bot meeting 2 and and launch bot 3, but come\n",
    "\n",
    "#### stop bot works for requested and active meetings\n",
    "1 start meeting 1, stop immediately, start meeting 2 ->bot must come\n"
   ]
  },
  {
   "cell_type": "markdown",
   "metadata": {},
   "source": [
    "#### tests"
   ]
  },
  {
   "cell_type": "code",
   "execution_count": null,
   "metadata": {},
   "outputs": [],
   "source": [
    "meeting_urls = [\"https://meet.google.com/xdy-txjo-fyh\", \n",
    "            \"https://meet.google.com/fjp-cbnn-hug\",\n",
    "            \"https://meet.google.com/wjf-bhmw-bix\"]"
   ]
  },
  {
   "cell_type": "markdown",
   "metadata": {},
   "source": [
    "##### 1. create user with 2 concurrency"
   ]
  },
  {
   "cell_type": "code",
   "execution_count": null,
   "metadata": {},
   "outputs": [],
   "source": [
    "# creates test user and returns client\n",
    "client = create_user_client(max_concurrent_bots=2)"
   ]
  },
  {
   "cell_type": "code",
   "execution_count": null,
   "metadata": {},
   "outputs": [],
   "source": [
    "platform, native_meeting_id, passcode = parse_url(meeting_urls[0])\n",
    "\n",
    "#2. start 1 bot\n",
    "\n",
    "request_bot(client,platform, native_meeting_id, passcode)\n",
    "\n",
    "#3. request another bot for the same meeting immediately (must fail)\n",
    "try:request_bot(client,platform, native_meeting_id, passcode)\n",
    "except Exception as e:\n",
    "    print(e) #An active or requested meeting already exists for this platform and meeting ID"
   ]
  },
  {
   "cell_type": "markdown",
   "metadata": {},
   "source": [
    "4. first bot must come, admit the bot and speak"
   ]
  },
  {
   "cell_type": "code",
   "execution_count": null,
   "metadata": {},
   "outputs": [],
   "source": [
    "#time.sleep(15)\n",
    "#5. speak and test transcription\n",
    "get_transcript(client,platform, native_meeting_id,tail=50,duration=10)"
   ]
  },
  {
   "cell_type": "code",
   "execution_count": null,
   "metadata": {},
   "outputs": [],
   "source": [
    "#6. launch bot for another meeting, admit the bot, check trnascription\n",
    "\n",
    "platform, native_meeting_id, passcode = parse_url(meeting_urls[1])\n",
    "request_bot(client,platform, native_meeting_id, passcode)\n"
   ]
  },
  {
   "cell_type": "code",
   "execution_count": null,
   "metadata": {},
   "outputs": [],
   "source": [
    "#time.sleep(15)\n",
    "get_transcript(client,platform, native_meeting_id)"
   ]
  },
  {
   "cell_type": "code",
   "execution_count": null,
   "metadata": {},
   "outputs": [],
   "source": [
    "#7. launch another bot for the third meeting -> must fail\n",
    "platform, native_meeting_id, passcode = parse_url(meeting_urls[2])\n",
    "try:request_bot(client,platform, native_meeting_id, passcode)\n",
    "except Exception as e:\n",
    "    print(e) #User has reached the maximum concurrent bot limit (2)."
   ]
  },
  {
   "cell_type": "code",
   "execution_count": null,
   "metadata": {},
   "outputs": [],
   "source": [
    "#8. stop bot meeting 2 and and launch bot 3, but come\n",
    "\n",
    "platform, native_meeting_id, passcode = parse_url(meeting_urls[0])\n",
    "client.stop_bot(platform=platform,native_meeting_id=native_meeting_id)\n",
    "\n",
    "time.sleep(0.1)\n",
    "platform, native_meeting_id, passcode = parse_url(meeting_urls[2])\n",
    "request_bot(client,platform, native_meeting_id, passcode)"
   ]
  },
  {
   "cell_type": "code",
   "execution_count": null,
   "metadata": {},
   "outputs": [],
   "source": [
    "running_bots = client.get_running_bots_status()\n",
    "len(running_bots)\n"
   ]
  },
  {
   "cell_type": "code",
   "execution_count": null,
   "metadata": {},
   "outputs": [],
   "source": [
    "meetings = client.get_meetings()\n",
    "[m['status'] for m in meetings]"
   ]
  },
  {
   "cell_type": "code",
   "execution_count": null,
   "metadata": {},
   "outputs": [],
   "source": [
    "meetings"
   ]
  },
  {
   "cell_type": "code",
   "execution_count": null,
   "metadata": {},
   "outputs": [],
   "source": [
    "for m in meeting_urls:\n",
    "    try:\n",
    "        platform, native_meeting_id, passcode = parse_url(m)\n",
    "        client.stop_bot(platform=platform,native_meeting_id=native_meeting_id)\n",
    "    except Exception as e:\n",
    "        print(e)"
   ]
  },
  {
   "cell_type": "code",
   "execution_count": null,
   "metadata": {},
   "outputs": [],
   "source": [
    "meetings = client.get_meetings()\n",
    "[m['status'] for m in meetings] == ['completed', 'completed', 'completed']"
   ]
  }
 ],
 "metadata": {
  "kernelspec": {
   "display_name": "vexa",
   "language": "python",
   "name": "python3"
  },
  "language_info": {
   "codemirror_mode": {
    "name": "ipython",
    "version": 3
   },
   "file_extension": ".py",
   "mimetype": "text/x-python",
   "name": "python",
   "nbconvert_exporter": "python",
   "pygments_lexer": "ipython3",
   "version": "3.11.10"
  }
 },
 "nbformat": 4,
 "nbformat_minor": 2
}
