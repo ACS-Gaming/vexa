{
 "cells": [
  {
   "cell_type": "code",
   "execution_count": 1,
   "id": "b19ef252",
   "metadata": {},
   "outputs": [
    {
     "name": "stdout",
     "output_type": "stream",
     "text": [
      "Requirement already satisfied: pandas in /home/dima/anaconda3/envs/vexa/lib/python3.11/site-packages (2.3.1)\n",
      "Requirement already satisfied: numpy>=1.23.2 in /home/dima/anaconda3/envs/vexa/lib/python3.11/site-packages (from pandas) (1.26.4)\n",
      "Requirement already satisfied: python-dateutil>=2.8.2 in /home/dima/anaconda3/envs/vexa/lib/python3.11/site-packages (from pandas) (2.9.0.post0)\n",
      "Requirement already satisfied: pytz>=2020.1 in /home/dima/anaconda3/envs/vexa/lib/python3.11/site-packages (from pandas) (2025.2)\n",
      "Requirement already satisfied: tzdata>=2022.7 in /home/dima/anaconda3/envs/vexa/lib/python3.11/site-packages (from pandas) (2025.2)\n",
      "Requirement already satisfied: six>=1.5 in /home/dima/anaconda3/envs/vexa/lib/python3.11/site-packages (from python-dateutil>=2.8.2->pandas) (1.16.0)\n",
      "Requirement already satisfied: vexa-client in /home/dima/dev/vexa-pypi-client (0.5.4)\n",
      "Requirement already satisfied: requests>=2.25.0 in /home/dima/anaconda3/envs/vexa/lib/python3.11/site-packages (from vexa-client) (2.32.3)\n",
      "Requirement already satisfied: charset-normalizer<4,>=2 in /home/dima/anaconda3/envs/vexa/lib/python3.11/site-packages (from requests>=2.25.0->vexa-client) (3.4.0)\n",
      "Requirement already satisfied: idna<4,>=2.5 in /home/dima/anaconda3/envs/vexa/lib/python3.11/site-packages (from requests>=2.25.0->vexa-client) (3.10)\n",
      "Requirement already satisfied: urllib3<3,>=1.21.1 in /home/dima/anaconda3/envs/vexa/lib/python3.11/site-packages (from requests>=2.25.0->vexa-client) (2.2.3)\n",
      "Requirement already satisfied: certifi>=2017.4.17 in /home/dima/anaconda3/envs/vexa/lib/python3.11/site-packages (from requests>=2.25.0->vexa-client) (2024.8.30)\n"
     ]
    }
   ],
   "source": [
    "!pip install pandas\n",
    "!pip install vexa-client"
   ]
  },
  {
   "cell_type": "code",
   "execution_count": null,
   "id": "afc73e07",
   "metadata": {},
   "outputs": [],
   "source": [
    "import os\n",
    "import sys\n",
    "import pandas as pd\n",
    "from IPython.display import clear_output, display\n",
    "import time\n",
    "\n",
    "# Add the testing directory to the path\n",
    "sys.path.append('../testing')\n",
    "\n",
    "from core import create_user_client, request_bot,get_transcript\n"
   ]
  },
  {
   "cell_type": "markdown",
   "id": "5b1b66a0",
   "metadata": {},
   "source": [
    "### basic functionality test:\n",
    "1. create user\n",
    "2. set webhook (optional)\n",
    "3. request bot\n",
    "4. get meetings\n",
    "5. get trasncript\n",
    "6. update_bot_config\n",
    "7. stop bot\n",
    "8. delete_meeting\n"
   ]
  },
  {
   "cell_type": "code",
   "execution_count": 4,
   "id": "615d2487",
   "metadata": {},
   "outputs": [
    {
     "name": "stdout",
     "output_type": "stream",
     "text": [
      "\n",
      "DEBUG: Making POST request to http://localhost:18056/admin/users\n",
      "DEBUG: Headers: {'Content-Type': 'application/json', 'X-Admin-API-Key': 'token'}\n",
      "DEBUG: Params: None\n",
      "DEBUG: JSON data: {'email': '214046@example.com', 'name': 'test', 'max_concurrent_bots': 1}\n",
      "DEBUG: Response status: 201\n",
      "DEBUG: Response headers: {'date': 'Fri, 26 Sep 2025 10:09:36 GMT, Fri, 26 Sep 2025 10:09:36 GMT', 'server': 'uvicorn, uvicorn', 'content-length': '147', 'content-type': 'application/json'}\n",
      "DEBUG: Response content: {\"email\":\"214046@example.com\",\"name\":\"test\",\"image_url\":null,\"max_concurrent_bots\":1,\"data\":{},\"id\":1063,\"created_at\":\"2025-09-26T10:09:37.231152\"}...\n",
      "\n",
      "DEBUG: Making POST request to http://localhost:18056/admin/users/1063/tokens\n",
      "DEBUG: Headers: {'Content-Type': 'application/json', 'X-Admin-API-Key': 'token'}\n",
      "DEBUG: Params: None\n",
      "DEBUG: JSON data: None\n",
      "DEBUG: Response status: 201\n",
      "DEBUG: Response headers: {'date': 'Fri, 26 Sep 2025 10:09:36 GMT, Fri, 26 Sep 2025 10:09:36 GMT', 'server': 'uvicorn, uvicorn', 'content-length': '119', 'content-type': 'application/json'}\n",
      "DEBUG: Response content: {\"user_id\":1063,\"id\":1110,\"token\":\"0al9DEViFwHkW20yJGAGdpZ2Cl964L3AUgddmgLC\",\"created_at\":\"2025-09-26T10:09:37.242317\"}...\n"
     ]
    }
   ],
   "source": [
    "# creates test user and returns client\n",
    "client = create_user_client()"
   ]
  },
  {
   "cell_type": "code",
   "execution_count": 5,
   "id": "f1562cea",
   "metadata": {},
   "outputs": [
    {
     "name": "stdout",
     "output_type": "stream",
     "text": [
      "\n",
      "DEBUG: Making PUT request to http://localhost:18056/user/webhook\n",
      "DEBUG: Headers: {'Content-Type': 'application/json', 'X-API-Key': '0al9DEViFwHkW20yJGAGdpZ2Cl964L3AUgddmgLC'}\n",
      "DEBUG: Params: None\n",
      "DEBUG: JSON data: {'webhook_url': 'https://webhook-test.com/89d8111238baa40e7778559c7989cc60'}\n",
      "DEBUG: Response status: 200\n",
      "DEBUG: Response headers: {'date': 'Fri, 26 Sep 2025 10:09:37 GMT, Fri, 26 Sep 2025 10:09:37 GMT', 'server': 'uvicorn, uvicorn', 'content-length': '220', 'content-type': 'application/json'}\n",
      "DEBUG: Response content: {\"email\":\"214046@example.com\",\"name\":\"test\",\"image_url\":null,\"max_concurrent_bots\":1,\"data\":{\"webhook_url\":\"https://webhook-test.com/89d8111238baa40e7778559c7989cc60\"},\"id\":1063,\"created_at\":\"2025-09-26T10:09:37.231152\"}...\n"
     ]
    },
    {
     "data": {
      "text/plain": [
       "{'email': '214046@example.com',\n",
       " 'name': 'test',\n",
       " 'image_url': None,\n",
       " 'max_concurrent_bots': 1,\n",
       " 'data': {'webhook_url': 'https://webhook-test.com/89d8111238baa40e7778559c7989cc60'},\n",
       " 'id': 1063,\n",
       " 'created_at': '2025-09-26T10:09:37.231152'}"
      ]
     },
     "execution_count": 5,
     "metadata": {},
     "output_type": "execute_result"
    }
   ],
   "source": [
    "#optional: set webhook\n",
    "# obtain webhook url from https://webhook-test.com/\n",
    "\n",
    "client.set_webhook_url(\"https://webhook-test.com/89d8111238baa40e7778559c7989cc60\")\n",
    "\n",
    "# webhook will be called with every bot status update\n"
   ]
  },
  {
   "cell_type": "code",
   "execution_count": 6,
   "id": "8c735df3",
   "metadata": {},
   "outputs": [],
   "source": [
    "# create meeting with meet.new or in you MS Teams profile"
   ]
  },
  {
   "cell_type": "code",
   "execution_count": 7,
   "id": "edb388b7",
   "metadata": {},
   "outputs": [],
   "source": [
    "# Google Meet:\n",
    "\n",
    "meeting_url=\"https://meet.google.com/kba-qqag-vpq\"\n",
    "platform = 'google_meet'\n",
    "native_meeting_id = meeting_url.split(\"/\")[-1]\n",
    "passcode = None\n"
   ]
  },
  {
   "cell_type": "code",
   "execution_count": 8,
   "id": "a16280e5",
   "metadata": {},
   "outputs": [],
   "source": [
    "# MS Teams:\n",
    "\n",
    "# meeting_url=\"https://teams.live.com/meet/9387167464734?p=qxJanYOcdjN4d6UlGa\"\n",
    "# platform = 'teams'\n",
    "# native_meeting_id, passcode = split_teams_url(meeting_url)\n"
   ]
  },
  {
   "cell_type": "code",
   "execution_count": 9,
   "id": "01c81e45",
   "metadata": {},
   "outputs": [
    {
     "name": "stdout",
     "output_type": "stream",
     "text": [
      "\n",
      "DEBUG: Making POST request to http://localhost:18056/bots\n",
      "DEBUG: Headers: {'Content-Type': 'application/json', 'X-API-Key': '0al9DEViFwHkW20yJGAGdpZ2Cl964L3AUgddmgLC'}\n",
      "DEBUG: Params: None\n",
      "DEBUG: JSON data: {'platform': 'google_meet', 'native_meeting_id': 'kba-qqag-vpq', 'bot_name': 'Vexa bot', 'language': 'en', 'task': 'transcribe'}\n",
      "DEBUG: Response status: 201\n",
      "DEBUG: Response headers: {'date': 'Fri, 26 Sep 2025 10:09:39 GMT, Fri, 26 Sep 2025 10:09:40 GMT', 'server': 'uvicorn, uvicorn', 'content-length': '386', 'content-type': 'application/json'}\n",
      "DEBUG: Response content: {\"id\":1383,\"user_id\":1063,\"platform\":\"google_meet\",\"native_meeting_id\":\"kba-qqag-vpq\",\"constructed_meeting_url\":\"https://meet.google.com/kba-qqag-vpq\",\"status\":\"requested\",\"bot_container_id\":\"b38b78615e770be49710b71d5b52ffb3184a0568ff1e45e75de00cb160720fd8\",\"start_time\":null,\"end_time\":null,\"data\":{},\"created_at\":\"2025-09-26T10:09:40.291054\",\"updated_at\":\"2025-09-26T10:09:40.298153\"}...\n"
     ]
    },
    {
     "data": {
      "text/plain": [
       "{'id': 1383,\n",
       " 'user_id': 1063,\n",
       " 'platform': 'google_meet',\n",
       " 'native_meeting_id': 'kba-qqag-vpq',\n",
       " 'constructed_meeting_url': 'https://meet.google.com/kba-qqag-vpq',\n",
       " 'status': 'requested',\n",
       " 'bot_container_id': 'b38b78615e770be49710b71d5b52ffb3184a0568ff1e45e75de00cb160720fd8',\n",
       " 'start_time': None,\n",
       " 'end_time': None,\n",
       " 'data': {},\n",
       " 'created_at': '2025-09-26T10:09:40.291054',\n",
       " 'updated_at': '2025-09-26T10:09:40.298153'}"
      ]
     },
     "execution_count": 9,
     "metadata": {},
     "output_type": "execute_result"
    }
   ],
   "source": [
    "request_bot(client,platform, native_meeting_id, passcode=passcode, bot_name=\"Vexa bot\", language='en')\n",
    "\n",
    "\n",
    "# now admit the bot to the meeting"
   ]
  },
  {
   "cell_type": "code",
   "execution_count": 10,
   "id": "5cd6fad5",
   "metadata": {},
   "outputs": [
    {
     "name": "stdout",
     "output_type": "stream",
     "text": [
      "\n",
      "DEBUG: Making GET request to http://localhost:18056/meetings\n",
      "DEBUG: Headers: {'Content-Type': 'application/json', 'X-API-Key': '0al9DEViFwHkW20yJGAGdpZ2Cl964L3AUgddmgLC'}\n",
      "DEBUG: Params: None\n",
      "DEBUG: JSON data: None\n",
      "DEBUG: Response status: 200\n",
      "DEBUG: Response headers: {'date': 'Fri, 26 Sep 2025 10:09:40 GMT, Fri, 26 Sep 2025 10:09:40 GMT', 'server': 'uvicorn, uvicorn', 'content-length': '401', 'content-type': 'application/json'}\n",
      "DEBUG: Response content: {\"meetings\":[{\"id\":1383,\"user_id\":1063,\"platform\":\"google_meet\",\"native_meeting_id\":\"kba-qqag-vpq\",\"constructed_meeting_url\":\"https://meet.google.com/kba-qqag-vpq\",\"status\":\"requested\",\"bot_container_id\":\"b38b78615e770be49710b71d5b52ffb3184a0568ff1e45e75de00cb160720fd8\",\"start_time\":null,\"end_time\":null,\"data\":{},\"created_at\":\"2025-09-26T10:09:40.291054\",\"updated_at\":\"2025-09-26T10:09:40.298153\"}]}...\n"
     ]
    },
    {
     "data": {
      "text/plain": [
       "[{'id': 1383,\n",
       "  'user_id': 1063,\n",
       "  'platform': 'google_meet',\n",
       "  'native_meeting_id': 'kba-qqag-vpq',\n",
       "  'constructed_meeting_url': 'https://meet.google.com/kba-qqag-vpq',\n",
       "  'status': 'requested',\n",
       "  'bot_container_id': 'b38b78615e770be49710b71d5b52ffb3184a0568ff1e45e75de00cb160720fd8',\n",
       "  'start_time': None,\n",
       "  'end_time': None,\n",
       "  'data': {},\n",
       "  'created_at': '2025-09-26T10:09:40.291054',\n",
       "  'updated_at': '2025-09-26T10:09:40.298153'}]"
      ]
     },
     "execution_count": 10,
     "metadata": {},
     "output_type": "execute_result"
    }
   ],
   "source": [
    "# get meetings metadata and status history\n",
    "\n",
    "\n",
    "meetings = client.get_meetings()\n",
    "meetings\n",
    "\n"
   ]
  },
  {
   "cell_type": "code",
   "execution_count": null,
   "id": "37086437",
   "metadata": {},
   "outputs": [
    {
     "data": {
      "text/html": [
       "<div>\n",
       "<style scoped>\n",
       "    .dataframe tbody tr th:only-of-type {\n",
       "        vertical-align: middle;\n",
       "    }\n",
       "\n",
       "    .dataframe tbody tr th {\n",
       "        vertical-align: top;\n",
       "    }\n",
       "\n",
       "    .dataframe thead th {\n",
       "        text-align: right;\n",
       "    }\n",
       "</style>\n",
       "<table border=\"1\" class=\"dataframe\">\n",
       "  <thead>\n",
       "    <tr style=\"text-align: right;\">\n",
       "      <th></th>\n",
       "      <th>start</th>\n",
       "      <th>end</th>\n",
       "      <th>text</th>\n",
       "      <th>language</th>\n",
       "      <th>created_at</th>\n",
       "      <th>speaker</th>\n",
       "      <th>absolute_start_time</th>\n",
       "      <th>absolute_end_time</th>\n",
       "    </tr>\n",
       "  </thead>\n",
       "  <tbody>\n",
       "    <tr>\n",
       "      <th>0</th>\n",
       "      <td>0.0</td>\n",
       "      <td>4.88</td>\n",
       "      <td>6, 7, 1, 2, 3, 4, 5, 6, 7.</td>\n",
       "      <td>en</td>\n",
       "      <td>None</td>\n",
       "      <td>Dmitriy Grankin</td>\n",
       "      <td>2025-09-26T10:10:05.215893+00:00</td>\n",
       "      <td>2025-09-26T10:10:10.095893+00:00</td>\n",
       "    </tr>\n",
       "  </tbody>\n",
       "</table>\n",
       "</div>"
      ],
      "text/plain": [
       "   start   end                         text language created_at  \\\n",
       "0    0.0  4.88   6, 7, 1, 2, 3, 4, 5, 6, 7.       en       None   \n",
       "\n",
       "           speaker               absolute_start_time  \\\n",
       "0  Dmitriy Grankin  2025-09-26T10:10:05.215893+00:00   \n",
       "\n",
       "                  absolute_end_time  \n",
       "0  2025-09-26T10:10:10.095893+00:00  "
      ]
     },
     "metadata": {},
     "output_type": "display_data"
    }
   ],
   "source": [
    "# speak and run this to see transcripts pooled for 10 seconds\n",
    "\n",
    "get_transcript(client,platform, native_meeting_id,tail=50,duration=10)"
   ]
  },
  {
   "cell_type": "code",
   "execution_count": 18,
   "id": "4b0d82ee",
   "metadata": {},
   "outputs": [
    {
     "name": "stdout",
     "output_type": "stream",
     "text": [
      "\n",
      "DEBUG: Making DELETE request to http://localhost:18056/bots/google_meet/kba-qqag-vpq\n",
      "DEBUG: Headers: {'Content-Type': 'application/json', 'X-API-Key': '0al9DEViFwHkW20yJGAGdpZ2Cl964L3AUgddmgLC'}\n",
      "DEBUG: Params: None\n",
      "DEBUG: JSON data: None\n",
      "DEBUG: Response status: 202\n",
      "DEBUG: Response headers: {'date': 'Fri, 26 Sep 2025 10:10:38 GMT, Fri, 26 Sep 2025 10:10:38 GMT', 'server': 'uvicorn, uvicorn', 'content-length': '59', 'content-type': 'application/json'}\n",
      "DEBUG: Response content: {\"message\":\"Stop request accepted and is being processed.\"}...\n"
     ]
    },
    {
     "data": {
      "text/plain": [
       "{'message': 'Stop request accepted and is being processed.'}"
      ]
     },
     "execution_count": 18,
     "metadata": {},
     "output_type": "execute_result"
    }
   ],
   "source": [
    "client.stop_bot(platform=platform,native_meeting_id=native_meeting_id)"
   ]
  },
  {
   "cell_type": "code",
   "execution_count": 19,
   "id": "d3c20227",
   "metadata": {},
   "outputs": [
    {
     "name": "stdout",
     "output_type": "stream",
     "text": [
      "\n",
      "DEBUG: Making DELETE request to http://localhost:18056/meetings/google_meet/kba-qqag-vpq\n",
      "DEBUG: Headers: {'Content-Type': 'application/json', 'X-API-Key': '0al9DEViFwHkW20yJGAGdpZ2Cl964L3AUgddmgLC'}\n",
      "DEBUG: Params: None\n",
      "DEBUG: JSON data: None\n",
      "DEBUG: Response status: 200\n",
      "DEBUG: Response headers: {'date': 'Fri, 26 Sep 2025 10:10:39 GMT, Fri, 26 Sep 2025 10:10:40 GMT', 'server': 'uvicorn, uvicorn', 'content-length': '86', 'content-type': 'application/json'}\n",
      "DEBUG: Response content: {\"message\":\"Meeting google_meet/kba-qqag-vpq transcripts deleted and data anonymized\"}...\n"
     ]
    },
    {
     "data": {
      "text/plain": [
       "{'message': 'Meeting google_meet/kba-qqag-vpq transcripts deleted and data anonymized'}"
      ]
     },
     "execution_count": 19,
     "metadata": {},
     "output_type": "execute_result"
    }
   ],
   "source": [
    "client.delete_meeting(platform=platform,native_meeting_id=native_meeting_id)"
   ]
  },
  {
   "cell_type": "code",
   "execution_count": null,
   "id": "4336f6c9",
   "metadata": {},
   "outputs": [
    {
     "name": "stdout",
     "output_type": "stream",
     "text": [
      "\n",
      "DEBUG: Making GET request to http://localhost:18056/transcripts/google_meet/kba-qqag-vpq\n",
      "DEBUG: Headers: {'Content-Type': 'application/json', 'X-API-Key': '0al9DEViFwHkW20yJGAGdpZ2Cl964L3AUgddmgLC'}\n",
      "DEBUG: Params: {}\n",
      "DEBUG: JSON data: None\n",
      "DEBUG: Response status: 404\n",
      "DEBUG: Response headers: {'date': 'Fri, 26 Sep 2025 10:11:29 GMT, Fri, 26 Sep 2025 10:11:30 GMT', 'server': 'uvicorn, uvicorn', 'content-length': '75', 'content-type': 'application/json'}\n",
      "DEBUG: Response content: {\"detail\":\"Meeting not found for platform google_meet and ID kba-qqag-vpq\"}...\n",
      "HTTP Error 404 for GET http://localhost:18056/transcripts/google_meet/kba-qqag-vpq: Meeting not found for platform google_meet and ID kba-qqag-vpq\n"
     ]
    }
   ],
   "source": [
    "# after deletion transcripts removed from the database\n",
    "\n",
    "get_transcript(client,platform, native_meeting_id,tail=50,duration=10)"
   ]
  },
  {
   "cell_type": "code",
   "execution_count": null,
   "id": "571a60e2",
   "metadata": {},
   "outputs": [
    {
     "name": "stdout",
     "output_type": "stream",
     "text": [
      "\n",
      "DEBUG: Making GET request to http://localhost:18056/meetings\n",
      "DEBUG: Headers: {'Content-Type': 'application/json', 'X-API-Key': '0al9DEViFwHkW20yJGAGdpZ2Cl964L3AUgddmgLC'}\n",
      "DEBUG: Params: None\n",
      "DEBUG: JSON data: None\n",
      "DEBUG: Response status: 200\n",
      "DEBUG: Response headers: {'date': 'Fri, 26 Sep 2025 10:10:54 GMT, Fri, 26 Sep 2025 10:10:54 GMT', 'server': 'uvicorn, uvicorn', 'content-length': '872', 'content-type': 'application/json'}\n",
      "DEBUG: Response content: {\"meetings\":[{\"id\":1383,\"user_id\":1063,\"platform\":\"google_meet\",\"native_meeting_id\":null,\"constructed_meeting_url\":null,\"status\":\"completed\",\"bot_container_id\":\"vexa-bot-1383-ab4185df\",\"start_time\":\"2025-09-26T10:10:05.151328\",\"end_time\":\"2025-09-26T10:10:39.328665\",\"data\":{\"redacted\":true,\"completion_reason\":\"stopped\",\"status_transition\":[{\"to\":\"joining\",\"from\":\"requested\",\"source\":\"bot_callback\",\"timestamp\":\"2025-09-26T10:09:43.489835\"},{\"to\":\"awaiting_admission\",\"from\":\"joining\",\"source\":\"bot...\n"
     ]
    },
    {
     "data": {
      "text/plain": [
       "[{'id': 1383,\n",
       "  'user_id': 1063,\n",
       "  'platform': 'google_meet',\n",
       "  'native_meeting_id': None,\n",
       "  'constructed_meeting_url': None,\n",
       "  'status': 'completed',\n",
       "  'bot_container_id': 'vexa-bot-1383-ab4185df',\n",
       "  'start_time': '2025-09-26T10:10:05.151328',\n",
       "  'end_time': '2025-09-26T10:10:39.328665',\n",
       "  'data': {'redacted': True,\n",
       "   'completion_reason': 'stopped',\n",
       "   'status_transition': [{'to': 'joining',\n",
       "     'from': 'requested',\n",
       "     'source': 'bot_callback',\n",
       "     'timestamp': '2025-09-26T10:09:43.489835'},\n",
       "    {'to': 'awaiting_admission',\n",
       "     'from': 'joining',\n",
       "     'source': 'bot_callback',\n",
       "     'timestamp': '2025-09-26T10:09:52.804426'},\n",
       "    {'to': 'active',\n",
       "     'from': 'awaiting_admission',\n",
       "     'source': 'bot_callback',\n",
       "     'timestamp': '2025-09-26T10:10:05.147712'},\n",
       "    {'to': 'completed',\n",
       "     'from': 'active',\n",
       "     'source': 'user',\n",
       "     'timestamp': '2025-09-26T10:10:39.324558',\n",
       "     'completion_reason': 'stopped'}]},\n",
       "  'created_at': '2025-09-26T10:09:40.291054',\n",
       "  'updated_at': '2025-09-26T10:10:40.553197'}]"
      ]
     },
     "execution_count": 20,
     "metadata": {},
     "output_type": "execute_result"
    }
   ],
   "source": [
    "# after deletion meeting record anonimized  \n",
    "\n",
    "\n",
    "meetings = client.get_meetings()\n",
    "meetings\n",
    "\n"
   ]
  }
 ],
 "metadata": {
  "kernelspec": {
   "display_name": "vexa",
   "language": "python",
   "name": "python3"
  },
  "language_info": {
   "codemirror_mode": {
    "name": "ipython",
    "version": 3
   },
   "file_extension": ".py",
   "mimetype": "text/x-python",
   "name": "python",
   "nbconvert_exporter": "python",
   "pygments_lexer": "ipython3",
   "version": "3.11.10"
  }
 },
 "nbformat": 4,
 "nbformat_minor": 5
}
