{
 "cells": [
  {
   "cell_type": "code",
   "execution_count": null,
   "id": "b19ef252",
   "metadata": {},
   "outputs": [],
   "source": [
    "!pip install pandas\n",
    "!pip install vexa-client"
   ]
  },
  {
   "cell_type": "code",
   "execution_count": null,
   "id": "afc73e07",
   "metadata": {},
   "outputs": [],
   "source": [
    "import os\n",
    "import sys\n",
    "import pandas as pd\n",
    "from IPython.display import clear_output, display\n",
    "import time\n",
    "\n",
    "# Add the testing directory to the path\n",
    "sys.path.append('../testing')\n",
    "\n",
    "from core import create_user_client, request_bot,get_transcript\n"
   ]
  },
  {
   "cell_type": "markdown",
   "id": "5b1b66a0",
   "metadata": {},
   "source": [
    "### basic functionality test:\n",
    "1. create user\n",
    "2. set webhook (optional)\n",
    "3. request bot\n",
    "4. get meetings\n",
    "5. get trasncript\n",
    "6. update_bot_config\n",
    "7. stop bot\n",
    "8. delete_meeting\n"
   ]
  },
  {
   "cell_type": "code",
   "execution_count": null,
   "id": "615d2487",
   "metadata": {},
   "outputs": [],
   "source": [
    "# creates test user and returns client\n",
    "client = create_user_client(base_url=\"https://api.cloud.vexa.ai\",user_api_key='T6jNiEBsmuXYjNK1wSqeRtrNJvlsX5UdQ4MkL5y2')"
   ]
  },
  {
   "cell_type": "code",
   "execution_count": null,
   "id": "f1562cea",
   "metadata": {},
   "outputs": [],
   "source": [
    "#optional: set webhook\n",
    "# obtain webhook url from https://webhook-test.com/\n",
    "\n",
    "client.set_webhook_url(\"https://webhook-test.com/89d8111238baa40e7778559c7989cc60\")\n",
    "\n",
    "# webhook will be called with every bot status update\n"
   ]
  },
  {
   "cell_type": "code",
   "execution_count": null,
   "id": "8c735df3",
   "metadata": {},
   "outputs": [],
   "source": [
    "# create meeting with meet.new or in you MS Teams profile"
   ]
  },
  {
   "cell_type": "code",
   "execution_count": null,
   "id": "edb388b7",
   "metadata": {},
   "outputs": [],
   "source": [
    "# Google Meet:\n",
    "\n",
    "meeting_url=\"https://meet.google.com/kba-qqag-vpq\"\n",
    "platform = 'google_meet'\n",
    "native_meeting_id = meeting_url.split(\"/\")[-1]\n",
    "passcode = None\n"
   ]
  },
  {
   "cell_type": "code",
   "execution_count": null,
   "id": "a16280e5",
   "metadata": {},
   "outputs": [],
   "source": [
    "# MS Teams:\n",
    "\n",
    "# meeting_url=\"https://teams.live.com/meet/9387167464734?p=qxJanYOcdjN4d6UlGa\"\n",
    "# platform = 'teams'\n",
    "# native_meeting_id, passcode = split_teams_url(meeting_url)\n"
   ]
  },
  {
   "cell_type": "code",
   "execution_count": null,
   "id": "01c81e45",
   "metadata": {},
   "outputs": [],
   "source": [
    "# request_bot(client,platform, native_meeting_id, passcode=passcode, bot_name=\"Vexa bot\", language='en')\n",
    "\n",
    "\n",
    "# # now admit the bot to the meeting"
   ]
  },
  {
   "cell_type": "code",
   "execution_count": null,
   "id": "37086437",
   "metadata": {},
   "outputs": [],
   "source": [
    "# speak and run this to see transcripts pooled for 10 seconds\n",
    "\n",
    "get_transcript(client,platform, native_meeting_id,tail=50,duration=10)"
   ]
  },
  {
   "cell_type": "code",
   "execution_count": null,
   "id": "4b0d82ee",
   "metadata": {},
   "outputs": [],
   "source": [
    "client.stop_bot(platform=platform,native_meeting_id=native_meeting_id)"
   ]
  },
  {
   "cell_type": "code",
   "execution_count": null,
   "id": "d3c20227",
   "metadata": {},
   "outputs": [],
   "source": [
    "client.delete_meeting(platform=platform,native_meeting_id=native_meeting_id)"
   ]
  },
  {
   "cell_type": "code",
   "execution_count": null,
   "id": "4336f6c9",
   "metadata": {},
   "outputs": [],
   "source": [
    "# after deletion transcripts removed from the database\n",
    "\n",
    "get_transcript(client,platform, native_meeting_id,tail=50,duration=10)"
   ]
  },
  {
   "cell_type": "code",
   "execution_count": null,
   "id": "571a60e2",
   "metadata": {},
   "outputs": [],
   "source": [
    "# after deletion meeting record anonimized  \n",
    "\n",
    "\n",
    "meetings = client.get_meetings()\n",
    "meetings\n",
    "\n"
   ]
  }
 ],
 "metadata": {
  "kernelspec": {
   "display_name": "api_tests",
   "language": "python",
   "name": "python3"
  },
  "language_info": {
   "codemirror_mode": {
    "name": "ipython",
    "version": 3
   },
   "file_extension": ".py",
   "mimetype": "text/x-python",
   "name": "python",
   "nbconvert_exporter": "python",
   "pygments_lexer": "ipython3",
   "version": "3.13.2"
  }
 },
 "nbformat": 4,
 "nbformat_minor": 5
}
