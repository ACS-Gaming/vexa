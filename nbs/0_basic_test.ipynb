{
 "cells": [
  {
   "cell_type": "code",
   "execution_count": 1,
   "id": "b19ef252",
   "metadata": {},
   "outputs": [],
   "source": [
    "# !pip install pandas\n",
    "# !pip install vexa-client"
   ]
  },
  {
   "cell_type": "code",
   "execution_count": 2,
   "id": "afc73e07",
   "metadata": {},
   "outputs": [],
   "source": [
    "import os\n",
    "import sys\n",
    "import pandas as pd\n",
    "from IPython.display import clear_output, display\n",
    "import time\n",
    "\n",
    "# Add the testing directory to the path\n",
    "sys.path.append('../testing')\n",
    "\n",
    "from core import create_user_client, request_bot,get_transcript\n",
    "\n",
    "from vexa_client.vexa import parse_url"
   ]
  },
  {
   "cell_type": "markdown",
   "id": "5b1b66a0",
   "metadata": {},
   "source": [
    "### basic functionality test:\n",
    "1. create user\n",
    "2. set webhook (optional)\n",
    "3. request bot\n",
    "4. get meetings\n",
    "5. get trasncript\n",
    "6. update_bot_config\n",
    "7. stop bot\n",
    "8. delete_meeting\n"
   ]
  },
  {
   "cell_type": "code",
   "execution_count": 3,
   "id": "615d2487",
   "metadata": {},
   "outputs": [],
   "source": [
    "# creates test user and returns client\n",
    "client = create_user_client(base_url=\"http://localhost:18056\",admin_api_key='token')"
   ]
  },
  {
   "cell_type": "code",
   "execution_count": 4,
   "id": "728a8630",
   "metadata": {},
   "outputs": [
    {
     "data": {
      "text/plain": [
       "'t0dQEeFjmhLtQ6Ow83psfpOLMLEDTeWVqBupiX1t'"
      ]
     },
     "execution_count": 4,
     "metadata": {},
     "output_type": "execute_result"
    }
   ],
   "source": [
    "client._api_key"
   ]
  },
  {
   "cell_type": "code",
   "execution_count": 5,
   "id": "f1562cea",
   "metadata": {},
   "outputs": [
    {
     "data": {
      "text/plain": [
       "{'email': '991813@example.com',\n",
       " 'name': 'test',\n",
       " 'image_url': None,\n",
       " 'max_concurrent_bots': 1,\n",
       " 'data': {'webhook_url': 'https://webhook-test.com/89d8111238baa40e7778559c7989cc60'},\n",
       " 'id': 123,\n",
       " 'created_at': '2025-10-03T11:11:57.579262'}"
      ]
     },
     "execution_count": 5,
     "metadata": {},
     "output_type": "execute_result"
    }
   ],
   "source": [
    "#optional: set webhook\n",
    "# obtain webhook url from https://webhook-test.com/\n",
    "\n",
    "client.set_webhook_url(\"https://webhook-test.com/89d8111238baa40e7778559c7989cc60\")\n",
    "\n",
    "# webhook will be called with every bot status update\n"
   ]
  },
  {
   "cell_type": "code",
   "execution_count": 6,
   "id": "8c735df3",
   "metadata": {},
   "outputs": [],
   "source": [
    "# create meeting with meet.new or in you MS Teams profile"
   ]
  },
  {
   "cell_type": "code",
   "execution_count": 7,
   "id": "edb388b7",
   "metadata": {},
   "outputs": [],
   "source": [
    "# Google Meet:\n",
    "\n",
    "meeting_url=\"https://meet.google.com/njk-beco-jno\"\n",
    "platform, native_meeting_id, passcode = parse_url(meeting_url)\n"
   ]
  },
  {
   "cell_type": "code",
   "execution_count": 12,
   "id": "a16280e5",
   "metadata": {},
   "outputs": [],
   "source": [
    "#MS Teams:\n",
    "\n",
    "meeting_url=\"https://teams.live.com/meet/9399697580372?p=A5AU2r3RVJDzsCajcA\"\n",
    "platform, native_meeting_id, passcode = parse_url(meeting_url)\n"
   ]
  },
  {
   "cell_type": "code",
   "execution_count": 13,
   "id": "376713f8",
   "metadata": {},
   "outputs": [
    {
     "data": {
      "text/plain": [
       "'t0dQEeFjmhLtQ6Ow83psfpOLMLEDTeWVqBupiX1t'"
      ]
     },
     "execution_count": 13,
     "metadata": {},
     "output_type": "execute_result"
    }
   ],
   "source": [
    "client._api_key"
   ]
  },
  {
   "cell_type": "code",
   "execution_count": 14,
   "id": "01c81e45",
   "metadata": {},
   "outputs": [
    {
     "data": {
      "text/plain": [
       "{'id': 105,\n",
       " 'user_id': 123,\n",
       " 'platform': 'teams',\n",
       " 'native_meeting_id': '9399697580372',\n",
       " 'constructed_meeting_url': 'https://teams.live.com/meet/9399697580372',\n",
       " 'status': 'requested',\n",
       " 'bot_container_id': 'bcc6f93a50f03ae29b0d7046a3956bc10e7c2fa6c139b6021fad3026c29f0e82',\n",
       " 'start_time': None,\n",
       " 'end_time': None,\n",
       " 'data': {'passcode': 'A5AU2r3RVJDzsCajcA'},\n",
       " 'created_at': '2025-10-03T11:12:51.291334',\n",
       " 'updated_at': '2025-10-03T11:12:51.305076'}"
      ]
     },
     "execution_count": 14,
     "metadata": {},
     "output_type": "execute_result"
    }
   ],
   "source": [
    "request_bot(client,platform, native_meeting_id, passcode=passcode, bot_name=\"Vexa bot\", language='en')\n",
    "\n",
    "\n",
    "# # now admit the bot to the meeting"
   ]
  },
  {
   "cell_type": "code",
   "execution_count": 15,
   "id": "37086437",
   "metadata": {},
   "outputs": [
    {
     "data": {
      "text/html": [
       "<div>\n",
       "<style scoped>\n",
       "    .dataframe tbody tr th:only-of-type {\n",
       "        vertical-align: middle;\n",
       "    }\n",
       "\n",
       "    .dataframe tbody tr th {\n",
       "        vertical-align: top;\n",
       "    }\n",
       "\n",
       "    .dataframe thead th {\n",
       "        text-align: right;\n",
       "    }\n",
       "</style>\n",
       "<table border=\"1\" class=\"dataframe\">\n",
       "  <thead>\n",
       "    <tr style=\"text-align: right;\">\n",
       "      <th></th>\n",
       "      <th>start</th>\n",
       "      <th>end</th>\n",
       "      <th>text</th>\n",
       "      <th>language</th>\n",
       "      <th>created_at</th>\n",
       "      <th>speaker</th>\n",
       "      <th>absolute_start_time</th>\n",
       "      <th>absolute_end_time</th>\n",
       "    </tr>\n",
       "  </thead>\n",
       "  <tbody>\n",
       "    <tr>\n",
       "      <th>0</th>\n",
       "      <td>0.0</td>\n",
       "      <td>4.83</td>\n",
       "      <td>Now, 2-3, 4-5, 6-8, 8-10, 10-12.</td>\n",
       "      <td>en</td>\n",
       "      <td>None</td>\n",
       "      <td>Dmitry Grankin</td>\n",
       "      <td>2025-10-03T11:13:23.112729+00:00</td>\n",
       "      <td>2025-10-03T11:13:27.942729+00:00</td>\n",
       "    </tr>\n",
       "  </tbody>\n",
       "</table>\n",
       "</div>"
      ],
      "text/plain": [
       "   start   end                               text language created_at  \\\n",
       "0    0.0  4.83   Now, 2-3, 4-5, 6-8, 8-10, 10-12.       en       None   \n",
       "\n",
       "          speaker               absolute_start_time  \\\n",
       "0  Dmitry Grankin  2025-10-03T11:13:23.112729+00:00   \n",
       "\n",
       "                  absolute_end_time  \n",
       "0  2025-10-03T11:13:27.942729+00:00  "
      ]
     },
     "metadata": {},
     "output_type": "display_data"
    }
   ],
   "source": [
    "# speak and run this to see transcripts pooled for 10 seconds\n",
    "\n",
    "get_transcript(client,platform, native_meeting_id,tail=50,duration=10)"
   ]
  },
  {
   "cell_type": "code",
   "execution_count": 16,
   "id": "4b0d82ee",
   "metadata": {},
   "outputs": [
    {
     "data": {
      "text/plain": [
       "{'message': 'Stop request accepted and is being processed.'}"
      ]
     },
     "execution_count": 16,
     "metadata": {},
     "output_type": "execute_result"
    }
   ],
   "source": [
    "client.stop_bot(platform=platform,native_meeting_id=native_meeting_id)"
   ]
  },
  {
   "cell_type": "code",
   "execution_count": 18,
   "id": "d3c20227",
   "metadata": {},
   "outputs": [
    {
     "data": {
      "text/plain": [
       "{'message': 'Meeting teams/9399697580372 transcripts deleted and data anonymized'}"
      ]
     },
     "execution_count": 18,
     "metadata": {},
     "output_type": "execute_result"
    }
   ],
   "source": [
    "client.delete_meeting(platform=platform,native_meeting_id=native_meeting_id)"
   ]
  },
  {
   "cell_type": "code",
   "execution_count": 19,
   "id": "4336f6c9",
   "metadata": {},
   "outputs": [
    {
     "name": "stdout",
     "output_type": "stream",
     "text": [
      "HTTP Error 404 for GET http://localhost:18056/transcripts/teams/9399697580372: Meeting not found for platform teams and ID 9399697580372\n"
     ]
    }
   ],
   "source": [
    "# after deletion transcripts removed from the database\n",
    "\n",
    "get_transcript(client,platform, native_meeting_id,tail=50,duration=10)"
   ]
  },
  {
   "cell_type": "code",
   "execution_count": 20,
   "id": "571a60e2",
   "metadata": {},
   "outputs": [
    {
     "data": {
      "text/plain": [
       "[{'id': 105,\n",
       "  'user_id': 123,\n",
       "  'platform': 'teams',\n",
       "  'native_meeting_id': None,\n",
       "  'constructed_meeting_url': None,\n",
       "  'status': 'completed',\n",
       "  'bot_container_id': 'vexa-bot-105-f9ef755a',\n",
       "  'start_time': '2025-10-03T11:13:22.831317',\n",
       "  'end_time': '2025-10-03T11:13:44.694561',\n",
       "  'data': {'redacted': True,\n",
       "   'completion_reason': 'stopped',\n",
       "   'status_transition': [{'to': 'joining',\n",
       "     'from': 'requested',\n",
       "     'source': 'bot_callback',\n",
       "     'timestamp': '2025-10-03T11:12:58.541787'},\n",
       "    {'to': 'awaiting_admission',\n",
       "     'from': 'joining',\n",
       "     'source': 'bot_callback',\n",
       "     'timestamp': '2025-10-03T11:13:14.208644'},\n",
       "    {'to': 'active',\n",
       "     'from': 'awaiting_admission',\n",
       "     'source': 'bot_callback',\n",
       "     'timestamp': '2025-10-03T11:13:22.813279'},\n",
       "    {'to': 'completed',\n",
       "     'from': 'active',\n",
       "     'source': 'user',\n",
       "     'timestamp': '2025-10-03T11:13:44.657864',\n",
       "     'completion_reason': 'stopped'}]},\n",
       "  'created_at': '2025-10-03T11:12:51.291334',\n",
       "  'updated_at': '2025-10-03T11:13:58.292729'},\n",
       " {'id': 104,\n",
       "  'user_id': 123,\n",
       "  'platform': 'teams',\n",
       "  'native_meeting_id': '9366473044740',\n",
       "  'constructed_meeting_url': 'https://teams.live.com/meet/9366473044740',\n",
       "  'status': 'completed',\n",
       "  'bot_container_id': '287a21e9b56f63e1fde4674413df15efc747bd6801acdff600b6ddc42f22472e',\n",
       "  'start_time': None,\n",
       "  'end_time': '2025-10-03T11:12:33.393158',\n",
       "  'data': {'passcode': 'waw4q9dPAvdIG3aknh',\n",
       "   'completion_reason': 'stopped',\n",
       "   'status_transition': [{'to': 'joining',\n",
       "     'from': 'requested',\n",
       "     'source': 'bot_callback',\n",
       "     'timestamp': '2025-10-03T11:12:09.798318'},\n",
       "    {'to': 'awaiting_admission',\n",
       "     'from': 'joining',\n",
       "     'source': 'bot_callback',\n",
       "     'timestamp': '2025-10-03T11:12:21.284859'},\n",
       "    {'to': 'completed',\n",
       "     'from': 'awaiting_admission',\n",
       "     'source': 'user',\n",
       "     'timestamp': '2025-10-03T11:12:33.368786',\n",
       "     'completion_reason': 'stopped'}]},\n",
       "  'created_at': '2025-10-03T11:12:01.861799',\n",
       "  'updated_at': '2025-10-03T11:12:33.392204'}]"
      ]
     },
     "execution_count": 20,
     "metadata": {},
     "output_type": "execute_result"
    }
   ],
   "source": [
    "# after deletion meeting record anonimized  \n",
    "\n",
    "\n",
    "meetings = client.get_meetings()\n",
    "meetings\n",
    "\n"
   ]
  }
 ],
 "metadata": {
  "kernelspec": {
   "display_name": "api_tests",
   "language": "python",
   "name": "python3"
  },
  "language_info": {
   "codemirror_mode": {
    "name": "ipython",
    "version": 3
   },
   "file_extension": ".py",
   "mimetype": "text/x-python",
   "name": "python",
   "nbconvert_exporter": "python",
   "pygments_lexer": "ipython3",
   "version": "3.13.2"
  }
 },
 "nbformat": 4,
 "nbformat_minor": 5
}
